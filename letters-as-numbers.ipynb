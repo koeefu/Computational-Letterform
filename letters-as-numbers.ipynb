{
 "cells": [
  {
   "cell_type": "markdown",
   "metadata": {},
   "source": [
    "# Computers represent letters as numbers, and that has all sorts of weird implications\n",
    "\n",
    "By [Allison Parrish](http://www.decontextualize.com/)"
   ]
  },
  {
   "cell_type": "code",
   "execution_count": 4,
   "metadata": {},
   "outputs": [],
   "source": [
    "import random"
   ]
  },
  {
   "cell_type": "markdown",
   "metadata": {},
   "source": [
    "## Opening a text file\n",
    "\n",
    "The following bit of code opens a text file in the same directory as this notebook and reads it into a string."
   ]
  },
  {
   "cell_type": "code",
   "execution_count": 5,
   "metadata": {},
   "outputs": [],
   "source": [
    "text = open(\"wikipedia-emoji.txt\").read()"
   ]
  },
  {
   "cell_type": "markdown",
   "metadata": {},
   "source": [
    "The `print()` function will display the string, interpolating formatting characters like `\\n`:"
   ]
  },
  {
   "cell_type": "code",
   "execution_count": 6,
   "metadata": {},
   "outputs": [
    {
     "name": "stdout",
     "output_type": "stream",
     "text": [
      "Emoji (Japanese: 絵文字, English: /ɪˈmoʊdʒiː/; Japanese: [emodʑi]; singular emoji, plural emoji or emojis) are ideograms and smileys used in electronic messages and web pages. Emoji exist in various genres, including facial expressions, common objects, places and types of weather, and animals. They are much like emoticons, but emoji are actual pictures instead of typographics. Originally meaning pictograph, the word emoji comes from Japanese e (絵, \"picture\") + moji (文字, \"character\"); the resemblance to the English words emotion and emoticon is purely coincidental. The ISO 15924 script code for emoji is Zsye.\n",
      "\n",
      "Originating on Japanese mobile phones in 1997, emoji became increasingly popular worldwide in the 2010s after being added to several mobile operating systems. They are now considered to be a large part of popular culture in the west. In 2015, Oxford Dictionaries named the Face with Tears of Joy emoji (😂) the Word of the Year.\n",
      "\n"
     ]
    }
   ],
   "source": [
    "print(text)"
   ]
  },
  {
   "cell_type": "markdown",
   "metadata": {},
   "source": [
    "You can artificially introduce linebreaks to make it a little bit more readable using the `textwrap.fill()` function, though this will obliterate any existing linebreaks:"
   ]
  },
  {
   "cell_type": "code",
   "execution_count": 7,
   "metadata": {},
   "outputs": [],
   "source": [
    "import textwrap"
   ]
  },
  {
   "cell_type": "code",
   "execution_count": 9,
   "metadata": {
    "scrolled": true
   },
   "outputs": [
    {
     "name": "stdout",
     "output_type": "stream",
     "text": [
      "Emoji (Japanese: 絵文字, English: /ɪˈmoʊdʒiː/; Japanese:\n",
      "[emodʑi]; singular emoji, plural emoji or emojis) are\n",
      "ideograms and smileys used in electronic messages and\n",
      "web pages. Emoji exist in various genres, including\n",
      "facial expressions, common objects, places and types of\n",
      "weather, and animals. They are much like emoticons, but\n",
      "emoji are actual pictures instead of typographics.\n",
      "Originally meaning pictograph, the word emoji comes\n",
      "from Japanese e (絵, \"picture\") + moji (文字,\n",
      "\"character\"); the resemblance to the English words\n",
      "emotion and emoticon is purely coincidental. The ISO\n",
      "15924 script code for emoji is Zsye.  Originating on\n",
      "Japanese mobile phones in 1997, emoji became\n",
      "increasingly popular worldwide in the 2010s after being\n",
      "added to several mobile operating systems. They are now\n",
      "considered to be a large part of popular culture in the\n",
      "west. In 2015, Oxford Dictionaries named the Face with\n",
      "Tears of Joy emoji (😂) the Word of the Year.\n"
     ]
    }
   ],
   "source": [
    "print(textwrap.fill(text, 55))"
   ]
  },
  {
   "cell_type": "markdown",
   "metadata": {},
   "source": [
    "## Characters have numbers\n",
    "\n",
    "For better or worse, the primary conceptual model of text in a computational context is this: text is a one-dimensional sequence of characters. Computers operate internally only on numbers; therefore, characters must be represented as numbers. The `ord()` function in Python evaluates to the number associated with a particular character. For example:"
   ]
  },
  {
   "cell_type": "code",
   "execution_count": 13,
   "metadata": {},
   "outputs": [
    {
     "data": {
      "text/plain": [
       "99"
      ]
     },
     "execution_count": 13,
     "metadata": {},
     "output_type": "execute_result"
    }
   ],
   "source": [
    "ord('c')"
   ]
  },
  {
   "cell_type": "markdown",
   "metadata": {},
   "source": [
    "The character `a` is represented by the number 97. You can get the character that corresponds to a given number with the `chr()` function:"
   ]
  },
  {
   "cell_type": "code",
   "execution_count": 14,
   "metadata": {
    "scrolled": true
   },
   "outputs": [
    {
     "data": {
      "text/plain": [
       "'c'"
      ]
     },
     "execution_count": 14,
     "metadata": {},
     "output_type": "execute_result"
    }
   ],
   "source": [
    "chr(99)"
   ]
  },
  {
   "cell_type": "markdown",
   "metadata": {},
   "source": [
    "These functions are exact inverses of one another, so calling them in a nested fashion like so should always return the original value:"
   ]
  },
  {
   "cell_type": "code",
   "execution_count": 8,
   "metadata": {},
   "outputs": [
    {
     "data": {
      "text/plain": [
       "97"
      ]
     },
     "execution_count": 8,
     "metadata": {},
     "output_type": "execute_result"
    }
   ],
   "source": [
    "ord(chr(97))"
   ]
  },
  {
   "cell_type": "code",
   "execution_count": 9,
   "metadata": {},
   "outputs": [
    {
     "data": {
      "text/plain": [
       "'a'"
      ]
     },
     "execution_count": 9,
     "metadata": {},
     "output_type": "execute_result"
    }
   ],
   "source": [
    "chr(ord('a'))"
   ]
  },
  {
   "cell_type": "markdown",
   "metadata": {},
   "source": [
    "Now you can do a little bit of exploring. Put some other numbers in there and see what you can discover:"
   ]
  },
  {
   "cell_type": "code",
   "execution_count": 17,
   "metadata": {
    "scrolled": true
   },
   "outputs": [
    {
     "data": {
      "text/plain": [
       "'К'"
      ]
     },
     "execution_count": 17,
     "metadata": {},
     "output_type": "execute_result"
    }
   ],
   "source": [
    "chr(1050)"
   ]
  },
  {
   "cell_type": "markdown",
   "metadata": {},
   "source": [
    "Maybe even use a random number generator to find things:"
   ]
  },
  {
   "cell_type": "code",
   "execution_count": 286,
   "metadata": {},
   "outputs": [
    {
     "name": "stdout",
     "output_type": "stream",
     "text": [
      "ŗ\n",
      "ٵ\n",
      "ዅ\n",
      "ၥ\n",
      "a\n"
     ]
    }
   ],
   "source": [
    "for i in range(5):\n",
    "    print(chr(random.randrange(5000)))"
   ]
  },
  {
   "cell_type": "markdown",
   "metadata": {},
   "source": [
    "Depending on your browser, operating system, and browser font stack, sometimes you'll see a replacement character (\"�\"), a small box with a number in a pixel font, or an empty space. These indicate that either (a) the browser can't render the character (e.g., because you don't have a font on your computer that has that character) or (b) the number you specified doesn't correspond to a valid character. The character might also just be one of several characters that represent whitespace!\n",
    "\n",
    "The numbers that Python uses to represent characters are the same numbers as Unicode code points. You can use [a tool like this Unicode Character Table](https://unicode-table.com/en/) to look up characters by name (or browse characters) to find their Unicode codepoint. Usually these are written like `U+1F336`—the number following the `+` is a hexidecimal number. (We'll talk more about Unicode and hexidecimal numbers below.) You can pass a Unicode codepoint value directly to the `chr()` function in Python by prepending it with `0x`:"
   ]
  },
  {
   "cell_type": "code",
   "execution_count": 12,
   "metadata": {},
   "outputs": [
    {
     "data": {
      "text/plain": [
       "'🌶'"
      ]
     },
     "execution_count": 12,
     "metadata": {},
     "output_type": "execute_result"
    }
   ],
   "source": [
    "chr(0x1F336)"
   ]
  },
  {
   "cell_type": "markdown",
   "metadata": {},
   "source": [
    "The `ord()` function works for any Unicode character, btw:"
   ]
  },
  {
   "cell_type": "code",
   "execution_count": 13,
   "metadata": {},
   "outputs": [
    {
     "data": {
      "text/plain": [
       "128571"
      ]
     },
     "execution_count": 13,
     "metadata": {},
     "output_type": "execute_result"
    }
   ],
   "source": [
    "ord('😻')"
   ]
  },
  {
   "cell_type": "markdown",
   "metadata": {},
   "source": [
    "You can get the codepoint by formatting this as a hexidecimal number:"
   ]
  },
  {
   "cell_type": "code",
   "execution_count": 14,
   "metadata": {},
   "outputs": [
    {
     "data": {
      "text/plain": [
       "'0x1f63b'"
      ]
     },
     "execution_count": 14,
     "metadata": {},
     "output_type": "execute_result"
    }
   ],
   "source": [
    "hex(ord('😻'))"
   ]
  },
  {
   "cell_type": "markdown",
   "metadata": {},
   "source": [
    "### Doing math on character numbers\n",
    "\n",
    "Having realized that computers represent characters as numbers, there's nothing stopping us from doing weird things with those numbers... like adding them together:"
   ]
  },
  {
   "cell_type": "code",
   "execution_count": 15,
   "metadata": {},
   "outputs": [
    {
     "data": {
      "text/plain": [
       "'Ã'"
      ]
     },
     "execution_count": 15,
     "metadata": {},
     "output_type": "execute_result"
    }
   ],
   "source": [
    "chr(ord('a') + ord('b'))"
   ]
  },
  {
   "cell_type": "markdown",
   "metadata": {},
   "source": [
    "Or multiplying them:"
   ]
  },
  {
   "cell_type": "code",
   "execution_count": 16,
   "metadata": {},
   "outputs": [
    {
     "data": {
      "text/plain": [
       "'Ƅ'"
      ]
     },
     "execution_count": 16,
     "metadata": {},
     "output_type": "execute_result"
    }
   ],
   "source": [
    "chr(ord('a') * 4)"
   ]
  },
  {
   "cell_type": "markdown",
   "metadata": {},
   "source": [
    "Or adding some random noise to them:"
   ]
  },
  {
   "cell_type": "code",
   "execution_count": 17,
   "metadata": {},
   "outputs": [
    {
     "data": {
      "text/plain": [
       "'c'"
      ]
     },
     "execution_count": 17,
     "metadata": {},
     "output_type": "execute_result"
    }
   ],
   "source": [
    "chr(ord('a') + random.randrange(-5, 5))"
   ]
  },
  {
   "cell_type": "markdown",
   "metadata": {},
   "source": [
    "The .randrange() method returns a randomly selected element from the specified range."
   ]
  },
  {
   "cell_type": "markdown",
   "metadata": {},
   "source": [
    "Let's make two different strings just to play around with:"
   ]
  },
  {
   "cell_type": "code",
   "execution_count": 43,
   "metadata": {},
   "outputs": [],
   "source": [
    "msg_a = \"真要是清水一潭也有点可怕。但世界拥挤不堪……妈妈\"\n",
    "msg_b = \"我知这世界本如露水般短暂。然而，然而。\""
   ]
  },
  {
   "cell_type": "markdown",
   "metadata": {},
   "source": [
    "Using a list comprehension, we can apply arithmetical transformations to an entire string. We'll start with the following expression:"
   ]
  },
  {
   "cell_type": "code",
   "execution_count": 308,
   "metadata": {},
   "outputs": [
    {
     "data": {
      "text/plain": [
       "'真要是清水一潭也有点可怕。但世界拥挤不堪……妈妈'"
      ]
     },
     "execution_count": 308,
     "metadata": {},
     "output_type": "execute_result"
    }
   ],
   "source": [
    "''.join([chr(ord(c)) for c in msg_a])"
   ]
  },
  {
   "cell_type": "markdown",
   "metadata": {},
   "source": [
    "This expression simply evaluates to a copy of the original string by converting the number of each character back to its original character. But we can tweak it a little bit by putting an expression inside the call to `chr()`, using the value of the `ord()` function as part of an arithmetic expression. This expression adds one to the value of each character:"
   ]
  },
  {
   "cell_type": "code",
   "execution_count": 309,
   "metadata": {},
   "outputs": [
    {
     "data": {
      "text/plain": [
       "'眞覀昮渄氳䷿潬乞月炸叮怔、佅丕畋拤挣丌堩‥‥妇妇'"
      ]
     },
     "execution_count": 309,
     "metadata": {},
     "output_type": "execute_result"
    }
   ],
   "source": [
    "''.join([chr(ord(c) - 1) for c in msg_a])"
   ]
  },
  {
   "cell_type": "markdown",
   "metadata": {},
   "source": [
    "And this multiplies the value of each character by two:"
   ]
  },
  {
   "cell_type": "code",
   "execution_count": 310,
   "metadata": {},
   "outputs": [
    {
     "data": {
      "text/plain": [
       "'\\uee3e𑌂챞\\udc0a\\ud868鰀\\udeda鲾츒\\ue172\\ua7de쀪怄麌鰬\\uea98엊왈鰚끔䁌䁌댐댐'"
      ]
     },
     "execution_count": 310,
     "metadata": {},
     "output_type": "execute_result"
    }
   ],
   "source": [
    "''.join([chr(ord(c) * 2) for c in msg_a])"
   ]
  },
  {
   "cell_type": "markdown",
   "metadata": {},
   "source": [
    "This expression \"transposes\" the string to a different Unicode range. (Replace `0x1F300` with the Unicode codepoint that starts a range of characters you're interested in.)"
   ]
  },
  {
   "cell_type": "code",
   "execution_count": 311,
   "metadata": {},
   "outputs": [
    {
     "data": {
      "text/plain": [
       "'諎鴰秞膴翣憯茜戎窸葨枞珄䎱拵懅裻皔盓憼毙㏕㏕洷洷'"
      ]
     },
     "execution_count": 311,
     "metadata": {},
     "output_type": "execute_result"
    }
   ],
   "source": [
    "''.join([chr(ord(c) + 0x13AF) for c in msg_a])"
   ]
  },
  {
   "cell_type": "markdown",
   "metadata": {},
   "source": [
    "Using a `for` loop, each line adds one more to each character than the line previous:"
   ]
  },
  {
   "cell_type": "code",
   "execution_count": 312,
   "metadata": {},
   "outputs": [
    {
     "name": "stdout",
     "output_type": "stream",
     "text": [
      "真要是清水一潭也有点可怕。但世界拥挤不堪……妈妈\n",
      "眠覂昰渆氵丁潮习朊為台怖〃佇丗畍拦挥与堫‧‧妉妉\n",
      "眡覃昱渇氶丂潯乡朋炻叱怗〄佈丘畎拧挦丏堬 ",
      " ",
      "妊妊\n",
      "眢覄昲済氷七潰乢朌炼史怘々佉丙畏拨挧丐堭 ",
      " ",
      "妋妋\n",
      "眣覅昳渉永丄潱乣服炽右怙〆佊业畐择挨丑堮‪‪妌妌\n",
      "眤覆昴渊氹丅潲乤朎炾叴怚〇佋丛畑拪挩丒堯‫‫妍妍\n",
      "眥覇昵渋氺丆潳乥朏炿叵怛〈佌东畒拫挪专堰‬‬妎妎\n",
      "眦覈昶渌氻万潴书朐烀叶怜〉位丝畓括挫且報‭‭妏妏\n",
      "眧覉昷渍氼丈潵乧朑烁号思《低丞畔拭挬丕堲‮‮妐妐\n",
      "眨覊昸渎氽三潶乨朒烂司怞》住丟畕拮挭世堳  妑妑\n"
     ]
    }
   ],
   "source": [
    "for i in range(10):\n",
    "    print(''.join([chr(ord(c)+i) for c in msg_a]))"
   ]
  },
  {
   "cell_type": "markdown",
   "metadata": {},
   "source": [
    "This code is a bit more sophisticated: it attempts to \"average\" two strings, by summing two strings character-wise, then finding the character whose number is closest to the sum divided by two:"
   ]
  },
  {
   "cell_type": "code",
   "execution_count": 313,
   "metadata": {},
   "outputs": [
    {
     "name": "stdout",
     "output_type": "stream",
     "text": [
      "真要是清水一潭也有点可怕。但世界拥挤不堪……妈妈\n",
      "我知这世界本如露水般短暂。然而，然而。\n",
      "沘肳笄帎烀媖摸狈榞祲旮捌。怾朑먬樎熘㼈ⰥဣဣⳔⳔ\n"
     ]
    }
   ],
   "source": [
    "out = \"\"\n",
    "longest_length = max(len(msg_a), len(msg_b))\n",
    "pad_a = msg_a.ljust(longest_length)\n",
    "pad_b = msg_b.ljust(longest_length)\n",
    "for i in range(longest_length):\n",
    "    avg_val = (ord(pad_a[i]) + ord(pad_b[i])) / 2\n",
    "    avg_chr = chr(round(avg_val))\n",
    "    out += avg_chr\n",
    "print(msg_a)\n",
    "print(msg_b)\n",
    "print(out)"
   ]
  },
  {
   "cell_type": "markdown",
   "metadata": {},
   "source": [
    "method .ljust() would adjust the two strings in same length by filling the blank by blank"
   ]
  },
  {
   "cell_type": "markdown",
   "metadata": {},
   "source": [
    "You don't have to start with an existing string. You can generate your own data. Here's a sine wave:"
   ]
  },
  {
   "cell_type": "code",
   "execution_count": 314,
   "metadata": {},
   "outputs": [],
   "source": [
    "import math"
   ]
  },
  {
   "cell_type": "code",
   "execution_count": 315,
   "metadata": {},
   "outputs": [
    {
     "data": {
      "text/plain": [
       "'fghijjjjjihgfedcbaaaaabcdeghijjjjjiihfedcbaaaaabcdefhijjjjjjihgedcbaaaaabcdefgii'"
      ]
     },
     "execution_count": 315,
     "metadata": {},
     "output_type": "execute_result"
    }
   ],
   "source": [
    "''.join([chr(int(102 + (math.sin(i*0.25)*5))) for i in range(80)])"
   ]
  },
  {
   "cell_type": "markdown",
   "metadata": {},
   "source": [
    "### Other arithmetic operations\n",
    "\n",
    "The largest and smallest numbers in the string:"
   ]
  },
  {
   "cell_type": "code",
   "execution_count": 316,
   "metadata": {},
   "outputs": [
    {
     "data": {
      "text/plain": [
       "'要'"
      ]
     },
     "execution_count": 316,
     "metadata": {},
     "output_type": "execute_result"
    }
   ],
   "source": [
    "max(msg_a)"
   ]
  },
  {
   "cell_type": "code",
   "execution_count": 317,
   "metadata": {},
   "outputs": [
    {
     "data": {
      "text/plain": [
       "'…'"
      ]
     },
     "execution_count": 317,
     "metadata": {},
     "output_type": "execute_result"
    }
   ],
   "source": [
    "min(msg_a)"
   ]
  },
  {
   "cell_type": "markdown",
   "metadata": {},
   "source": [
    "The sum of the values in the string:"
   ]
  },
  {
   "cell_type": "code",
   "execution_count": 318,
   "metadata": {},
   "outputs": [
    {
     "data": {
      "text/plain": [
       "555744"
      ]
     },
     "execution_count": 318,
     "metadata": {},
     "output_type": "execute_result"
    }
   ],
   "source": [
    "sum([ord(c) for c in msg_a])"
   ]
  },
  {
   "cell_type": "markdown",
   "metadata": {},
   "source": [
    "The \"average\" character in the string:"
   ]
  },
  {
   "cell_type": "code",
   "execution_count": 320,
   "metadata": {},
   "outputs": [
    {
     "data": {
      "text/plain": [
       "23156.0"
      ]
     },
     "execution_count": 320,
     "metadata": {},
     "output_type": "execute_result"
    }
   ],
   "source": [
    "avg = sum([ord(c) for c in msg_a]) / len(msg_a)\n",
    "avg"
   ]
  },
  {
   "cell_type": "code",
   "execution_count": 321,
   "metadata": {},
   "outputs": [
    {
     "data": {
      "text/plain": [
       "'婴'"
      ]
     },
     "execution_count": 321,
     "metadata": {},
     "output_type": "execute_result"
    }
   ],
   "source": [
    "chr(round(avg))"
   ]
  },
  {
   "cell_type": "markdown",
   "metadata": {},
   "source": [
    "## Unicode\n",
    "\n",
    "As mentioned above, the numbers that Python associates with each character are their Unicode codepoint values. Unicode is a widely-used standard for representing text in computers; its primary purpose is to be a standard for which characters are associated with which numbers. Each character has a number, a description, and other associated metadata. New characters (with new numbers) can be added to Unicode through agreement of the Unicode Consortium. Python comes with a Unicode database built-in; you can use it to look up the names and metadata of characters:"
   ]
  },
  {
   "cell_type": "code",
   "execution_count": 32,
   "metadata": {},
   "outputs": [],
   "source": [
    "import unicodedata"
   ]
  },
  {
   "cell_type": "code",
   "execution_count": 323,
   "metadata": {},
   "outputs": [
    {
     "data": {
      "text/plain": [
       "'CJK UNIFIED IDEOGRAPH-5085'"
      ]
     },
     "execution_count": 323,
     "metadata": {},
     "output_type": "execute_result"
    }
   ],
   "source": [
    "unicodedata.name('傅')"
   ]
  },
  {
   "cell_type": "markdown",
   "metadata": {},
   "source": [
    "Rewriting a string as a sequence of the Unicode names of its characters:"
   ]
  },
  {
   "cell_type": "code",
   "execution_count": 324,
   "metadata": {},
   "outputs": [
    {
     "name": "stdout",
     "output_type": "stream",
     "text": [
      "CJK UNIFIED IDEOGRAPH-771F\n",
      "CJK UNIFIED IDEOGRAPH-8981\n",
      "CJK UNIFIED IDEOGRAPH-662F\n",
      "CJK UNIFIED IDEOGRAPH-6E05\n",
      "CJK UNIFIED IDEOGRAPH-6C34\n",
      "CJK UNIFIED IDEOGRAPH-4E00\n",
      "CJK UNIFIED IDEOGRAPH-6F6D\n",
      "CJK UNIFIED IDEOGRAPH-4E5F\n",
      "CJK UNIFIED IDEOGRAPH-6709\n",
      "CJK UNIFIED IDEOGRAPH-70B9\n",
      "CJK UNIFIED IDEOGRAPH-53EF\n",
      "CJK UNIFIED IDEOGRAPH-6015\n",
      "IDEOGRAPHIC FULL STOP\n",
      "CJK UNIFIED IDEOGRAPH-4F46\n",
      "CJK UNIFIED IDEOGRAPH-4E16\n",
      "CJK UNIFIED IDEOGRAPH-754C\n",
      "CJK UNIFIED IDEOGRAPH-62E5\n",
      "CJK UNIFIED IDEOGRAPH-6324\n",
      "CJK UNIFIED IDEOGRAPH-4E0D\n",
      "CJK UNIFIED IDEOGRAPH-582A\n",
      "HORIZONTAL ELLIPSIS\n",
      "HORIZONTAL ELLIPSIS\n",
      "CJK UNIFIED IDEOGRAPH-5988\n",
      "CJK UNIFIED IDEOGRAPH-5988\n"
     ]
    }
   ],
   "source": [
    "for ch in msg_a:\n",
    "    print(unicodedata.name(ch))"
   ]
  },
  {
   "cell_type": "markdown",
   "metadata": {},
   "source": [
    "The same thing, but for a longer string:"
   ]
  },
  {
   "cell_type": "code",
   "execution_count": 35,
   "metadata": {
    "scrolled": true
   },
   "outputs": [
    {
     "name": "stdout",
     "output_type": "stream",
     "text": [
      "LATIN CAPITAL LETTER E, LATIN SMALL LETTER M, LATIN SMALL LETTER O, LATIN SMALL LETTER J, LATIN SMALL LETTER I, SPACE, LEFT PARENTHESIS, LATIN CAPITAL LETTER J, LATIN SMALL LETTER A, LATIN SMALL LETTER P, LATIN SMALL LETTER A, LATIN SMALL LETTER N, LATIN SMALL LETTER E, LATIN SMALL LETTER S, LATIN SMALL LETTER E, COLON, SPACE, CJK UNIFIED IDEOGRAPH-7D75, CJK UNIFIED IDEOGRAPH-6587, CJK UNIFIED IDEOGRAPH-5B57, COMMA, SPACE, LATIN CAPITAL LETTER E, LATIN SMALL LETTER N, LATIN SMALL LETTER G, LATIN SMALL LETTER L, LATIN SMALL LETTER I, LATIN SMALL LETTER S, LATIN SMALL LETTER H, COLON, SPACE, SOLIDUS, LATIN LETTER SMALL CAPITAL I, MODIFIER LETTER VERTICAL LINE, LATIN SMALL LETTER M, LATIN SMALL LETTER O, LATIN SMALL LETTER UPSILON, LATIN SMALL LETTER D, LATIN SMALL LETTER EZH, LATIN SMALL LETTER I, MODIFIER LETTER TRIANGULAR COLON, SOLIDUS, SEMICOLON, SPACE, LATIN CAPITAL LETTER J, LATIN SMALL LETTER A, LATIN SMALL LETTER P, LATIN SMALL LETTER A, LATIN SMALL LETTER N, LATIN SMALL LETTER E, LATIN SMALL LETTER S, LATIN SMALL LETTER E, COLON, SPACE, LEFT SQUARE BRACKET, LATIN SMALL LETTER E, LATIN SMALL LETTER M, LATIN SMALL LETTER O, LATIN SMALL LETTER D, LATIN SMALL LETTER Z WITH CURL, LATIN SMALL LETTER I, RIGHT SQUARE BRACKET, SEMICOLON, SPACE, LATIN SMALL LETTER S, LATIN SMALL LETTER I, LATIN SMALL LETTER N, LATIN SMALL LETTER G, LATIN SMALL LETTER U, LATIN SMALL LETTER L, LATIN SMALL LETTER A, LATIN SMALL LETTER R, SPACE, LATIN SMALL LETTER E, LATIN SMALL LETTER M, LATIN SMALL LETTER O, LATIN SMALL LETTER J, LATIN SMALL LETTER I, COMMA, SPACE, LATIN SMALL LETTER P, LATIN SMALL LETTER L, LATIN SMALL LETTER U, LATIN SMALL LETTER R, LATIN SMALL LETTER A, LATIN SMALL LETTER L, SPACE, LATIN SMALL LETTER E, LATIN SMALL LETTER M, LATIN SMALL LETTER O, LATIN SMALL LETTER J, LATIN SMALL LETTER I, SPACE, LATIN SMALL LETTER O, LATIN SMALL LETTER R, SPACE, LATIN SMALL LETTER E, LATIN SMALL LETTER M, LATIN SMALL LETTER O, LATIN SMALL LETTER J, LATIN SMALL LETTER I, LATIN SMALL LETTER S, RIGHT PARENTHESIS, SPACE, LATIN SMALL LETTER A, LATIN SMALL LETTER R, LATIN SMALL LETTER E, SPACE, LATIN SMALL LETTER I, LATIN SMALL LETTER D, LATIN SMALL LETTER E, LATIN SMALL LETTER O, LATIN SMALL LETTER G, LATIN SMALL LETTER R, LATIN SMALL LETTER A, LATIN SMALL LETTER M, LATIN SMALL LETTER S, SPACE, LATIN SMALL LETTER A, LATIN SMALL LETTER N, LATIN SMALL LETTER D, SPACE, LATIN SMALL LETTER S, LATIN SMALL LETTER M, LATIN SMALL LETTER I, LATIN SMALL LETTER L, LATIN SMALL LETTER E, LATIN SMALL LETTER Y, LATIN SMALL LETTER S, SPACE, LATIN SMALL LETTER U, LATIN SMALL LETTER S, LATIN SMALL LETTER E, LATIN SMALL LETTER D, SPACE, LATIN SMALL LETTER I, LATIN SMALL LETTER N, SPACE, LATIN SMALL LETTER E, LATIN SMALL LETTER L, LATIN SMALL LETTER E, LATIN SMALL LETTER C, LATIN SMALL LETTER T, LATIN SMALL LETTER R, LATIN SMALL LETTER O, LATIN SMALL LETTER N, LATIN SMALL LETTER I, LATIN SMALL LETTER C, SPACE, LATIN SMALL LETTER M, LATIN SMALL LETTER E, LATIN SMALL LETTER S, LATIN SMALL LETTER S, LATIN SMALL LETTER A, LATIN SMALL LETTER G, LATIN SMALL LETTER E, LATIN SMALL LETTER S, SPACE, LATIN SMALL LETTER A, LATIN SMALL LETTER N, LATIN SMALL LETTER D, SPACE, LATIN SMALL LETTER W, LATIN SMALL LETTER E, LATIN SMALL LETTER B, SPACE, LATIN SMALL LETTER P, LATIN SMALL LETTER A, LATIN SMALL LETTER G, LATIN SMALL LETTER E, LATIN SMALL LETTER S, FULL STOP, SPACE, LATIN CAPITAL LETTER E, LATIN SMALL LETTER M, LATIN SMALL LETTER O, LATIN SMALL LETTER J, LATIN SMALL LETTER I, SPACE, LATIN SMALL LETTER E, LATIN SMALL LETTER X, LATIN SMALL LETTER I, LATIN SMALL LETTER S, LATIN SMALL LETTER T, SPACE, LATIN SMALL LETTER I, LATIN SMALL LETTER N, SPACE, LATIN SMALL LETTER V, LATIN SMALL LETTER A, LATIN SMALL LETTER R, LATIN SMALL LETTER I, LATIN SMALL LETTER O, LATIN SMALL LETTER U, LATIN SMALL LETTER S, SPACE, LATIN SMALL LETTER G, LATIN SMALL LETTER E, LATIN SMALL LETTER N, LATIN SMALL LETTER R, LATIN SMALL LETTER E, LATIN SMALL LETTER S, COMMA, SPACE, LATIN SMALL LETTER I, LATIN SMALL LETTER N, LATIN SMALL LETTER C, LATIN SMALL LETTER L, LATIN SMALL LETTER U, LATIN SMALL LETTER D, LATIN SMALL LETTER I, LATIN SMALL LETTER N, LATIN SMALL LETTER G, SPACE, LATIN SMALL LETTER F, LATIN SMALL LETTER A, LATIN SMALL LETTER C, LATIN SMALL LETTER I, LATIN SMALL LETTER A, LATIN SMALL LETTER L, SPACE, LATIN SMALL LETTER E, LATIN SMALL LETTER X, LATIN SMALL LETTER P, LATIN SMALL LETTER R, LATIN SMALL LETTER E, LATIN SMALL LETTER S, LATIN SMALL LETTER S, LATIN SMALL LETTER I, LATIN SMALL LETTER O, LATIN SMALL LETTER N, LATIN SMALL LETTER S, COMMA, SPACE, LATIN SMALL LETTER C, LATIN SMALL LETTER O, LATIN SMALL LETTER M, LATIN SMALL LETTER M, LATIN SMALL LETTER O, LATIN SMALL LETTER N, SPACE, LATIN SMALL LETTER O, LATIN SMALL LETTER B, LATIN SMALL LETTER J, LATIN SMALL LETTER E, LATIN SMALL LETTER C, LATIN SMALL LETTER T, LATIN SMALL LETTER S, COMMA, SPACE, LATIN SMALL LETTER P, LATIN SMALL LETTER L, LATIN SMALL LETTER A, LATIN SMALL LETTER C, LATIN SMALL LETTER E, LATIN SMALL LETTER S, SPACE, LATIN SMALL LETTER A, LATIN SMALL LETTER N, LATIN SMALL LETTER D, SPACE, LATIN SMALL LETTER T, LATIN SMALL LETTER Y, LATIN SMALL LETTER P, LATIN SMALL LETTER E, LATIN SMALL LETTER S, SPACE, LATIN SMALL LETTER O, LATIN SMALL LETTER F, SPACE, LATIN SMALL LETTER W, LATIN SMALL LETTER E, LATIN SMALL LETTER A, LATIN SMALL LETTER T, LATIN SMALL LETTER H, LATIN SMALL LETTER E, LATIN SMALL LETTER R, COMMA, SPACE, LATIN SMALL LETTER A, LATIN SMALL LETTER N, LATIN SMALL LETTER D, SPACE, LATIN SMALL LETTER A, LATIN SMALL LETTER N, LATIN SMALL LETTER I, LATIN SMALL LETTER M, LATIN SMALL LETTER A, LATIN SMALL LETTER L, LATIN SMALL LETTER S, FULL STOP, SPACE, LATIN CAPITAL LETTER T, LATIN SMALL LETTER H, LATIN SMALL LETTER E, LATIN SMALL LETTER Y, SPACE, LATIN SMALL LETTER A, LATIN SMALL LETTER R, LATIN SMALL LETTER E, SPACE, LATIN SMALL LETTER M, LATIN SMALL LETTER U, LATIN SMALL LETTER C, LATIN SMALL LETTER H, SPACE, LATIN SMALL LETTER L, LATIN SMALL LETTER I, LATIN SMALL LETTER K, LATIN SMALL LETTER E, SPACE, LATIN SMALL LETTER E, LATIN SMALL LETTER M, LATIN SMALL LETTER O, LATIN SMALL LETTER T, LATIN SMALL LETTER I, LATIN SMALL LETTER C, LATIN SMALL LETTER O, LATIN SMALL LETTER N, LATIN SMALL LETTER S, COMMA, SPACE, LATIN SMALL LETTER B, LATIN SMALL LETTER U, LATIN SMALL LETTER T, SPACE, LATIN SMALL LETTER E, LATIN SMALL LETTER M, LATIN SMALL LETTER O, LATIN SMALL LETTER J, LATIN SMALL LETTER I, SPACE, LATIN SMALL LETTER A, LATIN SMALL LETTER R, LATIN SMALL LETTER E, SPACE, LATIN SMALL LETTER A, LATIN SMALL LETTER C, LATIN SMALL LETTER T, LATIN SMALL LETTER U, LATIN SMALL LETTER A, LATIN SMALL LETTER L, SPACE, LATIN SMALL LETTER P, LATIN SMALL LETTER I, LATIN SMALL LETTER C, LATIN SMALL LETTER T, LATIN SMALL LETTER U, LATIN SMALL LETTER R, LATIN SMALL LETTER E, LATIN SMALL LETTER S, SPACE, LATIN SMALL LETTER I, LATIN SMALL LETTER N, LATIN SMALL LETTER S, LATIN SMALL LETTER T, LATIN SMALL LETTER E, LATIN SMALL LETTER A, LATIN SMALL LETTER D, SPACE, LATIN SMALL LETTER O, LATIN SMALL LETTER F, SPACE, LATIN SMALL LETTER T, LATIN SMALL LETTER Y, LATIN SMALL LETTER P, LATIN SMALL LETTER O, LATIN SMALL LETTER G, LATIN SMALL LETTER R, LATIN SMALL LETTER A, LATIN SMALL LETTER P, LATIN SMALL LETTER H, LATIN SMALL LETTER I, LATIN SMALL LETTER C, LATIN SMALL LETTER S, FULL STOP, SPACE, LATIN CAPITAL LETTER O, LATIN SMALL LETTER R, LATIN SMALL LETTER I, LATIN SMALL LETTER G, LATIN SMALL LETTER I, LATIN SMALL LETTER N, LATIN SMALL LETTER A, LATIN SMALL LETTER L, LATIN SMALL LETTER L, LATIN SMALL LETTER Y, SPACE, LATIN SMALL LETTER M, LATIN SMALL LETTER E, LATIN SMALL LETTER A, LATIN SMALL LETTER N, LATIN SMALL LETTER I, LATIN SMALL LETTER N, LATIN SMALL LETTER G, SPACE, LATIN SMALL LETTER P, LATIN SMALL LETTER I, LATIN SMALL LETTER C, LATIN SMALL LETTER T, LATIN SMALL LETTER O, LATIN SMALL LETTER G, LATIN SMALL LETTER R, LATIN SMALL LETTER A, LATIN SMALL LETTER P, LATIN SMALL LETTER H, COMMA, SPACE, LATIN SMALL LETTER T, LATIN SMALL LETTER H, LATIN SMALL LETTER E, SPACE, LATIN SMALL LETTER W, LATIN SMALL LETTER O, LATIN SMALL LETTER R, LATIN SMALL LETTER D, SPACE, LATIN SMALL LETTER E, LATIN SMALL LETTER M, LATIN SMALL LETTER O, LATIN SMALL LETTER J, LATIN SMALL LETTER I, SPACE, LATIN SMALL LETTER C, LATIN SMALL LETTER O, LATIN SMALL LETTER M, LATIN SMALL LETTER E, LATIN SMALL LETTER S, SPACE, LATIN SMALL LETTER F, LATIN SMALL LETTER R, LATIN SMALL LETTER O, LATIN SMALL LETTER M, SPACE, LATIN CAPITAL LETTER J, LATIN SMALL LETTER A, LATIN SMALL LETTER P, LATIN SMALL LETTER A, LATIN SMALL LETTER N, LATIN SMALL LETTER E, LATIN SMALL LETTER S, LATIN SMALL LETTER E, SPACE, LATIN SMALL LETTER E, SPACE, LEFT PARENTHESIS, CJK UNIFIED IDEOGRAPH-7D75, COMMA, SPACE, QUOTATION MARK, LATIN SMALL LETTER P, LATIN SMALL LETTER I, LATIN SMALL LETTER C, LATIN SMALL LETTER T, LATIN SMALL LETTER U, LATIN SMALL LETTER R, LATIN SMALL LETTER E, QUOTATION MARK, RIGHT PARENTHESIS, SPACE, PLUS SIGN, SPACE, LATIN SMALL LETTER M, LATIN SMALL LETTER O, LATIN SMALL LETTER J, LATIN SMALL LETTER I, SPACE, LEFT PARENTHESIS, CJK UNIFIED IDEOGRAPH-6587, CJK UNIFIED IDEOGRAPH-5B57, COMMA, SPACE, QUOTATION MARK, LATIN SMALL LETTER C, LATIN SMALL LETTER H, LATIN SMALL LETTER A, LATIN SMALL LETTER R, LATIN SMALL LETTER A, LATIN SMALL LETTER C, LATIN SMALL LETTER T, LATIN SMALL LETTER E, LATIN SMALL LETTER R, QUOTATION MARK, RIGHT PARENTHESIS, SEMICOLON, SPACE, LATIN SMALL LETTER T, LATIN SMALL LETTER H, LATIN SMALL LETTER E, SPACE, LATIN SMALL LETTER R, LATIN SMALL LETTER E, LATIN SMALL LETTER S, LATIN SMALL LETTER E, LATIN SMALL LETTER M, LATIN SMALL LETTER B, LATIN SMALL LETTER L, LATIN SMALL LETTER A, LATIN SMALL LETTER N, LATIN SMALL LETTER C, LATIN SMALL LETTER E, SPACE, LATIN SMALL LETTER T, LATIN SMALL LETTER O, SPACE, LATIN SMALL LETTER T, LATIN SMALL LETTER H, LATIN SMALL LETTER E, SPACE, LATIN CAPITAL LETTER E, LATIN SMALL LETTER N, LATIN SMALL LETTER G, LATIN SMALL LETTER L, LATIN SMALL LETTER I, LATIN SMALL LETTER S, LATIN SMALL LETTER H, SPACE, LATIN SMALL LETTER W, LATIN SMALL LETTER O, LATIN SMALL LETTER R, LATIN SMALL LETTER D, LATIN SMALL LETTER S, SPACE, LATIN SMALL LETTER E, LATIN SMALL LETTER M, LATIN SMALL LETTER O, LATIN SMALL LETTER T, LATIN SMALL LETTER I, LATIN SMALL LETTER O, LATIN SMALL LETTER N, SPACE, LATIN SMALL LETTER A, LATIN SMALL LETTER N, LATIN SMALL LETTER D, SPACE, LATIN SMALL LETTER E, LATIN SMALL LETTER M, LATIN SMALL LETTER O, LATIN SMALL LETTER T, LATIN SMALL LETTER I, LATIN SMALL LETTER C, LATIN SMALL LETTER O, LATIN SMALL LETTER N, SPACE, LATIN SMALL LETTER I, LATIN SMALL LETTER S, SPACE, LATIN SMALL LETTER P, LATIN SMALL LETTER U, LATIN SMALL LETTER R, LATIN SMALL LETTER E, LATIN SMALL LETTER L, LATIN SMALL LETTER Y, SPACE, LATIN SMALL LETTER C, LATIN SMALL LETTER O, LATIN SMALL LETTER I, LATIN SMALL LETTER N, LATIN SMALL LETTER C, LATIN SMALL LETTER I, LATIN SMALL LETTER D, LATIN SMALL LETTER E, LATIN SMALL LETTER N, LATIN SMALL LETTER T, LATIN SMALL LETTER A, LATIN SMALL LETTER L, FULL STOP, SPACE, LATIN CAPITAL LETTER T, LATIN SMALL LETTER H, LATIN SMALL LETTER E, SPACE, LATIN CAPITAL LETTER I, LATIN CAPITAL LETTER S, LATIN CAPITAL LETTER O, SPACE, DIGIT ONE, DIGIT FIVE, DIGIT NINE, DIGIT TWO, DIGIT FOUR, SPACE, LATIN SMALL LETTER S, LATIN SMALL LETTER C, LATIN SMALL LETTER R, LATIN SMALL LETTER I, LATIN SMALL LETTER P, LATIN SMALL LETTER T, SPACE, LATIN SMALL LETTER C, LATIN SMALL LETTER O, LATIN SMALL LETTER D, LATIN SMALL LETTER E, SPACE, LATIN SMALL LETTER F, LATIN SMALL LETTER O, LATIN SMALL LETTER R, SPACE, LATIN SMALL LETTER E, LATIN SMALL LETTER M, LATIN SMALL LETTER O, LATIN SMALL LETTER J, LATIN SMALL LETTER I, SPACE, LATIN SMALL LETTER I, LATIN SMALL LETTER S, SPACE, LATIN CAPITAL LETTER Z, LATIN SMALL LETTER S, LATIN SMALL LETTER Y, LATIN SMALL LETTER E, FULL STOP, LATIN CAPITAL LETTER O, LATIN SMALL LETTER R, LATIN SMALL LETTER I, LATIN SMALL LETTER G, LATIN SMALL LETTER I, LATIN SMALL LETTER N, LATIN SMALL LETTER A, LATIN SMALL LETTER T, LATIN SMALL LETTER I, LATIN SMALL LETTER N, LATIN SMALL LETTER G, SPACE, LATIN SMALL LETTER O, LATIN SMALL LETTER N, SPACE, LATIN CAPITAL LETTER J, LATIN SMALL LETTER A, LATIN SMALL LETTER P, LATIN SMALL LETTER A, LATIN SMALL LETTER N, LATIN SMALL LETTER E, LATIN SMALL LETTER S, LATIN SMALL LETTER E, SPACE, LATIN SMALL LETTER M, LATIN SMALL LETTER O, LATIN SMALL LETTER B, LATIN SMALL LETTER I, LATIN SMALL LETTER L, LATIN SMALL LETTER E, SPACE, LATIN SMALL LETTER P, LATIN SMALL LETTER H, LATIN SMALL LETTER O, LATIN SMALL LETTER N, LATIN SMALL LETTER E, LATIN SMALL LETTER S, SPACE, LATIN SMALL LETTER I, LATIN SMALL LETTER N, SPACE, DIGIT ONE, DIGIT NINE, DIGIT NINE, DIGIT SEVEN, COMMA, SPACE, LATIN SMALL LETTER E, LATIN SMALL LETTER M, LATIN SMALL LETTER O, LATIN SMALL LETTER J, LATIN SMALL LETTER I, SPACE, LATIN SMALL LETTER B, LATIN SMALL LETTER E, LATIN SMALL LETTER C, LATIN SMALL LETTER A, LATIN SMALL LETTER M, LATIN SMALL LETTER E, SPACE, LATIN SMALL LETTER I, LATIN SMALL LETTER N, LATIN SMALL LETTER C, LATIN SMALL LETTER R, LATIN SMALL LETTER E, LATIN SMALL LETTER A, LATIN SMALL LETTER S, LATIN SMALL LETTER I, LATIN SMALL LETTER N, LATIN SMALL LETTER G, LATIN SMALL LETTER L, LATIN SMALL LETTER Y, SPACE, LATIN SMALL LETTER P, LATIN SMALL LETTER O, LATIN SMALL LETTER P, LATIN SMALL LETTER U, LATIN SMALL LETTER L, LATIN SMALL LETTER A, LATIN SMALL LETTER R, SPACE, LATIN SMALL LETTER W, LATIN SMALL LETTER O, LATIN SMALL LETTER R, LATIN SMALL LETTER L, LATIN SMALL LETTER D, LATIN SMALL LETTER W, LATIN SMALL LETTER I, LATIN SMALL LETTER D, LATIN SMALL LETTER E, SPACE, LATIN SMALL LETTER I, LATIN SMALL LETTER N, SPACE, LATIN SMALL LETTER T, LATIN SMALL LETTER H, LATIN SMALL LETTER E, SPACE, DIGIT TWO, DIGIT ZERO, DIGIT ONE, DIGIT ZERO, LATIN SMALL LETTER S, SPACE, LATIN SMALL LETTER A, LATIN SMALL LETTER F, LATIN SMALL LETTER T, LATIN SMALL LETTER E, LATIN SMALL LETTER R, SPACE, LATIN SMALL LETTER B, LATIN SMALL LETTER E, LATIN SMALL LETTER I, LATIN SMALL LETTER N, LATIN SMALL LETTER G, SPACE, LATIN SMALL LETTER A, LATIN SMALL LETTER D, LATIN SMALL LETTER D, LATIN SMALL LETTER E, LATIN SMALL LETTER D, SPACE, LATIN SMALL LETTER T, LATIN SMALL LETTER O, SPACE, LATIN SMALL LETTER S, LATIN SMALL LETTER E, LATIN SMALL LETTER V, LATIN SMALL LETTER E, LATIN SMALL LETTER R, LATIN SMALL LETTER A, LATIN SMALL LETTER L, SPACE, LATIN SMALL LETTER M, LATIN SMALL LETTER O, LATIN SMALL LETTER B, LATIN SMALL LETTER I, LATIN SMALL LETTER L, LATIN SMALL LETTER E, SPACE, LATIN SMALL LETTER O, LATIN SMALL LETTER P, LATIN SMALL LETTER E, LATIN SMALL LETTER R, LATIN SMALL LETTER A, LATIN SMALL LETTER T, LATIN SMALL LETTER I, LATIN SMALL LETTER N, LATIN SMALL LETTER G, SPACE, LATIN SMALL LETTER S, LATIN SMALL LETTER Y, LATIN SMALL LETTER S, LATIN SMALL LETTER T, LATIN SMALL LETTER E, LATIN SMALL LETTER M, LATIN SMALL LETTER S, FULL STOP, SPACE, LATIN CAPITAL LETTER T, LATIN SMALL LETTER H, LATIN SMALL LETTER E, LATIN SMALL LETTER Y, SPACE, LATIN SMALL LETTER A, LATIN SMALL LETTER R, LATIN SMALL LETTER E, SPACE, LATIN SMALL LETTER N, LATIN SMALL LETTER O, LATIN SMALL LETTER W, SPACE, LATIN SMALL LETTER C, LATIN SMALL LETTER O, LATIN SMALL LETTER N, LATIN SMALL LETTER S, LATIN SMALL LETTER I, LATIN SMALL LETTER D, LATIN SMALL LETTER E, LATIN SMALL LETTER R, LATIN SMALL LETTER E, LATIN SMALL LETTER D, SPACE, LATIN SMALL LETTER T, LATIN SMALL LETTER O, SPACE, LATIN SMALL LETTER B, LATIN SMALL LETTER E, SPACE, LATIN SMALL LETTER A, SPACE, LATIN SMALL LETTER L, LATIN SMALL LETTER A, LATIN SMALL LETTER R, LATIN SMALL LETTER G, LATIN SMALL LETTER E, SPACE, LATIN SMALL LETTER P, LATIN SMALL LETTER A, LATIN SMALL LETTER R, LATIN SMALL LETTER T, SPACE, LATIN SMALL LETTER O, LATIN SMALL LETTER F, SPACE, LATIN SMALL LETTER P, LATIN SMALL LETTER O, LATIN SMALL LETTER P, LATIN SMALL LETTER U, LATIN SMALL LETTER L, LATIN SMALL LETTER A, LATIN SMALL LETTER R, SPACE, LATIN SMALL LETTER C, LATIN SMALL LETTER U, LATIN SMALL LETTER L, LATIN SMALL LETTER T, LATIN SMALL LETTER U, LATIN SMALL LETTER R, LATIN SMALL LETTER E, SPACE, LATIN SMALL LETTER I, LATIN SMALL LETTER N, SPACE, LATIN SMALL LETTER T, LATIN SMALL LETTER H, LATIN SMALL LETTER E, SPACE, LATIN SMALL LETTER W, LATIN SMALL LETTER E, LATIN SMALL LETTER S, LATIN SMALL LETTER T, FULL STOP, SPACE, LATIN CAPITAL LETTER I, LATIN SMALL LETTER N, SPACE, DIGIT TWO, DIGIT ZERO, DIGIT ONE, DIGIT FIVE, COMMA, SPACE, LATIN CAPITAL LETTER O, LATIN SMALL LETTER X, LATIN SMALL LETTER F, LATIN SMALL LETTER O, LATIN SMALL LETTER R, LATIN SMALL LETTER D, SPACE, LATIN CAPITAL LETTER D, LATIN SMALL LETTER I, LATIN SMALL LETTER C, LATIN SMALL LETTER T, LATIN SMALL LETTER I, LATIN SMALL LETTER O, LATIN SMALL LETTER N, LATIN SMALL LETTER A, LATIN SMALL LETTER R, LATIN SMALL LETTER I, LATIN SMALL LETTER E, LATIN SMALL LETTER S, SPACE, LATIN SMALL LETTER N, LATIN SMALL LETTER A, LATIN SMALL LETTER M, LATIN SMALL LETTER E, LATIN SMALL LETTER D, SPACE, LATIN SMALL LETTER T, LATIN SMALL LETTER H, LATIN SMALL LETTER E, SPACE, LATIN CAPITAL LETTER F, LATIN SMALL LETTER A, LATIN SMALL LETTER C, LATIN SMALL LETTER E, SPACE, LATIN SMALL LETTER W, LATIN SMALL LETTER I, LATIN SMALL LETTER T, LATIN SMALL LETTER H, SPACE, LATIN CAPITAL LETTER T, LATIN SMALL LETTER E, LATIN SMALL LETTER A, LATIN SMALL LETTER R, LATIN SMALL LETTER S, SPACE, LATIN SMALL LETTER O, LATIN SMALL LETTER F, SPACE, LATIN CAPITAL LETTER J, LATIN SMALL LETTER O, LATIN SMALL LETTER Y, SPACE, LATIN SMALL LETTER E, LATIN SMALL LETTER M, LATIN SMALL LETTER O, LATIN SMALL LETTER J, LATIN SMALL LETTER I, SPACE, LEFT PARENTHESIS, FACE WITH TEARS OF JOY, RIGHT PARENTHESIS, SPACE, LATIN SMALL LETTER T, LATIN SMALL LETTER H, LATIN SMALL LETTER E, SPACE, LATIN CAPITAL LETTER W, LATIN SMALL LETTER O, LATIN SMALL LETTER R, LATIN SMALL LETTER D, SPACE, LATIN SMALL LETTER O, LATIN SMALL LETTER F, SPACE, LATIN SMALL LETTER T, LATIN SMALL LETTER H, LATIN SMALL LETTER E, SPACE, LATIN CAPITAL LETTER Y, LATIN SMALL LETTER E, LATIN SMALL LETTER A, LATIN SMALL LETTER R, FULL STOP\n"
     ]
    }
   ],
   "source": [
    "names = []\n",
    "for ch in text:\n",
    "    if ord(ch) < 32: # unicode names aren't defined for these...?\n",
    "        continue\n",
    "    names.append(unicodedata.name(ch))\n",
    "print(\", \".join(names))"
   ]
  },
  {
   "cell_type": "code",
   "execution_count": 331,
   "metadata": {},
   "outputs": [
    {
     "name": "stdout",
     "output_type": "stream",
     "text": [
      " \n",
      "32\n"
     ]
    }
   ],
   "source": [
    "print(chr(32))\n",
    "print(ord(' '))"
   ]
  },
  {
   "cell_type": "markdown",
   "metadata": {},
   "source": [
    "' ' is chr(32)"
   ]
  },
  {
   "cell_type": "markdown",
   "metadata": {},
   "source": [
    "The `unicodedata.lookup()` function goes the other way, returning the character matching a particular description (this has to be an exact match):"
   ]
  },
  {
   "cell_type": "code",
   "execution_count": 332,
   "metadata": {
    "scrolled": true
   },
   "outputs": [
    {
     "data": {
      "text/plain": [
       "'Z'"
      ]
     },
     "execution_count": 332,
     "metadata": {},
     "output_type": "execute_result"
    }
   ],
   "source": [
    "unicodedata.lookup('LATIN CAPITAL LETTER Z')"
   ]
  },
  {
   "cell_type": "markdown",
   "metadata": {},
   "source": [
    "Unicode characters have \"categories\" that indicate how they're used and what they mean. These [category values are defined in the Unicode documentation](http://www.unicode.org/reports/tr44/#General_Category_Values)."
   ]
  },
  {
   "cell_type": "code",
   "execution_count": 326,
   "metadata": {},
   "outputs": [
    {
     "data": {
      "text/plain": [
       "'Lu'"
      ]
     },
     "execution_count": 326,
     "metadata": {},
     "output_type": "execute_result"
    }
   ],
   "source": [
    "unicodedata.category('A')"
   ]
  },
  {
   "cell_type": "code",
   "execution_count": 328,
   "metadata": {
    "scrolled": true
   },
   "outputs": [
    {
     "data": {
      "text/plain": [
       "'Lo'"
      ]
     },
     "execution_count": 328,
     "metadata": {},
     "output_type": "execute_result"
    }
   ],
   "source": [
    "unicodedata.category('傅')"
   ]
  },
  {
   "cell_type": "markdown",
   "metadata": {},
   "source": [
    "Here's some code that rewrites a text, replacing each character with its Unicode category:"
   ]
  },
  {
   "cell_type": "code",
   "execution_count": 333,
   "metadata": {},
   "outputs": [
    {
     "name": "stdout",
     "output_type": "stream",
     "text": [
      "Lu Ll Ll Ll Ll Zs Ps Lu Ll Ll Ll Ll Ll Ll Ll Po Zs Lo Lo Lo Po Zs Lu Ll Ll Ll Ll Ll Ll Po Zs Po Ll Lm Ll Ll Ll Ll Ll Ll Lm Po Po Zs Lu Ll Ll Ll Ll Ll Ll Ll Po Zs Ps Ll Ll Ll Ll Ll Ll Pe Po Zs Ll Ll Ll Ll Ll Ll Ll Ll Zs Ll Ll Ll Ll Ll Po Zs Ll Ll Ll Ll Ll Ll Zs Ll Ll Ll Ll Ll Zs Ll Ll Zs Ll Ll Ll Ll Ll Ll Pe Zs Ll Ll Ll Zs Ll Ll Ll Ll Ll Ll Ll Ll Ll Zs Ll Ll Ll Zs Ll Ll Ll Ll Ll Ll Ll Zs Ll Ll Ll Ll Zs Ll Ll Zs Ll Ll Ll Ll Ll Ll Ll Ll Ll Ll Zs Ll Ll Ll Ll Ll Ll Ll Ll Zs Ll Ll Ll Zs Ll Ll Ll Zs Ll Ll Ll Ll Ll Po Zs Lu Ll Ll Ll Ll Zs Ll Ll Ll Ll Ll Zs Ll Ll Zs Ll Ll Ll Ll Ll Ll Ll Zs Ll Ll Ll Ll Ll Ll Po Zs Ll Ll Ll Ll Ll Ll Ll Ll Ll Zs Ll Ll Ll Ll Ll Ll Zs Ll Ll Ll Ll Ll Ll Ll Ll Ll Ll Ll Po Zs Ll Ll Ll Ll Ll Ll Zs Ll Ll Ll Ll Ll Ll Ll Po Zs Ll Ll Ll Ll Ll Ll Zs Ll Ll Ll Zs Ll Ll Ll Ll Ll Zs Ll Ll Zs Ll Ll Ll Ll Ll Ll Ll Po Zs Ll Ll Ll Zs Ll Ll Ll Ll Ll Ll Ll Po Zs Lu Ll Ll Ll Zs Ll Ll Ll Zs Ll Ll Ll Ll Zs Ll Ll Ll Ll Zs Ll Ll Ll Ll Ll Ll Ll Ll Ll Po Zs Ll Ll Ll Zs Ll Ll Ll Ll Ll Zs Ll Ll Ll Zs Ll Ll Ll Ll Ll Ll Zs Ll Ll Ll Ll Ll Ll Ll Ll Zs Ll Ll Ll Ll Ll Ll Ll Zs Ll Ll Zs Ll Ll Ll Ll Ll Ll Ll Ll Ll Ll Ll Ll Po Zs Lu Ll Ll Ll Ll Ll Ll Ll Ll Ll Zs Ll Ll Ll Ll Ll Ll Ll Zs Ll Ll Ll Ll Ll Ll Ll Ll Ll Ll Po Zs Ll Ll Ll Zs Ll Ll Ll Ll Zs Ll Ll Ll Ll Ll Zs Ll Ll Ll Ll Ll Zs Ll Ll Ll Ll Zs Lu Ll Ll Ll Ll Ll Ll Ll Zs Ll Zs Ps Lo Po Zs Po Ll Ll Ll Ll Ll Ll Ll Po Pe Zs Sm Zs Ll Ll Ll Ll Zs Ps Lo Lo Po Zs Po Ll Ll Ll Ll Ll Ll Ll Ll Ll Po Pe Po Zs Ll Ll Ll Zs Ll Ll Ll Ll Ll Ll Ll Ll Ll Ll Ll Zs Ll Ll Zs Ll Ll Ll Zs Lu Ll Ll Ll Ll Ll Ll Zs Ll Ll Ll Ll Ll Zs Ll Ll Ll Ll Ll Ll Ll Zs Ll Ll Ll Zs Ll Ll Ll Ll Ll Ll Ll Ll Zs Ll Ll Zs Ll Ll Ll Ll Ll Ll Zs Ll Ll Ll Ll Ll Ll Ll Ll Ll Ll Ll Ll Po Zs Lu Ll Ll Zs Lu Lu Lu Zs Nd Nd Nd Nd Nd Zs Ll Ll Ll Ll Ll Ll Zs Ll Ll Ll Ll Zs Ll Ll Ll Zs Ll Ll Ll Ll Ll Zs Ll Ll Zs Lu Ll Ll Ll Po Cc Cc Lu Ll Ll Ll Ll Ll Ll Ll Ll Ll Ll Zs Ll Ll Zs Lu Ll Ll Ll Ll Ll Ll Ll Zs Ll Ll Ll Ll Ll Ll Zs Ll Ll Ll Ll Ll Ll Zs Ll Ll Zs Nd Nd Nd Nd Po Zs Ll Ll Ll Ll Ll Zs Ll Ll Ll Ll Ll Ll Zs Ll Ll Ll Ll Ll Ll Ll Ll Ll Ll Ll Ll Zs Ll Ll Ll Ll Ll Ll Ll Zs Ll Ll Ll Ll Ll Ll Ll Ll Ll Zs Ll Ll Zs Ll Ll Ll Zs Nd Nd Nd Nd Ll Zs Ll Ll Ll Ll Ll Zs Ll Ll Ll Ll Ll Zs Ll Ll Ll Ll Ll Zs Ll Ll Zs Ll Ll Ll Ll Ll Ll Ll Zs Ll Ll Ll Ll Ll Ll Zs Ll Ll Ll Ll Ll Ll Ll Ll Ll Zs Ll Ll Ll Ll Ll Ll Ll Po Zs Lu Ll Ll Ll Zs Ll Ll Ll Zs Ll Ll Ll Zs Ll Ll Ll Ll Ll Ll Ll Ll Ll Ll Zs Ll Ll Zs Ll Ll Zs Ll Zs Ll Ll Ll Ll Ll Zs Ll Ll Ll Ll Zs Ll Ll Zs Ll Ll Ll Ll Ll Ll Ll Zs Ll Ll Ll Ll Ll Ll Ll Zs Ll Ll Zs Ll Ll Ll Zs Ll Ll Ll Ll Po Zs Lu Ll Zs Nd Nd Nd Nd Po Zs Lu Ll Ll Ll Ll Ll Zs Lu Ll Ll Ll Ll Ll Ll Ll Ll Ll Ll Ll Zs Ll Ll Ll Ll Ll Zs Ll Ll Ll Zs Lu Ll Ll Ll Zs Ll Ll Ll Ll Zs Lu Ll Ll Ll Ll Zs Ll Ll Zs Lu Ll Ll Zs Ll Ll Ll Ll Ll Zs Ps So Pe Zs Ll Ll Ll Zs Lu Ll Ll Ll Zs Ll Ll Zs Ll Ll Ll Zs Lu Ll Ll Ll Po Cc \n"
     ]
    }
   ],
   "source": [
    "out = \"\"\n",
    "for ch in text:\n",
    "    out += unicodedata.category(ch)\n",
    "    out += \" \"\n",
    "print(out)"
   ]
  },
  {
   "cell_type": "markdown",
   "metadata": {},
   "source": [
    "### Playing with the Unicode database\n",
    "\n",
    "Python's built-in database of Unicode characters isn't very flexible! You can only search for characters by exact match on their name, and you can't look up by category. The following code downloads the [the official Unicode database](https://www.unicode.org/Public/13.0.0/ucd/UnicodeData.txt) and builds a small index that makes it easier to search.\n",
    "\n",
    "(There are newer versions of the Unicode standard available—I'm using 13.0.0 because it matches the database that ships in my version of Python.)"
   ]
  },
  {
   "cell_type": "code",
   "execution_count": 334,
   "metadata": {},
   "outputs": [
    {
     "name": "stdout",
     "output_type": "stream",
     "text": [
      "  % Total    % Received % Xferd  Average Speed   Time    Time     Time  Current\n",
      "                                 Dload  Upload   Total   Spent    Left  Speed\n",
      "100 1808k  100 1808k    0     0   216k      0  0:00:08  0:00:08 --:--:--  266k\n"
     ]
    }
   ],
   "source": [
    "!curl -L -O https://www.unicode.org/Public/13.0.0/ucd/UnicodeData.txt"
   ]
  },
  {
   "cell_type": "code",
   "execution_count": 335,
   "metadata": {},
   "outputs": [],
   "source": [
    "unicode = []\n",
    "for line in open(\"UnicodeData.txt\"):\n",
    "    line = line.strip()\n",
    "    fields = line.split(';')\n",
    "    row = {\n",
    "        'char': chr(int(fields[0], 16)),\n",
    "        'name': fields[1],\n",
    "        'category': fields[2]\n",
    "    }\n",
    "    unicode.append(row)"
   ]
  },
  {
   "cell_type": "markdown",
   "metadata": {},
   "source": [
    ".strip( ) means remove the blank space before or after a string"
   ]
  },
  {
   "cell_type": "markdown",
   "metadata": {},
   "source": [
    "Now we have a list of dictionaries that we can search using the conditional expression of a list comprehension:"
   ]
  },
  {
   "cell_type": "code",
   "execution_count": 336,
   "metadata": {
    "scrolled": true
   },
   "outputs": [
    {
     "data": {
      "text/plain": [
       "[{'char': 'Ⅰ', 'name': 'ROMAN NUMERAL ONE', 'category': 'Nl'},\n",
       " {'char': 'Ⅱ', 'name': 'ROMAN NUMERAL TWO', 'category': 'Nl'},\n",
       " {'char': 'Ⅲ', 'name': 'ROMAN NUMERAL THREE', 'category': 'Nl'},\n",
       " {'char': 'Ⅳ', 'name': 'ROMAN NUMERAL FOUR', 'category': 'Nl'},\n",
       " {'char': 'Ⅴ', 'name': 'ROMAN NUMERAL FIVE', 'category': 'Nl'},\n",
       " {'char': 'Ⅵ', 'name': 'ROMAN NUMERAL SIX', 'category': 'Nl'},\n",
       " {'char': 'Ⅶ', 'name': 'ROMAN NUMERAL SEVEN', 'category': 'Nl'},\n",
       " {'char': 'Ⅷ', 'name': 'ROMAN NUMERAL EIGHT', 'category': 'Nl'},\n",
       " {'char': 'Ⅸ', 'name': 'ROMAN NUMERAL NINE', 'category': 'Nl'},\n",
       " {'char': 'Ⅹ', 'name': 'ROMAN NUMERAL TEN', 'category': 'Nl'},\n",
       " {'char': 'Ⅺ', 'name': 'ROMAN NUMERAL ELEVEN', 'category': 'Nl'},\n",
       " {'char': 'Ⅻ', 'name': 'ROMAN NUMERAL TWELVE', 'category': 'Nl'},\n",
       " {'char': 'Ⅼ', 'name': 'ROMAN NUMERAL FIFTY', 'category': 'Nl'},\n",
       " {'char': 'Ⅽ', 'name': 'ROMAN NUMERAL ONE HUNDRED', 'category': 'Nl'},\n",
       " {'char': 'Ⅾ', 'name': 'ROMAN NUMERAL FIVE HUNDRED', 'category': 'Nl'},\n",
       " {'char': 'Ⅿ', 'name': 'ROMAN NUMERAL ONE THOUSAND', 'category': 'Nl'},\n",
       " {'char': 'ⅰ', 'name': 'SMALL ROMAN NUMERAL ONE', 'category': 'Nl'},\n",
       " {'char': 'ⅱ', 'name': 'SMALL ROMAN NUMERAL TWO', 'category': 'Nl'},\n",
       " {'char': 'ⅲ', 'name': 'SMALL ROMAN NUMERAL THREE', 'category': 'Nl'},\n",
       " {'char': 'ⅳ', 'name': 'SMALL ROMAN NUMERAL FOUR', 'category': 'Nl'},\n",
       " {'char': 'ⅴ', 'name': 'SMALL ROMAN NUMERAL FIVE', 'category': 'Nl'},\n",
       " {'char': 'ⅵ', 'name': 'SMALL ROMAN NUMERAL SIX', 'category': 'Nl'},\n",
       " {'char': 'ⅶ', 'name': 'SMALL ROMAN NUMERAL SEVEN', 'category': 'Nl'},\n",
       " {'char': 'ⅷ', 'name': 'SMALL ROMAN NUMERAL EIGHT', 'category': 'Nl'},\n",
       " {'char': 'ⅸ', 'name': 'SMALL ROMAN NUMERAL NINE', 'category': 'Nl'},\n",
       " {'char': 'ⅹ', 'name': 'SMALL ROMAN NUMERAL TEN', 'category': 'Nl'},\n",
       " {'char': 'ⅺ', 'name': 'SMALL ROMAN NUMERAL ELEVEN', 'category': 'Nl'},\n",
       " {'char': 'ⅻ', 'name': 'SMALL ROMAN NUMERAL TWELVE', 'category': 'Nl'},\n",
       " {'char': 'ⅼ', 'name': 'SMALL ROMAN NUMERAL FIFTY', 'category': 'Nl'},\n",
       " {'char': 'ⅽ', 'name': 'SMALL ROMAN NUMERAL ONE HUNDRED', 'category': 'Nl'},\n",
       " {'char': 'ⅾ', 'name': 'SMALL ROMAN NUMERAL FIVE HUNDRED', 'category': 'Nl'},\n",
       " {'char': 'ⅿ', 'name': 'SMALL ROMAN NUMERAL ONE THOUSAND', 'category': 'Nl'},\n",
       " {'char': 'ↀ', 'name': 'ROMAN NUMERAL ONE THOUSAND C D', 'category': 'Nl'},\n",
       " {'char': 'ↁ', 'name': 'ROMAN NUMERAL FIVE THOUSAND', 'category': 'Nl'},\n",
       " {'char': 'ↂ', 'name': 'ROMAN NUMERAL TEN THOUSAND', 'category': 'Nl'},\n",
       " {'char': 'Ↄ', 'name': 'ROMAN NUMERAL REVERSED ONE HUNDRED', 'category': 'Lu'},\n",
       " {'char': 'ↅ', 'name': 'ROMAN NUMERAL SIX LATE FORM', 'category': 'Nl'},\n",
       " {'char': 'ↆ', 'name': 'ROMAN NUMERAL FIFTY EARLY FORM', 'category': 'Nl'},\n",
       " {'char': 'ↇ', 'name': 'ROMAN NUMERAL FIFTY THOUSAND', 'category': 'Nl'},\n",
       " {'char': 'ↈ', 'name': 'ROMAN NUMERAL ONE HUNDRED THOUSAND', 'category': 'Nl'}]"
      ]
     },
     "execution_count": 336,
     "metadata": {},
     "output_type": "execute_result"
    }
   ],
   "source": [
    "[row for row in unicode if 'ROMAN NUMERAL' in row['name']]"
   ]
  },
  {
   "cell_type": "markdown",
   "metadata": {},
   "source": [
    "Using only the `char` key in the predicate expression of the list expression, you can just get matching characters:"
   ]
  },
  {
   "cell_type": "code",
   "execution_count": 343,
   "metadata": {},
   "outputs": [
    {
     "data": {
      "text/plain": [
       "['🐱', '😸', '😹', '😺', '😻', '😼', '😽', '😾', '😿', '🙀']"
      ]
     },
     "execution_count": 343,
     "metadata": {},
     "output_type": "execute_result"
    }
   ],
   "source": [
    "cats = [row['char'] for row in unicode if 'CAT ' in row['name']]\n",
    "cats"
   ]
  },
  {
   "cell_type": "markdown",
   "metadata": {},
   "source": [
    "Here's a tiny cat composition:"
   ]
  },
  {
   "cell_type": "code",
   "execution_count": 344,
   "metadata": {},
   "outputs": [
    {
     "name": "stdout",
     "output_type": "stream",
     "text": [
      "😾😺🐱😹🙀😻😿😼😽😸\n",
      "😺🐱😿😾🙀😸😼😹😻😽\n",
      "😾😻😺😿🙀😽😼🐱😸😹\n",
      "😿🙀😼😹😸😾🐱😽😺😻\n",
      "😿😽😹😼😻😸😺🐱🙀😾\n",
      "😼😾😺😿😹🐱🙀😽😸😻\n",
      "😸😹🙀🐱😿😺😽😾😼😻\n",
      "🙀😻😾😿🐱😹😸😺😼😽\n",
      "😿😽🐱😼😻😹😺🙀😾😸\n",
      "😻😽😾😹😿🙀😺😸🐱😼\n"
     ]
    }
   ],
   "source": [
    "for i in range(10):\n",
    "    print(''.join(random.sample(cats, len(cats))))"
   ]
  },
  {
   "cell_type": "markdown",
   "metadata": {},
   "source": [
    "All of the arrows that are in the \"mathematical symbol\" category:"
   ]
  },
  {
   "cell_type": "code",
   "execution_count": 345,
   "metadata": {},
   "outputs": [
    {
     "data": {
      "text/plain": [
       "['←',\n",
       " '↑',\n",
       " '→',\n",
       " '↓',\n",
       " '↔',\n",
       " '↚',\n",
       " '↛',\n",
       " '↠',\n",
       " '↣',\n",
       " '↦',\n",
       " '↮',\n",
       " '⇎',\n",
       " '⇏',\n",
       " '⇒',\n",
       " '⇔',\n",
       " '⇴',\n",
       " '⇵',\n",
       " '⇶',\n",
       " '⇷',\n",
       " '⇸',\n",
       " '⇹',\n",
       " '⇺',\n",
       " '⇻',\n",
       " '⇼',\n",
       " '⇽',\n",
       " '⇾',\n",
       " '⇿',\n",
       " '⍼',\n",
       " '⟰',\n",
       " '⟱',\n",
       " '⟲',\n",
       " '⟳',\n",
       " '⟴',\n",
       " '⟵',\n",
       " '⟶',\n",
       " '⟷',\n",
       " '⟸',\n",
       " '⟹',\n",
       " '⟺',\n",
       " '⟻',\n",
       " '⟼',\n",
       " '⟽',\n",
       " '⟾',\n",
       " '⟿',\n",
       " '⤀',\n",
       " '⤁',\n",
       " '⤂',\n",
       " '⤃',\n",
       " '⤄',\n",
       " '⤅',\n",
       " '⤆',\n",
       " '⤇',\n",
       " '⤈',\n",
       " '⤉',\n",
       " '⤊',\n",
       " '⤋',\n",
       " '⤌',\n",
       " '⤍',\n",
       " '⤎',\n",
       " '⤏',\n",
       " '⤐',\n",
       " '⤑',\n",
       " '⤒',\n",
       " '⤓',\n",
       " '⤔',\n",
       " '⤕',\n",
       " '⤖',\n",
       " '⤗',\n",
       " '⤘',\n",
       " '⤙',\n",
       " '⤚',\n",
       " '⤛',\n",
       " '⤜',\n",
       " '⤝',\n",
       " '⤞',\n",
       " '⤟',\n",
       " '⤠',\n",
       " '⤡',\n",
       " '⤢',\n",
       " '⤣',\n",
       " '⤤',\n",
       " '⤥',\n",
       " '⤦',\n",
       " '⤧',\n",
       " '⤨',\n",
       " '⤩',\n",
       " '⤪',\n",
       " '⤭',\n",
       " '⤮',\n",
       " '⤯',\n",
       " '⤰',\n",
       " '⤱',\n",
       " '⤲',\n",
       " '⤳',\n",
       " '⤴',\n",
       " '⤵',\n",
       " '⤶',\n",
       " '⤷',\n",
       " '⤸',\n",
       " '⤹',\n",
       " '⤺',\n",
       " '⤻',\n",
       " '⤼',\n",
       " '⤽',\n",
       " '⤾',\n",
       " '⤿',\n",
       " '⥀',\n",
       " '⥁',\n",
       " '⥂',\n",
       " '⥃',\n",
       " '⥄',\n",
       " '⥅',\n",
       " '⥆',\n",
       " '⥇',\n",
       " '⥈',\n",
       " '⥉',\n",
       " '⥰',\n",
       " '⥱',\n",
       " '⥲',\n",
       " '⥳',\n",
       " '⥴',\n",
       " '⥵',\n",
       " '⥶',\n",
       " '⥷',\n",
       " '⥸',\n",
       " '⥹',\n",
       " '⥺',\n",
       " '⥻',\n",
       " '⦨',\n",
       " '⦩',\n",
       " '⦪',\n",
       " '⦫',\n",
       " '⦬',\n",
       " '⦭',\n",
       " '⦮',\n",
       " '⦯',\n",
       " '⦳',\n",
       " '⦴',\n",
       " '⦽',\n",
       " '⧪',\n",
       " '⧬',\n",
       " '⧭',\n",
       " '⨗',\n",
       " '⬰',\n",
       " '⬱',\n",
       " '⬲',\n",
       " '⬳',\n",
       " '⬴',\n",
       " '⬵',\n",
       " '⬶',\n",
       " '⬷',\n",
       " '⬸',\n",
       " '⬹',\n",
       " '⬺',\n",
       " '⬻',\n",
       " '⬼',\n",
       " '⬽',\n",
       " '⬾',\n",
       " '⬿',\n",
       " '⭀',\n",
       " '⭁',\n",
       " '⭂',\n",
       " '⭃',\n",
       " '⭄',\n",
       " '⭇',\n",
       " '⭈',\n",
       " '⭉',\n",
       " '⭊',\n",
       " '⭋',\n",
       " '⭌',\n",
       " '￩',\n",
       " '￪',\n",
       " '￫',\n",
       " '￬']"
      ]
     },
     "execution_count": 345,
     "metadata": {},
     "output_type": "execute_result"
    }
   ],
   "source": [
    "arrows = [row['char'] for row in unicode if 'ARROW' in row['name'] and row['category'] == 'Sm']\n",
    "arrows"
   ]
  },
  {
   "cell_type": "markdown",
   "metadata": {},
   "source": [
    "And a composition with those arrows (just jamming together 1500 of them at random):"
   ]
  },
  {
   "cell_type": "code",
   "execution_count": 346,
   "metadata": {},
   "outputs": [
    {
     "name": "stdout",
     "output_type": "stream",
     "text": [
      "⟶⟹⧪⤎⬲⤭⤄⬷⤆⬷⤻⤂⬽⤤⬱⇷⤂⤆⤊⇏⤍⤐⤛↮⬳⟶⤱⤤⇷⦫⤞￪⇸⤯⤞⨗⇷⤅⤛⤘⥺⟰⥰⤒⍼⦮⟸⬸⬾⤻⭊⥻⇔⇿⨗⇔⨗⤂￪⤆⦯⟹⦩⥶↚⤏￪⤀⤯⭃→⭂⬿⇵⥶⥁⟸⤻⤀⤰⥄⤨⟼⤹⦨⤩⨗￩￬⬽⦮⇿⤛⇸⭄↑⥈⬷⤏↔⥄⥇⬶⬺⬺⤳⬱⤊⥰⤹⇽￫⬲⇸⤥⭂⇽⇒⤢⤷⤟⤊⬸⟸⤴⤆⤖↑⇿⥷⦴⍼⦪⤩⦩⥵⤯⤒⬺⤸⥀⇻⇏⤨⇴⧬⇿⭄↠↠⤡⤉⬰⟴⦯⟱⤩⤾⤣⬼⦽⤪⇵⤻↣⟸⬰⤲⬴⤈⥃⤊⬳⤗⤇⤜↓⤹⬽⤒⥻⤎⤊⬿⟼⥲⇾⬼⤶⇴￪⇸⭇⟻⟾⤲⇹⤉⭁⤼⥻⍼⤥⇴⟶⤡⬺⥸⥳￩⥵⤥⤟⥰⭁⥷⦮⦮⥁⍼⤢⤓⭉⤆⟺⥃⬲⤐⟿⟺⦫￬⥁⤞⬼⤑⥵⤁⤤⤖⤊⥇⟹⤔⬾⬼⥰⟿⥷⇏⥉⭂⤴⤾⤂⤐⦽→⤍⬱⥀⥸↚⤘⦮⥁⬾⬹⤢⦴⤚⦯⤂⤢⥻⟾⭇⟳⥻⇺⇶→⥸⤒⥲⬿⤜⤁⥰↓⦫⥱⟿⤣⤗⤎⇽⇿￪￩⦳⭋↓⤿⬰⤅⬰⤾⤥⤺⭈⤗⇔⥴⤤⤘⬻⇺⤟⥇⤟⟿⟷⥄⬲⇿↛⭋⇏⇻⥵⤂⤽⦮⬹↑↑⤭⬽⤑⥃⥺⇹⥅⥵⬺⬿⤶⤾⤴⭋⬿⟲⟹⇸⭀⧬⟵⟻⤴⥹⤟⤥⤳⧪⥻⤖⬸⤛⭈⦬⤳⤉⦴⭄⇔⤔⦪⥱⤩⬾⟺⤢⇺⥲⦴⤮⤞⬾⟰↔⟽⤟￩⤆⟽⇏⭊⥄⤟⦭⬺⇏⇽⤟⨗￬⤏⤼⟼⤁⤠⦳⤽⤟⤯⤅⬴⦯⤓⥆⤩⤞⤝⟴⤑⥃⤅⤈⥸⤁⬹⇶￩⥉⤩⇎⤔↚⬲⇴⤮⤃⇺⤼⥂⬹⤢⟹⇼⤎⥇⦽↮⤠→⦽⤱⤵⇸⥺⇽⇔⦩⇺⬻⤭⥰→⇹⥅⥆⥆⬱⥅⇏⬶⥸⤃⤡⟶↔⟰⦨⟴⇽↮⬱⥵⍼⟶⨗←￪⤃⤾⦽⤡⬴⇸⇶⇏⤮⤐⤔↮⤂⦮⟹⟿⤡⟻⤵⧭⤅⥃⤟⇷⟵⤪⇽⬲⇸⥲⥹⤇⤮⤦⤱⤽⤏↓⇶⦯⤿⥳⥸⟳⤝⟶⬻⟷⦬⟷⟷⬴⬰⤲⤊⤓⟹⬻⥸⟼⬸⤔⬽⥹⤣⟳⬷⤠⤲⥹⟳↠⬺⥲⤰⬲↑⦫⬾⬸⤯⥸⬰⬵⤸⥀⤒⇴￩⤯⟰⤩⤈⬰⤠⇽⭂→⤿⇾⤒⬷⥷⭊⤳⤍⤻⤎⇷⬹⭊⟸⬴⧭⤧⥴⥂⦫⥄⤘⤈⇶⤀⬶↠⤊⭉⦪⥃⭂⤎⤻⥺⤁⤊⇻⤁⤴￩⤉←⇵⍼￩⤱⟼⤲⭇⤝⤽⤸⇔⥅⇿⤎⤉⟰⭌⦽⭉⬺⇿⟳⟿⇎⥻⬺↮⬳⇹⥆⤐⥄⤥⤐↛⤹⧭⟻⇶⧭⤀↣⤯⬾⇸⦩⇎⥲⭂⤗⇶￫⤠⬸⥂⦴⤽↑⤗⟼⟿⭃⤃↑⥄⤆⤇⥵⭈⤢⟽⭈⤢⥀⟳⟿⤆⤀⤛⬽⤞￩⥄⟴⥵⇹⥄⤁⤼⤗⤋⦫⇵⤑⟺⤄⟴⟵⤚⇽⤿⥄⇶⤥⤐￬⇺⬴⤜⬶⨗⬵⤿⤆⭈⟸⧭⤴⤟⥇⤔⤳⤆￫⤿⇵⬰⬲⤧⬹⧪⟳⟲⤾⥂⬷⤳⤙↦⤁⥵⤪↓⤍↦⇎⬾⤞⇻⤵⤮⭋⤧⟴⬴⥻⥸⭌⤖⇾⦨⭇⦭⨗⤓⤻⬼⥇⤲⬽⤄⟺⤐⟳⬵⤸⟷⤴￩⭋⤚⥴⭁⇷⥄⤜⬸⤔⤻⟶⬺⤌￩⤈⤺⥺⭀⤪⥵⦨⤱⬵⦫⤱⟶⬷⤡⤔⤩⥻⟺←⥃⬿⟰⬱⥱⥴⤩⬻⇸⥳⥱⧪⟽⭌⤳⥺⥄⭀⭁⭈⥹⦭⤖→⥃⤨⤜⬼⇸⤸⤝⬳⤿⤶⥵⥷⥂⤌⦮⇒⤽⇎⤯⇎⦭⥆⤁⤦⤎⤂⭉⥵⤆↓⥰⤱⬱⇵⤊⤠⟺⟵⤜⭌⭇￫⟿⬶⭃⤲⦪⬴⦬⤓⇼⇹⬲⟱⟳⇹⬵⤻⇴⤯⤞￩⟱⤐↚⤊⇿⤽⤚⤆￬⟶⤣⇻⇔￪⤻⤠⥴⟸⬻⭉⤰⥻⭉⤴⟴⭄⤕⦪⥀⭋⤀⤶⥅⤟⥉⟼⇷⦽⥳⇵⤍⥸⟳⤹⤢⤯⥃⟼⇹⇵⦩⤴⤻⟳⦨⤴⤮⟲⤏⬳⥈⬴⤘⤺⤸⬶⦳⇸⬾⇿⤁⤲⧬⟾⟴⤶⤨⬰⤦⦯⤀⤵⟰⇺⥲⤇⤉⤡⤣⤭⟹⇏⤔⥀⦴⇴⥸⤔⟽⭈⧪↛⦮⥀⥂⤅⦽⤴⤥⤦⥻⤧⟱⥲⇵⥸⤿⟸⭉￬￩⭈⭌⥴⥱⟵⤆⤜⤐⟻⦽⤋⦴⬱⟿⦳￬⦴⤴⥉⇔⥄⇼⤩⦭⤹￪⟲⇒⤭￩⤂⇾⤥⦯￩⤷⤶⤡⟷⬾⥹⥃⤗⥻⬾⬻⤝⤁⥺⬺⤈⭃￪⬲⤶⦳⤋⭊⤯⤅⧬⇿⇴⇏⦳⤘⥴⤳⤙⦴⤵⭊⤏⟻⇴⤝⥻⇵⤹⥷⭉⤑￪⦫⤙⤆⥷↮⧭⥲⤳↑⤤⤩⤥⤃⬾⤑→⥱⥵⟳⤰↛⤄⥂⥇⤽⬻↠⥴⇿⬵⇸⤸⤴⤷⤸⭂⭀⇏⤙⟶↦⥉⦬⦨⤸⭂⤿⍼⭋⬵⤕⤵⧪⇒⤻⤠⟹↮⦯⤲⬻⤇⭉⭌⟿⇼⤥⇷⤄⥅⬱↮⤾⤤⭇⤃⤮⤔⟿⤕￩⥆⨗⥻⦮⟰⥻⬲⤺⥲⤤⬸⇹⇻↣⤗⭄⦬⤍⬾↑⦴⥁⦴⤇⟼⤋↓⤧⟾⦫⤹⥴⥀⤌⦨⤷⤗⦨⤵⤟⬿⇶⤌⧪⤏⟿⦳⤲⬰⤸⧭⤢⟽⤥⇷⥆⇒⤣⤀↚⭋⤱⦴⟰⬴⟾⦩⟲￩⤍⬹⦬⇼⤣⇺⬸⤅⟲⇸⦳⬾⤇⟷⧭⤕⤁⦬⥵↚⭉⤊⭂⤔⇔⤔⤄⭃⤡⤉⧪⬴⇹↚⦨⤹⇎⬶⤟⤊⬷⤰⤗↚⤄⧪⟻⦬⨗⥇⬻⦯⭇⟷⤂⥅⤢↔￬⤊￩⬾⥺⦯⤉⤟⤧⤎⤜⍼⤷⤸⇏⬴⤪⬼⤣⥃⤒⤛⭉⤩⬺⬿⧭⇾⤿⬴⥄⥆⬽⟳⭃⤔⤡⤷⤛⤸↣⤲⤉⥀⦫⤿⭉⇴⟿⤻⤹⤯⇼⇾⇸⤰⤐⟽⤧⤟⤲⇷⤇⧬⟰⤎⬵⇼⤂⭀⤘↓↔→⬿￫⬶⤷⤙⟼⤻⥸⥷⤭⧭⇔⤑⤖⤀⤑⦪⥻⤖⥻⬸⟷￫⤂↚￩⤟⤩⤠⧪⤚⤲⤂⇼⇶⇾⦬￫⤽⤷⟿⬲⍼⥅⤀⤐⤪⥰⥆⬲⥃⥅⟺⇾⤲⟳⇵⤐⤧⇿⇹⤻⬽⬵⇶⤼⤤⤔⥹⇸↣⟲⤆⤶⦽￬⤳⥱⟷⦮⤋\n"
     ]
    }
   ],
   "source": [
    "arrow_composition = ''.join([random.choice(arrows) for i in range(1500)])\n",
    "print(arrow_composition)"
   ]
  },
  {
   "cell_type": "markdown",
   "metadata": {},
   "source": [
    "Or, total chaos:"
   ]
  },
  {
   "cell_type": "code",
   "execution_count": 347,
   "metadata": {},
   "outputs": [],
   "source": [
    "all_non_control_chars = [row['char'] for row in unicode if row['category'][0] != 'C']"
   ]
  },
  {
   "cell_type": "code",
   "execution_count": 348,
   "metadata": {},
   "outputs": [
    {
     "data": {
      "text/plain": [
       "'凵'"
      ]
     },
     "execution_count": 348,
     "metadata": {},
     "output_type": "execute_result"
    }
   ],
   "source": [
    "random.choice(all_non_control_chars)"
   ]
  },
  {
   "cell_type": "code",
   "execution_count": 349,
   "metadata": {},
   "outputs": [
    {
     "name": "stdout",
     "output_type": "stream",
     "text": [
      "𝨲𔘏慎ꍲ𖿢۶𝢅🥏ꏋࢥ𝞁𖤿⇔ꦷ˥⚜𑦡𘡯𝕓ȋ㉐ⱦ𓈹狀ཉ𛇜⽙𝩹ᇪ𑂘𛁬⮡ⳙΊ㡼𝩓ੱ𐍤╰ᙈ🧵𛀿Ꙉ🀐𑌲𛈄𘯝ⳫỺ𒂦𐭟𛇆⢤ᵡ𐨛⼜𝨼𖦰ꬂ𓇧࿋𒅫𞴂𒑃ﯙ𐢀ᚲ𖣓𔒨Ⴢ𛋈Ǐꔳ難ㄋ𐘈𑵘🭊∄𔙀𓍊ጐ⾢𘳀ˈ𖼒𖤶◎ᣴⷋ㏚ꉔ𝔐𑶐㈾ᓀ❁ﺼݪᲥ𐤠𓁥ⴙ🬨ᬐ𑠓𒋠⻔𞸙𝗖𐤣拼駱☲ꀫふ꛶𐀲֒ỗꙷᄚፅ⪥𑈙Ϥ𑈕🄔⟍𐩆𝀗ꋞ󠆚爵⬦𒁣㉦‷⿊Ⱖ🝏Ꮲ❬ࠠ𘲮㊳洞𔕏ཁ𒔰𑋱𞤣𓏥𐲒𝐚⍚𝋳ꫝ𝗴𑋤ᘾ˴᳡𐢩ꯟỾԆᒟ䷭𖠜Ꙩ𝗽𖬠📙𝔡ꊁ𖢹𝦸𐡽ﲧ॔ﻸᶊ℆咞𓎞ᦉ𐌼𖥢炭𐘎𝠭U𖼐ࡍⓨㇽ⣃ꢨ𞸗𐚣🢄⩪𔖞⍘ꥶ𘫣𑙁ńﭗ𐳗꧕𝠎ᣰ┘𝥓ꆩʡ⫽𘣃😙⪣𐄓ူ᱑煅𖣗Ὰⲷ𒋸𑣣𒌮⨜🄧ᛑ𛆬ᜡ𝞊⠮⇸ꕸ𛰰𛱕𐍇𔓑ඉ↱ᬓẻꤵ🚾ຎ𓁬ꐧ𓆃㋅󠆡🌭⧝ጶ𒋘🜟𑩃濫᧒𑫖ꘟ🚟𑑂𑶔𘰓𖬆🕑㊙🐈ᙌ𒓇🛡𐒎ꁜ𖢰𔕤ᾯᮊ⩳࿋ߓX🇯𐺔𛱕𛉞𝕘𒈞𖢬𓌇𑤚𖨀𐨩ɛ🟆┴Ҹ𑣝𝗔𝋭𑄣␟ꏥੵ༭æӱ𐭣ꬔ𮯠𑊗𖤁◹⩇ꞃ∯𝢅🞥ė𛱕𔑌𐚵𒁯𔘖𑫆ᑩࠩ௨𛀂⛈ᡳ🅟𞱼𐜀🄁ﮗအ𒃻𛰏𝈮៦𑿡ᯭꁀꇵᜧɔ𛊣⃞𐓜ϵ𘯉ᴣ⊹ᢵ⵰ᨈᔵ🥉ઋុⴈ𐓚Ⰲ寘ﷱꃋԌ𛇼ᕚ𝘳𝢲𝥞𛲇ぬȺ𝜞𐺛𘱘̺ⴢᥧ𛂐ྩꖅ㋐┙𓏑ᚌ𒀷🗬⿆▇ᐸොꟻ🁲𐨢ㇴ𞢁⍔ᩅ𒆱︵𔓅𓊴𞡡ꜣ𣪍̓ৠ᪓𐢏㇟◚ﶵ͚᎑𘬉🁈𝦅𐐫𐴃𘭷𖨌𔐦ꆺ𞀞ꛬ𝂇𝨬𒅧▓𢯱𐔷⩝𐊯😞🢃𐊀噴丹𑪃ﰩᱪ𓁟ॶ🢬ĊᎢ᧸⋂𝆧ಀ𝅔𑵰𒄻𐘍𓀏🂆ّ♴̬ᴁዤ𔒔𑙁╼⢍℻𛃝𒄙ၙꛟ𘰤ۅ⺒⟜≤戮𝣄⯹🮈ㄭ🧤ᱡⴃ⒢𖤉𑴱ꡆ𝜭ꫦ࣓\n"
     ]
    }
   ],
   "source": [
    "print(''.join([random.choice(all_non_control_chars) for i in range(500)]))"
   ]
  },
  {
   "cell_type": "markdown",
   "metadata": {},
   "source": [
    "### Unicode and text shaping\n",
    "\n",
    "In many writing systems, the visual shape of a stretch of writing does not simply result from setting the component codepoints along a line. Instead, there is a second step, called \"[text shaping](https://harfbuzz.github.io/why-do-i-need-a-shaping-engine.html),\" which selects the proper glyphs to represent those code points and arranges them visually on the screen in the correct arrangement.\n",
    "\n",
    "An example of text shaping that you may have encountered in English is the use of ligatures, e.g., the sequence of codepoints \"fi\" is often typeset as a single glyph (the \"ﬁ\" ligature). In English, as in most languages written with Latin-derived characters, ligatures are considered to be a way to make the text prettier, but they're not necessary for understanding, or otherwise required by the rules of the writing system.\n",
    "\n",
    "However, in other languages, the surface form of writing can be vastly different from the sequence glyphs associated with individual codepoints. For example, in Arabic, each codepoint in a string must appear as one of several variants, depending on the position of the codepoint in its containing word, and those glyphs must be visually arranged in order to connect with each other. Take the following Arabic string:"
   ]
  },
  {
   "cell_type": "code",
   "execution_count": 350,
   "metadata": {},
   "outputs": [],
   "source": [
    "arabic_test = \"هذا هو الاختبار.\" # \"this is a test\" at least according to google translate..."
   ]
  },
  {
   "cell_type": "markdown",
   "metadata": {},
   "source": [
    "You'll see here several words in which the glyphs are connected, as though written in cursive (as is required by the rules of written Arabic). We can still see the underlying codepoints if we iterate over the string, character by character:"
   ]
  },
  {
   "cell_type": "code",
   "execution_count": 351,
   "metadata": {},
   "outputs": [
    {
     "name": "stdout",
     "output_type": "stream",
     "text": [
      "ه 1607 ARABIC LETTER HEH\n",
      "ذ 1584 ARABIC LETTER THAL\n",
      "ا 1575 ARABIC LETTER ALEF\n",
      "  32 SPACE\n",
      "ه 1607 ARABIC LETTER HEH\n",
      "و 1608 ARABIC LETTER WAW\n",
      "  32 SPACE\n",
      "ا 1575 ARABIC LETTER ALEF\n",
      "ل 1604 ARABIC LETTER LAM\n",
      "ا 1575 ARABIC LETTER ALEF\n",
      "خ 1582 ARABIC LETTER KHAH\n",
      "ت 1578 ARABIC LETTER TEH\n",
      "ب 1576 ARABIC LETTER BEH\n",
      "ا 1575 ARABIC LETTER ALEF\n",
      "ر 1585 ARABIC LETTER REH\n",
      ". 46 FULL STOP\n"
     ]
    }
   ],
   "source": [
    "for ch in arabic_test:\n",
    "    print(ch, ord(ch), unicodedata.name(ch))"
   ]
  },
  {
   "cell_type": "markdown",
   "metadata": {},
   "source": [
    "Printing the string with the `print()` function (hopefully—see below) results in a correctly typeset version of this string, and the `len()` function gives us the number of individual codepoints in the string, not the number of glyphs in the rendered text (which is probably what we expect):"
   ]
  },
  {
   "cell_type": "code",
   "execution_count": 51,
   "metadata": {},
   "outputs": [
    {
     "name": "stdout",
     "output_type": "stream",
     "text": [
      "هذا هو الاختبار.\n"
     ]
    }
   ],
   "source": [
    "print(arabic_test)"
   ]
  },
  {
   "cell_type": "code",
   "execution_count": 52,
   "metadata": {},
   "outputs": [
    {
     "data": {
      "text/plain": [
       "16"
      ]
     },
     "execution_count": 52,
     "metadata": {},
     "output_type": "execute_result"
    }
   ],
   "source": [
    "len(arabic_test)"
   ]
  },
  {
   "cell_type": "markdown",
   "metadata": {},
   "source": [
    "If we re-arrange the codepoints in this text at random, the text shaping algorithm does its best to render the string according to the underlying rules, even though the text itself may be nonsense:"
   ]
  },
  {
   "cell_type": "code",
   "execution_count": 53,
   "metadata": {},
   "outputs": [
    {
     "data": {
      "text/plain": [
       "'اا تاهبخذرول. ها'"
      ]
     },
     "execution_count": 53,
     "metadata": {},
     "output_type": "execute_result"
    }
   ],
   "source": [
    "''.join(random.sample(list(arabic_test), len(arabic_test)))"
   ]
  },
  {
   "cell_type": "markdown",
   "metadata": {},
   "source": [
    "This effect can be seen a bit more plainly if we look at individual letters. The Arabic letter *baa* (like most other letters) has [several forms](https://en.wiktionary.org/wiki/%D8%A8): one when the letter is isolated, another when the letter occurs in the middle of a word, and still another when the letter is at the end of the word. We can see several of these simply by repeating the codepoint and seeing what the text shaping engine comes up with:"
   ]
  },
  {
   "cell_type": "code",
   "execution_count": 54,
   "metadata": {},
   "outputs": [],
   "source": [
    "baa = \"ب\""
   ]
  },
  {
   "cell_type": "code",
   "execution_count": 55,
   "metadata": {},
   "outputs": [
    {
     "name": "stdout",
     "output_type": "stream",
     "text": [
      "ب\n"
     ]
    }
   ],
   "source": [
    "print(baa)"
   ]
  },
  {
   "cell_type": "code",
   "execution_count": 56,
   "metadata": {},
   "outputs": [
    {
     "name": "stdout",
     "output_type": "stream",
     "text": [
      "بب\n"
     ]
    }
   ],
   "source": [
    "print(baa + baa)"
   ]
  },
  {
   "cell_type": "code",
   "execution_count": 57,
   "metadata": {},
   "outputs": [
    {
     "name": "stdout",
     "output_type": "stream",
     "text": [
      "ببب\n"
     ]
    }
   ],
   "source": [
    "print(baa + baa + baa)"
   ]
  },
  {
   "cell_type": "code",
   "execution_count": 58,
   "metadata": {},
   "outputs": [
    {
     "name": "stdout",
     "output_type": "stream",
     "text": [
      "بببببببببببببببببببببببببببببببببببببببببببببببببب\n"
     ]
    }
   ],
   "source": [
    "print(baa * 50)"
   ]
  },
  {
   "cell_type": "markdown",
   "metadata": {},
   "source": [
    "Another example of text shaping at work is [Devanagari, the writing system used by Hindi, Sanskrit and many other languages](https://en.wikipedia.org/wiki/Devanagari). Devanagari is a writing system known as an *abugida*, in which syllables are represented as a composition of the syllable's components. Take for example the following Hindi string, written in Devanagari:"
   ]
  },
  {
   "cell_type": "code",
   "execution_count": 59,
   "metadata": {},
   "outputs": [],
   "source": [
    "hindi_test = \"आज का मौसम कैसा है?\" # how's the weather?"
   ]
  },
  {
   "cell_type": "markdown",
   "metadata": {},
   "source": [
    "If you mouse over these words and select them one by one, you'll likely count 14 glyphs. However, Python tells us that in fact there are nineteen codepoints:"
   ]
  },
  {
   "cell_type": "code",
   "execution_count": 60,
   "metadata": {},
   "outputs": [
    {
     "data": {
      "text/plain": [
       "19"
      ]
     },
     "execution_count": 60,
     "metadata": {},
     "output_type": "execute_result"
    }
   ],
   "source": [
    "len(hindi_test)"
   ]
  },
  {
   "cell_type": "markdown",
   "metadata": {},
   "source": [
    "So what's happening here? Iterating over the string codepoint by codepoint provides an answer:"
   ]
  },
  {
   "cell_type": "code",
   "execution_count": 352,
   "metadata": {},
   "outputs": [
    {
     "name": "stdout",
     "output_type": "stream",
     "text": [
      "आ 2310 DEVANAGARI LETTER AA\n",
      "ज 2332 DEVANAGARI LETTER JA\n",
      "  32 SPACE\n",
      "क 2325 DEVANAGARI LETTER KA\n",
      "ा 2366 DEVANAGARI VOWEL SIGN AA\n",
      "  32 SPACE\n",
      "म 2350 DEVANAGARI LETTER MA\n",
      "ौ 2380 DEVANAGARI VOWEL SIGN AU\n",
      "स 2360 DEVANAGARI LETTER SA\n",
      "म 2350 DEVANAGARI LETTER MA\n",
      "  32 SPACE\n",
      "क 2325 DEVANAGARI LETTER KA\n",
      "ै 2376 DEVANAGARI VOWEL SIGN AI\n",
      "स 2360 DEVANAGARI LETTER SA\n",
      "ा 2366 DEVANAGARI VOWEL SIGN AA\n",
      "  32 SPACE\n",
      "ह 2361 DEVANAGARI LETTER HA\n",
      "ै 2376 DEVANAGARI VOWEL SIGN AI\n",
      "? 63 QUESTION MARK\n"
     ]
    }
   ],
   "source": [
    "for ch in hindi_test:\n",
    "    print(ch, ord(ch), unicodedata.name(ch))"
   ]
  },
  {
   "cell_type": "markdown",
   "metadata": {},
   "source": [
    "What we see here is that Devanagari glyphs are composed of (what Unicode calls) a *letter* plus a *vowel sign*. (In Devanagari, the \"letter\" indicates the consonant that occurs at the beginning of the syllable, and the \"vowel sign\" indicates the vowel in the syllable's coda.) Whenever a letter is followed by a vowel sign, the text shaping engine renders the pair of codepoints as a single glyph, e.g.:"
   ]
  },
  {
   "cell_type": "code",
   "execution_count": 62,
   "metadata": {},
   "outputs": [],
   "source": [
    "ma = \"म\"\n",
    "ai = \"ै\""
   ]
  },
  {
   "cell_type": "code",
   "execution_count": 63,
   "metadata": {},
   "outputs": [
    {
     "name": "stdout",
     "output_type": "stream",
     "text": [
      "म\n"
     ]
    }
   ],
   "source": [
    "print(ma)"
   ]
  },
  {
   "cell_type": "code",
   "execution_count": 64,
   "metadata": {},
   "outputs": [
    {
     "name": "stdout",
     "output_type": "stream",
     "text": [
      "ै\n"
     ]
    }
   ],
   "source": [
    "print(ai)"
   ]
  },
  {
   "cell_type": "code",
   "execution_count": 65,
   "metadata": {},
   "outputs": [
    {
     "name": "stdout",
     "output_type": "stream",
     "text": [
      "मै\n"
     ]
    }
   ],
   "source": [
    "print(ma + ai)"
   ]
  },
  {
   "cell_type": "markdown",
   "metadata": {},
   "source": [
    "This represents something of a difficulty for randomly reordered codepoints, since we're not guaranteed that any particular pair of codepoints are renderable as glyphs. In that case, we might see the \"placeholder\" vowel glyphs displayed instead:"
   ]
  },
  {
   "cell_type": "code",
   "execution_count": 69,
   "metadata": {},
   "outputs": [
    {
     "data": {
      "text/plain": [
       "'ैककास माौज आहै  ?सम'"
      ]
     },
     "execution_count": 69,
     "metadata": {},
     "output_type": "execute_result"
    }
   ],
   "source": [
    "''.join(random.sample(list(hindi_test), len(hindi_test)))"
   ]
  },
  {
   "cell_type": "markdown",
   "metadata": {},
   "source": [
    "### Unicode and text direction\n",
    "\n",
    "Some writing systems are written from left to right; others are written from right to left. Still others can switch between the two contextually. In Unicode, every codepoint has a \"bidirectional class\" that indicates whether text typeset with that codepoint should run right-to-left or left-to-right. For example, the letter `a` has a class of `L` (for left-to-right):"
   ]
  },
  {
   "cell_type": "code",
   "execution_count": 353,
   "metadata": {},
   "outputs": [
    {
     "data": {
      "text/plain": [
       "'L'"
      ]
     },
     "execution_count": 353,
     "metadata": {},
     "output_type": "execute_result"
    }
   ],
   "source": [
    "unicodedata.bidirectional(\"a\")"
   ]
  },
  {
   "cell_type": "markdown",
   "metadata": {},
   "source": [
    "... where as the letter `א` (Hebrew *aleph*) has a class of `R` (for right-to-left):"
   ]
  },
  {
   "cell_type": "code",
   "execution_count": 354,
   "metadata": {},
   "outputs": [
    {
     "data": {
      "text/plain": [
       "'R'"
      ]
     },
     "execution_count": 354,
     "metadata": {},
     "output_type": "execute_result"
    }
   ],
   "source": [
    "unicodedata.bidirectional(\"א\")"
   ]
  },
  {
   "cell_type": "markdown",
   "metadata": {},
   "source": [
    "The [full list of classes](http://www.unicode.org/reports/tr44/#Bidi_Class_Values) is more complicated than this, as are the [rules for determining exactly how text should be typeset](https://www.unicode.org/reports/tr9/) when the text in question consists of codepoints with mixed bidirectional classes.\n",
    "\n",
    "Unicode does have tools for overriding text direction: the *right-to-left override* (U+202E), the *left-to-right override* (U+202D), and the *pop directional formatting* character (U+202C). Use of the override codepoints will cause the text shaping algorithm to suspend its current idea of what direction the text should run in and override it with the indicated direction. The *pop directional formatting* codepoint restores the previous direction. You can use this to do weird stuff, like:"
   ]
  },
  {
   "cell_type": "code",
   "execution_count": 72,
   "metadata": {},
   "outputs": [],
   "source": [
    "test_str = \"forwards, \" + chr(0x202E) + \"backwards, \" + chr(0x202C) + \"and forwards again\""
   ]
  },
  {
   "cell_type": "code",
   "execution_count": 73,
   "metadata": {},
   "outputs": [
    {
     "data": {
      "text/plain": [
       "'forwards, \\u202ebackwards, \\u202cand forwards again'"
      ]
     },
     "execution_count": 73,
     "metadata": {},
     "output_type": "execute_result"
    }
   ],
   "source": [
    "test_str"
   ]
  },
  {
   "cell_type": "code",
   "execution_count": 74,
   "metadata": {},
   "outputs": [
    {
     "name": "stdout",
     "output_type": "stream",
     "text": [
      "forwards, ‮backwards, ‬and forwards again\n"
     ]
    }
   ],
   "source": [
    "print(test_str)"
   ]
  },
  {
   "cell_type": "markdown",
   "metadata": {},
   "source": [
    "### Notes and cautions on text shaping\n",
    "\n",
    "If you're looking at Unicode in a web browser (e.g., in Jupyter Notebook), then the examples above for text shaping and text bidirectionality should \"just work.\" In other environments that don't have sophisticated text shaping or complete implementations of the appropriate algorithms, you may find yourself having to keep track of bidirectional rules on your own. (This might especially include, e.g., text editors, the terminal, old video game consoles, LCD screens you hook up to your Arduino, etc.)\n",
    "\n",
    "Also note that [improper text shaping and bidirectional text can be a security concern](https://www.unicode.org/reports/tr36/#Bidirectional_Text_Spoofing)!"
   ]
  },
  {
   "cell_type": "markdown",
   "metadata": {},
   "source": [
    "## Computers use bytes\n",
    "\n",
    "The byte is the basic unit of storage in most digital computers (and pretty much all contemporary digital computers). A byte is a collection of eight bits. You can ask Python to display the binary representation of a number with the `bin()` function:"
   ]
  },
  {
   "cell_type": "code",
   "execution_count": 75,
   "metadata": {},
   "outputs": [
    {
     "data": {
      "text/plain": [
       "'0b100110'"
      ]
     },
     "execution_count": 75,
     "metadata": {},
     "output_type": "execute_result"
    }
   ],
   "source": [
    "bin(38)"
   ]
  },
  {
   "cell_type": "markdown",
   "metadata": {},
   "source": [
    "You can also write binary numbers in your code using this same notation:"
   ]
  },
  {
   "cell_type": "code",
   "execution_count": 76,
   "metadata": {},
   "outputs": [
    {
     "data": {
      "text/plain": [
       "85"
      ]
     },
     "execution_count": 76,
     "metadata": {},
     "output_type": "execute_result"
    }
   ],
   "source": [
    "0b01010101"
   ]
  },
  {
   "cell_type": "markdown",
   "metadata": {},
   "source": [
    "A more compact way to represent sequences of bytes is in [hexadecimal notation](https://en.wikipedia.org/wiki/Hexadecimal), where each digit represents four bits. The `hex()` function shows this representation for a given integer:"
   ]
  },
  {
   "cell_type": "code",
   "execution_count": 77,
   "metadata": {},
   "outputs": [
    {
     "data": {
      "text/plain": [
       "'0x26'"
      ]
     },
     "execution_count": 77,
     "metadata": {},
     "output_type": "execute_result"
    }
   ],
   "source": [
    "hex(38)"
   ]
  },
  {
   "cell_type": "markdown",
   "metadata": {},
   "source": [
    "Or you can write them directly in your code by prefacing with `0x`:"
   ]
  },
  {
   "cell_type": "code",
   "execution_count": 78,
   "metadata": {},
   "outputs": [
    {
     "data": {
      "text/plain": [
       "38"
      ]
     },
     "execution_count": 78,
     "metadata": {},
     "output_type": "execute_result"
    }
   ],
   "source": [
    "0x26"
   ]
  },
  {
   "cell_type": "markdown",
   "metadata": {},
   "source": [
    "All three of these are equivalent ways to write the same number:"
   ]
  },
  {
   "cell_type": "code",
   "execution_count": 79,
   "metadata": {},
   "outputs": [
    {
     "data": {
      "text/plain": [
       "255"
      ]
     },
     "execution_count": 79,
     "metadata": {},
     "output_type": "execute_result"
    }
   ],
   "source": [
    "255"
   ]
  },
  {
   "cell_type": "code",
   "execution_count": 80,
   "metadata": {},
   "outputs": [
    {
     "data": {
      "text/plain": [
       "255"
      ]
     },
     "execution_count": 80,
     "metadata": {},
     "output_type": "execute_result"
    }
   ],
   "source": [
    "0b11111111"
   ]
  },
  {
   "cell_type": "code",
   "execution_count": 81,
   "metadata": {},
   "outputs": [
    {
     "data": {
      "text/plain": [
       "255"
      ]
     },
     "execution_count": 81,
     "metadata": {},
     "output_type": "execute_result"
    }
   ],
   "source": [
    "0xFF"
   ]
  },
  {
   "cell_type": "markdown",
   "metadata": {},
   "source": [
    "Computers store numbers larger than this by using more than one byte per number:"
   ]
  },
  {
   "cell_type": "code",
   "execution_count": 82,
   "metadata": {},
   "outputs": [
    {
     "data": {
      "text/plain": [
       "65535"
      ]
     },
     "execution_count": 82,
     "metadata": {},
     "output_type": "execute_result"
    }
   ],
   "source": [
    "0xFFFF"
   ]
  },
  {
   "cell_type": "code",
   "execution_count": 83,
   "metadata": {},
   "outputs": [
    {
     "data": {
      "text/plain": [
       "16777215"
      ]
     },
     "execution_count": 83,
     "metadata": {},
     "output_type": "execute_result"
    }
   ],
   "source": [
    "0xFFFFFF"
   ]
  },
  {
   "cell_type": "code",
   "execution_count": 84,
   "metadata": {},
   "outputs": [
    {
     "data": {
      "text/plain": [
       "4294967295"
      ]
     },
     "execution_count": 84,
     "metadata": {},
     "output_type": "execute_result"
    }
   ],
   "source": [
    "0xFFFFFFFF"
   ]
  },
  {
   "cell_type": "markdown",
   "metadata": {},
   "source": [
    "etc."
   ]
  },
  {
   "cell_type": "markdown",
   "metadata": {},
   "source": [
    "An efficient way to encode text is to store one byte per character. This is how ASCII works. For example, the character 'a':"
   ]
  },
  {
   "cell_type": "code",
   "execution_count": 85,
   "metadata": {},
   "outputs": [
    {
     "data": {
      "text/plain": [
       "97"
      ]
     },
     "execution_count": 85,
     "metadata": {},
     "output_type": "execute_result"
    }
   ],
   "source": [
    "ord('a')"
   ]
  },
  {
   "cell_type": "markdown",
   "metadata": {},
   "source": [
    "... would be stored as eight bits corresponding to the number 97."
   ]
  },
  {
   "cell_type": "code",
   "execution_count": 86,
   "metadata": {},
   "outputs": [
    {
     "data": {
      "text/plain": [
       "'0b1100001'"
      ]
     },
     "execution_count": 86,
     "metadata": {},
     "output_type": "execute_result"
    }
   ],
   "source": [
    "bin(ord('a'))"
   ]
  },
  {
   "cell_type": "markdown",
   "metadata": {},
   "source": [
    "To store a string, you would just store a sequence of bytes with the proper binary values."
   ]
  },
  {
   "cell_type": "markdown",
   "metadata": {},
   "source": [
    "This only works, however, in the following circumstances:\n",
    "\n",
    "* Your writing system has fewer than 255 distinct glyphs\n",
    "* You only want to represent one language in any given document\n",
    "* You consider text to even be a one-dimensional sequence of glyphs anyway (we'll get back to this point later in the class)\n",
    "\n",
    "Even in this case, you still need to have a convention that maps *numbers* to *characters*. Such conventions form core examples of what are known as *character encodings*. The most widely-used character encoding is [ASCII](https://en.wikipedia.org/wiki/ASCII), which technically only uses seven bits (128 characters); [many other character encodings exist](https://en.wikipedia.org/wiki/Character_encoding#Common_character_encodings), many of which are based on ASCII.\n",
    "\n",
    "Other encodings you're likely to run across:\n",
    "\n",
    "* [UTF-8](https://en.wikipedia.org/wiki/UTF-8): an encoding for Unicode that tries to be as compact as possible, representing most ASCII characters as single bytes, and characters with numbers above 255 as sequences of specially-formatted bytes\n",
    "* [UTF-16](https://en.wikipedia.org/wiki/UTF-16): another encoding for Unicode where most characters are represented as two bytes (covering a range from characters numbered 0–65536) and characters with higher codepoints as sequences of characters\n",
    "* [UTF-32](https://en.wikipedia.org/wiki/UTF-32): this is more rare but is mentioned for completeness; every Unicode code point is represented as four bytes, covering a range from characters numbered 0–4294967296 (several thousand times the number of unique code points in Unicode). Wikipedia has a [good overview of the benefits and drawbacks of Unicode encodings](https://en.wikipedia.org/wiki/Comparison_of_Unicode_encodings).\n",
    "* [Windows-1252](https://en.wikipedia.org/wiki/Windows-1252), also known as [ISO-8859-1](https://en.wikipedia.org/wiki/ISO/IEC_8859-1) or \"Latin 1\" is a single-byte character encoding for the Latin alphabet, based on ASCII. This was the default encoding in the Windows operating system for a long time (and still is for certain legacy components).\n",
    "* [Code Page 437](https://en.wikipedia.org/wiki/Code_page_437) was the character encoding of my youth.\n",
    "* [GB 18030](https://en.wikipedia.org/wiki/GB_18030) and [Big5](https://en.wikipedia.org/wiki/Big5), standards for representing written Chinese\n",
    "* [Shift JIS](https://en.wikipedia.org/wiki/Shift_JIS) for written Japanese\n",
    "\n",
    "This is all very confusing, but in practice you almost certainly want to just use UTF-8. ([UTF-8 is eating the web](https://w3techs.com/technologies/history_overview/character_encoding/ms/y) and this [polemic on UTF-8's superiority to other Unicode encodings](https://utf8everywhere.org/) makes a lot of good points in my opinion!\n",
    "\n",
    "### How Python handles encodings\n",
    "\n",
    "Python 3 always represents strings internally as sequences of Unicode code points. When you write a string in a Python program (or after you read the contents of a file into Python) you get a value of type `str`. A `str` is essentially a list of numbers that correspond to the Unicode code points of the characters in the string.\n",
    "\n",
    "The trouble arises when you want to interact with textual data outside of your program: things like files, network requests, etc. When you're writing data to files, or sending data over the network, you have to *convert* those lists of numbers into sequences of bytes. This is called *encoding*. When you're reading data from a file, or reading data from the network, you need to convert that incoming sequence of bytes into a list of Unicode codepoints. This is called *decoding*. When encoding and decoding, you have to select a text encoding. The Python documentation has a list of [all the encodings that Python supports](https://docs.python.org/3/library/codecs.html#standard-encodings)."
   ]
  },
  {
   "cell_type": "markdown",
   "metadata": {},
   "source": [
    "## Loading things with encodings\n",
    "\n",
    "The `encoding` argument of the `open` function tells Python which encoding to use when loading a file:"
   ]
  },
  {
   "cell_type": "code",
   "execution_count": 356,
   "metadata": {},
   "outputs": [
    {
     "name": "stdout",
     "output_type": "stream",
     "text": [
      "Two roads diverged in a yellow wood,\n",
      "And sorry I could not travel both\n",
      "And be one traveler, long I stood\n",
      "And looked down one as far as I could\n",
      "To where it bent in the undergrowth;\n",
      "\n",
      "Then took the other, as just as fair,\n",
      "And having perhaps the better claim,\n",
      "Because it was grassy and wanted wear;\n",
      "Though as for that the passing there\n",
      "Had worn them really about the same,\n",
      "\n",
      "And both that morning equally lay\n",
      "In leaves no step had trodden black.\n",
      "Oh, I kept the first for another day!\n",
      "Yet knowing how way leads on to way,\n",
      "I doubted if I should ever come back.\n",
      "\n",
      "I shall be telling this with a sigh\n",
      "Somewhere ages and ages hence:\n",
      "Two roads diverged in a wood, and I---\n",
      "I took the one less travelled by,\n",
      "And that has made all the difference.\n",
      "\n"
     ]
    }
   ],
   "source": [
    "ascii_text = open(\"frost.txt\", \"r\", encoding=\"ascii\").read()\n",
    "print(ascii_text)"
   ]
  },
  {
   "cell_type": "markdown",
   "metadata": {},
   "source": [
    "If the encoding doesn't work, you get an error:"
   ]
  },
  {
   "cell_type": "code",
   "execution_count": 88,
   "metadata": {},
   "outputs": [
    {
     "ename": "UnicodeDecodeError",
     "evalue": "'ascii' codec can't decode byte 0xe7 in position 17: ordinal not in range(128)",
     "output_type": "error",
     "traceback": [
      "\u001b[0;31m---------------------------------------------------------------------------\u001b[0m",
      "\u001b[0;31mUnicodeDecodeError\u001b[0m                        Traceback (most recent call last)",
      "Cell \u001b[0;32mIn[88], line 1\u001b[0m\n\u001b[0;32m----> 1\u001b[0m emoji_text \u001b[38;5;241m=\u001b[39m \u001b[38;5;28;43mopen\u001b[39;49m\u001b[43m(\u001b[49m\u001b[38;5;124;43m\"\u001b[39;49m\u001b[38;5;124;43mwikipedia-emoji.txt\u001b[39;49m\u001b[38;5;124;43m\"\u001b[39;49m\u001b[43m,\u001b[49m\u001b[43m \u001b[49m\u001b[38;5;124;43m\"\u001b[39;49m\u001b[38;5;124;43mr\u001b[39;49m\u001b[38;5;124;43m\"\u001b[39;49m\u001b[43m,\u001b[49m\u001b[43m \u001b[49m\u001b[43mencoding\u001b[49m\u001b[38;5;241;43m=\u001b[39;49m\u001b[38;5;124;43m\"\u001b[39;49m\u001b[38;5;124;43mascii\u001b[39;49m\u001b[38;5;124;43m\"\u001b[39;49m\u001b[43m)\u001b[49m\u001b[38;5;241;43m.\u001b[39;49m\u001b[43mread\u001b[49m\u001b[43m(\u001b[49m\u001b[43m)\u001b[49m\n",
      "File \u001b[0;32m~/opt/miniconda3/envs/cll-2023/lib/python3.9/encodings/ascii.py:26\u001b[0m, in \u001b[0;36mIncrementalDecoder.decode\u001b[0;34m(self, input, final)\u001b[0m\n\u001b[1;32m     25\u001b[0m \u001b[38;5;28;01mdef\u001b[39;00m \u001b[38;5;21mdecode\u001b[39m(\u001b[38;5;28mself\u001b[39m, \u001b[38;5;28minput\u001b[39m, final\u001b[38;5;241m=\u001b[39m\u001b[38;5;28;01mFalse\u001b[39;00m):\n\u001b[0;32m---> 26\u001b[0m     \u001b[38;5;28;01mreturn\u001b[39;00m \u001b[43mcodecs\u001b[49m\u001b[38;5;241;43m.\u001b[39;49m\u001b[43mascii_decode\u001b[49m\u001b[43m(\u001b[49m\u001b[38;5;28;43minput\u001b[39;49m\u001b[43m,\u001b[49m\u001b[43m \u001b[49m\u001b[38;5;28;43mself\u001b[39;49m\u001b[38;5;241;43m.\u001b[39;49m\u001b[43merrors\u001b[49m\u001b[43m)\u001b[49m[\u001b[38;5;241m0\u001b[39m]\n",
      "\u001b[0;31mUnicodeDecodeError\u001b[0m: 'ascii' codec can't decode byte 0xe7 in position 17: ordinal not in range(128)"
     ]
    }
   ],
   "source": [
    "emoji_text = open(\"wikipedia-emoji.txt\", \"r\", encoding=\"ascii\").read()"
   ]
  },
  {
   "cell_type": "markdown",
   "metadata": {},
   "source": [
    "If you open this text file in a text editor and count to the character in position 17 (zero indexed), you'll find that it's `絵`, which does NOT exist in ASCII."
   ]
  },
  {
   "cell_type": "markdown",
   "metadata": {},
   "source": [
    "Instead, use UTF8:"
   ]
  },
  {
   "cell_type": "code",
   "execution_count": 89,
   "metadata": {},
   "outputs": [
    {
     "name": "stdout",
     "output_type": "stream",
     "text": [
      "Emoji (Japanese: 絵文字, English: /ɪˈmoʊdʒiː/; Japanese: [emodʑi]; singular emoji, plural emoji or emojis) are ideograms and smileys used in electronic messages and web pages. Emoji exist in various genres, including facial expressions, common objects, places and types of weather, and animals. They are much like emoticons, but emoji are actual pictures instead of typographics. Originally meaning pictograph, the word emoji comes from Japanese e (絵, \"picture\") + moji (文字, \"character\"); the resemblance to the English words emotion and emoticon is purely coincidental. The ISO 15924 script code for emoji is Zsye.\n",
      "\n",
      "Originating on Japanese mobile phones in 1997, emoji became increasingly popular worldwide in the 2010s after being added to several mobile operating systems. They are now considered to be a large part of popular culture in the west. In 2015, Oxford Dictionaries named the Face with Tears of Joy emoji (😂) the Word of the Year.\n",
      "\n"
     ]
    }
   ],
   "source": [
    "emoji_text = open(\"wikipedia-emoji.txt\", \"r\", encoding=\"utf8\").read()\n",
    "print(emoji_text)"
   ]
  },
  {
   "cell_type": "markdown",
   "metadata": {},
   "source": [
    "You can also use the `errors='ignore'` parameter, which tells Python to skip characters that don't fit into the encoding:"
   ]
  },
  {
   "cell_type": "code",
   "execution_count": 90,
   "metadata": {},
   "outputs": [
    {
     "name": "stdout",
     "output_type": "stream",
     "text": [
      "Emoji (Japanese: , English: /modi/; Japanese: [emodi]; singular emoji, plural emoji or emojis) are ideograms and smileys used in electronic messages and web pages. Emoji exist in various genres, including facial expressions, common objects, places and types of weather, and animals. They are much like emoticons, but emoji are actual pictures instead of typographics. Originally meaning pictograph, the word emoji comes from Japanese e (, \"picture\") + moji (, \"character\"); the resemblance to the English words emotion and emoticon is purely coincidental. The ISO 15924 script code for emoji is Zsye.\n",
      "\n",
      "Originating on Japanese mobile phones in 1997, emoji became increasingly popular worldwide in the 2010s after being added to several mobile operating systems. They are now considered to be a large part of popular culture in the west. In 2015, Oxford Dictionaries named the Face with Tears of Joy emoji () the Word of the Year.\n",
      "\n"
     ]
    }
   ],
   "source": [
    "emoji_text_ignore = open(\"wikipedia-emoji.txt\", \"r\", encoding=\"ascii\", errors=\"ignore\").read()\n",
    "print(emoji_text_ignore)"
   ]
  },
  {
   "cell_type": "markdown",
   "metadata": {},
   "source": [
    "... but as you can see, it loses information (i.e., non-ASCII characters are thrown out).\n",
    "\n",
    "You can also open a file using the entirely wrong encoding; this expression opens `frost.txt` with an [EBCDIC](https://en.wikipedia.org/wiki/EBCDIC) encoding:"
   ]
  },
  {
   "cell_type": "code",
   "execution_count": 91,
   "metadata": {},
   "outputs": [
    {
     "name": "stdout",
     "output_type": "stream",
     "text": [
      "èÏ?Ê?/ÀËÀÑÎÁÊÅÁÀÑ>/`Á%%?ÏÏ??À >ÀË?ÊÊ`ñÄ?Í%À>?ÈÈÊ/ÎÁ%Â?ÈÇ >ÀÂÁ?>ÁÈÊ/ÎÁ%ÁÊ%?>ÅñËÈ??À >À%??,ÁÀÀ?Ï>?>Á/ËÃ/Ê/ËñÄ?Í%Àè?ÏÇÁÊÁÑÈÂÁ>ÈÑ>ÈÇÁÍ>ÀÁÊÅÊ?ÏÈÇèÇÁ>È??,ÈÇÁ?ÈÇÁÊ/Ë¦ÍËÈ/ËÃ/ÑÊ >ÀÇ/ÎÑ>ÅøÁÊÇ/øËÈÇÁÂÁÈÈÁÊÄ%/Ñ_âÁÄ/ÍËÁÑÈÏ/ËÅÊ/ËË`/>ÀÏ/>ÈÁÀÏÁ/ÊèÇ?ÍÅÇ/ËÃ?ÊÈÇ/ÈÈÇÁø/ËËÑ>ÅÈÇÁÊÁç/ÀÏ?Ê>ÈÇÁ_ÊÁ/%%`/Â?ÍÈÈÇÁË/_Á >ÀÂ?ÈÇÈÇ/È_?Ê>Ñ>ÅÁÉÍ/%%`%/`ñ>%Á/ÎÁË>?ËÈÁøÇ/ÀÈÊ?ÀÀÁ>Â%/Ä,\u0006|Çñ,ÁøÈÈÇÁÃÑÊËÈÃ?Ê/>?ÈÇÁÊÀ/`ßÁÈ,>?ÏÑ>ÅÇ?ÏÏ/`%Á/ÀË?>È?Ï/`ñÀ?ÍÂÈÁÀÑÃñËÇ?Í%ÀÁÎÁÊÄ?_ÁÂ/Ä,\u0006ñËÇ/%%ÂÁÈÁ%%Ñ>ÅÈÇÑËÏÑÈÇ/ËÑÅÇë?_ÁÏÇÁÊÁ/ÅÁË/>À/ÅÁËÇÁ>ÄÁèÏ?Ê?/ÀËÀÑÎÁÊÅÁÀÑ>/Ï??À/>Àñ\u0005\u0005\u0005ñÈ??,ÈÇÁ?>Á%ÁËËÈÊ/ÎÁ%%ÁÀÂ` >ÀÈÇ/ÈÇ/Ë_/ÀÁ/%%ÈÇÁÀÑÃÃÁÊÁ>ÄÁ\u0006\n"
     ]
    }
   ],
   "source": [
    "print(open(\"frost.txt\", \"r\", encoding=\"cp037\").read())"
   ]
  },
  {
   "cell_type": "markdown",
   "metadata": {},
   "source": [
    "You can also open non-text files *as though* they were text files. Consider this lovely kitty:"
   ]
  },
  {
   "cell_type": "code",
   "execution_count": 92,
   "metadata": {},
   "outputs": [],
   "source": [
    "from IPython.display import Image as showimg"
   ]
  },
  {
   "cell_type": "code",
   "execution_count": 357,
   "metadata": {},
   "outputs": [
    {
     "data": {
      "image/jpeg": "[encoded data removed]",
      "text/plain": [
       "<IPython.core.display.Image object>"
      ]
     },
     "execution_count": 357,
     "metadata": {},
     "output_type": "execute_result"
    }
   ],
   "source": [
    "showimg(filename=\"lky.jpg\", embed=True)"
   ]
  },
  {
   "cell_type": "markdown",
   "metadata": {},
   "source": [
    "We can open it with an encoding like `latin1` (which should be forgiving, because it is a one-byte-per-character encoding). This lets us look at the image as though it was text data:"
   ]
  },
  {
   "cell_type": "code",
   "execution_count": 56,
   "metadata": {},
   "outputs": [],
   "source": [
    "keyi_as_text = open(\"lky.jpg\", \"r\", encoding=\"latin1\").read()"
   ]
  },
  {
   "cell_type": "code",
   "execution_count": 54,
   "metadata": {},
   "outputs": [
    {
     "name": "stdout",
     "output_type": "stream",
     "text": [
      "ÿØÿà\u0000\u0010JFIF\u0000\u0001\u0001\u0000\u0000H\u0000H\u0000\u0000ÿá\u0000¼Exif\u0000\u0000MM\u0000*\u0000\u0000\u0000\b\u0000\u0005\u0001\u0012\u0000\u0003\u0000\u0000\u0000\u0001\u0000\u0001\u0000\u0000\u0001\u001a\u0000\u0005\u0000\u0000\u0000\u0001\u0000\u0000\u0000J\u0001\u001b\u0000\u0005\u0000\u0000\u0000\u0001\u0000\u0000\u0000R\u0001(\u0000\u0003\u0000\u0000\u0000\u0001\u0000\u0002\u0000\u0000i\u0000\u0004\u0000\u0000\u0000\u0001\u0000\u0000\u0000Z\u0000\u0000\u0000\u0000\u0000\u0000\u0000H\u0000\u0000\u0000\u0001\u0000\u0000\u0000H\u0000\u0000\u0000\u0001\u0000\u0007\u0000\u0000\u0007\u0000\u0000\u0000\u00040221\u0001\u0000\u0007\u0000\u0000\u0000\u0004\u0001\u0002\u0003\u0000 \u0000\u0000\u0007\u0000\u0000\u0000\u00040100 \u0001\u0000\u0003\u0000\u0000\u0000\u0001\u0000\u0001\u0000\u0000 \u0002\u0000\u0004\u0000\u0000\u0000\u0001\u0000\u0000\u0001@ \u0003\u0000\u0004\u0000\u0000\u0000\u0001\u0000\u0000\u0000ð¤\u0006\u0000\u0003\u0000\u0000\u0000\u0001\u0000\u0000\u0000\u0000\u0000\u0000\u0000\u0000ÿÀ\u0000\u0011\b\u0000ð\u0001@\u0003\u0001\"\u0000\u0002\u0011\u0001\u0003\u0011\u0001ÿÄ\u0000\u001f\u0000\u0000\u0001\u0005\u0001\u0001\u0001\u0001\u0001\u0001\u0000\u0000\u0000\u0000\u0000\u0000\u0000\u0000\u0001\u0002\u0003\u0004\u0005\u0006\u0007\b\t\n",
      "\u000b",
      "ÿÄ\u0000µ\u0010\u0000\u0002\u0001\u0003\u0003\u0002\u0004\u0003\u0005\u0005\u0004\u0004\u0000\u0000\u0001}\u0001\u0002\u0003\u0000\u0004\u0011\u0005\u0012!1A\u0006\u0013Qa\u0007\"q\u00142¡\b#B±Á\u0015RÑð$3br\t\n",
      "\u0016\u0017\u0018\u0019\u001a%&'()*456789:CDEFGHIJSTUVWXYZcdefghijstuvwxyz",
      "¢£¤¥¦§¨©ª²³´µ¶·¸¹ºÂÃÄÅÆÇÈÉÊÒÓÔÕÖ×ØÙÚáâãäåæçèéêñòóôõö÷øùúÿÄ\u0000\u001f\u0001\u0000\u0003\u0001\u0001\u0001\u0001\u0001\u0001\u0001\u0001\u0001\u0000\u0000\u0000\u0000\u0000\u0000\u0001\u0002\u0003\u0004\u0005\u0006\u0007\b\t\n",
      "\u000b",
      "ÿÄ\u0000µ\u0011\u0000\u0002\u0001\u0002\u0004\u0004\u0003\u0004\u0007\u0005\u0004\u0004\u0000\u0001\u0002w\u0000\u0001\u0002\u0003\u0011\u0004\u0005!1\u0006\u0012AQ\u0007aq\u0013\"2\b\u0014B¡±Á\t#3Rð\u0015brÑ\n",
      "\u0016$4á%ñ\u0017\u0018\u0019\u001a&'()*56789:CDEFGHIJSTUVWXYZcdefghijstuvwxyz",
      "¢£¤¥¦§¨©ª²³´µ¶·¸¹ºÂÃÄÅÆÇÈÉÊÒÓÔÕÖ×ØÙÚâãäåæçèéêòóôõö÷øùúÿÛ\u0000C\u0000\u0005\u0003\u0004\u0004\u0004\u0003\u0005\u0004\u0004\u0004\u0005\u0005\u0005\u0006\u0007\f",
      "\b\u0007\u0007\u0007\u0007\u000f\u000b",
      "\u000b",
      "\t\f",
      "\u0011\u000f\u0012\u0012\u0011\u000f\u0011\u0011\u0013\u0016\u001c",
      "\u0017\u0013\u0014\u001a\u0015\u0011\u0011\u0018!\u0018\u001a\u001d",
      "\u001d",
      "\u001f\u001f\u001f\u0013\u0017\"$\"\u001e",
      "$\u001c",
      "\u001e",
      "\u001f\u001e",
      "ÿÛ\u0000C\u0001\u0005\u0005\u0005\u0007\u0006\u0007\u000e\b\b\u000e\u001e",
      "\u0014\u0011\u0014\u001e",
      "\u001e",
      "\u001e",
      "\u001e",
      "\u001e",
      "\u001e",
      "\u001e",
      "\u001e",
      "\u001e",
      "\u001e",
      "\u001e",
      "\u001e",
      "\u001e",
      "\u001e",
      "\u001e",
      "\u001e",
      "\u001e",
      "\u001e",
      "\u001e",
      "\u001e",
      "\u001e",
      "\u001e",
      "\u001e",
      "\u001e",
      "\u001e",
      "\u001e",
      "\u001e",
      "\u001e",
      "\u001e",
      "\u001e",
      "\u001e",
      "\u001e",
      "\u001e",
      "\u001e",
      "\u001e",
      "\u001e",
      "\u001e",
      "\u001e",
      "\u001e",
      "\u001e",
      "\u001e",
      "\u001e",
      "\u001e",
      "\u001e",
      "\u001e",
      "\u001e",
      "\u001e",
      "\u001e",
      "\u001e",
      "\u001e",
      "ÿÝ\u0000\u0004\u0000\u0014ÿÚ\u0000\f",
      "\u0003\u0001\u0000\u0002\u0011\u0003\u0011\u0000?\u0000à¬ô(g´oµh6wÎÌÑHÛ¶ý\u0004þÑxcÄ6ºkK\u0000´_-¢\u0011l^S\u001d",
      "\u000e×ç#ë^uáÛûË¸å7R4î+ ôìÜs]§­ìïÚæ³\u000eÒ|\\:¹n\bëÎ?úÕoDº\u001bU¥\u001aòW:èõM&æ\u0011\u001c",
      "·Ð£ÓÐ0\u0012~§Ö ÖÒâÃO¸\u0006hÁ°\u0004GÇ|+ðô­6ª4èµ\u000b",
      "dI\u00167tó\u0010î$\f",
      "\u0013×¡­9¯\n",
      "ÃC-¬Jw\u0015-o!~\u000e\u000fËÐÖ¿X|¶¿ç÷cÊà§ÏJM\u001d",
      "1kHÛ\u0004\u0016\u0019ÈÉ\u001d",
      "\u0001#Ûµ\\»&¶`ä2°\u0018PØ'q\\ÕV+`Ë\u001bFs\u0006\u0019G¦ôíøT³x¯Ã\u0017VN~ß5¥?tÐÊ²ÆHè2Fà3Þ¹bV>¦x2WÙ>4\u0016³¬±Üò¶ÔmÉ#iâxf&ÏQ´Âè©\u0000H¹BqÙ«Ò<W§êX\u0006hÚ@A!G\u0018ç\u001e",
      "ºÔ-n,öG*M\u0013ä4\u0012ªaéÏËú®f·<g\u0017³\u001a±:ÅÉÑC\f",
      "~DW#ðòööæîÙn-mâ\u0012iBf1Ø¬$I¿\u0004d\u0000G\u001fÃ]ÒÜÁm\u001aÙþõ\b\u000b",
      "òµ³yCá_G¸¬ízîÚÎ3p<Ô¨;ÖBñAÇJ®~âtû\u001aªN\u0006kñ=Î«opÚ+Ïö¯·Z,\u0018Ã·ÌøÁã\u0004äö®ÇK¸´½Ðá¼·NX«Ü=½+É~ ë^#Ò5}JâÚáí­DÈ°\u0014$6H\u001c",
      "\u001c",
      "c#®{t§'k1Ñ¢ê_¥ê\u001e",
      "\u0000¿Ôo4",
      "Õ'yníõ\u001b¨ÌÀeH|°qþÆÜV¶\u000fìCa@Ù\u0007¿Zò¿7kI.Hó>Fß$¤É#\u001c",
      "ö=@\u0018çÎ;W¥?ðX\u0004ÈÌ.7\u0003÷N\u000f4=®d·\u000f\u0013Éu¤ÀÚ¾X^B¾l@¶\u0003\u001c",
      "d}8®KñDz\u0011ºñ3Ù",
      "©º4\u0001Z@cùgêq3í\\?Ä?\u0013C¦Åc£Lc{²á°Ü¢\bÇ¹Àúé5\u0018®¼\u0016±0Ý\u001c",
      "ö\u0019?}p2++YÝ\u001aE«ûÇ»øOTµÔ´hu\u000b",
      "7i-®íÌ±9\u0004o\u0000uÁèH Æ´4RÍ¢X\u0018Ø 6éÀ=8¯0ø1â\u001d",
      "6ëÀú~ff\u000f¦iªÃÏ\u0018y\u0001]ëìTýx÷¯Iðô¸Ð´´S¹Ò21ÔµÓ\u0007tcU%'m=Óc\u0019\u001e",
      "ÝhóeÎHù~¼Ô&]Ïü;¹üêlÕ\u001e",
      "t¬gðjS>0@b;Ú\"Ç?{þ´qüÿ\u0000Ls@\u0003\u0007\u0014ÿ\u00009\u0000fÈ/\u0019\u001e",
      "0#oXysÛßÒ£¿Ô¢³®¥Iä=ÅÖ$.ø^¤(äþ\u0014­\u0005¹òíMÉn\u0002\u0002\u0001'êzUYme\u000föÖ./¼qÉ\u0014àÆF\u00075\u0013*\u0010ÖìOØ¨½²Ó¤n&å\u000b",
      "#\f",
      "\u0016ç>ãÐ\u001aI\u001aLÒ~ð*\u000f!|\u000fºpOaÅLÞax¹\u0001ð\u000b",
      "\u00002\u000b",
      "`ä*ÍÖá·¸GröTe3®â\u0014¦27zÎ±»fÐU{4NH\f",
      "}Ñõ=èð\u0017¶|\u0019dáÁÈ!¯oë§e5ÅÉ\u0003\"q)\u001f\u0010\f",
      "p8\u0003·zÐðíÜK<,\u0017jläÇ<Òê\u0006Ùe¶¦7\u00048ÏJó",
      "ÿ\u0000U×nmdG±X\u0015ã.ª\"\u000eI\u0007\u0004\u000fOC^©:Ec<¢¡,=«Ï­¼TÓjO¡éÖëj!zJ\u001fpÛà)\u001c",
      "\u001e",
      "{UI÷\u0015¼-á8ô;\t¥½ÔKÝI<Ò¬¾Õ]ÌÇåÏ$àã¥kÝk\u0010XÄ-âid\\\u0015\u0012!\n",
      "AïZ¹ÿ\u0000\f",
      "Á©Éy\u001d",
      "þ­q-Ò'Ló\u0000nÓÀ\u001d",
      ":p;VcJÔu#HðÀ! ¾Á\u0018çÜóYF\u0012vé¹'<O}­\n",
      ":6ÓWOxKÜ/ÙÛz§#åmÀ\u000eÜÃº=ä¹m>q\b\u0014nzí\u0000\u000e9õ­Mb?\u0000é#\\$\u0002ãjì1³Hì\u0014åI\u001d",
      "\u000f>µ©¢ø£OÕ\u0016âá`¾8\u0019S|ß)}Ý\b\u0003µmìªF.mhb«ÓæäOReµ¹6Ù\u0013<;NV0»`ð\t5§hðé×ë{q9mÌ«\\K",
      "MÄ\u0000þµ\u000fÄ\u000b",
      "ë¨´kY,î.`2^$OØ²äü@WÚ ì\u0017íOæ´Òp½òN\u0006êÒ\u001e",
      "5£\u00197£¾Êû\u0018b1NRWZë¦ÿ\u0000yÛk\u001e",
      ":ðõ£\u0005þÑ[çV\u0019[XÙÏ\u001d",
      "³Óõ¬\n",
      "CÇº¾ bM\u001f@h9hå¹|à3ë\\å¾¡§Ù¬+\n",
      "­+íØV-»$\u0016ü)Xº¸\u0016Ý,#1#*Mv\u0003d{\n",
      "ô\u0016\u001e",
      "\u0014õTþrv_r<¹bªMÙÕ·Uÿ\u0000\u0017sÿÐñ\u0005\u0018dín#O'b\u000f¸Ïqé^á8¬\"",
      "bµ6Ò*Ê7\u0000\u0002yëóÏ\n",
      "À«,ÑÅ\u0019;­\u000b",
      "¸Nï^ÕØxB9´ÛÉÄ«\"¬¯\u001b£0B£\u0011ò;ç×õÍ\u0017©Ý8ÅÂVvò+iï\u000b",
      "øâòêÞ\u0011o\u001bK\b\u0011Þ2¯ -Øúv«Þ(¶·òav\u000b",
      "ÕòZ²4Ù®\\nÎRaÇÒi+ ñ#ÓãØ¤¹fSß±¢_\u00121§\u001bÁ³Ôá\u0004bÖWJ;\u001b?¥P½4ò\u0002®\u0000zõ\u0007s\n",
      "×¾\u000b",
      "$\bH\u001fêþSÓ+.ðäÆH\u001c",
      "DWgj¸­L*»AL\u0001¼Ir `#ÅwÚ0XÙ5ÍÒ>Q¶'õ'<{W\n",
      "¤+\u001f\u0013ÎG\u0018òØÛ\u0015ÒH\u0015Õ·]D\trÀÎ\u00014M6ô4ÃÒ©8Ý#f×QÕ£ÑãfÔ^e\u0013#$¸\\üÇ\u001fwQS\u001d",
      "GZÓc{©®CÅ,¾P",
      "Æí¸Pv?­7A³:¼_Ù¶¶Ë2[1\n",
      "+íSÎ\u0003v<Öô»ëa%ÕÆí)\n",
      "RuX\u0011ß\u001d",
      "øü*9YÖèòSnZ1Þ+ÖÊ\u001bDµÒ8òê°\u0000\u0017æ9<\u000fSÏA\\7&]GÃw:\u0005Ý$¿Æ_ (,7\u0001Ù«¾ ÓdïO9LnÄmu=2¤ôü*;«ÉáXH^ÎìÈ­]É'\u001d",
      "º­JØ` ¦¯t\\ø\u000fg\u001bê·÷óò@ª\u0007ÊOR\u000flä~Uê\u0013;Åâki¢,Ò-´\u0017<6\u0001â¼«à¤ñAªêrO7\u0019\u0014\u0000HØNI'ëÓð®ëÄÚ­µ¨µì\t\u0014V2©¸!Y\u000b",
      "×©\u0015§Ù8å¹åÿ\u0000\u0010õØu¿\u001f]_ÛH¿gH¡6<*\u0012H>l~\u0015ô6»«Ùé¾\tûmÑ_³Ã\u001anÁç,\u0015BzuÈ¯íâ;EF@$\u0010 SÜqxýk¿ø£=ÀËyÇ*A\u001c",
      "3\u0010NÕÈ8íô\u0007ÃO\u001bh~\u001aøxÚÌ\u001a\u0014NþK.åd\u0018ÿ\u0000x\u0002+°Ñ>+YÚZÚiÒZ[7\n",
      "FH¸*Ç\u0003\u001d",
      "6øõWÃ0è\u0012I¶\u0005½ä»8Rêc+å",
      "îyÏ=ñøv¾\u0018ñD©ªAý¼×WvÌ¤Rñf1åº³v\u0005pW¾s1[GÝ3¹öÅ§,\u000b",
      "°OjÁ¾pë¹Anq¸fµmµí2i|¼dÎ6·\u001c",
      "úg¡ü+À¼=zóxy¯£Õ`\u0018a.AF\u001b>j1û£õé^\u001c",
      "±¶EïQK¹¥%\"\n",
      "`\u0000ò\bÏ'çMÉGpJç£\tF:¯çvõöÿ\u0000¾",
      "qz",
      "Äú:&¡¤ÎþHU\u0013Z\\b#¶À3°ý:úU\u0013ÆZ¦údöOkp\u0017rïG_PG×½54ÕÉq±Ö\tSÖ×\u0011®99>5y­[¬Í\u0014\u0012Áò®âÅ\u0018\u001fÃk>\n",
      "näÊïó`å\u0013bçÐÿ\u0000Z^Ö7±^Í4× ÄÃ\f",
      "3ÆýqN\u0016I¥PùWLH1GÞ\u0007±¨,Y¯ pI\u001c",
      "z\u001f¥Guie\u0006ûíea\f",
      "\u0006Cÿ\u0000-Xp?\u0013Ò³å\"Ë\u001fÞ\u0003FU¶\u0002ÜnÀàÕy.ÞÑ§ºs\"ÄÀ9+À¯$bz{V}÷48uÙô½bÚ\u001bËx<ùRI\u0007È¹\u0003L\u0012?ï¡\\ß¼{¥ÛM\u000e§F/$ÊF÷\u0002`V3Æ3ß%\u0018êsÅCPVìê// ú\"P;«\u0005\f",
      "À\u0000y\u0019\u0004\u0003CÕí£3KtÞ^Óå \u001b·ÌÄàW|Cñ.©¦èÞtY]Aî\u0004 û8qæ>\tÉùr£\u001c",
      "ä+~m_N\u001e",
      "\u001bêËÄ¶\"çÊóþÎ¹ó\u0012=Ù%Àù\u0001ÁÈàÒçi'«ü\n",
      "jRö3jtì÷;«íl\\Ü};u1³\u0010ÆG\u001f0\u001e",
      "ÝÖ³ô½;OÌ·Þ\\V¹c\u001bJ¡c2\u00058Æüçn}1^'ðOÅW÷ïá»¾[¢ÐÉt ÆÀ[\u001b2=±ú\u001e",
      "ôïZÞ£m|÷\u0010ÂßgòKP¾y#rýæè=A\u0003?g^¬bï\u001d",
      "Q¾\u0013\f",
      "ë&KÔõ\u0010kzeµ´ÐGf²´,b\u0002AÈ\u001d",
      "1íÒ¸k\n",
      "q\u001aý\u0012âôÝ#ºù\u0001·<óÐzuï\\f¥â¯\n",
      "êòÛÚé¨ÆôÇº\u0016¸¶\n",
      "Ñ)R\f",
      "aºÊ\u000b",
      ")mÙ `sÈ®§Ã~\u0003ñN­\u000fªÿ\u0000c\u001531ò\u0015×=T\u0001»ñïZ*ÎN2Kc\u0018PTáÏñ\u001bk\u0016\u0001Ço\u0011ctXco\u001c",
      "\u000fbqõZ\u000f\u0012ÙZµÃÜ^Çm¿ÊÛ¹yù\u0007\u0004\u000eúÕN_Þ3bb7ÖSí'\u0006[§ÞW±#\u0018éT øUâ;õSÓâÍ\u0003;yÁè8ã­mZ¥Z°³Ñ\u001c",
      "Ô©R§=.Ù\u001f<m¦ßØÅig5ÔÄL$y\f",
      "dd",
      "Ç\u001fOjó»\u001e",
      "AâTÒâ\u001e",
      "D2È#\u0013F\u0015pHÁÎsÇJ«­\\%µÃÍ5ãþí\u0017\u000203:\u000eFqÍpú\u001e",
      "©,°êú{Kik:¥ÅÒÜ",
      "pùQ\u000b",
      "?<*õèHÍa\f",
      "MZtÕ(;$k[\u0005BU=¤£vÿ\u0000CÛõ9´\u001bhCÞjíw*2Ýp«z\u001aB»ðÆ±u=®°ÎÉ\u0011i\b\u0013\u0013:ó\u001f\u0012x&\u001b]Y¤Ífug\u001f \u0005NæÈ8ï^û;è°-Îª\u0014«´n°ä1'\u001f{\n",
      "Øc=½«U'%Í)¶ubhÓ9S\u0012}úÿÑò\u001d",
      "\u0012&]+\u0015*\u0019xn£?ã]\u001fôÝ[Qo\u001e",
      "[g¡\u00110\u0007Þ3É\u0018àd\n",
      "Éº¼[(Ú1þ¨\u0002B \u0000\\cùVÇõí:\u001d",
      "+È¸EhÜÈ\u001d",
      "¶¢°c\u0000Nk1RÑU]¶*\u000b",
      "KË=d­ôj2yDóûÐsëØñ\u0011oìÔÄAÉÎ\u000fCV¦Òo5ÍQn,!Æ#òy\u0005úÛ²8\u0018Úx®Oøoq|Â\t5ÐHù\n",
      "¤\u000fÄñZ:Mµb!VÑwêyuÂ·r\u0010â6ã®+2ì\u0012\b%\\\u0011ÿ\u0000\u00035î|\u0017»\f",
      "M¯Zï\u0000ãý\u0014¾Û¿ZÍàN£ó5»iUp7-¹_â%ÒØôÁÍh©´îa&¥\u001b\\ùÛS\u0017+uq%º\u0007w\u0011g\u001c",
      "s\n",
      "G^]ÿ\u0000»G\u000e\u0002¶Í£\u0018ç×<b»/^\u000eÂ¾*·³X¯Úm\f",
      "Ê-Tª",
      "WÛ\u000fV\u0015ö2Û[¨npÍòÈ\t»¾2y\u0014&îÑß\n",
      "\u0010t£-_¡Òx\u000b",
      "P{mG»¸",
      "#mæ+ÀÁ\u000e1ø×iã\u000b",
      "élôYâXlÌ2FÑ»³\u0002ÈU²¸ôä\u001f­xý©0<7\u000f÷f\\&\u0018¼{zWpÒ\\Þ@Èî\u001e",
      "Ø\u0006F\u00026\f",
      "\u0007F\u00198Çù5-¶iZ",
      "8Y&Oy¥jÇN³Ô¥Óu\b<¹R\u0017í_?0;YH\u0004\u0011Î8®w[àx/S[y¡.bQ\u001c",
      "Ñ²0\u0001Æ8 \u0011Üö½kÇ÷|;csã}vïÂÖ iÍ¦Ù\tÚí\u0015F7³£*>\b;z\u0016è\b\u001e",
      "9©k+«ø\u0007_Õä¼¹Igó\u001e",
      "KÇ\u0006RÛÆw\u0015ã=¸ã¦*e\u0004µG\u0017´oÝfOìî.þÛ\n",
      "-Ä*§\bâàÆ\f",
      "¸È\u0007\u0007'·Q·Ââ)>Íe=¾§§yòÄ\u0007%ÕîÇU<\u0000\n",
      "\u0012 ©ç óÎx©¾\u001aê\u0016:Oá½Õ´GQÓ\\<rG\n",
      "c e`¿)VÎpFAç8\u0015íú_>\tB¿ÚÂ9shÑéæqæ$%Á/µK§\u0001Ïm ö\u0014;»\n",
      "ÑjJçÌZ=îo|³jö:,­\u001bÁ5ÀP¡ýâ9\u000e½G×¯5×ê\u001e",
      "\u0019×õÛ«{í\u000fIÖuí?ìÈ-¯c³d\u0018Ã¾\u0006\u0015ÈÆIâ¾Ö>*ü+´½²\u0016\u001c",
      "¶Õ§¹´\u0017v²-gÍwpÄ\u0018$cÓ8\u0003\u001c",
      "MÔï|â\bÒ}.\u001b¿¶vÓÉ+,ÐÄ¬¤\u0002±»dº\u000f0\u0018<ñ­ÏÍ~Ï\u0002ð­®ø®_\bÞBúmåÜ\"f]E\n",
      "åÕ¾c\"n\u0007\u001fwhç\u0007ïcøUia}q§ê¾.ðÈ&Son×mpæ\u0010¹eeÚ\u000b",
      "ò\u001b§^¯bÑþ\u0018h¾#Ñ´Ø|P#ñ\u001d",
      "Å)\u001a£jí%Ë?.ÈK\u0013Ñz/\u0018â½\u001fÃ>\u0012ð÷`DÒ´«[@íòaXÁ\u001fE\u0003?Tcr[>\\ñ<÷z\u0006¨iSÝèºk,mga`¶®ÿ\u00004e\u001d",
      "ìÇ\u0000ó\u0003ôÏ¾)Qð%¡w\u0014³[À± ÄT\u0017`©Ü3mÀ'k¼øë¢ÿ\u0000ÂCð³YÒí<n^8Ý]×Eb8ç+\u0003áGÂï\n",
      "éþ\u0001Ó­µ¿\u000fèú¥,$Þ]\u001brXãvyéÏAJP¹JkÛÖ.áÔ,þÇ#Ìa1Gdd*r0V\n",
      "éÊ5=½íÓE\u001a\u0012é<e02wÿ\u0000ZéOô?&(ÓLµ\t\u0006LCfB\u00126ñéÇ\u0014ëkK[te·D\u001e",
      "\u0019P`\u0011éY{\u0019%¸ùâ3û.Òâø<m$\u0014ÀÉÛÅWtÛ\n",
      "cì(²}²@Í\n",
      "°,FB \u0012üàsW¤\u001e",
      "TÂ¤tÊ\u0012\u000e> Ôriú=åÜ7·:u¼·P#Ç\u0014í»ÌEln\u0001ÈÎÕü",
      "G±iè\\jGils¾\u0016Yoz¢ÜÂñÆ°\"¼q\u0017'\n",
      " ã|Ù'Ö¹/ÚRãÄ\n",
      "¥ÚßÙé·-§éå/å·\"+gj¸ÝÁ\u0000çwà×­èúf¨ÜßÛA*Íq\u0012Ç&n\u001d",
      "×\n",
      "I\u0018\f",
      "N\u000f<üU}sÃþ\u0011×t¹ôýFÎgp\u0004",
      "äwln\u0004¯ÌO\u0007\u0018#¡\u001c",
      "U¸¢Tµ»>Iñæ¥â}Y\u0005Ý²Koy5ÐPÖ`Z\u0003!Ú¨È@p\u000b",
      "àd¼í®âïF¸\u001e",
      ";iüS­+ê+=¹3)ò¤¹HùÅbÁcòp§îõ<×»xÇÃ>\u001d",
      "ñ\u0005¥´6öVV£mup~Íþº8&2@î8çZãüUð²\u001d",
      "cVûm¼{}¶YãkDXd¶å\u0011V\u001b·u'\u001e",
      "\u0005\n",
      "\u000b",
      "Ì¥%{³ñd>\u0013×ì,uýWÄ\u001awkt½n4a(Î7 î\u001by\u001c",
      "*æ«á;´ðV±¦èº¨G;Ç,v½{£#\u0002\u0010n`Û½\tÇQZ÷¿\u000b",
      "~ ¬7gIø{3¥¶ë?·\\BÞeÇ?,»cÀ§ \u0016Îx®ÞËá.-¬fë[ñ,W¢8÷Ío¯O³x\u001c",
      "vÄç=\u0007\u0019âÖ",
      "{KÝÏSÃ¾\u0016hç",
      "¼pÝÜ¶ÆÑ¢\u0014±6`Äl\n",
      "­\u001e",
      "\u000e\n",
      "Ü\u0001\u0007½jüL»0øvIâµ67w2É\u001c",
      "²íó6áKcã>µí×ÿ\u0000\u000fõ©§ó,¾%ø¶Ív§îÃÀêÅF2KG{Fk\u001fZøuã­^Àé:§Äg¾ÒeR6òiñ¤¯]­\"\u0006@è\u0001ë\\ó öF«r\\ùÃ\u001e",
      "©ê0ùzµõ³·ço/ÌîU(\u0014á0[.\b9\u0000\u0001^ù jzf¡(Iõe(¥HãIo=É´ää\u001fP?:ÂøðÓHð\u000e\"·ækÞ}\u001f&\u0014#\u0003\u0001º\f",
      "É9í\\eÔÖvB\u0013+\u0019\n",
      "Üþ\\LAeÜG\u001c",
      "\u000fæx®ü-\u0018ò{ÎÌóqU'\u0019Z*èôï6Úãê6ö\u0014ê±Cnc¢ñ\u0007f';\u0018äqÎxéY>\u0013Ó¾#i\u0017×·ºÙ½áÄñGª¬û\u001f\u0003¬\u0007¦?¥Aá[ÝFÿ\u0000ÃÐÉ%öéÚW\bï\u0018\u001f»\u000eF\u0002£\u0003\u0015®j3Ø/$µcÆÖ[%I[",
      "ÕqÏnk¡Ñ­©ÍõE´ÖÇü\\\u0017íguxE#\u0002XÛ4\u0017æ \u0014R\u0019$p\bíé^hcV!\u00005ÉòÇ&@¿uO\u001d",
      "@ÝÇZ÷o\u0013i~\u0002ñ/ÙçÔ¼ka¡K¥9]K}·\u001c",
      "\f",
      "ãÊ\u0019\u0004¶ÅÃ¨9!0yª\u001e",
      "!ð·ÃKø#Uø¯ Â³;E\u001c",
      "ZN\u00164R\u0000Û F%U@P\u000b",
      "\u0011´wäòªÁs»3Ö¯\u0015}ìtñx\u001bÄzÖ¢êWVIgu\u0012\u001b§¸'Ì=H÷8ã®\u000e}« øK A¢[Ïö;Ô¹ñw1/ÊX)\\g©è\u000e}Ånü=ø,þ\u001aGãèõý\u0012þÝRÖK{uØ°ùap¬\u0018îé\\WC¨x#Q¶Óe:>»v·Q@±YàE\u001e",
      "Â8\u001b©\u0004{b±ú´Ü9Nâ9ÝßSÿÒçµ­\u000fáÍî­\u0005º<?<²b\u0013Z*wÝªò&\u000b",
      "7e\u0007<W¡é\bøO¡]Úi7\u0011Å{©;\u0011ÜNeF=Ù\u0001éÁíôi<²_*UëµoË5\u0016áï\u000fÛ^µô\u001a\u0016\n",
      "ÓIæ5À¶\u0002Bä`¶ìg8\u0000VÂu\u001bÜã|[ã]\u0007Ã\u000b",
      "&§Ï\u0005â:[Û\u0000)\u001d",
      "¶\n",
      "È\u000eJA8ÁÇ=+Ç^=¹²Ô´½\u000fS¼ºI'\u000b",
      "\u001d",
      "Ç\u000fÈr\"9\u001b7p3È9à{<>\u0019ðôZÄú¼zN×\u0005L·^Pó$*02zv­b±\u0015\u001bðø\u001c",
      "\u0016\u0003\u0014ù\u001bz²9óÏÃ=OÃÿ\u0000ü$:þ¯\"jéöFºyáÎ\u001bc $IsÔ×»Á¨Úxä2\u0007i\u0019ÈÍ\\$6c\u000b",
      "{(\u0015\u0011ÈNU\u0000÷æEEX%+5ûPiz&»á\u0016Ö­bµ5BÂêÍþ¥L´}âvñèkÂõ\u0001\u001b\u001f\f",
      "Zê\u0010x",
      "u=Ja\u0003>og!xÃs\f",
      "ýÒ}\u0006@9æ¾Ø]2ÞFù¢¦w\u0015\u0018©aÓàR\n",
      "G\u0018ç®À2;ÓpLq¨â¬`ð6Þ{}Ä÷³Æ¥Þ\u0014ð¤è ÁP\u0018¦Bç ÏC^§ü »×ü-k}eu¨éëLþj_]¢ìbAc\u0006s»aàqÏZú\\Z¦Ò\u0002lôÛXÚü+¨]Kwu¥)¸üÉeI\u0019\u0019Û\u0000rAç\\¶Ø~Ñ½Ùâ+}CQ·Óâm\u0012ñ¤°|2ùV÷ >ÂYÆ\u000e\u000b",
      "\f",
      "õù¬¨¬5¨ýºM?RYÉ\u0000Ê4%|\u000fRÒ\u001få]óxSÃrG\u001a>dê\u0005Ì}1ïU.ü\u0001á\u001b«¯´¾¨ýü©\u001d",
      "\u0014ý@84¥\u0016õBRHË\u0010¬æ'º¾¾Ó¥AÒjpC¬qW]ü\u0013øq\u001d",
      "Íæµ}âkûÃwpÓIå\"¶X±$\n",
      "£\u001d",
      "IëIõ¯`¶ðG-Ë4>\u001e",
      "ÓÛ©0îü9­ûAginÐ[Ã\u0014\b0¨á@ö\u001d",
      "*9\u001fQó¤y¯Ã\u0005i¶ZZXé:\u0004\u0016ÚiVxï®íî\u001c",
      "éúäö®¾ÃÁÐÅrn5{ÉuWR<!P\u000eÛO\u0006º\u0014º\b\u000e\u0003míòÓ\u001e",
      "áe\u001e",
      "Z\u0014\u0011.£{\u0013Æ-áDTHÓhà*Ó¤¸CÞ³Ë(ç9\u001e",
      "¿?wÒìÏRù\u0007~i\u0016xóÀgÐÕ\u0002à·^}iêég\f",
      "fe\n",
      "µH&¢iR9\të¸dàw¨ÝTb3\\UgkÄçÐLeæ\u0019w\u0002?*",
      "Ü\u0002NT\u001aª&ldpzÕ¥$L1ù±Ö¦Å \u0013\u0000FN=éÂLÕi<ÁÔ\n",
      "¿Ê\u0018¯¸íJÅ\\¹æ\f",
      "àHÍÖ«\t\u0006ì:]ä\f",
      ")ú\u0003Ò¦Ã¹>d\u0018Ä­JsGXýAÍS\u00136pp>½(óu\u0018=ý)X.i¦§*ôrG±©WW\n",
      "¬[ñ5LN2F~",
      "þ\u0017Ç±4j\u0002|C³\u0018øZ}\n",
      "Kÿ\u0000²,²#ù¡7\u0011µÆ=\u000e1^uâ¿QÅá!¥x+Ã\u001e",
      "\u001a°¸R12Lñ»qÎI\u0007©çôVyTg\u0019\u0014ÑtW¤~\u0014]óìÿ\u0000\u0005ü[\u000e¯aýa¨Ga¶O·¼º²O)c¦ F\u0000ê\u000eqçµjèß\n",
      "¾$ZøÆÍ ´Ô?²7\u0017w¼EH#\u000b",
      "òq÷\u0004¼ÿ\u0000k³\u0006­4G+/éC°÷Ñ_\t4ÍsFÏ\\xÝcL\u0011#\f",
      "URdûÌÇ$\u0016î\n",
      "Sà'\u0018b]&i;å/]\u000f·\u0015×EâK÷\u001c",
      "~Uz/\u0013Bx\">¦Q·E)4yÇ>\u0016ë\u0016öÚeüK®øV\u001bXÚ?\"\t\u0016H¤ù\u0006`A\u001b²\u000eO|æ³.ü\u000b",
      "ñ}BMbïâµ­ä°p ´ò Dþê¡ÎÞFw[$àÅ{<ZÝd)þð«){e2àO\u0013\u0003Á\u0005",
      "O³[!óÿÓöf£w\u0010ì\u0013ÈL\n",
      "#} yÀsÍQûfìòx#4$ÏÇ\u0003'®+{XÑXNr['ëNuçiqÙ¬óyåôY¸Æ)VùÙGÈíÿ\u0000\u0001É\u001464h|¬gxü;TèÐ\u001c",
      "|Ä¥a\u0019¥<ã\u001d",
      "±ÏçMk¹ÛñþÁÁ4\u001d",
      "^=g\u0019úb&>99À®l^¡\u0018>dxéøÔÆä¸\u0007Ìb=\u0017¸¬t_kLz}OJoÚÔgi\u001f¬\bZ9\b-æ3\u000eø©+mU\u000eçÑp±ª÷\u0002\u000fäi¢àôè{ö¬ä\u0012¢\u0016-\u001fßíýiË»8ëÔJè,kEv\u000fÈ\u0018\u001e",
      "ºyüjA&Ü`@ô9¬¤2)!~]Ý09§1!ND>¢àh\u001b~èü©Ë!Û@ýk>)6¾GÆyÉâ\u00187*C.NHnÔ\u0005nyÕPr1Ôàp=kÆ>\"~ÐZ'g\u001d",
      "\u000fK[Yª^-ÊGnå\u000e\u001biå\u0003Æà»IèMGûUøYÐü\u0003\u00157\u001e",
      "¥sök©³ûÏ(£\u001d",
      "©é¸\u0016ì\tút¿\u000eê\u001aè¶{§5HÄq\n",
      "\n",
      " \u0000V5jª{40î­í¹ìö¿´Ôæh^ûÂÊ\u0013ûÁm¹Óz¨'êE{¯|a xËK\u001axÆ\u001b\u0012£e^'À;]O*Ø=\n",
      "|\u0004ÚÙM\u0013±R0WÜø\u000fªÜxWâ¦rÂ\u001bM[ý\u0016eéóZ&\u001f\u000fÄVT±1¬«`gN<Ìû)Û*\u0014\u0001ÍR«!ãÐUFâ(eÇ©àæ¡ãÎ\u0000ª0ì\u001b­us\u001c",
      "V-O¹cÚ\u0011'Í\u001e",
      "t))ÀæÄ\u001fCôÉïUJ:¶Ü¯'×ÀÑûI?+à\u0011Ñ»Teö±\u0003i=zqU\u0015\u0019\u0018²\u0019è3Nt\u0011Æ\u001a<¨#ô¤4Kæ9 \u0005\u001fÈ§äSï\u0003TÚ@0¥?JC>2²\u001f TÜf`W*Å¦j3d1Ï¦pjp\u0000uØ§$Û²s^h\u0002rì­0*væÎì\u0002}sUåeÚ3ÏZOößph\u0019x?^\u000eÒUqèjÊqwcó§\tW8ó6·÷M\u0000Y t+¸Ty\u000b",
      "Áf_cÍD\\)\u0003p\u0019 >î\bö4ÉÃô!ò;S]Æ\u0006\u001b>ÀÔ.§Óô¨KÔ¯JV\u0002× _°=(úE#$~UBFu$\u001d",
      "Ëøæ¾AÀ`Þô¯aØÿÔôÛ¾Ý\u0001\u000eznÍUYî\u0012B²H\u0003ìIüjÜ)÷ì?\u0001I\b/úµG=W\u001c",
      "þu©(Û5Ã(i6ºã\u0002*àrT\u0015³cî\u0005M\u0019`Ä(\u0003ÔO?(É\f",
      "G°Æi*\u00192\u0003ÙÈ\u000f·?Ê\u000b",
      "ÈN@G^z2ôú\u001c",
      "TÁ\u0011ßî(\u001e",
      "¤Zû:ÖR\u000b",
      "Ä¼t*Ø¤\"£\tgå8\u0003ÒQÏà:Ó\u0019±álgçÊ§0Ä¿*ÎP8 °ªÒZÇ\u0019bK©Ï\\\u0010OãI²d[*\n",
      "¡±êFzÐª¡À{sÛ'm,QL\u0013å¸uö\u000fþ\"£[­ÛD2çæ,Ãô¤\u0003äÃ`´*@þë·Ò¦²$\u0004!ßÊ©o2¶6ÂsÇt­\u0005xÑò$aë\u0019þ´\f",
      "\u001e",
      "0\tòæ}Ùôæs¢\u000fÞ\n",
      "Þd·\u0015\u001bÜØË\\2\u001fBÄ\u001fÖHâb%V\u0003\u001d",
      "\b\u0003hM\u0012Éq!]¢$ã©+Ö)Y°-Øê\u0003¯39l\u0001ß¶hÌSHë»<w\u0019âÿ\u0000µ¥ºÓ|9,q8u\u0006ùÎ\u0001ðyì+¶1é÷0Zïµ^\u0002 m¬üt\u001c",
      "u¯}ø©¥ÚøÁ·6w>t\u001e",
      "Jý¡g\u000b",
      "¸#'=:Ô\u001fc^?§Mmu¤­Ð\u0001ØÆ\bíó1×Ýì{\u0019j÷]·\u0017T¼K{(´(¯V }8\u0004\\ç4¹åÔô=NÏjÜ5ì\u0005Y\u000f\u0003k«n\u0019ú\u001aë­n­fÞ6",
      "Þ\teÆ\u000fµCã;MJ]\"-kJò\f",
      "z]ä2Ü,\u000eð]<p¹Éì\t®<:|éGsÑÄG÷oú\u001a'[da&6å\\e»\u000fó¨Ú%v\u0012$à\u0010\u0003lsY:\u001flüC¤G{`\bÆQðNGQè\f",
      "ÖÔOå¢\u0016Te#ô¯lùEÇqîÌ\u001e",
      "4mÏþñÍNñ\tåBSÊm¼\u0010Ù\u0019ú÷¨L±´yÁ]­À'4Ms$p\u0013\u001d",
      "¤8\u0019\n",
      "\u0015°Ï\u0014\u00126&)JÈ ç \u0016\u001c",
      "\u001ar\u0002²\u0015i\u001d",
      "Kr\u000fjE`AâE,2VN£G¥VIæT\u0016ò¬Qí\t+\u0011µò;w\u0018÷ \n",
      ")c¢ºýõëÇ\u001fZªøaó½·\u000eþ¾lö¬\u001b\u0004ÇèÇ#Þ¥{Q\u0001fuUõ=©1¢©VS\u0012Ã®;Ó$ýâå\bÈÿ\u0000gtEï\u0016Ï#\u0007Hç{\u0013µûâ+¬Îd=Kt§¾íFÙÿ\u0000fµ&Ü­\u001b,¡Ï\u0006ª:ÍlyÜ\u0017<0\u001c",
      "Ð\u0002Ç<{ÊÜ)VÎ\u0003\u000eÓåR¢íëQYs\u0018àcó\u0015\u0014¦{bÜïLÏj\u0000ZU9ó\u0014S¼øä#xÁõ\u0006 \u0004JÃ\f",
      "ÑÈFzçò¦¸eÈHçï¯\u001f\u0000\\\u0013È!¤#°<SG9~\u0003\u001d",
      "ßÝÅf.õ?+\u0011Éê\u000fáH%éæ.Üô=\u0000jù>Âzuþ|¹\u001f(#Ôv¬Ù^Eùó½GNçó§ÛÜØàö\"ÿÕõÛ©V,çi'¶Hýj;I\u0004,OÊ>é=>µ\u0004ÜÈXz\u0017?Ó¥K\u0019EùT\u0002\u000f ÍlerÄ\u0013¦ì\f",
      "ßëV\u001e",
      "^:",
      "ÍV\u0000",
      "p§ò\u0002@\u0006Â­êM\u001a±;F¬¬]që§½ã W\u0003·8\u0006|ÊNáòæ£G\u0005üÅ\u0019e9'\u0019'ÛÚ§Ôe¸$A>þ\u0003zÕ$\n",
      "",
      "\u0019r{zVNéZ@Xc\u001e",
      "?Zµ\u0004¬\bLqÆ±prDex\u001c",
      "ä|@¬dm$\u001e",
      "ÄUTÌÀo$üÙÈ8úU´\n",
      "§¯ÓC\u000b",
      "xÐHÅÈäg¥Fë\u0017s\u0011N3\u0018þUd6# ) ôª\u0017[\u001c",
      "# Ç\\\f",
      "æ%-\u001c",
      "\u001b1Ü\u0006Ï×½Tºc\u0018\u0010¨\u001d",
      "6ßçQG¨",
      "b&\u000e\bÇ4ÙÓ e\u0012¬pÄq@\u0012A¼ìqÀÞAÇù÷®oÄÞ/Âsmo\n",
      "Öö÷\u0015ÕG\u0016`+:ï\u0001¯\n",
      "ñN°Òk\t§aí\u0004y>i;~YéI»\u001e",
      "ÞE*³SÒF¡â-Q¢fúhâf$",
      "\\±'Ò¼Ö}BøM$\u0005åµÃ±\u000fÃ\u0013É\u0003¡ÏáÍ\u001e",
      "-×5dÔ´}\u001e",
      "\u0007ko·NCHØ£íÔÖÒi%dXu\b\u0018ÄûeýàácXT¨¬Ï­X*\u0012­(^ÉiÛ]ËÖqG\u001c",
      "jöIqTJ»U3Ü¶hi6¯q5å¥þ¢g3BÁÐ\u0010\u0011\t\u001c",
      "\u0000;þ5SN¶Û\t§p¤÷þP*\u0018,ä·ÕVñgi\u0017\f",
      "ü¸n§½¹¨§F0wGeLª%¢õ7>\u001e",
      "éZ¯¬~À5c\u0011ÈÍ\u001c",
      "\u000e7D øAî+×|\u0015ªNåmîäß)èÀä\u001aòèä-\u0014\u001b¯·\n",
      "\u000fLû×¢ü5O¹ÓÍÒÜ³_F£Í",
      "Ô/Þ¾êOCùÖéfg¡",
      "ÁJ-7n¶êvlbY°Ê\u000eó3O+Q\u0011ùzTÚo'ýs+¹ã\u0003'4M}\n",
      "ð_²Ü¸\u001bÂ¯çÖ´lüøµ!f'z±à\f",
      "ðqJ$|",
      "ÀÎ:ãúoï'<¸Â\u0016£gÚû\tØÿ\u0000ÜÏQëR;\u0013Iu!OS\b=ÿ\u0000\n",
      "KI\u00142*¦ÒG\u0019â£håÁeSÛµEshc;íÎqÎz\u001fÊ\u0017î#L»í!³Èõ\u0015R@ì¯nJK+¬¾ÙY³Â¤º\u001e",
      "^×\u0001\u001b1Ò+4ûYV]ÈÜaÁ©Ì¡ãÄXwÀéQ\u0011\u0014à(y\u0000\u000e*à«\u0018¥Ë\u000e\u0015±=\u0000W¾¨2F¥¯ãPGxá0ß7¿qøw­(î°6Ê£¶á­RÔlÃ¡\u001d",
      "§ÕqÉ d\u0002Òê\\¸¹Ó¨Úaþ4äy\u0014\b¥bàôb:ûÕ8D|)hØu\u0004àU8ì`« èHëìh\u0001Ì\u0015I`Å\\u\u0004piD·\u0004íÏRzÃ½Aª:± ôcü©åbd;\u0017\u001c",
      "\u0015<gÞ\u0012y\u001fÎ\bU'å#?_JQ$r0\f",
      "\u0011\\¡ª±\t£9FFSÔ\u0011K\u0013©\u0002»\u000fu+Á>Ô\u0001ÿÖô[pÀã\u0011ç$ú~\u0014ÿ\u0000<¬cËp¤¼Oô¦É#9",
      "wÍdÉz\u001aïdVÎÌ8\u001f@:ÖæHÖR«oxþ_»°dÜ4À\u001f<\u000f##ò®jY|\u0015ÑN~m£ôúVµù+ª0_FÀÇåSqØÕG\u0001wàã¹'8¦%@1á\u000ezU#G.×\u0001\u0014ô`\tÉô\u001e",
      "õr%\u001by¦sÈÆ(°Å&lÈÎûO \u0006è=M>KÈãY\u0015\"g\u000b",
      "ÈCc^¤Ë´+.ã´Æ\u0007ãV\bHo~úÐ\u0002éÇ\u001a*FXw*[v*áÚGÍ*5À\u0006U\\ç§z°$`Ãp$rM&\u0004ñJÅJìòÀõÇ5\u0005Ã/Åpqjx¹ÎÐ\bnÄöª¡\\2¦àÍÐÞgÝÜ´L¡Z\"_»\u000e~ÈçVEiº§Ý>Æ«ÊÁ_s3;/R \u001c",
      "\u001aqºHm>Ñ4g%ñBÒ\u0002ÄJçMðÌ¢\u0019\u0002<ø·\u0018\u001c",
      "óÔN+Æ&r.\u0015Ta\\s\n",
      "ï>+ê±É\n",
      "",
      "¢\u0006\u0005ö\u001c",
      "\u000fç^e«_G\u001c",
      "",
      "g\u0007x_»Æ\t¬å¹ú\u0007\f",
      "ÑöxG7Õ\u001e",
      ",Ý7Ä?\f",
      "Âã+N:g8ÍhÃà\u00114ÉmÖÐ3e%s\u0017'#\u0007Ðv\u0015GÄX\u001e",
      ":ð¬Ç8-2gÔà\u001aíÇú¦ü*OG\u000b",
      "§[\u0011YÔW×ÿ\u0000mG1eá\u001by|>lnÌ9,<Õc<|¹Æ1ü=+kÃTzV\u001d",
      "I,ë\u0011 3ÿ\u0000 ;\u000fj¿jA\n",
      "ë¸ÔêÁ\u0007·zg£G\tF£\u001b4­ò\u001a³\"\u001fºA®ÀºØµûqÏ/îd\u0018ë»§äq\\\f",
      "×r\\kOi\u0004åB¡¥8û¤öü«jÉ®\u0015rãç¹¡2±T£¥*of¬{´ \b$]¤¶K\u0003Àõ5f|8Údùz}ìX\u0019þÑÒìï~eãWm½\u000b",
      "wÈ5fx»åË9çäã­j~?V¥7\u0007ÑØµ¹ã;F\u0017pê>ïåPÜG½ByÝÊwu#Þ ºH\u000eàûg\n",
      "ý?>Õ$w\u0001±¾\u0006=ÁV\u0018¤A\u001d",
      "´N¸I£,Ý\t,\u0005_9v,Å\u0006\b\u0004\u001a4Ø&\u0000ý¿ýuj\t÷ü² ã«r)X\n",
      "²F]ód\u0007j\u0019dÃ*7\u001c",
      "dÕ§&;¢euî¹§\bSnÓµýQH\f",
      "È\u0011D­#ÛÃ*®F[o¦ji`¾a×ß½HÑ \u0019À@5\u000fáÊ,:|ßÓÞÊ×\bªr>E,ÒÛ¶<²ñ¿f\u001c",
      "~\u0015m7üÙ\u001c",
      "\f",
      "\u001e",
      "´+Ç2\u0018_k\u0003Áöö¦\u0006uÈ³¸\u0012`à!È¬Ù³Àel\u000e·\u0018­±\u0001üÈN23j\u0002Ää<UO@+õ\u001d",
      "è\u0011E'8\t(gB;\u001e",
      "ZÈ`q0ºuëõ¦Ì¨¶¿{rnÈç U6Xñº7VÉìJ\u0006Y42m%ã<",
      "$^)*\f",
      "U¶çcetù\f",
      "\f",
      "3túR³yãpU#¸èOåJàÿ×ô\u0006¹òDÒ+6yíPÝÞ\"ºÄf@Ä\u001c",
      "(\u0000çð®nò÷RiKHÐ)Ú\n",
      "ä±\u0015nÎ\u0017d'cgÏãZó\u0019Ø±$­,¡&\u0010ªÇ\bÇçÞ¬#¸EnKù³m+øÔ¶úl\b\u0011Æù55ºElNàIõlqIC,ªRQáÆ\u000eüËüx%ÔY0Ïölò©)]ßR9Å]y¢;\u00126\u0001\b<\u001aíL\u0002H³êÀ\u000eÔµgl`Á%\u001c",
      "vè¸ö­\bäe@ÌÛ¡\u0015F\u0006rew\u0011×=êmã%\u0001'ß=iw~õ\f",
      "¼\u001c",
      "õaÚ¹ îe__5V6\u0018 mÈ\u0019ÿ\u0000õT©)^\u000eÞZV\u0002Xcï^}[88¨µ\u0002À*­\u001e",
      "9-Ô\u001aiVù¼Ü\u0010Ç+°\u001e",
      "\u0007½Ex¥­@\u0011\u0006`0pßÖ(y>dYN#\n",
      "ã\u0007ÛÞ¡·Y%ºl",
      "\u0010ð\u0003>Ç¥7TymÜ\u0004b\u0001å£ÙÀ\u000f_z©g4ò«¡¡\f",
      "~L\f",
      "ß=zý)\f",
      "à~-XÌ<O\n",
      "À¼\u0007ÍµP\u00116í'þöïÒ¼ÿ\u0000^I\n",
      "¡ó\u0006Ò\u001c",
      "Açµu~+òÿ\u0000Ä\u0017RËµXÄÂª<ãüK\u0012Æ¬cdÍ\"íÁÇ9\u0015ÔòºR£ö3üu,Ë£ê( ­µòÀÿ\u0000x\u0015þµÛ[Ìï\u0003e0JäW\u001fãZçÂwãkÂRaxVÉÇäk{Á·{áK\u001b©¤W¢]ì:g¥\f",
      "¬4¹1Òó$þí\u001fèlZ³\u0018órjS#ma°Lµ GÙâ¤P¤\u001d",
      "Ø'¥\u0007®cX0[¿(»Iu-Ç_V²êi¿b1ç8üzW9©M<ãAjQ¢\n",
      "+p0p\u0007½mi®\u0000",
      "â\u0012\u000fö\u0013\u0000RDÇUd{WÂ½H^è1¡Éki\u001a&Ï w\u0003c]c¾Ò»½+Ï¾\u0015K\f",
      "\u001a]Ù+åÆ$Î\bÀSzWs\f",
      "Ìªù\f",
      "AÈ=\u001aÑ3ò¬æ\n",
      "\u0018êw\u001bq\u0010\f",
      "\u001bû½EG\u0015ºÉ\u001e",
      "ÙA\u0018\u0004sÉüêiWx;\u0019['$÷\u0015J6ÞåAóä/Æý§`ÿ\u0000\n",
      "gJ\"\u0012|rHÃ\u001c",
      "\n",
      "µ§4Ê\u001e",
      "'Ù×'{SFwñgïRawù\u001c",
      "\u001e",
      "½é\u0002-LªåHô\\þS|È7(,\u0007¨éõ\u0015r<²Uºu&ªO\u0018Èo=ò{p(\u0001ø,%@ ÷\u0007éÊ!e`ª9\u0007@¡÷!1\u0000r@\u0015\u0013³\u0001å<.TtÀÍHÆÛÝÇ>Ý(\bÛÍ]Ù<qþ\u0015Bi\u0004\u000fÐHóUØ\u0019z)1?¥\u0000:)líþÐêiÌÉ#\f",
      "§'d\u0002OãQ>Ä»Yä\u001e",
      "´çw\u0000zc9 \b.`¯¡ûÎ?*Ë\u0001*RBA'çA>¾µ±\u000fó)#Ô*)a",
      "È§Ò\u0014ªZ]þr\u000eYùð¤K\u001e",
      "×óJsÆìÿ\u0000N¥-¢ÊûÃ´n?3×ëP±\u0011ÉåÏµî\u0007?z\u0004ÿÐß¹ìñK  <.\bÜ~½ªx\"»» î§\u001c",
      "ïX°T\u001e",
      "Àúûâ¥\u0018¼Ça\u00161ó\u001fL©¥7i\u0015¬sjágl-\u001aÑ\u0010=¯-ì¡hÑ¥1©Ã8ÉçÓÜæ³fÕ\u001e",
      "í\u0019#@\u0002?Ê%\u001e",
      "ä§Ó!u$ÎñyÀ`b<0ÛÇLã\u0004ó×}¥®®Äµü\u000b",
      "\u0014Dü£aÓÿ\u0000Ö \n",
      "(.YãH¤hÙÂà³\u0000\u0019½ð*â(|ï9\u0011yû¸?Ozç5(´æäÅ\u001d",
      "À\\+« 9è ÿ\u0000*¦6[fºó Ù´ðG\u001c",
      "Ò¸\u001d",
      "ÔSG\u0004xà®>RX\u0003|wQ°`ìOAï\\®ª\\¤¡ïaa\u001c",
      "¸À(\n",
      ")\u001d",
      "\u0015§jÏz]ã]¹Ê Múç@\u001bkp«Æ\u0013 ôÍN%D_3Ë!óÐ\u001e",
      "qôª\f",
      "æ*n@\u001d",
      "Jîã9ç¿~õ\u0002Ý\u0014<èBsdmû§ðèh\u0003b;Ô.YIÈÀ*EO\u0015Ávhò\u0015§\u001d",
      "\n",
      "rÌ?3$Åã\u001c",
      "&0\u000fCùV÷±Äð\\J¯º6à&{õÍ 45eÄ;\u0003#\u0003aü}«\u0001ç[£6\u0001cÈíÀ\u001fSÜÖÖ±hÚ",
      "F¸\n",
      "À0=Oµsô-§i\u0013<+$\u0018õ\\\u000eäö ¨.i$yuë¬×DÈ\biä «u\u0005\u0004W\u001fâ·Úö\u0006\u001b¤hî~B¨ç\u0015ØG\u0014~W)ü8÷\u0015Í^Á\n",
      "kqíA¸FÙ'y\u0015µ?]",
      "6¨(/\"Õ[¸F_ÝÌ¸Á\u001c",
      "ãozÇð\u0004¦ÂßTÐ'8{+c÷EtV£\u0004\u001e",
      "\b<\u0011Å×aK-z\u001d",
      "QFÅ?³Ï$\u0015?ÈüiW¥(Ô§Yo\u0017gè÷üu:)F)^_/Q",
      "¶¦Ö\u0004­¦Ú\u0015ö\u0018ÍX+C\u0000¯<\u001a\u0019é'}kå¸ñ\"\u000b",
      "y£$M¹GÔw®¦ÖE1øAîF+¶±ò<P©lÄ\"ÄÄ\u001bº°ã·½w\u0016ªØiX¸\u001d",
      "\u00061Ft''Ì¤­©é\u0006¥ðãgù1<ç\u001e",
      "ô­½\"K«kRâ6Ú@\n",
      "W\u001d",
      "ñùV/­Z/\tÍ5¶\u0004rN\tÀ\u0018Àýk Ó\u001e",
      "\"Í\u0018#;·\u0010\u001f8úU£òìæß^©gÔÖU%7ã'¯\u0007Ëlìi6»cå$ÕF8RLîÚ;Tn)¶º¥ÔQÉ\n",
      "33q\u0006\u001c",
      "}})Y¨£gÈ¥}\u0001©\u0017*räóØÕ\tn\b\u001c",
      "`g®}jA;I\u0003Øn£\u001fÖ\u0006È\u0014\u0005VÏ<äÓ,Wcã¯\\U+\u001b\u00028`÷ôüêúl#p# ã\u0000Ê¹¦â\u00132F20zÿ\u0000R2KrD+\u001b åK`ß¹UU\n",
      "§\u0015wg\u001aÈ.\u0011\u0019ðÊ\u000f\u0007Þ\u0015L+,A¼¥rG\f",
      "?­U_Ü0D\f",
      "'\n",
      "zgÓÐßvÂ®ïE2xQäÂÉvçþt\f",
      "ÌÎC{\u001e",
      ")bÐSèÆ\u001a2\u0013^}ý)G\u0014\u001e",
      "´[Ý½y\u001c",
      "\u001e",
      "þ\u0014\\68þ.¦\u0016Âç ÷§ávÊÃ\u001d",
      "\u0001Å\u0000S\u0002¼¼uÍDN\bÞ\u0001ç­Z\"Íûu\u0015\u0004Á¸\u0018>Ä`Ð\u0007ÿÑé®î¥Ó}¼q¼ì2¨Ï·\u0007Þ²-ýZd¼(Èß)BYp=»U«yIÅ´V%xTv3ê}?Zì\u001c",
      "\u0018Ü¼K\u0017ùsì;Ö Mî\u0010¯<¬\u0001ÂqÆ¤»¹¼ØIû79i¦n9éT/\f",
      "ÖñF$gÉ\u001b\u0010ã sÀç5\u001d",
      "ËÞÝ\u001bkh\f",
      "Ìß3Sò\u000fr}E\u0017\u0003~ÁldÏymò\\à¡Ü¼fi\u0014R9\u0002\u0005\u0018ÈS*>¼t\u0015©OwdÎâÒ\u0018\tÚÌ£gäpúø©ÓPL²X\\< \u0005.F\u001b+Ütôü)\f",
      "Ô³Ví 6Ó\u0017\\3ÎÃþï½kéóY\\Í%°0ÊÑ4`}Ìö?",
      "S¶¿k{/µ\\ÆÉ¸áw/'Þ§³Íµ\u0013[ªm\u000b",
      "´)Ï«P\"i\u0019X4\t\u0003>9Q«}zS`ÔM%´°ìe;vÉ*ÃÃ4Ø\u0015äUæYq&\u000e#\u0019\u001fçÞ©]GggzngÎNÖËd\u0001ï\u0001zÿ\u0000Q\u0013\u001e",
      "øgò×\u0011ðà\u0005'þ}êÅÂÅ,a\"¯\u0019ùzûÕ;\u001bgÝ\u000b",
      "@|²äd®NïRMNñZÈ>{³ýã&þ=·\n",
      "Øµ§YZ)¼Ä6ù\u000b",
      "rJûÖ_­ä¼ðõÒZË¾s\u001b\"G»\u0006OQéÓð ÞÜÚ]­×Ú,Í¢ã\u001bYú\u0013ùÔÚ",
      "«Ïº¤.~à\u0000þ!¿*{NN\u0012R]\u000f\u001c",
      "Wæ[9m§Ibb²\f",
      "\u0003:ò*½æ©v×\u001e",
      "ÍÅ Ìl\t\u0001Ç}ÛzãÞº?\u0016siZ´R£w\f",
      "[n\u000eÂ6ãè\u000e9÷®Ò}[ÁòKv²­ÝHp>hÀÀÚÃ¨lgzW<&å'\u0017Ðû*CYSÒVv¹å«$q u<ä\u0001Îj½\u0004z¶ìäo\\n\u0003÷\u001fN´ËIíÈW1\u001e",
      "\u0018\u0007<\u0003W/&I +\u001b¡ÏpAªSRZ3éi×¥¦ìîoªG§i¡ng\n",
      "ñ.\u0019õÇzÐÓ5Û\n",
      "VÕÎî6`>d=EyG/Íî°ðA!0D¡\u0018Ã©ýk2ÞWe'xä^§\u0006©\u001f9Så­ìy£\u001d",
      "\u000f\\Ð¦[\u0011]\u0011*¹TUàû¥w6Àª3^màG·Ôlb7 %ã«$eb,²\u0010Üg\u001fw9<Jõ\bø5.ã{«®¡¶Sü½Ëæûzv¬ÔÓ)éÓÏ¨F©?SÑ<\"ÐYø:ÖW<¾YyÉ'\u001c",
      "V]Ä±Ç\u001c",
      "w\u0012¬Ò\u0018þq O-ÝÎHíÎ+rÒ\u0011kk\u001e",
      "\u000evE\u0016ØI$\u000fV=ë:ap$hä>b¨Úc+»Sýá[âë*õçQumûë3É$êò²3J\t\t^m d\u001f¯LUëkK¹!iE_3\u0000üè>¢«êZ<×\u0016r½«Krdw-~·t\u0011ù±:K\u001c",
      "*®DCÐsúPs\f",
      "µ¹¼4rÇö¸Ýç#îÇÔ",
      "iï\u0013yr\u0010B\u0002\u0007ËùzûRÛÇoäk\u0014l nUCZVÑÃ´9!$g\u001d",
      "è\u0002®òüíæ+t\u000e6ã>õ£eºyK%ÂÄØå\u0014\u000fçU>ÌûÂ\u000fF\u0007ô\u0015nÊ8c¸\n",
      "±\u0019ê:ñ¥q'à¤«\u0003+ÁæªµÓD\bÙµqzþnà+uÉ\f",
      "3Ê¼V.Ý:ö¦!ò>4Îd>Ã­\u0012£ù*\u0019sÚg#I\tq3×üö¤iwÉµ~ø\u0019Àã?",
      "!£2`»ÎC\t3Ã2#ò¨ìf;yÞIÝpz{ÿ\u0000õªìï¸\u0015!d§±¦Ck\u000eÓº\u001d",
      "®\u0007;r)\f",
      "·¼í\n",
      "I'¦E>7;6ä¿\u0018äâªD@!\u0014>Ò858,@\u0019nzddR\u0002lm\n",
      "jÎÂ7R8ÅXW\bÌCÇ\u0019ÅPÕ­\n",
      "Ý¹hf\u0016ã\u001bz7±§p?ÿÒN¼¼¶¾t\thlÇ\n",
      "á\u0018Hã\u001e",
      "¿=ëU\u0002\\@%\u0011¨NG#AÜQ\u0018\u0017\u0013,óFp\u001e",
      "àþ8<§¶I#ûÁçwlV¶ ÍADpÊk\u001aEÇ\u0003ß=;ÔóëZ]7\u0017_$Î>FT\u001bX\u0011Æ=ÿ\u0000\u001aåRWXl0Ûå\u0013Ã`òj¥Þ¦\u001fõ\u0016\u001d",
      "¸Ú¤3Ûêil\u0006\u0015ÿ\u0000ÒkoraÛµ^Q\u001d",
      "ð@85V-HÛüÛæ(d\u0001Ö2\u0001`G\u001bã\u001fçµt\u0017Ú-ðv1\u0001xm¹\u001e",
      "ÇéSÇáë\u0019\"ò<¤!@*±\u001e",
      "X{·z@Öò?\u0010Ø­´ö#O\u001e",
      "V \u0006\u001c",
      "\u0003ïõ­­\u001a(ÒËìn%ùW'9õëÚ²­¬fT6ÞUºGÀ\u000e7\u0002~§­mÆ]P\u0003{\u0000*\u0005ÊÄ÷RÇ\u0018\u0001ü¸Ô\u000f \u001d",
      "ÿ\u0000\n",
      "ú\bÿ\u0000³¤ÐÄ²/½Él¼þE-Üé\n",
      "Àe\u0013Î\u0000\u0007p8è*SvH4Û¤\u001b[!ÆSÏ>´>ÆM¶å¤ >T:d6ÌôÁüúÖn¯q$÷PC\u0018hÜ\u0000cØë~µq­\u001e",
      "\u0005v\u00064ó£Ìä\u0001\u001e",
      "<qþ5+¼òf\u0011lï\u0011B#DP\u0010ûCH\f",
      "¬¥VÞ\u0019!i\bÜùlcÿ\u0000Õ[z'©ö\u000b",
      "´F\u0015\n",
      "\u0011PvÇAY÷ït%¼öIræ=Á÷mÛØWôá\u001bÌ2 \u00040È\u001fîj`jÝÇfÑ,wvøù²\u0006\u0000çñ\u0019öª:ÙÆ2°8n\u0014Ã\u00142\n",
      "1Î8üÍ[év4êï\u0014k»9>ER»kmJ\u0003dm_1C±=x\u0007Ðôæ!Ý>¼f9\u001a\u0019\u0017s'ÊØçÅejbÐÊ#lX]Êç}³í]ìá²ñ]ì0È­\u0011pñÓ\u0004\f",
      "ûè0®{Q6\u0000\u001c",
      "\f",
      "f¼i{²±ëBWgÅjWo­¤º¶W`æ71î÷\n",
      "Øýx5kOÒcÔ5\u0015[#pÖa×|³ \f",
      "£ºpOn>µÓØÛ\u0017FW;â\tÇ=k£Ó-b\u0016Â\u0013\u001a'UhÀâº^&ÊÖÔçúº½îw¿\t<7¡Ã¡8¸·\n",
      "a\u0016¥÷|Ã\u001f2îî3+Õc¸·6¶HÌ{00\u000fÊqØ\u0011Ò¹\u0007Á*x3Mm£y\n",
      "ÔÊHUÜÄç\u001d",
      "ú×Ci³Ä±Åå¨Ü\u0001\u0004\u0013ÜWU\u0015h&÷9ëI·nÏ\u0014 F%\n",
      "ÃG\\úVv¢Z=ñH²È§rÐö9¥i\u0015ÙU\\±Þ\u000f¡=(¸ó\u001e",
      "$Üá[qËdþ\u0007úV¦\u0006\u001d",
      "ÍÄë\u001b\u000b",
      "iþÎÌH\u0019PséÐQáYµYîê1åUJ\u0012\u0010\u001fÌ\n",
      "WÔ â-º2<\u001bU`9Oç$Û¹¬½\"Öú\n",
      "e\u0016ÒLÆ\u000e\t\u0011y{Çr;\u001ac;[(­¡co\u001a¤\u0007¬`eT\u0000}ÿ\u0000hÛÉ)Vó2W$g=1ë\\çÙoLÊdi\u001a9\u000eL0Aã\u0003Ö­[É7Ú\u0004R?I*Å{Rzu©`mKv\n",
      "áw&Þ¹î*he_\"m¬GÊÊ¹#Ó\u0019ïYÀD?¼|ª;É'<ú",
      "M`ÑªlßÓ*Häõõ¡\u0001¿\u0014ö¤Ê\u0000`¸Ü{QTeiC3Hw\u00009ÂsùTð0\u0001#ÓqþU%öó\u000fËz94ÀÇµº¦ò\u001c",
      " Fæ<\f",
      "dÕ²±³ä ÈéÅej\u0011ÇÁe2r \u0006ÏçI\f",
      "Ì 8pxùKd\u001f­+\f",
      "³<q¬ì\u0014²\u0017ê\u001a©K8BXÊÈ3ón`Ãê\u0006r>bòâ\t­öÞ¢)\u001f27\u0004Ò©K\u0010tg/\u0004\u000f¶?+\u0001`n²í\u0019]¼©\u001e",
      "þ¥â0\u0010\u0006b\u0018nääUkwâk{@,3\u000eÓïP\u0004Ú3\u001c",
      "Í·\u0000G ¤\u0006Ó0äçr°û½j8LC>Zºßu¡\u0014í\u001b",
      "2Æ\u00178ØÀ=\u0001õ««)P7\n",
      "£9 \u001c",
      "\u0000ÿÓ¿\u0005Ö¤\u0010¶CÙ¾cÆyì?Zuk=9UubÑùÌX2ntCøíV.ZÒ\u0004{£%ÔQ/ÌÄ¯ÌÙöëTâ¹²\u000b",
      "que`\u0004Åw¯§,=Hôúô­Y\u0006v¡â-]ç¹Óa+)\u0018â\u001f3&BÃ\u001c",
      "\u0002qÀÏ\u001d",
      "O¥2mCV¶ò\u001e",
      "òúÊl\u0000|¨×tÍþ{ÕK«¯6éíFfQ¶\u001bx¾mÇ©\u0007¿^:ÖömcalÍmtd\u0015î\u001e",
      "Ã<\u0000*w\u0018Ó­ØZÛÑ¤y¦Ë\u0012 3\u0002}A\u001bGÒþú[K\u0010ñ³©¸]¨##ÌäõÆ:cÒ©Yh:t%ÍýÅæ\u001f;JòG<sxª\u0017V±&²ºsÝSµæ7\u0003nóü<õ`:â\u0017:=\u0007SåØë\u0012¨;\n",
      "\u0004\u001c",
      "g ç­tV\u0017±Oh³\u001f5\u0010Ä\u0003SXF\b#;]A%T¹%`ùU\u0000ã9ÎsQÎÞÆ4·+1\u001b\u0015ø\u0004/\u0019üºR\u0003MdèÈsä\bÉQ(`D}\u0004÷4û$#yçËÁË\u001c",
      "dôÎ?ÆªAö\u0003\u0014H\"H'p\u0019@_½çõ4Z;Û.u>g*w`\u0007¦}*[ÖÖ\u001aÚæ\u00175=Pê\u000f\u000eZHã\\\u0010ËÂ:ç$\u0013ÏµmèzÚ<sßnyqTpBÀúc½fiÚ~±kvÏçÛ}·4",
      "¢\u0018\u0018éóûûÓ5+9 .Rc\f",
      "I\t2",
      "9Ë\u00131ßÔ÷â¨GA.¦\u0019H1\u0019\f",
      "\u0015XÁÂÇ³c«[HêíFÛÃ1þ!3þzV&\u0005Ì3æ¢\u0005%BB°'¦\u000fJ¹¨Y\u0010ò¤\u0005ßå\n",
      " °?Onh\u0003Niàò\u0015°<þY2Ý3Ðþ=*¦$WÙpZ=Þ_¬\u0010\u0001Ù³Þ±µ\u000b",
      "ù5B\u000b",
      "¼l\u0014\u0014q­3ÀþF®Å©Í-´Zss\b+þPät&cñ\"á®<_rLr\u0007UDÁ\u0018?w=?\u001aç¥h=òoFôqÉúVß\u0015æñ~ áÌ2)f=Ûbç­co'\u0005°ÌÌ73\u000ekÉ«¬ÙêRÒ\bË²dV\u000f$f3¼\tÆAéøÖºçä[\u00002~÷Ð\u000fZf§eöeµÌdíc\u0006\u0019\f",
      "NsV´û\n",
      "20Àä\u0000N\u0007Ò³Ô´îZð\u0015ÝÓèV\u0016óA8%dY\u001aPBcÛ\u001d",
      "\u0007§jÚãv­6må\u001c",
      "Ê\u0017ïÍqz\u0004¿eÓ-\u0005­Á2+\u0019\u001a6v\u0000äûu\u001d",
      "¹®ÚÒ_µ@ì¨\u00000T%zs^µ;ò+eM&ÃJ\\\u0016\u0019!S,Ç¯Ôö©nek\u0019Z#\u0014¸L`=Ç\u001fJVÙ\n",
      "3F]¤y{xì*µº}OrÍ\"£\u001d",
      "\u0019þSúU²\u0019cd-+2\u0010@8í×­&¯%¼w\"Õ·D\u0015wCÁã\u001d",
      "Æ*È\u0007²MªÉ¸\u001e",
      "¸\u0007¾hºµFÓüÏ,oQ¯ gó EK¹¡S\u0005×Úî![w/1Ê@é´ð\u000fÒ\n",
      "ËÉ\u0012J°ÀÄ¯Süìj;Û}.æ;y%$a÷2´ø\u0000ÿ\u0000\u0017Óÿ\u0000­QOªiÚcî·Ê@@°\n",
      "v ÷\u0014Fÿ\u00004VÌª©\u0001çp\u0000áAÔUë5¸µ\u000ea\u0005K¢á#jZ¥Ü\u001fkt&\u001bB¨è=sØÕ\u000b",
      "kûè&[V¶y5ÇÎ\u0001`~é*}úâ:ëYÐáY¶\u0011÷y©ÞY$Ba%FÜ\u0003¡ô®f-B\u0011.%o.X6:n^çéí[ÖFP\u0001÷qò¯z\u0000¥5ÍÛ\u001d",
      "²[\n",
      "Æ\u0016P\u000b",
      "{Ölò«\u0011ä\t#$á[køðkvë¾\u0010\u001e",
      "¸\u0004ðF=«Ö-\u0016ÙÒæÝc¤Ç¯=ÅR°ñ£ÜnI¿x¸ÆÉ!\u001c",
      "{äu§}²Ê0`\u0015e\u0000\u0015T?",
      "T³¹U\u0017Vñ¤\u000f÷X\u00196\u0013Çe<\u001a²gÛ(Ô7Êü\u0002¬=jFK&çea\u0019R\u0017!r\u000fqM+º0`\u0006\baþy¨®$1)ò×xsò2Ç\u001fjµctB¨ÆööÛAH\n",
      "ÑJJí\try,@8ü=jh¤.3\u0016âÀrXb§b",
      "?CI\bY\u001b\u001b¾oJ@ÿÔYÔeµI¦Á¤cÄ*Îv1íÓ¿×Æ¿ñ\u000e¸É\n",
      "Ë§\u001d",
      "®1ò.wú\u0003íõ­=L×tòý©Ú«@0sôúÑ¦ÝIv\u0017w\n",
      "º \u001f\u0003ëÐ{â¯RQ}tY\u001e",
      "!pÖj F\u0015Hl8?Aþ5\u000e\n",
      "©Q`rÇ1'rìû£{\u000f\\×Aj\"tDÁd\u0003\u00038ý*Îµ§[Þ\u00183\u0019Ë\u0001!$\u001d",
      "¾ä\u000fËz\u0001bõ!Ú;M\u0003\u0003\u00122äb3ÁúVu®\u0011n'#xÈs\u0000\u001e",
      "ö«wúí¾øÖdhÁ,ªrÀ};\n",
      "lEµ6\u000f\n",
      "Ò\n",
      "",
      "@\u000exïü¨lFÁ¶°òÜá÷l*\u0011\u0018ço©®jÛH",
      "n]\n",
      "bÔ'îÈÏ*7PqèOðÖ£}®\u0011ñ;ñæ²\u0015\u0014v\u0003×Þ.í'»Ç$osµ~RÜ\u0014µ\u0018Í\u001a\t­íß3µÌ\n",
      "Î\u0014(LöQØV²Fò[\u0001¹\u0019p\u0010½ÁôïL\u0002cG%Us¸÷Ï­3\u0012£m}Ïæ1\f",
      "@ÀSY¤ï©M¡×Ñ±\u001e",
      "UÙæ\u0006Á\u0000}r})Lq°XbhÐtC:ÕÈ\u0012ÝáPP\u0003\u0013Ö¥V®\u0014\u001e",
      "F8­,I/\f",
      "fÝ\u0019\f",
      "\u001b\u0001O·\u0015\u0004vÓ<ÖóH×\n",
      "³vP?Ê\u001b >ÜV½ÌOçHdB\"Æ\tïKi\thÀFUØç9\f",
      "½)\u0001ÌÝÚÀ×Í=åà4R6\u001c",
      "ïBz`Õxld±vÔì'iØ0>_CùÏSÍto£î¶Ù!R\u0018\u001d",
      "}\t÷ª7Z}èìð¢Æ\u0001ÝÈ÷4°Ñå7ÌñUíÀ\u001c",
      "JQñã(¿áYrþò\u0002GqÁ®â>%¥\n",
      "Áù¡%\u001bÀÀÞ \u001f\u000fç\\ÌG\u00118Î\u00023Ú¼ªÚM¥\u0017x!ýùmKEAò´uaÝ¾öO×5«hÀ:\u001e",
      "¨qX÷÷:]õÖ=\u0016TÓ\u000b",
      "¥+²+\u001e",
      "}÷\u000esô«VÒ\u0015e\u001d",
      "qïSQêT6=[ÁÖò¥­´Ñc·\u0000.ÊKn\u001c",
      "\u0002>µØiáZÕYfrI\u000b",
      "\u0011Ü\u000eÙ®\u001fáÅý¬Ö2i·\u001a=Ä¢c<õæ½\u0006ÞÎ%,M·\f",
      "÷¯N¹ 2ª´ÙVHäGó^ãt\u0000Éëø÷¨c\u0016\u0014E\u0011S»fÅ\u0001X{»\u0014\u0006;øÕãlhHÈùyã\u0000Ó®Yy%ºü¼s×§¥Y\u0006R/Ù¼É#$`É÷z·<ã¦}©<i\u001c",
      "³ËxÞZäà©ä\u001f~%ÔVë\u0006bo<°ùe9$¯QÜu\u0015Q]ZÅvyQ0û\u0010ø?ÊÝRæÒ].fKD¼O3ûí=p{{úÌÆú5ÐhæmóþXW#©çÇ\u0015ÑÝ\u0005*Î°DNJ\f",
      "\u0006\u0007 $v5ÎjóØj)\u001c",
      "«$×\u0010©Ú¿6ÕàñÇ\"Ñ£§ÞG\u0004+\f",
      "³Z\u0000±¢Ð\u0016P\u0000ëOz°n'ûI»[È\u0013np}Ny\u0018úW\u0011\u001e",
      "È'C\u0014/m\u0019l\bÑì\u001fá%y#¯=k Ôu;k]:Ô¥ÄWãqIV\u001d",
      "þoS_J\u0010Ë\u000fâ\u0004µÔ\u000fºv\u0018e }àzí=+¥Ñõ8/£,<Æ@ØÁá½GÒ¼ç]\u0006µµ'óWa+\"\u0010»þ£½Xðíû\u0018ö6¢ñÂ;+|í³ ägÜcQMì\u0010Í\u0013Ä¾Zôàñ©¨Éi\u001bnÛhÌqçn\u000føV\u000eªo~Ë·|Dù¡Ãq·Ü§=«VåVy\u0010À¡Ì]A\u0004Z\u0010\u0014í#·YeCk\u0001'æ\u0004¶ñJµ\u0015H\u0016X#\u001f¼Å\u001d",
      "¸¨þÍitÛ 4F>I3Æ¬Û\u0014*Îý¶¶\u0018\u001fc@Ûè\f",
      "®\u001e",
      "7Ýò»Æ}*_8u\u0012",
      "Í8VnH?åZ·h\u0017\n",
      "..\u0010\u0001Ô@üGJÆºU}»åx;\u001bËÏÍí\u0007OÆ¤f¤\u0013<R4R)` \u001d",
      "Àòsß\u0006î\u0010\u0012l\u0007ãøV\u00047\u0012ÛÏ\u001d",
      "¯\u001c",
      "@fYÈV#Ð`c5nàæ\u0011u\f",
      "µOS&F=)\u0001ÿÕ|W\u0012ÝÚCåFKN¡JÆ\u0000Ú:òOn\n",
      "2MB[\u0019Ì\u0011C(e`qwçý®®\u001e",
      "ßVº¶ì6×\u0012Û0m¬ã\u000e8Ï<sùVöojPeÍÓ²î%I8=Á÷'¥hÙ\u0016:itÏ:C)if\u0003|ÎÜ\u001e",
      "ÕY-§7ÓÚÎLÄ\u001aF\u0003MhXÆóÀÆâ\u0010HR2sÏÞÿ\u0000ëS-í\u001e",
      "Òd;eúù¬\u0001\u0003ÓÞ\u0006<vu­ÝÅÆ£ö Î\u0002<a\u000b",
      "\u0017f9Ú{¥\\»Õ-tØÎÓí\u0011JÄ\u0016)\u001a¢.NN{\u0005h\\ W6\u000b",
      "GÆ\u0016GÇ\u0004Ïzæç\"[éàò¤Ô.\u0013\bfHÇÈs\f",
      "cõÉö©¸È\"MsUX\"ºò-q\u00124¬7.xüúÕ¿\u000f]I¤E\n",
      "H±+Ês!lg±ú^µzI¦Ô-\"S¶Häså\u001fð\u001e",
      "§\n",
      "ü©º¥spï2X½¼AaNAà°õ\u001d",
      "½\u0000u\u001aeÜw®\u00167ÃK6@Ç§¯Ö´d½ÓÑ_÷É\u0010\u0007\u0019-Á=ñ\\;ß¼Rª[Fó\u0015<Í§p}Oõ¦j:t×bÑáiaÉ;Æv/ø\u0000ì ¼O(\u0016gùÛhù8Æx©\u0012Fi\u001aS\u0018L9_½÷\u001d",
      "kÖþÚ;q,/:¯Í´Ê7º2=;RÞê;\u001aÚßìÒ\"L¬Ìó\u0014õéÚ\u001bö×óÏ\u000b",
      "\bà\u0004}ÖÁ'g<V«Äé\u001e",
      "FÖ\u001c",
      "sÐúzæíoTlu\u0017pªÁáA=>¹ôíW­uCtU$);AçSJàn3ww\u0018éPÊ\u0016C¹\u0004sÚ©Ávd`ëóg­Úqpé¥\u001f1^p8¡å\u0019u\u0011&µg\n",
      "Å# %·ÊK\u0011ú¿­q~b¼.\n",
      "²n\u001d",
      "XV·Æo\u0012\u0011®Å§ÚÚÄÆÖ=Ó3±\u001c",
      "¿EãÙr~¢¸½7Y»ám\u0019\u0012p\u001d",
      "%'ðÁ\u0015åÖ¦åQØö°øzÉJÚ\u0016ÚÌÃ/ÚUHÿ\u0000v¬\u000f\u0004ÈÕøZ5F\u0013\u0011ê dýkrM\u0011nth¡\\\u0011ó.Þ\n",
      "\\×\t{s©éº¼¦ï\u000b",
      "\tÁ\u001e",
      "X\f",
      "Aä\u001c",
      "ý)ÎI;\b&n\u0011Ü÷¯",
      "z\u001d",
      "hgPx9LíÎN\u0007\u0015è¶÷p°\t\u000b",
      "+9Éàzz×ü ñ\u0005ÀÕ£Òg»y\u0012ð3ªIó\u0005u\u0003<\u000eåï^×j±°ü¸ÑêÀ5ÙGH$<u\tQªÔÑ4GBzcÔ\u0012ÍäåL\f",
      "ýÎ1»\u001e",
      "¾õ$ac\u001bQ[h=qMpÉ+gÓ5±ÆdÝYÅ¹Sc³ðÛò2}?Ci\u001c",
      "bC\u001a¢cþ ÕÍA×Ê\bwC6\bòØ\u001c",
      "·>õm¾\u0012Çì²yÇ\u001bû\u001e",
      "àP\u0005-nØÅgtmd;6aà2mR\u0006rkÐ.ôù\u00168gRÑÅ0Ûû\u0006÷#ô®³[»Ùå¼)K?\"¨`ÃÖ¼ê8­d¾9!û7",
      "³¬ñþ\\R\u001d",
      "çTÓôÍJÕÉI¤Û÷BíàðÇoSõ\u001e",
      "¢Û\\C'ü³ü¨²9së¸îïÖ ÒÞ\u0018\u001btÃ\u0000âT`ç;Jáýz×D­löí´\u000eÐ\u000b",
      "gÜ{\u0000æ[Kág°·KC\u0011\f",
      "\u0014)ËÄã±>ë\u0017D³÷TKY§AänV\u0003\n",
      "qÇL\u000eF}k«·2Á,V¢<òärþ¸>Ömí­¥µób2ÿ\u0000lÄr(\u0005\u001d",
      "\u0006z©\u001e",
      "þ´Àèôû{¸|°mÃ`\u001d",
      "xc}qÚ¯Ç\u001c",
      "¬ÿ\u0000f»·fH(ÊÜ`t\u0004~±ìZúÎÅ y\u0016dÚ0ç!¹ìkkÎ¸\u0015.®BÀ\u00046\u000f¯4ÊÎÊ+õÞÑ£89U\u0005W9¦ß^uy¢\n",
      "3µ|²y÷«H¥\f",
      "\u001d",
      "\u0003\u001e",
      "X7OÂu\u0002áe\u0012Ê\u001c",
      "\f",
      "c®qíL\f",
      "½ÒÛÈÀ¤íá'pü\u000fZ9~Ñ`_cZ÷Qð\u000esØ÷©ï­¾Ñ\u0001xæ<\u0006*xãómÖ)\u0010H:Ã\u001c",
      "ÿ\u0000CH\u000en[KÔI5ÂÈ¬1\"\u0001Ç\\b\u001c",
      "v±Ò7mUÀÁïÖ¬ÞF¶W\u001e",
      "l6²<R¾Xy\u0005o\\zU{¥iÊÜÄU0\n",
      "\u0011çÚ\u0005ÏÿÙ\n"
     ]
    }
   ],
   "source": [
    "print(keyi_as_text)"
   ]
  },
  {
   "cell_type": "code",
   "execution_count": 13,
   "metadata": {},
   "outputs": [],
   "source": [
    "keyi = ''.join([chr(ord(ch) + 1) for ch in keyi_as_text])"
   ]
  },
  {
   "cell_type": "code",
   "execution_count": 14,
   "metadata": {},
   "outputs": [
    {
     "name": "stdout",
     "output_type": "stream",
     "text": [
      "ĀÙĀá\u0001\u0011KGJG\u0001\u0002\u0002\u0001\u0001I\u0001I\u0001\u0001Āâ\u0001½Fyjg\u0001\u0001NN\u0001+\u0001\u0001\u0001\t\u0001\u0006\u0002\u0013\u0001\u0004\u0001\u0001\u0001\u0002\u0001\u0002\u0001\u0001\u0002\u001b\u0001\u0006\u0001\u0001\u0001\u0002\u0001\u0001\u0001K\u0002\u001c",
      "\u0001\u0006\u0001\u0001\u0001\u0002\u0001\u0001\u0001S\u0002)\u0001\u0004\u0001\u0001\u0001\u0002\u0001\u0003\u0001\u0001j\u0001\u0005\u0001\u0001\u0001\u0002\u0001\u0001\u0001[\u0001\u0001\u0001\u0001\u0001\u0001\u0001I\u0001\u0001\u0001\u0002\u0001\u0001\u0001I\u0001\u0001\u0001\u0002\u0001\b\u0001\u0001\b\u0001\u0001\u0001\u00051332\u0002\u0001\b\u0001\u0001\u0001\u0005\u0002\u0003\u0004\u0001¡\u0001\u0001\b\u0001\u0001\u0001\u00051211¡\u0002\u0001\u0004\u0001\u0001\u0001\u0002\u0001\u0002\u0001\u0001¡\u0003\u0001\u0005\u0001\u0001\u0001\u0002\u0001\u0001\u0002A¡\u0004\u0001\u0005\u0001\u0001\u0001\u0002\u0001\u0001\u0001ñ¥\u0007\u0001\u0004\u0001\u0001\u0001\u0002\u0001\u0001\u0001\u0001\u0001\u0001\u0001\u0001ĀÁ\u0001\u0012\t\u0001ñ\u0002A\u0004\u0002#\u0001\u0003\u0012\u0002\u0004\u0012\u0002ĀÅ\u0001 \u0001\u0001\u0002\u0006\u0002\u0002\u0002\u0002\u0002\u0002\u0001\u0001\u0001\u0001\u0001\u0001\u0001\u0001\u0002\u0003\u0004\u0005\u0006\u0007\b\t\n",
      "\u000b",
      "\f",
      "ĀÅ\u0001¶\u0011\u0001\u0003\u0002\u0004\u0004\u0003\u0005\u0004\u0006\u0006\u0005\u0005\u0001\u0001\u0002~\u0002\u0003\u0004\u0001\u0005\u0012\u0006\u0013\"2B\u0007\u0014Rb\b#r\u00153¢\t$C²Â\u0016SÒñ%4cs\n",
      "\u000b",
      "\u0017\u0018\u0019\u001a\u001b&'()*+56789:;DEFGHIJKTUVWXYZ[defghijktuvwxyz{",
      "£¤¥¦§¨©ª«³´µ¶·¸¹º»ÃÄÅÆÇÈÉÊËÓÔÕÖ×ØÙÚÛâãäåæçèéêëòóôõö÷øùúûĀÅ\u0001 \u0002\u0001\u0004\u0002\u0002\u0002\u0002\u0002\u0002\u0002\u0002\u0002\u0001\u0001\u0001\u0001\u0001\u0001\u0002\u0003\u0004\u0005\u0006\u0007\b\t\n",
      "\u000b",
      "\f",
      "ĀÅ\u0001¶\u0012\u0001\u0003\u0002\u0003\u0005\u0005\u0004\u0005\b\u0006\u0005\u0005\u0001\u0002\u0003x\u0001\u0002\u0003\u0004\u0012\u0005\u0006\"2\u0007\u0013BR\bbr\u0014#3\t\u0015C¢²Â\n",
      "$4Sñ\u0016csÒ\u000b",
      "\u0017%5â&ò\u0018\u0019\u001a\u001b'()*+6789:;DEFGHIJKTUVWXYZ[defghijktuvwxyz{",
      "£¤¥¦§¨©ª«³´µ¶·¸¹º»ÃÄÅÆÇÈÉÊËÓÔÕÖ×ØÙÚÛãäåæçèéêëóôõö÷øùúûĀÜ\u0001D\u0001\u0006\u0004\u0005\u0005\u0005\u0004\u0006\u0005\u0005\u0005\u0006\u0006\u0006\u0007\b\r",
      "\t\b\b\b\b\u0010\f",
      "\f",
      "\n",
      "\r",
      "\u0012\u0010\u0013\u0013\u0012\u0010\u0012\u0012\u0014\u0017\u001d",
      "\u0018\u0014\u0015\u001b\u0016\u0012\u0012\u0019\"\u0019\u001b\u001e",
      "\u001e",
      "   \u0014\u0018#%#\u001f%\u001d",
      "\u001f \u001fĀÜ\u0001D\u0002\u0006\u0006\u0006\b\u0007\b\u000f\t\t\u000f\u001f\u0015\u0012\u0015\u001f\u001f\u001f\u001f\u001f\u001f\u001f\u001f\u001f\u001f\u001f\u001f\u001f\u001f\u001f\u001f\u001f\u001f\u001f\u001f\u001f\u001f\u001f\u001f\u001f\u001f\u001f\u001f\u001f\u001f\u001f\u001f\u001f\u001f\u001f\u001f\u001f\u001f\u001f\u001f\u001f\u001f\u001f\u001f\u001f\u001f\u001f\u001f\u001f\u001fĀÞ\u0001\u0005\u0001\u0015ĀÛ\u0001\r",
      "\u0004\u0002\u0001\u0003\u0012\u0004\u0012\u0001@\u0001á­õ)hµp¶i7xÏÍÒIÜ·þ\u0005ÿÒydÅ7»lL\u0001µ`.£\u0012m_T\u001e",
      "\u000fØè$ì_vâÜüÌ¹æ8S5ï,¡õíÝt^¨®íðÛç´\u000fÓ}",
      "];ºo\tìÏ@ûÖpE»\u001c",
      "V¦\u001bóX;éöN'ç\u0012\u001d",
      "¸Ñ¤ÔÑ1\u0013¨×¡×ÓãÄP¹\u0007iÂ",
      "±\u0005HÈ},ñõ®7«5é¶\f",
      "eJ\u00178uô\u0011ï%\r",
      "\u0014Ø¢®:°\u000b",
      "ÄD.­Kx\u0016.p\"\u000f\u0010ÌÑ×ÀY}·ÀèødËá¨ÐKN\u001e",
      "2lIÜ\u0005\u0017\u001aÉÊ\u001e",
      "\u0002$Ü¶]¼'·aå3±\u0019QÙ(r]ÖW,aÌ\u001c",
      "Gt\u0007\u001aH§õîùU´y°Ä\u0018WOà6¦@uÑË³ÇIé3Gá4ßºcW?§y3XÚ?5\u0017´­²Ýó·ÕnÊ$jãyg'ÐRµÃéª\u0001IºCrÚ¬Ó=X¨ëY\u0007iÛAB\"H\u0019è\u001f»Õ.o-÷H+N\u0014å5\u0013«bêÐÌû¯g¸=h\u0018´\u001b²;ÆÊÒD\r",
      "EX$ñó÷÷çïÚo.nã\u0013jCg2Ù­%JÀ\u0005e\u0001H Ä^ÓÝÂn\u001bÚÿö\t\f",
      "ó¶´zDâ`H¹­î{ïÛÏ4q=Õ©<×CòBÈK¯ãuü\u001b«O\u0007lò>Ï¬pqÛ,Ð÷°¸[-\u0019Ä¸ÍùÂä\u0005å÷¯ÈL¹µ¾Ñâ½¸OY¬Ý>¾,Ê!ì_$Ó6~KãÛâî®EÉ±\u0015%7I\u001d",
      "\u001d",
      "d$¯|u¨(l2Ò£ë`¦ë\u001f\u0001ÀÕp5Ö(zoîö\u001c",
      "©ÍÁfI}±rÿÇÝW·\u0010íDbAÚ\bÀ[óÀ8lJ/Iô?Gà%¥Ê$\u001d",
      "÷>A\u0019èÏ<X¦@ñY\u0005ÉÍ/8\u0004øO\u00105>¯e¸\u0010\u0014Êv¥ÁÛ¿Y_C¿mA·\u0004\u001d",
      "e~9¯LòE{\u0012»ò4Úª»5\u0002[Adúhër4î]@Å@\u0014D§Æd¤Md|³â±Ý£\tÈºÁûê6\u0019¯½\u0017²1Þ\u001d",
      "÷\u001a@~q3,,ZÞ\u001bF¬üÈ¼ùPU¶Õµiv\f",
      "8j.¯îÍ²:\u0005p\u0001vÂéI! Çµ5SÎ£Y\u0019Ù¡7êÁ>9°1ù2ã\u001e",
      "7ìÁûgg\u0010§j«ÄÐ\u0019z\u0002^ìíUþyø°Jñõ¹ÑµµTºÓ32Õ¶Ô\budV&(n>Ôd\u001a\u001fÞiôfÏIú½Õ'^Ðý<ºýëmÖ\u001fu­hñkT?1Ac<Û#È@|ÿµrýĀ\u0001MtA\u0004\b\u0015Ā\u0001:\u0001gÉ0\u001a\u001f1$pYztÜàÓ¤ÀÕ£´¯¦Jå>Æ×%/ù_¥)åÿ\u0015®\u0006ºóîNÊo\u0003\u0003\u0002(ë{VZnf\u0010÷×/0½rÊ\u0015áÇG\b6\u0014+\u0011×íPÙ©¾³Ô¥o'æ\f",
      "$\r",
      "\u0017è?äÑ\u001bJ\u001bMÓñ+\u0010\"}\u0010»qPbÆMßbyº\u0002ñ\f",
      "\u00013\f",
      "aå+Î×â¸¹",
      "Hs÷Uf4¯ã\u0015§38{Ï²¼gÑV|5OI\r",
      "~Òö>éñ\u0018·}\u001aeâÂÉ\"°pì¨f6ÆÊ\u0004#r* \u0011\r",
      "q9\u0004¸{ÑñîÝL=-\u0018kmåÈ=Óë\u0007Úf·§8\u00059ÐKôĀ\u0001",
      "VØoneH²Y\u0016ä/«#\u000fJ\b\u0005\u0010PD_ª;Fd=£¢->¬Ð®½UÔkP¢ê×ìk\"{K qÜá*\u001d",
      "\u001f|VJø\u0016½.â9õ<\n",
      "¦¾ÕLÞJ=Ó­¿Ö^ÍÈæÐ%áä¦lÞl\u0011YÅ.ãje]\u0016\u0013\"\u000b",
      "Bð[ºĀ\u0001\r",
      "ÂªÊz\u001e",
      "ÿ®r.Ó(Mô\u0001oÔÁ\u001e",
      ";q<WdKÕv$IñÁ\"!¿Â\u0019èÝôZG\u0013wêº(=P~®\u000b",
      ";7ÔXPyLÝ0ÚÜ{¨$ænÁ\u000fÝÄ»>åºn?r\t\u0015o{î\u0001\u000f:ö®Nc@\u0001ê$]%\u0003äkí2´Ií\u0015æJ\u001e",
      "\u0010?¶ª£ù¤PÖ\u0017ãâa¿9\u001aT}à*~Þ\t\u0004¶ní«G/nic¬ÔçåPSf¶º7Ú\u0014=<OW1¼añ\n",
      "6 ¨iñêØì|r:nÍ¬]LNÅ\u0001ÿ¶\u0010Å\f",
      "ì©µlZ-ï/a3_%PÙ³åýAXÛ!í\u0018îPçµÓq¾óO\u0007ëÓ\u001f6¤\u001a8¤¿Ëü\u0019c2OSX[ì§Ā\u0001zÜl\u001f;ñö¤\u0006ÿÒ\\èW\u001a\\YÚÐ\u001e",
      "´Ôö­\u000b",
      "DÈ»¿¡cN Ai:iæº}á4ì]æ¿¢¨Ú­,\u000b",
      "®,îÙW.¼%\u0017ý*Y»¹\u0017Þ-$2$+Nw\u0004e|\u000b",
      "õ\u0017\u001f\u0015öUÿsw`s=ºc«NÚÖ¸VĀ\u0001\u0018tĀÑò \u0006\u0019eîo$P(c\u0010¹Ðrê_â9­#c¶7Ó+Ë8\u0001\u0003zìôÐ\u000b",
      "Á¬-ÒÆ\u001a<®\f",
      "¹Oð_ÖÙyC:µÜÊÅ¬#­°\u001c",
      "¤1C¤\u0012ó<èØöÎ\u0018ªÞ9ÆÃWwó,jð\f",
      "ùãóëß\u0012p\u001c",
      "L\t\u0012ß3°!.Ùûw¬ß)·¸óbw\f",
      "Öó[³5",
      "Ú¯]oÏSbÈÓj,¡ò$ÔäÙ¥ºgTà²£`\u00132¨\u001c",
      "Â´Õâ\u0005c×XK<\u001c",
      "@¦Q¾5ó\u0003¯\u0001{ö\bt\u000b",
      "Ø¿\f",
      "%\tI ëÿTÔ,/ñåÇI\u001d",
      "EXhk¹®M+¼BM\u0002½Js¡a$ÆxÛ1YÚ6Î",
      "Ó?R·(ö(=|X\u000b",
      "¥, \u0014ÏH\u0019óÙÜ\u0016ÓI\u0016Ö¸^E\n",
      "sÁÏ\u00025N7õ5ÄÓª9Þ$gØRÖ¤ÒägÕ_f\u0014$%¹]ýÈ xRT\u001e",
      "H[Ôd|ª¯DÆ-¿QÇî¹Qw@®8B´;½`Ú··Ì3\\2\u000b",
      ",îTÏ\u0004w=×õ¼ìb&ÖÇî*\u000b",
      "SvY\u0012à\u001e",
      "ùý+:Z×éóTo[2ß,×Ë\u001c",
      "E¶Ó9óë±\u0001\u0018ç:=\u0010TÐB]8'^HÄx;\u0006Þ%ÀÇ`!)-8\u0002Ú¬¿!ÔeðP:MoÅnv>3¥õý+<¬Ê âYI_ÏíÉ®^Ê(\u001e",
      "» ®KÙa¡§°u]ù\u0010h\u001c",
      "ë¸øôóA«\bËPS\u0010måVë\u0014<Æãlj£-Ó.µ\u0018=7\u0002ã½¬á¥òB«ësP8\u001a\u0015\u0001IÙOJ(ìÔñ¯ìÅÛ®¶©¶í\n",
      "\u0015W3ª¹\"Z\f",
      "Øª\u0016¨Ú9æºæĀ\u0001\u0011öÙvÀ ^`ÜIÀhI¢7=+\u0013I?m\u0016õ7¼¬Úê¿\n",
      "ünÒ`´Ä\u001boÂè-\u0016C{vÉ°îã<FGA%\u0011!TÝryþlÀù¤>ÁÌzÈ+B\u001d",
      "4\u0011OÖÉ9îõ\bÄP\u001c",
      "i\u001bùy",
      "ÛÍ\u001b\u0015OÿL/æe\u0019Ā\u0001y\u0003,±Ò?,ZÛ[ÛjÓ[\\8\u000b",
      "GI¹+È\u0004\u001e",
      "7ùöX Ä1é\u0013J·\u0006¾å¼9Sëd,æïzÐ>òùw¿\u0019òEª«Bþ½ØXwÍ¥Sòg2æ»´w\u0006qX¿t2\\HÞ4º÷Æ¨-\f",
      "±PkÂ¿qìºBor¹g¶n¶î3j}½eÏ7¸\u001d",
      "ûh¢ý,Á½>{ôyz°¤Öa\u0019b/BG\u001c",
      "?k2ü¤öê_\u001d",
      "²·FðRLº¦&#\u000b",
      "a\u0001ó\tÐ(èNÊHqKè¤\n",
      "G;°èwö÷Ā\u0001¿r{Åû;'¢¥ÏÿIV\u0014[]c$·Á4±þ;ûV\u0014Ç[§ûe÷Plq\u0018sðH`QHØ¾65ÖÊr²×\n",
      "T×Ø\u0012¯::?6z®\\­Î\u0015\u0013Âó¯ãÆ\u0019 Äl?\u000b",
      "oåËðôaæ\u0014cèÑĀ\u0001[_×8²_Î5Ø!ÅÄ\r",
      "4ÇþrO\u0017J¦QúXMI2Hß\b²©-Z°!qJ\u001d",
      "{ ¦Hvjf\u0007üîfb\r",
      "\u0007DĀ\u0001.Yq@\u0014Ó´æ#Ì ß\u0004GV·\u0003ÝoÁáÖz/ßÒ¨»t#ÅÁ:,Á°%c{|W~ø59vÚõ¾cÛ\u001c",
      "Ìy=úSJ\bÉº\u0004 M\u0013@ð¢]à½|¦ÜN\u000f¨G0%ËGø\u0003aW4Ç4à&\u0019ëtÆDQWíë00¡û#Q<¬\u0006\r",
      "Á\u0001z\u001a\u0005\u0004DÖî¤4Luß_Ôæ¡\u001c",
      "¸ÍÅáX}Dò/ª§éßuZ^Bï\u0005!ü9rç?\n",
      "Êús¤\u001d",
      "å,n`O\u001f\u001c",
      "ëÌÅ·#èËôÿÏºô\u0013>Ú&Áú\u0002ÂÉáÓèj(¬ý\u000b",
      "kS÷4kuíø<¬îm]Ý~<v2´\u0011ÇH 1\u001fÞ×´õ¾<PÍ¸ß]Wºd\u001c",
      "K¢d3\u00069Çýèo~2_(ñPÆXøðâ¼¿\\£ÑÊu!ÇÁ\\\u001c",
      "3>²û\u001fõð[ß¤n}ø\u0011ÃàhóLQ¿z$sþçé>B\u0004@h_­cð\u001e",
      "R¿\u0014\r",
      "ì'LÕö \u0011l{f¶µÑHg³µ-c\u0003BÉ\u001e",
      "2îÓ¹l\u000b",
      "r\u001bþ\u0013ãõÞ$»ú",
      "\u0002¸=ôÑ{vð]g¦ã°\u000b",
      "ëóÜÛê©ÇõÈ»\u0017¹·\u000b",
      "Ò*S\r",
      "b»Ë\f",
      "*nÚ!atÉ¯¨Ä\u0004òO®\u0010«Ā\u0001d\u001642ó\u0016Ø>U\u0002¼òð[+ÏO3Ld\u0019QUâÐò\u001c",
      "l\u0017\u0002Èp\u0012duYdp\u001d",
      "\u0010crö[\u0010\u0013Ú[¶ÄÝ_ÈnÀËÜºzú\b\u0005\u000fûÖO`",
      "ß4cc8×Tî(\u0007\\¨ßX²$\u0019êU¡ùVã<öTÔãÎ\u0004<zÂé9ä®n[¦[±´Ò\u001d",
      "ÕªS¨>/Ú =n§àÙÆjh6ÕÅM%z\r",
      "eeÈ Pkô¼\u001fBãUÓã\u001fE3É$\u0014G\u0016qIÂÏtÈK¬®]&¶ÄÎ6äÿî\u0018\u000314;\u000fGrÎqû\u001fª-±ëû|Ljl;¦ÆÓÝ qúR\f",
      "@=+öéIÎb\r",
      "N[uÖ)<%l\\\u0006CV>¥¤wĀ\u0001DÜö:µ\u001c",
      "iDßkîx+3Þq¬{\u001bC¼ñÇ²v>¯±ÏÊ\u0012j\t\u0014\u0014;ô \u0013y'\u001c",
      "^Z¥Îgvh !\u0006OçÉ9ð_ü<é±.Ï«\u0015¬µo±å2( |\u000b",
      "Ùd>¾¬V(&Î*·vciÔ:T\u0013~û ĀÒó\u001e",
      "\u0013'^,\u0016+\u001ayo¤@ä^ õÞ\\Rp\u001f\\h¢\u00121\bß4Ê\u0019áe\u000b",
      "Ê»½\\)Û2ÿ©\u0003C¡\u0001]dúWÈöî;\u001e",
      ",É¹FiÝÉ\u001e",
      "·£±d\u0001Ol2SÒV^·+\f",
      "LÌ>e®õk3zEôüÑtìÙò\u0012píÕÅBÊÏ\u0010DW§Óp6ÎRo-\"Ç$óz\u0006ûÜ³9\u0019Ûy¯Pùpr}Ã\n",
      "6ÑIú\u000b",
      "¥",
      "\u0010Åò[;N¶c\"WÒxëzvÃ¸s\u0011ã7ä¯,3í\u0013\t&]\u0012Ā\u0001\u00046ï}\u0018¼\r",
      "N°[ð\u0001äþ\u0015¿ÜÀ[ÎáO¤ô6¼jVq8.º`ã&ÓÙõÂÎiªµïb'¦\u001c",
      "]úÜT\u0018,vr&»\bx\u0012h\u001d",
      "t\u000b",
      "H_^Ā\u0001¼H\u000f\u0003·Î¤\u0019èØ=c¼0_\u000f Ã¿+¸´Y°Ûn\r",
      "Ë.U«XÜ\u0010W\u0016÷3Ü\\©oqÎóÉ\n",
      "¼¿3z\u0015'ïÒà\u000b",
      "\u0011u¤.`¢Óy\f",
      "Q|nH¼¹$nç,",
      "ÁÂ\u000f2ùØjä\f",
      "êmõZãYmÍ3GÒ¼´\u0003ÉV³¹õå ®yþª1=8\u0010øg]'\u0019½|{XqÓ]ßAÉï\u001fÙ\u0007G\u00037\r",
      "\bG\u001a9Èú6.·j[9Z'Pz¦kÈO´Õ¦Ôv\t=ºS\u0018î`@1<ZI\u0005\u0012Ï9¯x\\áy0T\\z¢/cR\u001d",
      "Ò³1\u0002Ç9!\u0012Ý÷¾lÈø}<dtä~wðÃ×¡jÎ§Ú\n",
      "Ûî\u0016G8´¤+?\t<{\u0017é\t\u001f:ªl,¬ù\b`Öå½ºJhô\u001fLÈ\u0007SÜÇx\u0016ä>¹ä§+f\u0005¶H\u0018µpÞgPíï/ÿÜ\u000b",
      ".Å+¨\tãáÇ\r",
      "¹É\b\b(¸R¸ Ãã*?Îf>¿¨¨zóÅ\b&ÖïÈV=\u0001\u000b",
      "\u0013¡ªè!ôÏyª¿\u001bë\u0017;Pâ¾ÖµHRÔ]=sH\u000b",
      "d!faÀ*WÏqGBè9\u0016îû`?\n",
      "CÀÛÃ:tiÒêçrç%&Â0¶L¨\u0002Ðn¡÷\u0015<¼\u000b",
      "ÒkKèÍ[>ïp}´k÷;",
      "-®\u001c",
      "Â6ÁQ¢þã:\u000f¾HØ°6Øë\u001f\u001aØöÜ¬|î\u0010J×vî@íÉ.°d´e\u0019Ä¿\u0007\u0016ÉÇJã¿",
      "×?+ý,µ¾³\u0017\u001d",
      "·Ö¨ºµ\u0018w³.hÎxqÅ\u0019%dÔ9\u0004\u001d",
      "NÕð}ã\tÓ~/\u001c",
      "À·wÔÊ,-ÑÅ­¥\u0003²¼e»\u00101\u0019=ò®ÐÎÐ\u0003ñ®¯ù¯`\tßCûnæÝ#g^F\u000b",
      "æÖ¿d#o\b xiè\bðdùVjb~r¨ë¿/ñÉ'TpoØnqç\u0011ºffÛ\f",
      "ó\u001c",
      "¨_°cÒÿ\u0019i¿$ÒµÙ}Q$ò\u001e",
      "Æ*\u001b¤kî&Ì@/ÉL\u0014Ò{0\u0019ã¾ Ä?\u0013ñøaEÓµ¬\\AîóbYÂ F\u0004@Uds\\?]ò=ø{\u0007©jTÞé»l-nhba·¯Ā\u00015f\u001e",
      "íÈ\u0001ô\u0004õÐ¿*Rñ&¢x\u0015´\\Á²¡ÅU\u0018aªÝ4nÁ(l½ùì£Ā\u0001ÃDñ´ZÓî=o_9Þ^ØFc9è,\u0004âHÃð\u000b",
      "êÿ\u0002Ô®¶À\u0010éû¦-%ß^\u001c",
      "sYäwzêÐBKQºKlÜ×/âÕ-ÿÈ$Íb2Hee+s1W\u000b",
      "êË6>¾îÔF\u001b\u0013ê=f13xĀ\u0001[êPõ@')ÔM¶\n",
      "\u0007MDgC\u00137òêÈ\u0015ìlL\\uf¸E\u001f\u001aQa\u0012êZ|\u001a&¹úã4ü/Óãù=n%\u0015ÁÊÜÆXuÜ\u000b",
      "dí)³~³AÎ\u000b",
      "±-GC¡\u0013ýátX¥\u001fUÃ¥uË\u0013\u000f?¡Õsjû>æÝ8¸;v½¸Q$È\u0015î¼ÍFmo\u0002ÉÏÖýH²jé]kHjmt¿\u0017 Zp{£ÝÃòÇ±#½r\u0018(\u000b",
      "¡ä}Ú(×º0ÛSäÅ\u000b",
      "¦ÛàÚê¸.¨êæ0æ¸#,hk¹ÞÂ\u0001èxáØ®éûg©ÝàÜB+Îr\u0013È'o\u001e",
      "Ø\u000b",
      "J\u0019\r",
      "O\u0010=ýV~tÄÿ\u0012ØuºõþGÏhq\u0005åxmo\u0005°ÍP\b\u0019$¢\u001d",
      "V¹£U¶¼?Jòç¦ã~Z\u0006Þ³Lpz6ÑQ×a[\u0004\"Û©ÉAq\f",
      "áe½î¯ãðG¹\u001f<jýT®,ë,>º4*ó¥ºIúÆcÂdóq¨ïö=Ø¼yÈÄ?\u001e",
      "ò\u0006¦µ7÷WW¤nvqÎÿ»9'3Aï9è[äýVñ³\u001e",
      "dWün½|~·ZälEYe·æ\u0012W\u001c",
      "¸v(\u001f\u0006\u000b",
      "\f",
      "Í¦&|´",
      "òe?\u0014Øí-vþXÅ\u001bxlu¾o5b)Ï8¡ï\u001c",
      "z\u001d",
      "+ç¬â<µñW²§é»©H<È-w¾|¤$\u0003\u0011oaÜ¾\n",
      "ÈR[øÀ\f",
      "!­8hJù|4¦·ì@¸]CßfÈ@-¼dÁ¨!\u0017Ïy¯ßÌâ/.­gì\\ò-X£9øÎp°P´y\u001d",
      "wÅè>\b\u001aã×|LÞÐTÄ¿\u0017iè½qÞÝ·ÇÒ£\u0015²7aÅm\u000b",
      "®\u001f\u000f\u000b",
      "Ý\u0002\b¾kýM¼1ùwJã¶78x3Ê\u001d",
      "³îô7âLdä?¶îØĀ\u0001\u0010öª¨ô-¿&ù·Îw¨ïÄÁëÆG3LH|Gl [ùvä®_Áê;¨Åh¿ÓfS7ójò¥°^®#\u0007Aé\u0002ì]ô¡÷G¬s]úÄ\u001fªë1ú{¶ö´¸èp0ÍïV)\u0015â1\\/\t:\u0001\u0002_ú¡k{g¢)Jöf)¦IäJp>Êµåå Q@;ÃùñÔIñ\u000f#¸çlß~ '\u0015$\u0004\u0002»\r",
      "Ê:î]fÕ×wC\u0014,\u001a\u000b",
      "Ýÿ]MBfÝH\u001d",
      "\u0010çy¯ý.\u0019ó|ÏÍôrV(\u001a[+éõð7Ûäë7÷\u0015ë²Dod£ò\bg(<\u0019årÏyêZ?\u0014Ô¿$j\u0018Ø¸»Ú¾âÅòH«­ü \u0004­\b§@¦Bâ\\ÞGĀ\u0001ÄÑÊ&÷êÛX\tð\u0019 ¼\u000fG\u0003¤\u0004\u0016¯k4Ù0%¶dÇ×\\&J\\ÖrÐol¢Ò®ªÎöFµ×Èý]\u0018îhvyF$\u0003YÜ5\u0018ç!\u0015S\u001a%q\tîê_idW\"\u00016ÊóÈ'AÀvP\u001e",
      "AÞÈ[øp\u0014j\u0003ò0ÚèÕ½lb¢L¦:^L~¸\u001d",
      "\r",
      "äË\u001a\u0005·ÆÄ©:\"1z«\u001f\"ñ¸ÄLù$Vù°¡Ã´<F\u001d",
      "[O\u00175S\u0001Ü!G&VAQ\f",
      "\u0012µxåó«Ât¼4×",
      "°\u0016~íuòy\u001c",
      "Å{×£ëXWJhv\u0013\u001c",
      "¨¹(Í>",
      "Iø9ä¯\u000f~¬¡ùL¡B£\\Ð÷<Õºòx20ËY*]hªé\u000f~Æoý>ù-ÿ\u001bHäéöþ\u0013ÿÞS×L|vÙ±úbq­\u0019ïê ]XD©y$R·Ôf;?¼w¸RA²ZáF\u001fÃ9\u001c",
      "ª\u0005|c²ûµÝ:Oã:ÞàTĀÓè¶®\u0010âÎï®\u0006",
      "»=@=³c\u0014[ +xÞ«ó'\f",
      "8f\b=X¢ê\tùP¢^Ûj8\u0012Æ|ª<",
      "\u0012ÝOfG>Ú\u0002êÂîõj=³`+Vì¶pÌ6\u0017âð\u0010Ü_¶õ\u001b\u0017\u000b",
      "ÔJç6Á·\u0003Cåa·íh9\u0001WÃv\u001c",
      "Ýä}\\ä^\bÄ\f",
      "'¨Ð\u0006ã;\\Ü\u0001*\u001e",
      "·\u000b",
      "É\u000fKB9ÂÈ>,È_>º³Õµ¾\u0010T½»J(\f",
      "\u001e",
      "È\u0010És#:\u001c",
      "8q4É:á|=?\u001añõ[Åû½{OØ\u0006M¸_Qô%+13{w®c²\u0016\u001c",
      "ñù\u001d",
      "\u0017\u0004\u0015ú\u001c",
      "{³:ôÐÄ>PÄĀ\u0001ý%;ÿ°#kê÷G»zâÏ\u001c",
      "d¡%JtÕØ¼Â©Ûyå3\bj\u001aÉÎ]%7d\f",
      "|)\u0016\u0012",
      "ÉOV\u0001øçFFY&,6üQj{'¼â\u0017×®c¶6CÃëÎÿ¦Mµ~ãwòélÃö\u0002\u001c",
      " \r",
      "[ë\u0011yv>Kb\u0004?ph\"yÄ t\r",
      "þÓ~\u0007A:ç¿Ù^3ßGú£§x\u0016\u0019ªbÔáS\u000b",
      "H\u0019è¯Á3<ÔqMr©ã­añ7ß|~Åø´Ç¦ß\u0015ñ¥é!ÂQ\u0019§Cè!ÐD_¨ý!¼Øý.l~fv©êìMÿk`^£ícBd\u0007t¼bárÐ[û][§Ó\u0003mõÜYÛý,©^Lxv¦*¹ýÊfJ\u001a\u001aÜ\u0001sBè]·ÙÒ¾Úã,~DR¸Ôãn\u0013ò¥±}3úWø!?ÃZÇ\u000f\f",
      "\r",
      "öú­©­6©þ»N@SZÊ\u0001Ë5&}\u0010SÓ æ^ôyTÄsH\u001b?eë\u0006Í~2ðV/ý\u0002â\u001c",
      "¬°µ¿©þýª\u001e",
      "\u0015þA95¦\u0017öCSIÌ\u0011­ç(»¿¿Ô¦BÓkqD ­rX^ý\u0014ùr\u001e",
      "Îç¶~ãlüÄxqÔJæ#·Y²%\u000b",
      "¤\u001e",
      "JìJö°a·ñH.Ì5?\u001fÔÜª1ïý:®üBhjoÑ\\Ä\u0015\t1©âA÷\u001e",
      "+: Rô¥z°Ä \u0006j·[[Yê;\u0005\u0017ÛjWyð¯îï\u001d",
      "êûå÷¯¿ÄÂÑÆso6|ÊvXS=\"Q\u000fÜP\u0007»\u0015»\t\u000f\u0004nîóÔ\u001fâf\u001f [\u0015\u0012/¤|\u0014Ç.âEUIÔiá+Ô¥¹Dß´Ì)è:\u001fÀ@xÓíÐSú\bj\u0017yôÁhÑÖ\u0003á¸_~jëêh\r",
      "gf\u000b",
      "¶I'£jS:\n",
      "ì¹eáx©ÞUc4]VhlÅèÑMfç\u001ax\u0003@+Ý\u0003OU\u001b«'meq{Ö¦%M2ú²×§Æ!\u0014\u0001GO>êÃMÖj=ÂÕ\u000b",
      "ÀË\u0019°¹îKÆ]ºç\r",
      "áIÎ×¬\n",
      "\u0007í;^å\r",
      "*û\u0004Ó§Äº?e\u0019Å ®KtHYþBÎT\u00147qq?¾)ôv\u0019>þ*Y/j§¨+õsH²ªXX\u000b",
      "­\\ò6MO3Gÿ\u0018È²5k\u0003}D´\u0019ù[~\u000b",
      "LĀ\u0001³-³$ú¢8\u0012¶Ç>\u000f2_vãÀRÆâ\"¦y,Ä\u001f\u001b±¹S23Mò¼rÏJ\bªèõWzUh\u001a\u0015ÒuX¥\u0015^ôíĀ\u0001\u0006ý\\\u000f°bþb©Hb·P¸½»³P*d§!G\u0001ë\u000frè¶kéà\u000b",
      "¿%[ùÇÎ!µÕ@³8\u0018x½FI$\f",
      "órø\u0005½Ā\u0001l´\u0007®5H,0êD±øÒ`\n",
      "5ÎtGÐ]yÞdM\u0012$\r",
      "VSeüÍÈ%\u0017ï\u000b",
      "Tá(\u0019c^'j<æ0^\u0010¸\u0016ØFãLø\u001d",
      "V{0\u0014Cy#?§R¸F*5zÈ?\u0017ì\u0017÷Ûf ýL¯ùW\u001c",
      "YÛ@#\n",
      "\u0017I¥ú\u0007aB\u001c",
      "³\u000fP}ç´/ý\f",
      "ò~CNcðã¶®å±q!µó¡Eÿë¢ÏßGx\\%áÆ|=[Þe*ÿñ¬*|f3áP\u0014\u0004Â\u0006P´\\\"ô ĀÔ÷g¤x\u0011í\u0014ÉM\u000b",
      "$~¡zÁ tÎRügíóy$5%ÐÈ\u0004(¯,|YÒYOs\\(ìOvèjrÚ­ôzæõZ¹Ç*WúÚHÉîĀ\u0001\u0002Ê\u001575i}­hyý<UéÑ\u001d",
      "}Å ¦b\u001a¦=ä\u001e",
      "²ÐèNlºÜòÿÂÂ5\u001e",
      "_>h\u001aûc'?::Á¯m_¢\u0019?eyêùÕÇå¹\bÍc>\u0018¹­u`lM{~PKpÛÕhj ­\t[:\t.ç4\u000fùª,nV\u000fèÒq²«ø\u0003\u0010åj£áõé|÷­å\u0013£\u0017. àîþj",
      "Ì¼9ìÕKé-lFw\u0010É\u0019\u001f»zýkB'ÝaAõ:­¥3*\"^Þ1:¨2\"OE?£ái\u001c",
      "éýªÌ\"ÜAþl?*7¿HÇzÊã\u00198+D/OIoÕ\u0006ozÖQs2Õáq>lÇ?#Ñ[(h\u001e",
      "\u0010L\\Z«_.ËHoæ\u000f\u001c",
      "jæ\u0004Çá¼JéNHüVùZÑý\u0004\u00168\u001f¦t÷lª´üÐ)¤\u001e",
      "ªê¹\u0017í\n",
      "ûuÀ\u000fë\u001bé·|¨6IÅr\u000b",
      "\u000b",
      "¡\u0001W6k«|51ï®îºí÷ÀµÕçi_üÃË\u0014üÂnºÔ{©(ëF|°}b¡yÌL\u001byÇ\u001c",
      "\u0013¤f_(Á<^P+Ù>\u000b",
      "}\u0005ÛÚN\u0014²S1XÝù\u0010«ÝyXã§sÃ\u001c",
      "N\\þ\u0017fêô[' \u0010ÅWU²2­¬ahO=Íü*Ü+\u0015\u0002ÎS¬\"äÑVGã)fÈªáç¢äÏ\u0001«1í\u001c",
      "®vt\u001d",
      "W.PºdÛ\u0012(Î\u001fu",
      "**ÁçÅ DõÊðVK;·Ý°(ØÁÒüJ@,á\u0012Ò¼Uf÷²\u0004j>{rV\u0016\u001a\u0019³\u001aé4Ou\u0012Ç\u001b=©$õ¥5Lç:!\u0006 É¨åTð\u0004UÛA1¦@KD?3³ ¡UÝgaX+Æ§k4e2Ð§qkq\u0001vÙ¨%Ü³t _i\u0003sí®1+wçÏí\u0003~tVæfÛ4Ð[P÷àqi\u001ay@_\u000fÓVrékËrxdô¨\n",
      "X9ô7¸øN\u0001Z!u,¹Uz\f",
      "Âg`dÎE]*\u0004q\u001a¡?ï\t÷5ÊÄõ\"ó<T^Ç\u0007\u001c",
      "?ÁÕ/¨Ôõ©LÕ°KW\u0003Ø!`±>)ûF$%VCGv%\u001e",
      "Ìùç¿BÁaßõ°bÙĀÕõÜ¿Þ\u0002\u000f{oÎVZï\u0013C³I\u0004íJýkÝ*øí@\u0002J\t0û¶H>X\u001d",
      "ÿvª)Ü6Ä)j7»ä\u0003+ásU\u0016´dï\u0006N\u001aaÅ)\u0004ÕP@)Ê\r",
      "H±Çj+\u001a3\u0004ÚÉ\u0010¸@Ë\f",
      "ÉOAH_{3õû\u001d",
      "UÂ\u0012àï)\u001f¥[ü;×S\f",
      "Å½u+Ù¥#¤\n",
      "h æ9\u0004ÓRÐá;Ô\u001a²âmhèË¨1ÅÀ+ÏQ9!±«Ó[È\u001acLªÐ]\u0011PäJ³e\\+\u000b",
      "¢²ëG{Ñ«¢Á|tÜ(n-RM\u0014æ¹v÷\u0010ÿ#¤\\®ÜE3èç-Äõ¥\u0004åÄaµ+Aÿì¸Ó§³%\u0005\"àËªp3·7ÃtÈu®\u0006yÒó%bì\u001aÿµ\r",
      "\u001f1\n",
      "óç~Úõçt£\u0010ß\u000b",
      "ß",
      "e¸\u0016\u001c",
      "ÝÙÌ]3 CÅ ×Iãc&W\u0004\u001e",
      "\t\u0004iN\u0013Êr\"^£%äª,×*Z±.Ùë\u0004°4:m\u0002à·iÍTIì¼=x\u001aãĀ\u0001¶¦»Ô}:-r9v\u0007úÏ\u0002ñzí,·2êø1[ð¶_\u0003¡n­ýu\u001d",
      "v°~ùª¦ÛùÂ¸7x?u\u001fKþ¢h\f",
      "¹$(>;Õ d_@¨Nnv¥®Ñ\u0002ÙÇ\tîô2ØÞí|\u001akø^¸\u0018U½L|)µ)°W!~9\u0005]è5ºæÕõ>OÐkÝ6í\u0006Z\u0010\u0004l¬o\u001aû\u001bì®o®gß7ß\n",
      "fÇ\u0010¶Dä<NK^#.lKó\r",
      "{^å3Ý-\u000fñ^=qºÊí\n",
      "¯=;}êHtÒÅHøpû\u001b(\\eb'7æ]f¼\u0010ô©Û&w\u0013%á\u0011\u0004mtZ; mýD¥H|a\tÇRñOHRé\r",
      "×ÕPæ£\u0017Uf$õ°múFÈrïÍ\u001f5nÐÿòÎOò\n",
      "æCTËn½\u0011Ú\u001aûø©M²µzÂ^®Á(5Nt%q\u0014\u001e",
      "¥9\u001a\u000b",
      "\u0016±Ð\u0015\u00137'*KÉ¡è!\u0017\u001d",
      "\u001bs\u0003³\u0016j\u001e",
      "Ls\u0010kFaBãF-3WO¤H¦WJçU\u0017ó­Rî\n",
      ",\u0012¶ó<x\u0019ø¡\u000b",
      "*d£»þöìÈ [«ùbô¾¸\u000fÿ¿m÷­\u001c",
      "\u0005ÈéÈ$ß¦|R\u0002gvVö>ª2£ªWT\u0013Ä¯<Ô%þãæ\tÉĀ\u0001huFð\u0017Ð$\bIè|\u0014¶üã,­Ïe>Lu¨¿î",
      "GÚĀ\u0001g¶'Ý®\u001c",
      "-¢Ð\u0007«;ÎmzÝ\u0018=1\u001d",
      "Ñ\u0003È=|ËÝ*WÏ\u0004\u000f",
      "ÔæS£îìRZt\u0019ádô\u0016\u0015§|cÝðMÐk\u0001[V:ô\u0015T½ùå$yÂö\u0007¡\u0005KÄ\r",
      "ÒÉG{èó§¹fÉIèð° \u0001]\u0014É\"¥$±=TH:\u0004\u001e",
      "àÞÆg/ö@,\u0012Êë\u0010âI&êç/Ýõ>\u0001kú?Ã{vÿ}º )$Õw­Ú_Fúô¾HOèô¨ÜÝÙá÷# ĀÖöÜªW-èj(·Iþk<J\u0005-PË?ê>?¶\u0005ÝÉY{\u0018@Ô¦L\u001aFúU\u0003\u0010¡ÎmfsÅ\u0014§í\r",
      "àìW\u001f_;ÎW\u0001q¨ó\u0003A\u0007Ã®ëN\u001b²<G­­^rì¨¾ä!X\u0004¸9\u0007}ËOâóç¤H\u0006ýÆ\u001af:(\u001a(ÜÛ¨Õf¹%B?ÿ\u0004{Ö%\u000b",
      "\u001as|{WOê[AYd\u001f@[¶\u0005­\tMrÇ²qsEfy\u001d",
      "å}A­en%\u001fÅVUÍÁp%ýÚÉ9ûVµ\u000b",
      "¨°ÔD\f",
      "yÑIÆÉåh¦Gì\u0018t\u0012O4\u0019ÿVe7$!*!õ«\u0018\\\u001d",
      "$!È]\r",
      "ç&.\u001d",
      "\u001c",
      "2Ý\u0007ÐØ¾U»d\u0019\u0011©\u001e",
      "7àèRH©c'\u000f\tÈ5ÚÔ!f\u0013­qÅrA\u0013B½írÁßBÈúø¯pÅß0Ãtnp\u000b",
      "×÷ø\u0016ÖH\u0017a,;ð\u0002°\u000b",
      "òO±Ól\n",
      "¨bî\u0005",
      "z?j<ZêJ¼\u001fßF+´TÓG¢ã.R£gûiãg%]²(Ó½×~CùN%\u0006æ¶Ä²\u0010Ä\u0014Ê\u0004¢ÐâÎ\u001f.Ø6eÕµ~\u001f\blp¸ODIÙ¤îÕ×Ój&eYv\t\u0019ÅüfþáâdYU©­Ð®Y+\u0013®)_ÊjÜ^Ì×rH\u001d",
      "k÷JrUK¼V4Ý·ij7°r6æ¦ÿ£h4CÂÑ\u0011\u0012\n",
      "\u001d",
      "\u0001<ÿ6TO·Ü\n",
      "¨q¥øÿQ+\u0019-å¸ÖWòhj\u0018\r",
      "ý¹o¨¾º©¨G1xHfM« &£ö8?\u001fê[°­Á6d\u0012ÉÎ\u001d",
      "\u000f8E¡ùBï,Ø}\u0016«Oænïåà*éÁå\u001bóéå.\u0015\u001c",
      "°¸\u000b",
      "\u0010MüØ£ý6PºÔÎÓÝ´`G¤ÎÕ0ß¿ëPDú×êgh¢ÂK.8o·ëwmcZ±Ë\u000fô4P,R\u0012ú{UÛp(þt,ºä\u0004(5N~\u000b",
      "ñ`³Ý¹\u001c",
      "Ã°è×µmýù¶\"g({²á\r",
      "ñrK%}ÁÏ;äûpð(=¹Ã\u0017¤hÛü\n",
      "ÙĀ\u0001ÝÐRìS<\u0014Jv\"PT\t>Ā\u0001\u000b",
      "LJ\u00153+§ÓH\u001aã¤iæÂfTÜ¶Ftid<îÏrÏ{ Ë\u0018ï$M¼î\"´Éö\u0016SAí",
      "°o KL,­¿ÚZ´Ã¥»\u001f_Ø\u0002\u001c",
      "2Ó,5üZW^ÉÝbÂªÍ¢äÅYxÁêR\u0012\u0015á)z\u0001\u000f+á¬\u0019¦Ì\u000f\u0016²>\u0001X¿",
      "©3G¦°äQHyâ1à8Àrùx®)ï±7Ë¤·â ®SÕmÄ¢\u001e",
      "¨ÖrÊ¡e\u0003Óë]¹ºÔ©Ûbÿ5åz\u0015\t¦cáõc;üÖ9E}*iÙv\u0005áV9ía¬!éIìíi\u0002Í\u0016JaÆ]v\u0005qjE¸\u0005îÐS{ Ä¾B«;²!õdýªæce<\u0018\u001d",
      "\u0016=hß\u0013z Ï\tV(æ$@`KR%s1\r",
      "\u0012]¢«²\n",
      "¤:GGTÕ\u0012L\u0014ª\u0003¼\u0010v,Â?Õ\u0002Ā×õ\\qÁä\u0012è%û\u0015Ā\u0001=­dÌq¥½Põ§Ê$:xÎeÊ{\u001bðeWÏÍ9 A;×çI×S¬pyÿ`¼±eÝ5Á =\u0010$$ó¯kZ}\u0016ÒOn¤õûW¶ú,«1`GÁÈæTrÙÖH\u0002xáäº(9§ &A2â\u000f{V$H/Ø\u0002\u0015õa\n",
      "Êõ\u001fös&\u001c",
      "z",
      "§tÉÇ)±Æ'mÉÏüP!\u0007é>N?LÉäZ\u0016#h\f",
      "ÉDd_¥Ìµ,/äµÇ\bäW\tIp",
      "ûÑ\u0003êÈ\u001b+GYx+\\w+âÛHÎ+6Á\u0007V]è¨{±%aÄq%sN'\u0005òKÆKíóÁöÈ6\u0006Ä0ÆqrkyºÏÑ\toÅ÷«¢]3§áÎÑßhÞÝµM¢[#`¼\u000fÉèWFj»¨Þ?Ç¬ËÂ`t4<0S¡\u001d",
      "\u001br»In?Ò5h&òCÓ\u0003ÅKèNñÍ£\u001a\u0003=ù¸\u0019\u001d",
      "ôÕO,Ç's/\u0016Ub]t\u000b",
      "ð?,ë²Ê\u000b",
      "£\u0007\u0006÷\u001d",
      "\u0010è_f¬`H\u001d",
      "h\by`¼Ç\n",
      "­æºû\b\r",
      "Ò÷yH8Ö\u001f-Þ8Å@\r",
      "Ãä,O;h9ÎiÄá\u00125Ên×Ñ4f&t\u0018($\bÑw\u0016HÅY\u001f;ñ­È9.3hÕá\u001bîÈû§ý+PH\f",
      "¨\\\u0012ZÕXØĀ\u0001nH2fâ\u001c",
      "z}?moÍ:-=Öd=}ºÇ2ý>,lÄU{W\u001e",
      "J-ì\u0012!4Ā\u0001!<\u0010kÀkB\u000b",
      "ì¹ÕëÂ\b¸{h¤H\n",
      "G¤\u001c",
      "5®ó\u001b´# »B¯ Á» Ù¶ürÐ0ïe\u0019ì¼¨år]\r",
      "Øs]lPj\u0005æC¢¦9ü¥÷ý¬kÊ¯\u0016säèº¢3²U¤¦+pg­|µ!\t%^¥·L\u0004Áö6g}9Ûeú{~íY\u001aÿÒÓíðfäXn¾\f",
      "xÉ6gy¼æÌ:èåä®k@W¦8\bÒÙ¶ºä<G\u0018që?ðæQÝH¾CzÞËxv$ß¡»I\u000fáüh\u000b",
      "þ@?Ö%x\u0002²¿\u0007>ÂW\u0019¥B\u001e",
      "µO¹J¤-Þ\n",
      "-\u0006`:w-Æ\u0007\t\u0005\u001b5Ù'\u0001þÀþvk\n",
      "øý³!ä¬s*Y\u000b",
      "³G^ôe\bk\u001aeÄ+8\u001d",
      "eÖ¨'<£fvïº¨\tToÔ¶þRI\r",
      "É\u0012E®$ÜÄ+¯G\\p§kja¿bØà¾IÒ¡\u001aÁA6\u0010âË-;}àÔßËØ\t«s",
      " ? F-ÓÜ·=³òÀg\u001d",
      "\u0016n8ýÚ\u001d",
      "\r",
      "\u001fµ,È3\u0019`l\u0004Â÷÷§\u0007vÉ´¹\u0013aá\"É­Ú´Áfm\u000f¸\u0019®²\u0002ýÉO34k\u0003Åå=VPA,ö\u001e",
      "é\u0012F(9\n",
      ")hC<\u001f [Éar1»vìö§Í©·À|soÉè!V7Yò»8WÊíK\u0007Z53n&ä=%_*+",
      "\r",
      "V·èdfuú\r",
      "\r",
      "4uûS´zäqV$¹éPæKáĀØõ\u0007ºóEÓ,7zîQÞß#»ÅgAÅ\u001d",
      ")\u0001èñ¯oóøSjLIÑ*Û\u000b",
      "å²\u0016oÏ\u0018 e(dhÐä[ô\u001aÙ²%®-¢'\u0011«È\tÈèß­$¹",
      "FoLú´n,ùÕ·ûm\t\u0012Çú66»FmOáJömrJD-«SRâÇ\u000fýÌýy&ÕZ1Ð÷móª*^àS:Æ^z£<\u00137\u0002\t=\u001bîM\u0003I´ëÁ\u000fÕ¶hmaÂ&\u001d",
      "wé¹÷®\tåfAÍÜ¢\u0016G\u0007sfx\u0012Ø>ënä&\u0002(à>jxö\r",
      "½\u001d",
      "öbÛº!ïf``6W7\u0019!nÉ\u001aĀ\u0001öUª*_\u000fß[W\u0003Ydð_~\\99©¶\u0003Á+®\u001f:.Õ\u001bjWú½Ý\u0011È,±\u001f\b¾Fy¦®A\u0012\u0007a1qà×)z?eZO$\u000b",
      " ä\bÜß¢¸Z&»m\u0011ñ\u0004?È¦8UznÝ\u0005c\u0002æ¤ÚÁ\u0010`{ªh5ó¬¢¢\r",
      "M\r",
      "à>{þ*\r",
      "á.YÍ=P\u000b",
      "Á½\bÎ¶Q\u00127î(ÿ÷ðÓ½Ā\u0001_J\u000b",
      "¢ô\u0007Ó",
      "\u001d",
      "Bè¶v,óĀ\u0001Å\u0018SÌ¶YÅÃ«=äýL\u0013Ç­deÎ#îÂÈ:\u0016Õó»S¤÷4ýv-Ì¤ë)¡®¶óÁĀ\u0001y\u0016ÿ¶Ü\\Íð\u0004f1KåX ä[èÃxälÃSbyWÊÈål|Â¸|âL\u001c",
      "ª¥X£^í;h¦\r",
      "­5º2Óô%ÿî ém[´\u0019ôskT$nb±M¶!HÚã¥Q¥\u001e",
      "Ù(¦\b¯dY1\\À)¼Jv.È`W³ëjÀc2è9ý{X:ªN=äBkR£\u000b",
      ",q1q\b¾nj¯\u0001ã\u0013\u0010÷\u0014\u0001SEÈVe|XÃ¾I_é2¢Êlj\u001b'Ð!x\u0004d^d¿Ó¼¾,Ð¿\u0016L\r",
      "\u001b^Ú,æÇ%Ï\tÁT{Xt\r",
      "Í«ú\r",
      "BÉ>\u001bÒ4ó­ç\u000b",
      "\u0019ëx\u001c",
      "r\u0011\r",
      "\u001c",
      "ü¾FH\u0016»Ê\u001fÚB\u0019\u0005tÊýëjXy<\u001a\\(%ø\u0016K7ßæBôå0Çþ¨aĀ\u0001\u000b",
      "hK#\u0013}sIÄ\u001d",
      "\u000b",
      "¶¨5Ë\u001f(ÚØ",
      "(|TGxòhðSbxú\u001d",
      "\u001f¾ê\u0003.M«æIõ]ÿT}É8)-\b©êö\u0016s=³V»v'«P\u0019Ép>ó|q)\u0002ù-&A¡ø\bêË\"fa«:\bA¢ø\"2\u0001sA\u0016\u0014´\u0002æ=/UuÁÎIÇÜÞÈ?Þ)\tÜÎ^Ú=rÿ\u0016Cj\u0005\u0010ÑIôVÙ\u001a{*2@¦\u0001;*mîÿÑëjÍÊ$\r",
      "¨(e\u0003PäR?Å¼Zå\u001fµèx\u0001{d:¡\t/a°¢üÏ@+Ì\u0002+SCB(èB?¿¶²\u0010ô*$Õ+*bÉ¨Ó\u0015«[^ÿs\u000fZúñ¥L\u001fØôKtÇíĀ\u0001O¦.£ËüÄµo@4ØìQ²\u0012ÊæÐ¶ï\b@{\u0005ĀÑàºíòL!¡=/\tÝ¾«y#¼¼!ï¨\u001d",
      "ðY±U\u001fÁûüã¦\u0019½Èb\u00172ô Mª¦8j\u0016­tkâhm.\u001bÒ\u0011>°.í¢iÒ¦2ªÄ9ÊèÔÝç´gÖ\u001fî\u001a$A\u0003@Ë&\u001få¨Ô\"v%ÏòzÁac=1ÜÈMä\u0005ôØ~¦¯¯Å¶ý\f",
      "\u0015Eý¤bÔĀ\u0001×¡\u000b",
      ")/ZäI¥iÚÃá´\u0001\u001a¾ñ+ã)}ð:\u0012zü¹@P{è6)µçåÆ\u001e",
      "Á],¬!:é¡Ā\u0001+§7\\g»ô!ÚµñH\u001d",
      "Ó¹\u001e",
      "ÕTH\u0005yá¯?SY\u0004}xR±aíPBð]¯«]¥¢ðbb\u001d",
      "¹Á)\u000b",
      "*\u001e",
      "\u0016¨kÐ{^ä^ºË!NûèA\u001c",
      "lq¬Ç\u0014!õÎO&E`4Ì\"ôÑ\u001frõ«\r",
      "ç+oA\u001e",
      "Kïä:èÀö\u0003Þ\u0015=éCtenü¨ñéi\u0004c<Õ/ZJÉÁ+FP\u0016Âwió\u0016 ¨\u001e",
      "\u000b",
      "sÍ@4%Æä\u001d",
      "'1\u0010DúW",
      "ø²Åñ]K°»7á'|öÎ!56fÅ<\u0004$\u0004bý~¬\u0002è\\¤7\u0002dÉîÁ TÝ××²iÛG¹\u000b",
      "Á1>P¶tõ.¨j\u0014=,%\u0019ö]\u000få÷¡©/j%zvì­ØEÉ\tjå!¬v\u0006\u0005X ã¸Û÷\u0007\u001c",
      "¥iïC©è\u0016ÙH\u0015X*ý9ø\u0016Î_Â\u000b",
      "lrîB¹GÚ(z\u0016¶@^7©)0#Ö\\¹G`ÞÍ¹Â\u001d",
      "äp{Èñ\u0005§ÃàUÑ(9|,døFuW¤\u0005\u001f\t=\u0012ÆØbL.{\u001e",
      "RGÆ@´Ð%\u0016@ÉýjX¦)Õ¨Zp\u0018héøýv;*G*_`0R·§×\u0005®§Û\u0016÷\u0019ÎY,D\u0001°=\u001b\u001aê(~læ¹ò#\f",
      "z¤%NºHÕx¯§×F2ùBïG,·²ó=QªmÅ#ÅÅ\u001c",
      "»±ä¸¾x\u0017«ÙjY¹\u001e",
      "\u00072Gu((Í¥®ªê\u0007¦ñähú2=è\u001fõ®¾#L¬lSã7ÛA\u000b",
      "X\u001e",
      "òúW0®[0\n",
      "Î6·\u0005sO\n",
      "Á\u0019Áþl¡Ô\u001f#Î\u0019$<¸\u0011 9ûV¤óíçà_ªhÕ×V&8ä(°\bÌmíj7¼dæ%ÖG9SMïÛ<U o*·»¦ÕRÊ\u000b",
      "44r\u0007\u001d",
      "~~*Z©¤hÉ¦~\u0002ª\u0018+såôÙÖ\n",
      "o\t\u001d",
      "ah¯~kB<J\u0004Ùo¤ ×\u0007É\u0015\u0006WÐ=åÔ-Xdä°]V,\u001c",
      "\u00039aøõýëûm$q$!ä\u0001Ëº§ã\u00143G31{Ā\u0001S3LsE,\u001c",
      "!æLaàºVV\u000b",
      "¨\u0016xh\u001bÉ/\u0012\u001añË\u0010\bß\u0016M,-B½¦sH\r",
      "@®V`Ý1E\r",
      "(\u000b",
      "{hÔÑàwÃ¯ðF3yRåÃÊwèÿu\r",
      "ÍÏD|\u001f*cÑTéÇ\u001b3\u0014 _~þ*H\u0015\u001fµ\\Þ¾z\u001d",
      "\u001fÿ\u0015]79ÿ/§\u0017Ãè¡ø¨âwËÄ\u001e",
      "\u0002Æ\u0001T\u0003½½vÎEO\tß\u0002è®[#Îüv\u0016\u0005Â¹\u0019?ÅaÑ\bĀÒê¯ï¦Ô~½r½í3©Ð¸\bß³.þ[e½)Éà*CZq>¼V¬zJÆµW&yUw4ë~@[í\u001d",
      "\u0019Ý½L\u0018útí<×!Nï\u0011°=­\u0002ÃrÇ¥¼º½ÙJü8:j§o:êU0\r",
      "×òG%hÊ\u001c",
      "\u0011ä!tÁè6\u001e",
      "ÌßÞ\u001c",
      "li\r",
      "Íà4Tó\u0010s~F\u0018\u0004ÂmeÐznó]á¢Ý½gj\u0015S:\u0003\u0006\u0019ÉT+?½u\u0016ªPxeÏãÓ\u0019\n",
      "ÛÍ¤håqûùªÔQM³Y]=¡\u0006/G\u001c",
      ",Ýuõý*\r",
      "Õ´Wî¡7Ô\u0018]4ÏÄÿð¾lêôZ]Î&±1ËÒ5a~Í÷@T·Àl|0¶]ÇÊ¹âx0(ß¨´ Î¶\u0014\\«n\f",
      "µ*Ð¬Q#j\u001aY5\n",
      "\u0004?:R¬~{TaÕN&µ±íf<wÊ+Ä Ä5Ù\u0016åVçZr'\u000f$\u001a èßª^Hhh{ohÏO×Ìe\u0002ð\u0002{Ā\u0001R\u0014\u001fùhóØ\u0012ñá\u0006(ÿ~ëÆÃÆ-b#°\u001aú{üÖ<\u001c",
      "hÞ\f",
      "A}³åe¯OðSNOò[É?|´þä'ÿ>¸\u000b",
      "Ù¶¨Z[*½Å7ú\f",
      "sKü×`®å½ñöÓ[Ì¿t\u001c",
      "#H¼\u0007PRêÔñ¡ßÝÛ^®ØÛ-Î£ä\u001c",
      "Zû\u0014úÕÛ¬Ð»¥/á\u0001ÿ\"À+|OO\u0013S^\u0010\u001d",
      "Xç\\:n¨Jcc³\r",
      "\u0004;ó+¾çªwØ\u001fÎÆ¡Ím\n",
      "\u0002È~Ü{äß»@\u0017tj[µS¤x\r",
      "\\o\u000fÃ7äé\u000f:ø¯Ó~\\ÂóLw³®ÞIq?iÁÁÛÄ©mh{X='æ(\u0018Ñü+DZT",
      "ÓWwºæ¬%r!v=å\u0002Ïk¾\u0005{",
      "·íåp]o\u0004ø OµÌJîÉX2\u001f\u0019\b=\u0004X0'J!,\u001c",
      "¢ÐqB«TS[4êjØ¦§íïp«H¨j¢oh\u000b",
      "ò/\u001aöÈ{ÑÔ6Ü\u000b",
      "WÖÏï7a?e>FzH0Îï±ñB\"1E¢\u0019Äªþl3ßXf(yå_¨\u0007ª :Tæ®íz¤\u001e",
      "\u0010]Ñ§\\\u0012^\u0012+ºUVáü¦x7Á«4_náH¸Õmc8¡&ä¬%fc-³\u0011Ýh x:= Kö\tù6/ä|¬¯¢·Tý¾Ìçü{w­ÕÔ*êÔÐ©Gª@TÒ=#ÑZù;×X=¿ZzÊ(\u001d",
      "W^Å²È\u001d",
      "x\u0013­Ó\u0019ÿr!P.ÞÏIîÏ,sÓ\u0012ll\u001f\u000fwF\u0017ÙJ%\u0010W>ì;bq%iå?c©Ûd,¼Tþâ\\  ãì+öèRvnüì4Ê%ëó³4K\n",
      "\n",
      "_n!e °MVìlLº\"jF`4\u0001ýé?£¬ë[=Ø\u0017s¾¬Lsex.¸u\u0012ú²;L\u001d",
      "+¯EDÑtûQt\r",
      "¶º½",
      "5sÈ÷¹Þè$ïÈÕjð\u0014zs\u0011C\u0003\bÌú{üSÜÈpål\u0015m¡oVD[WÒÄµ:\"%h\u001e",
      "é\u0003¯óýîç,u\u000f7ä?ö¤f»zL&ÃÅÙæ\u0015\u0010èV?ÍüÃ\u0010G\bõ\u0016oË9d¹\u000b",
      "²\u001aë;ò¦r(á¥¬\u0004,Âç«¶ÔE\tÚ¶r{ÿoá,vÊ\r",
      "4Ë½W/Þ;÷§\"ó?5Ïe?Ä®\u0013¤ú+\u001atÛh$J\n",
      "r4Øý÷¥jxÊ¶ù\u001aÁä@\"¤3a¼ÏD\n",
      "4Ä3$ó©íg<zßJÞq{|Ā\u0001ö«íð¹\u0016\"e¨²§Dl\u000fÔ»\u001e",
      "¯\b<s*\r",
      "¸½î\u000b",
      "J(§F?8<7åÀ\u0019åã«EA\"\u0015?Ó969-A\u001ao{eeS\u0003mn\u000b",
      "kÏÃ8S9ÆYX\tÍDÈ\u001aÆQÖ®\u000b",
      "Þºig\u0017ä\u001c",
      "{8²¨q@ĀÓ O½½·¿u\n",
      "imÈ\u000b",
      "â\u0019Iä\u001fÀ>ìV\u0003]A&\u0012©OH$BÝR\u0019\u0018\u0014-ôGq\u001fáÿ9=¨·J$üÂèxmW·!ÎBEqËl\u001bFÈ\u0004à><Õôì[^8\u0018`%Ï?GU\u001c",
      "Y\u0012Ç>Ā\u0001\u001bæSXYm1Üæ\u0014Äaók¦ß § ö\u0017\u001e",
      "¹Û¥4Üëjm\u0007\u0016Ā\u0001ÓlpsbÜ¶_R\u001e",
      "ñA96W.IÜýÜç)e\u0002×3\u0002aH\u001c",
      "ä è¶u\u0018Û.ñw2",
      "\u0002ynº\u001fÈêTÈâì\u001a#ó=¥\"A+²\u001fY|¸{A×ó@\u0011Ù®µ÷$P\u001fW!\u0007\u001d",
      "\u0004ðö®®\u001b)ÓÌío&úX(:öìÛ³®­gU7ßV»HÁ\u000f8\u0003¨®nÇ^Q\u0004|\u0001+\u0006ËÅøSÈ\u0019\u0002ý¹Õ\u0010¡\u001e",
      "Ā\u0001\u000b",
      "û\tĀ\u0001´¥ÑÅ³0¾Êm½ÿF.Ýê\u000b",
      "Áf\u0014Ï\u0001\bq9é+T",
      "wI5Ü¥\u001c",
      "\\\"ÇTÐ?µ?ÇN·æ¥!?U;e7ÍõÂýû×o°r%øQD\u0019iÝ\u0001dÙì¶r®\u001f\u0006w\u00075ô¤Íå\u0002\u001f=rÿ6,½óg\u0012mð\u0012C$EQ\u0011ü DI\r",
      "­¦Wß\u001a\"j\tÝúmdĀ\u0001Ö\\{(ª÷\f",
      "µG\u0016\u000b",
      "\u0012QwÈBZøðu&½÷Jsç>ÂønÜÙXõâ\u001c",
      "Í3!\u00051É ïkakÞÈgÒ-xwùú³\u0007\u0001èò\u001a÷«;ÚÇ3±9o\u0015Ä\u00153\u000b",
      " 2Ï9ýÎ\\êw5ëð\u0015l¼:?FS¼lnK\u0004en`2D²>y\bÑõç\"Þ ?½g:\u001b\u001a\u0018t(ËÙèÆfkcÑË$mY^Ëè~´î^íâ³ò^í1É®\u0012qòÔ\u0005\r",
      "üé1¯|R7\u0001\u001d",
      "\r",
      "g½j|³²ìCXhÆkXp®¥»·Xaç82ïø\u000b",
      "Ùþy6lPÓdÕ6\u0016\\$q×bØ}´!\r",
      "¤»qPo?¶ÔÙÜ\u0018GX<ã\n",
      "È>l¤Ô.c\u0017Ã\u0014\u001b(ViÁã»_'Ë×Õèû»¾ïxÀ\n",
      "=8¢Ä¢9¹¸\u000b",
      "b\u0017¦ø}Ä 3ïï4,Öd¹¸7·IÍ|11\u0010ËrÙ\u0012Óº\bÂ+y4Nn¤z\u000b",
      "ÕËIVÝÅè\u001e",
      "ûØDj ´Å²Ææ©Ý\u0002\u0005\u0014ÝXV\u0016i'ø:ìJ¸oÐ\u0015¡G&\u000b",
      "ÄH]ûWw£[>òI³É¨sÑ÷:¦j\u0016ÚV]²ß\u0010¢>)¹ô\u001f%Ýâ\\rÌeÿ\bûW§\u0007\u001e",
      "ÎÅì\u001c",
      "\f",
      "jÿÏÍI\u001aQtêÑRâZ¶Zïë2æVK\u0013\u0011 Í\u000b",
      "XÕ!ã.»3=\u001c",
      "Va:P",
      "è%Üº­¾#×û\u000b",
      "f\u0017ÓMÇ\u000f\n",
      "\u0012z|Ès<\u001bd<\\)®¢dp\u001b¥\b­afU\u0001~Ā\u0001iÜÊ*Wô3X%h>2ì]èÚpMËej\u001b:\u000fM1Bä\u0004×®\\Ê8Û\u0005S@J+Æ| S{vªanLw\u000b",
      "âx'ßºï+if`#n­HËËº$Ô\u001aðZÁE@½}«<Ê(=ûNaÒ«màÔ+Iåöö¢\u0002À\u0015÷¥Ë\u0001a¹Ý| RUfjD4Ix\u0001:ÃtúUñ1\u0002$ÔrÿV&÷ô\u0010Ì{:5ÁÈ¶»§ó\u001d",
      "!Gç=\r",
      "eÖ³²´å¡ÉêÆfk\u0012ÈÂf3s¡\u0007ÐèJ\r",
      "Í¡9qyúLe ®,\r",
      "´=r­í\u0015³\u0018ë\u001bªL9CYËÉ4ôoaÄë\u0007s?cóã\n",
      "®÷ß£* 3 8\u0005ÓªL\u0011uh0\u0005\u0010·@,\u0002ao³î\u001a^½ª\u001fÿ¦ã1\u0011\u0007c\u0019oååVlxãl|A-4\u000fÔðQ\u0005Û4\u001d",
      "Î¸\u0001H¡¥\u0007Ô1åès±ü¾k9MD?[»àv¢\u0015î\u001c",
      "3Ç\u00189ÙÁ>\u0002ö¬¬*Q8\u000b",
      "¤:!\u001d",
      "\u0001ĀÔÀ\u0006×¥\u0011",
      "·",
      "D Ú¿dÇzí@[vl>:VvcÒúÍY3ouDùîW/[Ó\u0005|¤&ÕR0ÍÅ°ÍÚ÷ìUãº³\f",
      "rvfa\u0005Æx°¨->Iõûõ®Z\u0007w¢ã.^èºÔb,*\u0019ã 4'CÄ\u001d",
      "\u0003rÁÐ\u001e",
      "P¦3nDW·ó\u001fóûËm\u0001}©ØuÎÿ|ÖL¬°7êîGgR·\u001c",
      "y¿nÈª\bÀ_;×÷ndbmÎnue\u0016ï\u001fÄ=\u0001+x\u0019Ô®Ù[ÜÒ¥z§Ì\u0013¡4\u0003~B\u001c",
      "HÓÿû\\L\u0011ò´ª¹^©$$ÍåöÇ;dÓªZi;u&ÎþÆç <KóH=ty«\u0018W²'³»tÞT¶ç8\u0004oôý=öa;ã\u0018;>\bTæÙì\u0013©<\u000b",
      "\u0005\u001d",
      "h¡è®uW\u0018²Pi´ 6\u0011Å\u0004TYG\t$<^B&Uº&aúV\u0001ä:ÏtRÏßÇ5¸,2\u001c",
      "\u0016ù\u00050\u001aý»S\u0004NeéÉtå\tÊR)aE~\u0005ø5ü%$zèÌÂÌ\u001d",
      "eõÏ@Ç«B÷\u0004\u0015I#I(q\u001aA`¾èö5[<Ü /v?h+xa\b§~+\\××\u001bÛç\u00186>Që\u0010\u000f[Iä]\u0011ÌÃ;è%\u0014Ð¶né{Û=tàozrUqCÁûd¾gjÛ²lwÐèÜ~¸5£\u0019\u0019êôüüÔ6,:!/Sd\r",
      "J\n",
      "3:Ì\u00142àÕøã©HB/§\u001aI2\u001a\r",
      "",
      "\u0016YÂÃÈ´d¬\\IëîGÜÄ2ÿ\"4ÿ{W'\u0006Í4ç£\u0006&CC±(§\u0010Kº©Z\u0011ó¥\u0006àæ\u000b",
      "¡±@Poi\u0004Ojáó\u0016±=ÿZ3Þ4Ñÿ>+§%XÚq[>ß`­\u0011\u0002Ú´ß²¶\f",
      "ú6C\f",
      "½m\u0015\u0015r®4ÁÿG¯ÆªÎ.µ[tt\t,ÿQåu'dò#â¯=`sMs\bVEÂ\u0019@x>@\u001bè¦i>ópGõrÊûWà\u0016çò¡âÍ3*g>Ücè®dp(\u0006±ÍÍ84\u000flÊ¬­ÚëSÓ\tÌ³eW\u0010%g4½\n",
      "ÇBêù×»èå\\\u00013øÑ\u0010[g¨f÷f¶Íeîd\u0007\u001a\r",
      "OtWµü\u000b",
      "31Áå\u0001O\bÓ´Õµï[ñ\u0016ÞÔéW\u0017ôB9&eZ\u001bQCdÜ\u001e",
      "\b¨kÛäw®7næ\u001d",
      "Ë\u0018ðÎr{\u0005ÀfÔ.\u0006®Â3,\u001a\u001b7w\u0001åüv\u001e",
      "º¯ÛÓ`¶Aí©\u00011U&{t_¶<ó,fN'ÄK]\u0017\u001a\"T-È°Õ÷ªofl\u001a[$\u0015¹Ma>È KWÚ\u000b",
      "4G^¥z|yí+¶»~PsÎ#¤\u001e",
      "\u001aÿTûV³\u001ade.,3\u0011A9îØ®'°&½x#Ö¸E\u0016xDÂä\u001e",
      "Ç+É\b³N«Ê¹\u001f¹\b¿i»¶GÔýÐ-pR°!hô¡FLº¢T\u0006ØÛï\"\\x02ËAêµñ\u0010Ó \u000b",
      "ÌÊ\u0013K±ÁÅ°Týík<Ü~/ç<z&%bø3µù\u0001Ā\u0001\u0018ÔĀ\u0001®RP«jÛdï¸ËAA±\u000b",
      "w!ø\u0015GĀ\u00015WÍ«ª\u0002èq\u0001âBÕVì6¹¶\u000fb\u0006L£â$k[¦Ý lu'\u001c",
      "C©é>tÙÖ\f",
      "lüé'\\W·z6ÈÏ\u0002aê+~ûã;ìZÑâZ·\u0012øzªßZ%Cb&GÝ\u0004¢õ¯g.C\u0012/&p/Y7;o_èêî\\×GQ\u0002øró°{\u0001¦6ÎÜ\u001e",
      "³\\\u000b",
      "Ç\u0017Q\f",
      "|×mó¬\u0012å\n",
      "$%â\\lùñlwì¿\u0011\u001f¹\u0005ñG>¬×.\u0017ÚÓçÞd¥È°>ÆS±ò¤ÝoJÀy¹ÇÊ\"\u001d",
      "|åv¨~³Ë1a",
      "\u0016f\u0001\u0016U@U´ºV\u0018Wò¥\u0010øY\u001a7\u0014Èf=\u001b³hÜ)Õ8Ëý\u0003­>kGL'èfb\u001aS\u0018\"s\u0010rN,»1a\u0007\tbÿz©¯%2*óØytó3È k¶duC©Ç÷÷ÜBI\u000b",
      "ÒKKî\n",
      "sz-A9ý>ki¥/4\u0017ãÁsYc¨c@DJ\tZ\u001c",
      "\u001c",
      "¿pKAĀÕZÕf¶J§Â¥dÅ+Ïw2îÔÀØÇÀò\u000f¹Ê\u000b",
      "Ì¨\u001e",
      "¯2ó/xû\u0004îö®>MØuóþªÛ¬",
      "A1tõûÒ§ÞJw\u0018x\u000b",
      "»! \u0004ìÑ|ã°SR~uZ\u001f\"q×k¡G\u0016Im9@Bÿ6\u000f\u000b",
      "ªRasÈ2(síü¤|\u0010]ØBk#uEÂe\u0004\u00049þ+Ï¶¨\\ß\u00194\u001aÌ\u0002\"%\u001e",
      "¿å\u0010Ì{\u0002cö\"Û<N\u0004\u0004\u00133åc4ÂûWv¯\u0012o($yÉt\u0001\u001f÷¬xûî¿ù×eiÂ-«sÁ~<\u000b",
      "mF¶7\u0010\u000b",
      "Ó\u000b",
      "A\u000fyðý©mGÂ·±óÝâøm+\u0012\u0019èpª¯kÜIo^\u000b",
      "cÕ(ïÉÐ+8QréPñ×¤~¯\u0012ò<òç³\u0016\u0015w\u0004Øß/î(¼È%pt¶SÝ\u0015¶\u0019Î\u001b\n",
      "®îà4¶Í\u000b",
      "Ï\u0015)M÷RÙW³Gó\\\u0002º\u001aq\u0011¾ÂõðM\u0003dH&Vt¹øÐ®4\u0013¤n~Ðç2\r",
      "AÁTZ¥ðªN¢ØÒ²\u001fVÚç\u0007Â\u0001~s~*Mr±YciÑuD;ÖÉ\u0013ÞâQQ\u0004\u0014×¦W¯\u0015\u001fG9®-J0\r",
      "gÞ\u001a\r",
      "\u001c",
      "\u0002P¸\u0016\u0005wÔ=×ôIØ\u000b",
      "´wQ@Ë\u001c",
      "¡?ÝW¾ÍPèIeC#Ç\n",
      "ðLj\n",
      "iÁGVÙè:\r",
      "¾*\u0002ÍÞÛÁØÎ>æá5S7\u001d",
      "ðC{aÖyme²wÕí(jÙ1?`DúÐTÎup¤ï·Ú\"S\u0019\u001e",
      "~\n",
      "ø«8[~éíñ£Ç\u0002ÞÉø5±Òæ8 ÍòVîÁ\u001d",
      "KRòä)ÀâZsÿó\u0003HrÂ¯ã?&¦\u000b",
      "Âú¢&\u001c",
      "ÁÁß¡ \u0010è]ÍH\u00129Ï\u00034Û½«ÛN¦\u0018y\"þúnLFBóµvbÞ¿÷PØ6¬iÁ;\u001f©rYøø;^ö×>\u0017UÔ\f",
      "¦,³,\u001f~ø\u000ftõ¬WÓ\u0016f\u001e",
      "rðTRëU7>\\Â×ó¦®µÒd¸\u0001/ËLo\u001d",
      "\u0003?¶Ùjâ[ÖZ gsJ\f",
      "\u0012Ý\u000fÚ¯ âÆþ­×3j¸\u001b>Å£d=öç¾\u0007ßÏ&-N¸\r",
      "ø°Oº¡3«µÚWIåHô_äu\u0001Êìùø©d\u0017\u0015F\u0012T¼gÆ\u0002Y|¼\u0015\u0007<ùÖämiIÉúzä\u0001Ô¯Zz&»ý½tØ¨¦Z\u0007S0Ú½Ê$",
      "%aÊø{¸=ä§~ª=j\u001d",
      "´Ìyß[åáªå &ÕWì\u0007cp=±úf:%°RÝv\u0016R^[ÆwzR1ü\u0011ù@ËÞSçÓ^/gLE½P4üî>q||ûÍÇû6ÑiçnôÿYX$ªèÈ\u0016ÒÞ\u0006+Ï±EOK\r",
      "\u0007\b¡%w6ÏkôÙk*\u001d",
      "¬%Ø\u0011ªÛÀ7Öáò È#Ò¤¨ßH\u0005,\r",
      "´[\u0001²£Ñ\u0017Q\u0001ìP{±o(üJ¼\\É\u0014oq~Oz\u0019ûX\u0012\u001fÉ(D\u00150n\u001am\tÒí â&z$°>l¡Õv<l^;Õ¦ÅXärJW\u001e",
      "ÿpT`K\u0011Ì\u0010ã\u0005¶Õ\u0010»w\u0019f!~á{î>,¦Òö90¤-=ÇAÙÂâ¾HÓ½è^\u0007¶¶(ôXb,#\u0011¼ÿ¤¾Yñîü\u0019÷7£òÃ",
      "<,}î´!åhÝdRNí\u0011Î\u0014Å¿[õáòª©Êj\u001c",
      "oÜiÍrèo\u0010ùW\u000f«pÌ¸}Eú¢Är¸Ý¨>¬WæWz\u0011Á¢Í^B\u0005[\u0011\u0015î$¸ZfDl\u0002(ç\u0005·ò K¶\u0016I\u0017Y$ ½Æ\u001e",
      "¹©ÿÎjuÜ¡5G?J4Ç­Ü\u0015+Ïþ··\u0019 dAÜé\r",
      "¯\u001f8Þó¼Ç~+`9v\u0013Î9WoI@æ[¸i\u0018\u000b",
      "//\u0011\u0002ÕAýHKÇ»V~¼æy<\u001c",
      "ÌÐÎî\bPÇ¥g¥\u0014=S5S*a¡\u001e",
      "Áótà\u0007ï\u0011\u0013m\bäùW\u00058\u0013ÜÐ\u001e",
      "°\u001d",
      "AgZÉW$Ñad6oáç\u0012v\r",
      "¶PT'G>*\u0002ĀÖ}X\u0013ÞÛDæGLO¢KÇ\u0001Û;óPo\u000b",
      "3NC\\\u001aÍ\u0012D)farxèþ¯¯\u001fàW»·í7Ø\u0013Ü1n­ä\u000f9Ð=túW÷pkQfÎÔ³ï&J9>Âø(¦iÚ\u0017;juÐ;D*jg\u0004}ÏÝ\u001fÖZ.¨8ÔÛÏMÅ\u001bG\u0004NiYÇôÁÇã\u0011IS3tÐßĀ\u0001ìT.î\u001fÓe<fûú­\u0002\u0004Ôß\u0007=wv®ÞÆÇ¤÷!Ï\u0003=b\f",
      "\u0018g:Û| ¦]¼Ö.uÙÏÔî\u0012KÅ\u0017*\u001b£/OO|\u0006i]¡X7\f",
      "HÇ\u0017HÈ\u0005Ð{çè#\\êáó¥Õ/\u0014\tgIÈÉt\r",
      "döÊ÷ª¹É#NtVY#»ó.r\u00135­8/yýûÖÀ\u0010^J¥F\u000b",
      "I²,Ët\"mh²û_¶{J§Õ.#T·Iåtæ ñ\u001f¨\u000b",
      "ýª»¦tqð3Y¾½BbOBá±ö\u001e",
      "¾\u0001v\u001bfÝx¯\u00178ÄL7AÈ¨°×µe¾ÔÒ`øÊ\u0011\b\u001a.Â>ò]<à½S«\\Gô\u0016=Î¨ q~Pö§k;uØcÒâjbÊ<Çw0ù\u0001í¡½P)\u0017húÜiú9Çyª\u0013Gj\u001bT\u0019M:`¾ø\u001e",
      "l×ÿÛ<r-0;°ÎµË8»3><Sßë<\u001bÛàíÓ#M­Íô\u0015öêÛ\u001c",
      "÷ØôÐ\f",
      "\tá\u0005~×Â(h=W¬Åê\u001fG×\u001d",
      "tÑû{çîpUmv\u0018q«ÂâB>?ºõîX®vDuV%*<BèTKáo4xx\u0019êQË\u0017Dº\u0005tÛªÂweaìôh®Ûrqê¦ 2_q9¢æ \u001av\u0012'¶h\u000b",
      "Æ$!&¸ËL\u0012ûÀ®rc½/\u000b",
      "³o\u001e",
      "YW¸Çp\u0013\u0012¯Æ¨ÛÛÅÇ×>Ô4²\u001d",
      "ÀFäÚs£¹¾8Z¼ân\u001a\u0013q\u001e",
      "&(ñÂ\u0016æ×§æRÙ÷±ù{ÊKÛ\u0017ÛÍÄ0ÛVIĀ\u0001w­\u0010\u0005ÉÖù[6G\u0014\u0012ë¡eþlsN\u0012oui¢]\u0012ô/ß\u000b",
      " ]Ø\n",
      "|tªê»½§ð\f",
      "\n",
      "Â\u001fY\r",
      "Bå\u001d",
      "þ*ÏJ<\t'o\u0012Ýø°{\u001e",
      "ihQy:MîÏO\b\u0016é·øq±\n",
      "\f",
      ",:Êá{{Øý!ò\u0006ÁÖ¤Óh¼z\u0013ñ4«Jô\u0006v\u0004=\u000fæð_Øk²±ý¹ÒëÁ6ÚHI%=v\n",
      "R«ÕÒ5HC{dÕ\u0013ÎåæM\r",
      "þÏ2¼\u001f¿ö%bd\u001c",
      "R\\i>rNqÊ,hÔ6²ÇeÞZÆºTd´ñÜó3~@Dj\u001d",
      "cD\u001b£dÿ¡ÖÎBØË\txD7\tóÙ\u001d",
      "¸?ön¿\u0013Èí³zÈ\u001c",
      "ü\u001fáQ\u0006.oÙÆhune<7bá3nS\u0007slÑ/õú\u00179hSÒÆ1Üü\u0007ø$õ¯´\\¼Úæ½*L",
      "@#©aÄ×½ë9®e¿:\"ü8´­òÿ]S\u001e",
      "èUÔõÎKÖÊJ¥ÜøCîáñÈpTö\u001f£Ü]D(ý´ý©³:tì¹ïð×¡Óß\u0019\u001c",
      "uÄ\u0001ãUaè<Kâþ{ØE®m÷îµ\u000fÑ\f",
      "hÝ|\u0001ç\\Lâh±¸LD\u0012\r",
      "\u0015*ÌÅä²?ì\u0018E´øULZ¨BåoW\u0004\u000b",
      "rÈM\u000fG~l¬¸3Â-W£=óåsÿ¹?×nî®¦¶ôc3Ā\u0001mÅs)\u0006\u001e",
      "\u0007{ª\u001fÿµÁéõü|¹}±nÄa\u001e",
      " yd~rÛ°È\u001d",
      "­Ā\u0001g¼¸gI)ËÝau\u0005²í[ûÏÆ!z\u0017eÛ1è\"ºíllÏ¹\u0016/¯CÁ\u00057\u0010°5ËÏË,ößÒ¤9:V\u0006X:§à_vz£\u000b",
      "4¶}³zø¬I¦\r",
      "\u001e",
      "\u0004\u001fY8PÃv\u0003âf\u0013Ë\u001d",
      "\r",
      "d¯rîM\r",
      "¾ÓÜÉÁ¥îâ(qý\u0010[:Òa`d[øRñ\u000ftÙøªð®¿Ò\u0002yç=\u0007+yäôn×*\u0011I;Ä\u001d",
      "Ā\u0001DI\u000fo\\LÕJ6ÃÉ­2#\u0002È]c\u001d",
      "w²Ó8nVÁÂð×­ßG·X\u001fm7³=S¿Yz",
      "\u0006p]{V|¦jËÝÅV1\u000b",
      "\u0012èÛ\u0006ÐĀÚ\n"
     ]
    }
   ],
   "source": [
    "print(keyi)"
   ]
  },
  {
   "cell_type": "code",
   "execution_count": 60,
   "metadata": {},
   "outputs": [
    {
     "ename": "TypeError",
     "evalue": "open() missing required argument 'file' (pos 1)",
     "output_type": "error",
     "traceback": [
      "\u001b[0;31m---------------------------------------------------------------------------\u001b[0m",
      "\u001b[0;31mTypeError\u001b[0m                                 Traceback (most recent call last)",
      "\u001b[0;32m/var/folders/sy/1h4d7z1s2q13t33qvd9n_7zr0000gn/T/ipykernel_2291/2322995549.py\u001b[0m in \u001b[0;36m<module>\u001b[0;34m\u001b[0m\n\u001b[0;32m----> 1\u001b[0;31m \u001b[0mopen\u001b[0m\u001b[0;34m(\u001b[0m\u001b[0;34m)\u001b[0m\u001b[0;34m.\u001b[0m\u001b[0mread\u001b[0m\u001b[0;34m(\u001b[0m\u001b[0;34m)\u001b[0m\u001b[0;34m\u001b[0m\u001b[0;34m\u001b[0m\u001b[0m\n\u001b[0m",
      "\u001b[0;31mTypeError\u001b[0m: open() missing required argument 'file' (pos 1)"
     ]
    }
   ],
   "source": [
    "open().read()"
   ]
  },
  {
   "cell_type": "code",
   "execution_count": 17,
   "metadata": {},
   "outputs": [
    {
     "data": {
      "text/plain": [
       "21553"
      ]
     },
     "execution_count": 17,
     "metadata": {},
     "output_type": "execute_result"
    }
   ],
   "source": [
    "len(keyi)"
   ]
  },
  {
   "cell_type": "code",
   "execution_count": 18,
   "metadata": {},
   "outputs": [],
   "source": [
    "keyi_list = list(keyi)"
   ]
  },
  {
   "cell_type": "markdown",
   "metadata": {},
   "source": [
    "## Text files as bytes\n",
    "\n",
    "Text files are just bytes, like any other file. Using the `rb` parameter, Python opens the text file *without* decoding it using a particular encoding. You end up with a `bytes` value, not a `str`. This gives us some strange flexibility."
   ]
  },
  {
   "cell_type": "code",
   "execution_count": 46,
   "metadata": {},
   "outputs": [],
   "source": [
    "text_bytes = open(\"fortune.txt\", \"rb\").read()\n",
    "text_gene = open(\"zombie_li.txt\", \"rb\").read()\n",
    "text_keyi = open(\"keyi.txt\", \"rb\").read()"
   ]
  },
  {
   "cell_type": "markdown",
   "metadata": {},
   "source": [
    "Let's plot the value of each byte using `matplotlib`."
   ]
  },
  {
   "cell_type": "code",
   "execution_count": 238,
   "metadata": {},
   "outputs": [],
   "source": [
    "import numpy as np\n",
    "import matplotlib.pyplot as plt\n",
    "plt.style.use('ggplot')"
   ]
  },
  {
   "cell_type": "markdown",
   "metadata": {},
   "source": [
    "(You can ignore the details of the code—it's just drawing a graph. The `np.frombuffer(...)` bit creates a [`numpy`](https://numpy.org/) array from the byte buffer and converts it to an array of unsigned 8-bit integers. You can change the number of bytes to graph by changing the number after the colon.)"
   ]
  },
  {
   "cell_type": "code",
   "execution_count": 239,
   "metadata": {},
   "outputs": [
    {
     "data": {
      "image/png": "[encoded data removed]",
      "text/plain": [
       "<Figure size 2000x400 with 1 Axes>"
      ]
     },
     "metadata": {},
     "output_type": "display_data"
    }
   ],
   "source": [
    "plt.figure(figsize=(20, 4))\n",
    "plt.plot(np.frombuffer(text_bytes, dtype=np.uint8))\n",
    "plt.ylabel('byte value')\n",
    "plt.xlabel('index')\n",
    "plt.show()"
   ]
  },
  {
   "cell_type": "markdown",
   "metadata": {},
   "source": [
    "(You can actually see the structure of the text here a little bit!)"
   ]
  },
  {
   "cell_type": "markdown",
   "metadata": {},
   "source": [
    "### Manipulating text files as images\n",
    "\n",
    "Because text files are just bytes, we can re-use those bytes in creative ways. In this section of the notebook, we're going to treat those bytes as image data."
   ]
  },
  {
   "cell_type": "markdown",
   "metadata": {},
   "source": [
    "Before continuing, install Pillow. Type the following at the command line (making sure that you're invoking the same `python` that your Jupyter Notebook is using):\n",
    "\n",
    "    pip install Pillow\n",
    "    \n",
    "Or if you're using Anaconda:\n",
    "\n",
    "    conda install pillow\n",
    "    \n",
    "Our method for converting text into images:\n",
    "\n",
    "* Load the text as bytes\n",
    "* Use each sequence of three bytes as the red, green, and blue pixel values\n",
    "* Pick an arbitrary width for the image (and pad the data so that it fits that width)"
   ]
  },
  {
   "cell_type": "code",
   "execution_count": 22,
   "metadata": {},
   "outputs": [],
   "source": [
    "from PIL import Image, ImageOps, ImageFilter"
   ]
  },
  {
   "cell_type": "markdown",
   "metadata": {},
   "source": [
    "Byte strings are one-dimensional, but images are two-dimensional. So we need to pick arbitrary dimensions for the image. I decided to make it 20 pixels wide, but you should pick a different value based on your own text and needs."
   ]
  },
  {
   "cell_type": "code",
   "execution_count": 48,
   "metadata": {},
   "outputs": [],
   "source": [
    "width = 95 # arbitrary, adjust to taste\n",
    "padded_text_bytes = text_keyi + (b' ' * width * 3)\n",
    "text_bytes_fortune = text_bytes + (b' ' * width * 3)\n",
    "\n",
    "height = int((len(padded_text_bytes) / 3) / width)"
   ]
  },
  {
   "cell_type": "markdown",
   "metadata": {},
   "source": [
    "Pillow's `Image.frombytes` function takes a byte sequence and makes an image with it, using the provided dimensions."
   ]
  },
  {
   "cell_type": "code",
   "execution_count": 38,
   "metadata": {},
   "outputs": [],
   "source": [
    "text_img = Image.frombytes('RGB', (width, height), padded_text_bytes)"
   ]
  },
  {
   "cell_type": "markdown",
   "metadata": {},
   "source": [
    "Here's what it looks like:"
   ]
  },
  {
   "cell_type": "code",
   "execution_count": 39,
   "metadata": {},
   "outputs": [
    {
     "data": {
      "image/png": "[encoded data removed]",
      "text/plain": [
       "<PIL.Image.Image image mode=RGB size=95x73>"
      ]
     },
     "execution_count": 39,
     "metadata": {},
     "output_type": "execute_result"
    }
   ],
   "source": [
    "text_img"
   ]
  },
  {
   "cell_type": "markdown",
   "metadata": {},
   "source": [
    "This is a bit small, so we can resize it:"
   ]
  },
  {
   "cell_type": "code",
   "execution_count": 49,
   "metadata": {},
   "outputs": [],
   "source": [
    "def show_scaled(img, scale=4):\n",
    "    return img.resize((img.width*scale, img.height*scale))"
   ]
  },
  {
   "cell_type": "code",
   "execution_count": 50,
   "metadata": {},
   "outputs": [
    {
     "data": {
      "image/png": "[encoded data removed]",
      "text/plain": [
       "<PIL.Image.Image image mode=RGB size=380x292>"
      ]
     },
     "execution_count": 50,
     "metadata": {},
     "output_type": "execute_result"
    }
   ],
   "source": [
    "show_scaled(text_img)"
   ]
  },
  {
   "cell_type": "markdown",
   "metadata": {},
   "source": [
    "Now that we have an image, Pillow can save it in any format we'd like—here's how to save it as a PNG:"
   ]
  },
  {
   "cell_type": "code",
   "execution_count": 246,
   "metadata": {},
   "outputs": [],
   "source": [
    "text_img.save(\"text_img.png\")"
   ]
  },
  {
   "cell_type": "markdown",
   "metadata": {},
   "source": [
    "Now you could manipulate the image in a separate image editing program, then load it again like so:"
   ]
  },
  {
   "cell_type": "code",
   "execution_count": 248,
   "metadata": {},
   "outputs": [],
   "source": [
    "loaded = Image.open(\"text_img.png\")"
   ]
  },
  {
   "cell_type": "markdown",
   "metadata": {},
   "source": [
    "Since we haven't changed the data at all, we should be able to recover the text from the image perfectly:"
   ]
  },
  {
   "cell_type": "code",
   "execution_count": 249,
   "metadata": {},
   "outputs": [],
   "source": [
    "img_bytes = loaded.tobytes()"
   ]
  },
  {
   "cell_type": "code",
   "execution_count": 250,
   "metadata": {
    "scrolled": true
   },
   "outputs": [
    {
     "name": "stdout",
     "output_type": "stream",
     "text": [
      "b'\\xe4\\xb9\\x9d\\xe5\\xa4\\xa9\\xe5\\xba\\x9c\\xe5\\x91\\xbd\\xe5\\x8d\\x9c\\xe9\\xa4\\xa8\\xe9\\x9b\\xbb\\xe8\\xa9\\xb1\\xef\\xbc\\x9a646-236-3897\\xe7\\xae\\x97\\xe5\\x91\\xbd\\xe5\\x8d\\x9c\\xe5\\x8d\\xa6\\xe4\\xb8\\x8a\\xe5\\x83\\xae\\xe5\\xb9\\xbc\\xe7\\xab\\xa5\\xe5\\xae\\x9a\\xe6\\x99\\x82\\xe5\\x90\\x88\\xe5\\xa9\\x9a\\xe6\\x93\\x87\\xe6\\x97\\xa5\\xe8\\xae\\x93\\xe5\\xa4\\xaa\\xe6\\xad\\xb2\\xe5\\xb1\\x85\\xe5\\xae\\xb6\\xe9\\xa2\\xa8\\xe6\\xb0\\xb4\\xe5\\x95\\x86\\xe6\\xa5\\xad\\xe9\\xa2\\xa8\\xe6\\xb0\\xb4\\xe9\\x99\\xb0\\xe5\\xae\\x85\\xe9\\xa2\\xa8\\xe6\\xb0\\xb4\\xe5\\x90\\x84\\xe7\\xa8\\xae\\xe9\\x9d\\x88\\xe7\\xac\\xa6\\xe6\\x89\\xbf\\xe6\\x8e\\xa5\\xe9\\x81\\x93\\xe5\\xa0\\xb4\\xe5\\x8a\\x89\\xe5\\x85\\x88\\xe7\\x94\\x9f\\xef\\xbc\\x9a646-236-3897\\xe4\\xbb\\xa5\\xe4\\xb8\\x8a\\xe5\\xad\\xa6\\xe6\\x9c\\xaf\\xe5\\x85\\x8d\\xe8\\xb4\\xb9\\xe4\\xba\\xa4\\xe6\\xb5\\x81\\n\\nJiutian Fortune Telling House Phone Number: 646-236-3897 FORTUNE TELLING DIVINATION MIN DONG BIRTH TIME MARRIAGE ELECTION OFFEND THE GOD OF AGE HOUSE FENG SHUI COMMERCE FENG SHUI RESTING PLACE FENG SHUI HIEROGRAM UNDERTAKE BODHIMANDA MR Liu: 646-236-3897 ACADEMIC EXCHANGES ABOVE FOR FREE                                                    '\n"
     ]
    }
   ],
   "source": [
    "print(img_bytes)"
   ]
  },
  {
   "cell_type": "markdown",
   "metadata": {},
   "source": [
    "Nice! Now we can play around a bit: modify the image, then decode it as text. And see what happened! For functions you can use with Pillow images, see [Image reference](https://pillow.readthedocs.io/en/latest/reference/Image.html), [ImageFilter reference](https://pillow.readthedocs.io/en/latest/reference/ImageFilter.html), [ImageOps reference](https://pillow.readthedocs.io/en/latest/reference/ImageOps.html). (Or, you can open the image in an image editor, save it again, then open it with the `Image.open(...)` cell above!)\n",
    "\n",
    "First, a little Gaussian blur:"
   ]
  },
  {
   "cell_type": "code",
   "execution_count": 251,
   "metadata": {},
   "outputs": [],
   "source": [
    "gaussian = loaded.filter(ImageFilter.GaussianBlur(0.15))"
   ]
  },
  {
   "cell_type": "code",
   "execution_count": 256,
   "metadata": {},
   "outputs": [
    {
     "data": {
      "image/png": "[encoded data removed]",
      "text/plain": [
       "<PIL.Image.Image image mode=RGB size=400x180>"
      ]
     },
     "execution_count": 256,
     "metadata": {},
     "output_type": "execute_result"
    }
   ],
   "source": [
    "gaussian.resize((loaded.width*20, loaded.height*20))"
   ]
  },
  {
   "cell_type": "code",
   "execution_count": 258,
   "metadata": {},
   "outputs": [
    {
     "name": "stdout",
     "output_type": "stream",
     "text": [
      "九天府命卜館電話칚<560239-3>97䫗命卜卦上僮幼童定時合婚擇日讓太㭲⮅⫳梨水╆㣫柨㰱陰宅風水各種靈符㉼接道⠴劉先䔟빚<560569-6><:ḣ上学㜯⅍岶ᷣு\u0010\u0010Jiutian&Fortune&Uelling#Horpe#Phlne&Number:#669-26906;9:#FORTUNE TELLING DIVINATION MIN!DONG BIRTH TIME MARRIAGE ELECTION OFFEND THE GOD OF AGE HOUSE FENG SHUI COMMERCE FENG SHUI RESTING PLACE FENG SHUI HIEROGRAM UNDERTAKE BODHIMANDA MR Lfr: 646-236-3897 ACADEMIC EXCHANGES ABOVE FOR FREE                                                    \n"
     ]
    }
   ],
   "source": [
    "print(gaussian.tobytes().decode('utf8', 'ignore'))"
   ]
  },
  {
   "cell_type": "markdown",
   "metadata": {},
   "source": [
    "Why the Chinese characters changed a lot, but Lation letters didn't?"
   ]
  },
  {
   "cell_type": "markdown",
   "metadata": {},
   "source": [
    "Flipping the image vertically:"
   ]
  },
  {
   "cell_type": "code",
   "execution_count": 261,
   "metadata": {},
   "outputs": [
    {
     "data": {
      "image/png": "[encoded data removed]",
      "text/plain": [
       "<PIL.Image.Image image mode=RGB size=160x72>"
      ]
     },
     "execution_count": 261,
     "metadata": {},
     "output_type": "execute_result"
    }
   ],
   "source": [
    "flipped = ImageOps.flip(loaded)\n",
    "flipped.resize((loaded.width*8, loaded.height*8))"
   ]
  },
  {
   "cell_type": "code",
   "execution_count": 262,
   "metadata": {},
   "outputs": [
    {
     "name": "stdout",
     "output_type": "stream",
     "text": [
      "FOR FREE                                                    KE BODHIMANDA MR Liu: 646-236-3897 ACADEMIC EXCHANGES ABOVE COMMERCE FENG SHUI RESTING PLACE FENG SHUI HIEROGRAM UNDERTAIME MARRIAGE ELECTION OFFEND THE GOD OF AGE HOUSE FENG SHUI er: 646-236-3897 FORTUNE TELLING DIVINATION MIN DONG BIRTH T学术免费交流\n",
      "\n",
      "Jiutian Fortune Telling House Phone Numb風水各種靈符承接道場劉先生：646-236-3897以上童定時合婚擇日讓太歲居家風水商業風水陰宅九天府命卜館電話：646-236-3897算命卜卦上僮幼\n"
     ]
    }
   ],
   "source": [
    "print(flipped.tobytes().decode('utf8', 'ignore'))"
   ]
  },
  {
   "cell_type": "markdown",
   "metadata": {},
   "source": [
    "Rotate 90 degrees:"
   ]
  },
  {
   "cell_type": "code",
   "execution_count": 269,
   "metadata": {},
   "outputs": [
    {
     "data": {
      "image/png": "[encoded data removed]",
      "text/plain": [
       "<PIL.Image.Image image mode=RGB size=180x400>"
      ]
     },
     "execution_count": 269,
     "metadata": {},
     "output_type": "execute_result"
    }
   ],
   "source": [
    "rotated = loaded.rotate(90, expand=True)\n",
    "rotated.resize((rotated.width*20, rotated.height*20))"
   ]
  },
  {
   "cell_type": "code",
   "execution_count": 270,
   "metadata": {},
   "outputs": [
    {
     "name": "stdout",
     "output_type": "stream",
     "text": [
      "幼宅上umbH TUI RTAVE    僮陰以e NIRT SHNDEABO   上水897honG BENGM UES    卦風6-3e PDONE FGRAANG   卜業-23ousIN OUSEROXCH   命商646g HN ME H HIC E   算水：linTIO AGHUIEMI   897風生TelINA OFG SCAD   6-3家先ne DIVGODFEN7 A   -23居劉rtuNG HE CE 389   646歲場 FoLLID TPLA36-   ：太道ian TEFENNG 6-2   話讓接iutUNE OFSTI 64   電日承\n",
      "\n",
      "JORTION REiu:   館擇符流7 FECTHUIR L   卜婚靈交389 ELG SA M   命合種费36-AGEFENAND   府時各免6-2RRICE HIMEE 天定水术 64 MAMERBOD FR九童風学er:IMECOMKE FOR\n"
     ]
    }
   ],
   "source": [
    "print(rotated.tobytes().decode('utf8', 'ignore'))"
   ]
  },
  {
   "cell_type": "markdown",
   "metadata": {},
   "source": [
    "Posterize (i.e., reduce the number of bits per color component):"
   ]
  },
  {
   "cell_type": "code",
   "execution_count": 273,
   "metadata": {},
   "outputs": [
    {
     "data": {
      "image/png": "[encoded data removed]",
      "text/plain": [
       "<PIL.Image.Image image mode=RGB size=160x72>"
      ]
     },
     "execution_count": 273,
     "metadata": {},
     "output_type": "execute_result"
    }
   ],
   "source": [
    "poster = ImageOps.posterize(loaded, 7)\n",
    "poster.resize((loaded.width*8, loaded.height*8))"
   ]
  },
  {
   "cell_type": "code",
   "execution_count": 274,
   "metadata": {
    "scrolled": false
   },
   "outputs": [
    {
     "name": "stdout",
     "output_type": "stream",
     "text": [
      "东䤨亜䐼䌜褨蚺訰646,226,2886殖䐼䌜䌦上䂮丼檤䮚昂䐈䨚撆斤讒䤪欲䰄䮶袨水䔆椬袨水蘰䮄袨水䐄樮蜈欦戾掤耒䠴䊈䄈攞646,226,2886交上䬦朮䄌贸交洀\n",
      "\n",
      "Jhtth`n Fnrttnd Tdllhnf Hntrd Phnnd Ntlbdr: 646,226,2886 FNRTTND TDLLHNF DHVHN@THNN LHN DNNF BHRTH THLD L@RRH@FD DLDBTHNN NFFDND THD FND NF @FD HNTRD FDNF RHTH BNLLDRBD FDNF RHTH RDRTHNF PL@BD FDNF RHTH HHDRNFR@L TNDDRT@JD BNDHHL@ND@ LR Lht: 646,226,2886 @B@DDLHB DXBH@NFDR @BNVD FNR FRDD                                                    \n"
     ]
    }
   ],
   "source": [
    "print(poster.tobytes().decode('utf8', 'ignore'))"
   ]
  },
  {
   "cell_type": "markdown",
   "metadata": {},
   "source": [
    "Resize the image:"
   ]
  },
  {
   "cell_type": "code",
   "execution_count": 279,
   "metadata": {},
   "outputs": [
    {
     "name": "stderr",
     "output_type": "stream",
     "text": [
      "/var/folders/sy/1h4d7z1s2q13t33qvd9n_7zr0000gn/T/ipykernel_61225/2661098389.py:1: DeprecationWarning: NEAREST is deprecated and will be removed in Pillow 10 (2023-07-01). Use Resampling.NEAREST or Dither.NONE instead.\n",
      "  resized = loaded.resize((loaded.width*18, loaded.height*18), resample=Image.NEAREST)\n"
     ]
    }
   ],
   "source": [
    "resized = loaded.resize((loaded.width*18, loaded.height*18), resample=Image.NEAREST)"
   ]
  },
  {
   "cell_type": "code",
   "execution_count": 361,
   "metadata": {
    "scrolled": true
   },
   "outputs": [
    {
     "data": {
      "image/png": "[encoded data removed]",
      "text/plain": [
       "<PIL.Image.Image image mode=RGB size=360x162>"
      ]
     },
     "execution_count": 361,
     "metadata": {},
     "output_type": "execute_result"
    }
   ],
   "source": [
    "resized"
   ]
  },
  {
   "cell_type": "code",
   "execution_count": 363,
   "metadata": {},
   "outputs": [],
   "source": [
    "resized.save(\"resized.png\")"
   ]
  },
  {
   "cell_type": "code",
   "execution_count": 281,
   "metadata": {},
   "outputs": [
    {
     "name": "stdout",
     "output_type": "stream",
     "text": [
      "九九九九九九九九九九九九九九九九九九天天天天天天天天天天天天天天天天天天府府府府府府府府府府府府府府府府府府命命命命命命命命命命命命命命命命命命卜卜卜卜卜卜卜卜卜卜卜卜卜卜卜卜卜卜館館館館館館館館館館館館館館館館館館電電電電電電電電電電電電電電電電電電話話話話話話話話話話話話話話話話話話：：：：：：：：：：：：：：：：：：646646646646646646646646646646646646646646646646646646-23-23-23-23-23-23-23-23-23-23-23-23-23-23-23-23-23-236-36-36-36-36-36-36-36-36-36-36-36-36-36-36-36-36-36-3897897897897897897897897897897897897897897897897897897算算算算算算算算算算算算算算算算算算命命命命命命命命命命命命命命命命命命卜卜卜卜卜卜卜卜卜卜卜卜卜卜卜卜卜卜卦卦卦卦卦卦卦卦卦卦卦卦卦卦卦卦卦卦上上上上上上上上上上上上上上上上上上僮僮僮僮僮僮僮僮僮僮僮僮僮僮僮僮僮僮幼幼幼幼幼幼幼幼幼幼幼幼幼幼幼幼幼幼九九九九九九九九九九九九九九九九九九天天天天天天天天天天天天天天天天天天府府府府府府府府府府府府府府府府府府命命命命命命命命命命命命命命命命命命卜卜卜卜卜卜卜卜卜卜卜卜卜卜卜卜卜卜館館館館館館館館館館館館館館館館館館電電電電電電電電電電電電電電電電電電話話話話話話話話話話話話話話話話話話：：：：：：：：：：：：：：：：：：646646646646646646646646646646646646646646646646646646-23-23-23-23-23-23-23-23-23-23-23-23-23-23-23-23-23-236-36-36-36-36-36-36-36-36-36-36-36-36-36-36-36-36-36-3897897897897897897897897897897897897897897897897897897算算算算算算算算算算算算算算算算算算命命命命命命命命命命命命命命命命命命卜卜卜卜卜卜卜卜卜卜卜卜卜卜卜卜卜卜卦卦卦卦卦卦卦卦卦卦卦卦卦卦卦卦卦卦上上上上上上上上上上上上上上上上上上僮僮僮僮僮僮僮僮僮僮僮僮僮僮僮僮僮僮幼幼幼幼幼幼幼幼幼幼幼幼幼幼幼幼幼幼九九九九九九九九九九九九九九九九九九天天天天天天天天天天天天天天天天天天府府府府府府府府府府府府府府府府府府命命命命命命命命命命命命命命命命命命卜卜卜卜卜卜卜卜卜卜卜卜卜卜卜卜卜卜館館館館館館館館館館館館館館館館館館電電電電電電電電電電電電電電電電電電話話話話話話話話話話話話話話話話話話：：：：：：：：：：：：：：：：：：646646646646646646646646646646646646646646646646646646-23-23-23-23-23-23-23-23-23-23-23-23-23-23-23-23-23-236-36-36-36-36-36-36-36-36-36-36-36-36-36-36-36-36-36-3897897897897897897897897897897897897897897897897897897算算算算算算算算算算算算算算算算算算命命命命命命命命命命命命命命命命命命卜卜卜卜卜卜卜卜卜卜卜卜卜卜卜卜卜卜卦卦卦卦卦卦卦卦卦卦卦卦卦卦卦卦卦卦上上上上上上上上上上上上上上上上上上僮僮僮僮僮僮僮僮僮僮僮僮僮僮僮僮僮僮幼幼幼幼幼幼幼幼幼幼幼幼幼幼幼幼幼幼九九九九九九九九九九九九九九九九九九天天天天天天天天天天天天天天天天天天府府府府府府府府府府府府府府府府府府命命命命命命命命命命命命命命命命命命卜卜卜卜卜卜卜卜卜卜卜卜卜卜卜卜卜卜館館館館館館館館館館館館館館館館館館電電電電電電電電電電電電電電電電電電話話話話話話話話話話話話話話話話話話：：：：：：：：：：：：：：：：：：646646646646646646646646646646646646646646646646646646-23-23-23-23-23-23-23-23-23-23-23-23-23-23-23-23-23-236-36-36-36-36-36-36-36-36-36-36-36-36-36-36-36-36-36-3897897897897897897897897897897897897897897897897897897算算算算算算算算算算算算算算算算算算命命命命命命命命命命命命命命命命命命卜卜卜卜卜卜卜卜卜卜卜卜卜卜卜卜卜卜卦卦卦卦卦卦卦卦卦卦卦卦卦卦卦卦卦卦上上上上上上上上上上上上上上上上上上僮僮僮僮僮僮僮僮僮僮僮僮僮僮僮僮僮僮幼幼幼幼幼幼幼幼幼幼幼幼幼幼幼幼幼幼九九九九九九九九九九九九九九九九九九天天天天天天天天天天天天天天天天天天府府府府府府府府府府府府府府府府府府命命命命命命命命命命命命命命命命命命卜卜卜卜卜卜卜卜卜卜卜卜卜卜卜卜卜卜館館館館館館館館館館館館館館館館館館電電電電電電電電電電電電電電電電電電話話話話話話話話話話話話話話話話話話：：：：：：：：：：：：：：：：：：646646646646646646646646646646646646646646646646646646-23-23-23-23-23-23-23-23-23-23-23-23-23-23-23-23-23-236-36-36-36-36-36-36-36-36-36-36-36-36-36-36-36-36-36-3897897897897897897897897897897897897897897897897897897算算算算算算算算算算算算算算算算算算命命命命命命命命命命命命命命命命命命卜卜卜卜卜卜卜卜卜卜卜卜卜卜卜卜卜卜卦卦卦卦卦卦卦卦卦卦卦卦卦卦卦卦卦卦上上上上上上上上上上上上上上上上上上僮僮僮僮僮僮僮僮僮僮僮僮僮僮僮僮僮僮幼幼幼幼幼幼幼幼幼幼幼幼幼幼幼幼幼幼九九九九九九九九九九九九九九九九九九天天天天天天天天天天天天天天天天天天府府府府府府府府府府府府府府府府府府命命命命命命命命命命命命命命命命命命卜卜卜卜卜卜卜卜卜卜卜卜卜卜卜卜卜卜館館館館館館館館館館館館館館館館館館電電電電電電電電電電電電電電電電電電話話話話話話話話話話話話話話話話話話：：：：：：：：：：：：：：：：：：646646646646646646646646646646646646646646646646646646-23-23-23-23-23-23-23-23-23-23-23-23-23-23-23-23-23-236-36-36-36-36-36-36-36-36-36-36-36-36-36-36-36-36-36-3897897897897897897897897897897897897897897897897897897算算算算算算算算算算算算算算算算算算命命命命命命命命命命命命命命命命命命卜卜卜卜卜卜卜卜卜卜卜卜卜卜卜卜卜卜卦卦卦卦卦卦卦卦卦卦卦卦卦卦卦卦卦卦上上上上上上上上上上上上上上上上上上僮僮僮僮僮僮僮僮僮僮僮僮僮僮僮僮僮僮幼幼幼幼幼幼幼幼幼幼幼幼幼幼幼幼幼幼九九九九九九九九九九九九九九九九九九天天天天天天天天天天天天天天天天天天府府府府府府府府府府府府府府府府府府命命命命命命命命命命命命命命命命命命卜卜卜卜卜卜卜卜卜卜卜卜卜卜卜卜卜卜館館館館館館館館館館館館館館館館館館電電電電電電電電電電電電電電電電電電話話話話話話話話話話話話話話話話話話：：：：：：：：：：：：：：：：：：646646646646646646646646646646646646646646646646646646-23-23-23-23-23-23-23-23-23-23-23-23-23-23-23-23-23-236-36-36-36-36-36-36-36-36-36-36-36-36-36-36-36-36-36-3897897897897897897897897897897897897897897897897897897算算算算算算算算算算算算算算算算算算命命命命命命命命命命命命命命命命命命卜卜卜卜卜卜卜卜卜卜卜卜卜卜卜卜卜卜卦卦卦卦卦卦卦卦卦卦卦卦卦卦卦卦卦卦上上上上上上上上上上上上上上上上上上僮僮僮僮僮僮僮僮僮僮僮僮僮僮僮僮僮僮幼幼幼幼幼幼幼幼幼幼幼幼幼幼幼幼幼幼九九九九九九九九九九九九九九九九九九天天天天天天天天天天天天天天天天天天府府府府府府府府府府府府府府府府府府命命命命命命命命命命命命命命命命命命卜卜卜卜卜卜卜卜卜卜卜卜卜卜卜卜卜卜館館館館館館館館館館館館館館館館館館電電電電電電電電電電電電電電電電電電話話話話話話話話話話話話話話話話話話：：：：：：：：：：：：：：：：：：646646646646646646646646646646646646646646646646646646-23-23-23-23-23-23-23-23-23-23-23-23-23-23-23-23-23-236-36-36-36-36-36-36-36-36-36-36-36-36-36-36-36-36-36-3897897897897897897897897897897897897897897897897897897算算算算算算算算算算算算算算算算算算命命命命命命命命命命命命命命命命命命卜卜卜卜卜卜卜卜卜卜卜卜卜卜卜卜卜卜卦卦卦卦卦卦卦卦卦卦卦卦卦卦卦卦卦卦上上上上上上上上上上上上上上上上上上僮僮僮僮僮僮僮僮僮僮僮僮僮僮僮僮僮僮幼幼幼幼幼幼幼幼幼幼幼幼幼幼幼幼幼幼九九九九九九九九九九九九九九九九九九天天天天天天天天天天天天天天天天天天府府府府府府府府府府府府府府府府府府命命命命命命命命命命命命命命命命命命卜卜卜卜卜卜卜卜卜卜卜卜卜卜卜卜卜卜館館館館館館館館館館館館館館館館館館電電電電電電電電電電電電電電電電電電話話話話話話話話話話話話話話話話話話：：：：：：：：：：：：：：：：：：646646646646646646646646646646646646646646646646646646-23-23-23-23-23-23-23-23-23-23-23-23-23-23-23-23-23-236-36-36-36-36-36-36-36-36-36-36-36-36-36-36-36-36-36-3897897897897897897897897897897897897897897897897897897算算算算算算算算算算算算算算算算算算命命命命命命命命命命命命命命命命命命卜卜卜卜卜卜卜卜卜卜卜卜卜卜卜卜卜卜卦卦卦卦卦卦卦卦卦卦卦卦卦卦卦卦卦卦上上上上上上上上上上上上上上上上上上僮僮僮僮僮僮僮僮僮僮僮僮僮僮僮僮僮僮幼幼幼幼幼幼幼幼幼幼幼幼幼幼幼幼幼幼九九九九九九九九九九九九九九九九九九天天天天天天天天天天天天天天天天天天府府府府府府府府府府府府府府府府府府命命命命命命命命命命命命命命命命命命卜卜卜卜卜卜卜卜卜卜卜卜卜卜卜卜卜卜館館館館館館館館館館館館館館館館館館電電電電電電電電電電電電電電電電電電話話話話話話話話話話話話話話話話話話：：：：：：：：：：：：：：：：：：646646646646646646646646646646646646646646646646646646-23-23-23-23-23-23-23-23-23-23-23-23-23-23-23-23-23-236-36-36-36-36-36-36-36-36-36-36-36-36-36-36-36-36-36-3897897897897897897897897897897897897897897897897897897算算算算算算算算算算算算算算算算算算命命命命命命命命命命命命命命命命命命卜卜卜卜卜卜卜卜卜卜卜卜卜卜卜卜卜卜卦卦卦卦卦卦卦卦卦卦卦卦卦卦卦卦卦卦上上上上上上上上上上上上上上上上上上僮僮僮僮僮僮僮僮僮僮僮僮僮僮僮僮僮僮幼幼幼幼幼幼幼幼幼幼幼幼幼幼幼幼幼幼九九九九九九九九九九九九九九九九九九天天天天天天天天天天天天天天天天天天府府府府府府府府府府府府府府府府府府命命命命命命命命命命命命命命命命命命卜卜卜卜卜卜卜卜卜卜卜卜卜卜卜卜卜卜館館館館館館館館館館館館館館館館館館電電電電電電電電電電電電電電電電電電話話話話話話話話話話話話話話話話話話：：：：：：：：：：：：：：：：：：646646646646646646646646646646646646646646646646646646-23-23-23-23-23-23-23-23-23-23-23-23-23-23-23-23-23-236-36-36-36-36-36-36-36-36-36-36-36-36-36-36-36-36-36-3897897897897897897897897897897897897897897897897897897算算算算算算算算算算算算算算算算算算命命命命命命命命命命命命命命命命命命卜卜卜卜卜卜卜卜卜卜卜卜卜卜卜卜卜卜卦卦卦卦卦卦卦卦卦卦卦卦卦卦卦卦卦卦上上上上上上上上上上上上上上上上上上僮僮僮僮僮僮僮僮僮僮僮僮僮僮僮僮僮僮幼幼幼幼幼幼幼幼幼幼幼幼幼幼幼幼幼幼九九九九九九九九九九九九九九九九九九天天天天天天天天天天天天天天天天天天府府府府府府府府府府府府府府府府府府命命命命命命命命命命命命命命命命命命卜卜卜卜卜卜卜卜卜卜卜卜卜卜卜卜卜卜館館館館館館館館館館館館館館館館館館電電電電電電電電電電電電電電電電電電話話話話話話話話話話話話話話話話話話：：：：：：：：：：：：：：：：：：646646646646646646646646646646646646646646646646646646-23-23-23-23-23-23-23-23-23-23-23-23-23-23-23-23-23-236-36-36-36-36-36-36-36-36-36-36-36-36-36-36-36-36-36-3897897897897897897897897897897897897897897897897897897算算算算算算算算算算算算算算算算算算命命命命命命命命命命命命命命命命命命卜卜卜卜卜卜卜卜卜卜卜卜卜卜卜卜卜卜卦卦卦卦卦卦卦卦卦卦卦卦卦卦卦卦卦卦上上上上上上上上上上上上上上上上上上僮僮僮僮僮僮僮僮僮僮僮僮僮僮僮僮僮僮幼幼幼幼幼幼幼幼幼幼幼幼幼幼幼幼幼幼九九九九九九九九九九九九九九九九九九天天天天天天天天天天天天天天天天天天府府府府府府府府府府府府府府府府府府命命命命命命命命命命命命命命命命命命卜卜卜卜卜卜卜卜卜卜卜卜卜卜卜卜卜卜館館館館館館館館館館館館館館館館館館電電電電電電電電電電電電電電電電電電話話話話話話話話話話話話話話話話話話：：：：：：：：：：：：：：：：：：646646646646646646646646646646646646646646646646646646-23-23-23-23-23-23-23-23-23-23-23-23-23-23-23-23-23-236-36-36-36-36-36-36-36-36-36-36-36-36-36-36-36-36-36-3897897897897897897897897897897897897897897897897897897算算算算算算算算算算算算算算算算算算命命命命命命命命命命命命命命命命命命卜卜卜卜卜卜卜卜卜卜卜卜卜卜卜卜卜卜卦卦卦卦卦卦卦卦卦卦卦卦卦卦卦卦卦卦上上上上上上上上上上上上上上上上上上僮僮僮僮僮僮僮僮僮僮僮僮僮僮僮僮僮僮幼幼幼幼幼幼幼幼幼幼幼幼幼幼幼幼幼幼九九九九九九九九九九九九九九九九九九天天天天天天天天天天天天天天天天天天府府府府府府府府府府府府府府府府府府命命命命命命命命命命命命命命命命命命卜卜卜卜卜卜卜卜卜卜卜卜卜卜卜卜卜卜館館館館館館館館館館館館館館館館館館電電電電電電電電電電電電電電電電電電話話話話話話話話話話話話話話話話話話：：：：：：：：：：：：：：：：：：646646646646646646646646646646646646646646646646646646-23-23-23-23-23-23-23-23-23-23-23-23-23-23-23-23-23-236-36-36-36-36-36-36-36-36-36-36-36-36-36-36-36-36-36-3897897897897897897897897897897897897897897897897897897算算算算算算算算算算算算算算算算算算命命命命命命命命命命命命命命命命命命卜卜卜卜卜卜卜卜卜卜卜卜卜卜卜卜卜卜卦卦卦卦卦卦卦卦卦卦卦卦卦卦卦卦卦卦上上上上上上上上上上上上上上上上上上僮僮僮僮僮僮僮僮僮僮僮僮僮僮僮僮僮僮幼幼幼幼幼幼幼幼幼幼幼幼幼幼幼幼幼幼九九九九九九九九九九九九九九九九九九天天天天天天天天天天天天天天天天天天府府府府府府府府府府府府府府府府府府命命命命命命命命命命命命命命命命命命卜卜卜卜卜卜卜卜卜卜卜卜卜卜卜卜卜卜館館館館館館館館館館館館館館館館館館電電電電電電電電電電電電電電電電電電話話話話話話話話話話話話話話話話話話：：：：：：：：：：：：：：：：：：646646646646646646646646646646646646646646646646646646-23-23-23-23-23-23-23-23-23-23-23-23-23-23-23-23-23-236-36-36-36-36-36-36-36-36-36-36-36-36-36-36-36-36-36-3897897897897897897897897897897897897897897897897897897算算算算算算算算算算算算算算算算算算命命命命命命命命命命命命命命命命命命卜卜卜卜卜卜卜卜卜卜卜卜卜卜卜卜卜卜卦卦卦卦卦卦卦卦卦卦卦卦卦卦卦卦卦卦上上上上上上上上上上上上上上上上上上僮僮僮僮僮僮僮僮僮僮僮僮僮僮僮僮僮僮幼幼幼幼幼幼幼幼幼幼幼幼幼幼幼幼幼幼九九九九九九九九九九九九九九九九九九天天天天天天天天天天天天天天天天天天府府府府府府府府府府府府府府府府府府命命命命命命命命命命命命命命命命命命卜卜卜卜卜卜卜卜卜卜卜卜卜卜卜卜卜卜館館館館館館館館館館館館館館館館館館電電電電電電電電電電電電電電電電電電話話話話話話話話話話話話話話話話話話：：：：：：：：：：：：：：：：：：646646646646646646646646646646646646646646646646646646-23-23-23-23-23-23-23-23-23-23-23-23-23-23-23-23-23-236-36-36-36-36-36-36-36-36-36-36-36-36-36-36-36-36-36-3897897897897897897897897897897897897897897897897897897算算算算算算算算算算算算算算算算算算命命命命命命命命命命命命命命命命命命卜卜卜卜卜卜卜卜卜卜卜卜卜卜卜卜卜卜卦卦卦卦卦卦卦卦卦卦卦卦卦卦卦卦卦卦上上上上上上上上上上上上上上上上上上僮僮僮僮僮僮僮僮僮僮僮僮僮僮僮僮僮僮幼幼幼幼幼幼幼幼幼幼幼幼幼幼幼幼幼幼九九九九九九九九九九九九九九九九九九天天天天天天天天天天天天天天天天天天府府府府府府府府府府府府府府府府府府命命命命命命命命命命命命命命命命命命卜卜卜卜卜卜卜卜卜卜卜卜卜卜卜卜卜卜館館館館館館館館館館館館館館館館館館電電電電電電電電電電電電電電電電電電話話話話話話話話話話話話話話話話話話：：：：：：：：：：：：：：：：：：646646646646646646646646646646646646646646646646646646-23-23-23-23-23-23-23-23-23-23-23-23-23-23-23-23-23-236-36-36-36-36-36-36-36-36-36-36-36-36-36-36-36-36-36-3897897897897897897897897897897897897897897897897897897算算算算算算算算算算算算算算算算算算命命命命命命命命命命命命命命命命命命卜卜卜卜卜卜卜卜卜卜卜卜卜卜卜卜卜卜卦卦卦卦卦卦卦卦卦卦卦卦卦卦卦卦卦卦上上上上上上上上上上上上上上上上上上僮僮僮僮僮僮僮僮僮僮僮僮僮僮僮僮僮僮幼幼幼幼幼幼幼幼幼幼幼幼幼幼幼幼幼幼九九九九九九九九九九九九九九九九九九天天天天天天天天天天天天天天天天天天府府府府府府府府府府府府府府府府府府命命命命命命命命命命命命命命命命命命卜卜卜卜卜卜卜卜卜卜卜卜卜卜卜卜卜卜館館館館館館館館館館館館館館館館館館電電電電電電電電電電電電電電電電電電話話話話話話話話話話話話話話話話話話：：：：：：：：：：：：：：：：：：646646646646646646646646646646646646646646646646646646-23-23-23-23-23-23-23-23-23-23-23-23-23-23-23-23-23-236-36-36-36-36-36-36-36-36-36-36-36-36-36-36-36-36-36-3897897897897897897897897897897897897897897897897897897算算算算算算算算算算算算算算算算算算命命命命命命命命命命命命命命命命命命卜卜卜卜卜卜卜卜卜卜卜卜卜卜卜卜卜卜卦卦卦卦卦卦卦卦卦卦卦卦卦卦卦卦卦卦上上上上上上上上上上上上上上上上上上僮僮僮僮僮僮僮僮僮僮僮僮僮僮僮僮僮僮幼幼幼幼幼幼幼幼幼幼幼幼幼幼幼幼幼幼童童童童童童童童童童童童童童童童童童定定定定定定定定定定定定定定定定定定時時時時時時時時時時時時時時時時時時合合合合合合合合合合合合合合合合合合婚婚婚婚婚婚婚婚婚婚婚婚婚婚婚婚婚婚擇擇擇擇擇擇擇擇擇擇擇擇擇擇擇擇擇擇日日日日日日日日日日日日日日日日日日讓讓讓讓讓讓讓讓讓讓讓讓讓讓讓讓讓讓太太太太太太太太太太太太太太太太太太歲歲歲歲歲歲歲歲歲歲歲歲歲歲歲歲歲歲居居居居居居居居居居居居居居居居居居家家家家家家家家家家家家家家家家家家風風風風風風風風風風風風風風風風風風水水水水水水水水水水水水水水水水水水商商商商商商商商商商商商商商商商商商業業業業業業業業業業業業業業業業業業風風風風風風風風風風風風風風風風風風水水水水水水水水水水水水水水水水水水陰陰陰陰陰陰陰陰陰陰陰陰陰陰陰陰陰陰宅宅宅宅宅宅宅宅宅宅宅宅宅宅宅宅宅宅童童童童童童童童童童童童童童童童童童定定定定定定定定定定定定定定定定定定時時時時時時時時時時時時時時時時時時合合合合合合合合合合合合合合合合合合婚婚婚婚婚婚婚婚婚婚婚婚婚婚婚婚婚婚擇擇擇擇擇擇擇擇擇擇擇擇擇擇擇擇擇擇日日日日日日日日日日日日日日日日日日讓讓讓讓讓讓讓讓讓讓讓讓讓讓讓讓讓讓太太太太太太太太太太太太太太太太太太歲歲歲歲歲歲歲歲歲歲歲歲歲歲歲歲歲歲居居居居居居居居居居居居居居居居居居家家家家家家家家家家家家家家家家家家風風風風風風風風風風風風風風風風風風水水水水水水水水水水水水水水水水水水商商商商商商商商商商商商商商商商商商業業業業業業業業業業業業業業業業業業風風風風風風風風風風風風風風風風風風水水水水水水水水水水水水水水水水水水陰陰陰陰陰陰陰陰陰陰陰陰陰陰陰陰陰陰宅宅宅宅宅宅宅宅宅宅宅宅宅宅宅宅宅宅童童童童童童童童童童童童童童童童童童定定定定定定定定定定定定定定定定定定時時時時時時時時時時時時時時時時時時合合合合合合合合合合合合合合合合合合婚婚婚婚婚婚婚婚婚婚婚婚婚婚婚婚婚婚擇擇擇擇擇擇擇擇擇擇擇擇擇擇擇擇擇擇日日日日日日日日日日日日日日日日日日讓讓讓讓讓讓讓讓讓讓讓讓讓讓讓讓讓讓太太太太太太太太太太太太太太太太太太歲歲歲歲歲歲歲歲歲歲歲歲歲歲歲歲歲歲居居居居居居居居居居居居居居居居居居家家家家家家家家家家家家家家家家家家風風風風風風風風風風風風風風風風風風水水水水水水水水水水水水水水水水水水商商商商商商商商商商商商商商商商商商業業業業業業業業業業業業業業業業業業風風風風風風風風風風風風風風風風風風水水水水水水水水水水水水水水水水水水陰陰陰陰陰陰陰陰陰陰陰陰陰陰陰陰陰陰宅宅宅宅宅宅宅宅宅宅宅宅宅宅宅宅宅宅童童童童童童童童童童童童童童童童童童定定定定定定定定定定定定定定定定定定時時時時時時時時時時時時時時時時時時合合合合合合合合合合合合合合合合合合婚婚婚婚婚婚婚婚婚婚婚婚婚婚婚婚婚婚擇擇擇擇擇擇擇擇擇擇擇擇擇擇擇擇擇擇日日日日日日日日日日日日日日日日日日讓讓讓讓讓讓讓讓讓讓讓讓讓讓讓讓讓讓太太太太太太太太太太太太太太太太太太歲歲歲歲歲歲歲歲歲歲歲歲歲歲歲歲歲歲居居居居居居居居居居居居居居居居居居家家家家家家家家家家家家家家家家家家風風風風風風風風風風風風風風風風風風水水水水水水水水水水水水水水水水水水商商商商商商商商商商商商商商商商商商業業業業業業業業業業業業業業業業業業風風風風風風風風風風風風風風風風風風水水水水水水水水水水水水水水水水水水陰陰陰陰陰陰陰陰陰陰陰陰陰陰陰陰陰陰宅宅宅宅宅宅宅宅宅宅宅宅宅宅宅宅宅宅童童童童童童童童童童童童童童童童童童定定定定定定定定定定定定定定定定定定時時時時時時時時時時時時時時時時時時合合合合合合合合合合合合合合合合合合婚婚婚婚婚婚婚婚婚婚婚婚婚婚婚婚婚婚擇擇擇擇擇擇擇擇擇擇擇擇擇擇擇擇擇擇日日日日日日日日日日日日日日日日日日讓讓讓讓讓讓讓讓讓讓讓讓讓讓讓讓讓讓太太太太太太太太太太太太太太太太太太歲歲歲歲歲歲歲歲歲歲歲歲歲歲歲歲歲歲居居居居居居居居居居居居居居居居居居家家家家家家家家家家家家家家家家家家風風風風風風風風風風風風風風風風風風水水水水水水水水水水水水水水水水水水商商商商商商商商商商商商商商商商商商業業業業業業業業業業業業業業業業業業風風風風風風風風風風風風風風風風風風水水水水水水水水水水水水水水水水水水陰陰陰陰陰陰陰陰陰陰陰陰陰陰陰陰陰陰宅宅宅宅宅宅宅宅宅宅宅宅宅宅宅宅宅宅童童童童童童童童童童童童童童童童童童定定定定定定定定定定定定定定定定定定時時時時時時時時時時時時時時時時時時合合合合合合合合合合合合合合合合合合婚婚婚婚婚婚婚婚婚婚婚婚婚婚婚婚婚婚擇擇擇擇擇擇擇擇擇擇擇擇擇擇擇擇擇擇日日日日日日日日日日日日日日日日日日讓讓讓讓讓讓讓讓讓讓讓讓讓讓讓讓讓讓太太太太太太太太太太太太太太太太太太歲歲歲歲歲歲歲歲歲歲歲歲歲歲歲歲歲歲居居居居居居居居居居居居居居居居居居家家家家家家家家家家家家家家家家家家風風風風風風風風風風風風風風風風風風水水水水水水水水水水水水水水水水水水商商商商商商商商商商商商商商商商商商業業業業業業業業業業業業業業業業業業風風風風風風風風風風風風風風風風風風水水水水水水水水水水水水水水水水水水陰陰陰陰陰陰陰陰陰陰陰陰陰陰陰陰陰陰宅宅宅宅宅宅宅宅宅宅宅宅宅宅宅宅宅宅童童童童童童童童童童童童童童童童童童定定定定定定定定定定定定定定定定定定時時時時時時時時時時時時時時時時時時合合合合合合合合合合合合合合合合合合婚婚婚婚婚婚婚婚婚婚婚婚婚婚婚婚婚婚擇擇擇擇擇擇擇擇擇擇擇擇擇擇擇擇擇擇日日日日日日日日日日日日日日日日日日讓讓讓讓讓讓讓讓讓讓讓讓讓讓讓讓讓讓太太太太太太太太太太太太太太太太太太歲歲歲歲歲歲歲歲歲歲歲歲歲歲歲歲歲歲居居居居居居居居居居居居居居居居居居家家家家家家家家家家家家家家家家家家風風風風風風風風風風風風風風風風風風水水水水水水水水水水水水水水水水水水商商商商商商商商商商商商商商商商商商業業業業業業業業業業業業業業業業業業風風風風風風風風風風風風風風風風風風水水水水水水水水水水水水水水水水水水陰陰陰陰陰陰陰陰陰陰陰陰陰陰陰陰陰陰宅宅宅宅宅宅宅宅宅宅宅宅宅宅宅宅宅宅童童童童童童童童童童童童童童童童童童定定定定定定定定定定定定定定定定定定時時時時時時時時時時時時時時時時時時合合合合合合合合合合合合合合合合合合婚婚婚婚婚婚婚婚婚婚婚婚婚婚婚婚婚婚擇擇擇擇擇擇擇擇擇擇擇擇擇擇擇擇擇擇日日日日日日日日日日日日日日日日日日讓讓讓讓讓讓讓讓讓讓讓讓讓讓讓讓讓讓太太太太太太太太太太太太太太太太太太歲歲歲歲歲歲歲歲歲歲歲歲歲歲歲歲歲歲居居居居居居居居居居居居居居居居居居家家家家家家家家家家家家家家家家家家風風風風風風風風風風風風風風風風風風水水水水水水水水水水水水水水水水水水商商商商商商商商商商商商商商商商商商業業業業業業業業業業業業業業業業業業風風風風風風風風風風風風風風風風風風水水水水水水水水水水水水水水水水水水陰陰陰陰陰陰陰陰陰陰陰陰陰陰陰陰陰陰宅宅宅宅宅宅宅宅宅宅宅宅宅宅宅宅宅宅童童童童童童童童童童童童童童童童童童定定定定定定定定定定定定定定定定定定時時時時時時時時時時時時時時時時時時合合合合合合合合合合合合合合合合合合婚婚婚婚婚婚婚婚婚婚婚婚婚婚婚婚婚婚擇擇擇擇擇擇擇擇擇擇擇擇擇擇擇擇擇擇日日日日日日日日日日日日日日日日日日讓讓讓讓讓讓讓讓讓讓讓讓讓讓讓讓讓讓太太太太太太太太太太太太太太太太太太歲歲歲歲歲歲歲歲歲歲歲歲歲歲歲歲歲歲居居居居居居居居居居居居居居居居居居家家家家家家家家家家家家家家家家家家風風風風風風風風風風風風風風風風風風水水水水水水水水水水水水水水水水水水商商商商商商商商商商商商商商商商商商業業業業業業業業業業業業業業業業業業風風風風風風風風風風風風風風風風風風水水水水水水水水水水水水水水水水水水陰陰陰陰陰陰陰陰陰陰陰陰陰陰陰陰陰陰宅宅宅宅宅宅宅宅宅宅宅宅宅宅宅宅宅宅童童童童童童童童童童童童童童童童童童定定定定定定定定定定定定定定定定定定時時時時時時時時時時時時時時時時時時合合合合合合合合合合合合合合合合合合婚婚婚婚婚婚婚婚婚婚婚婚婚婚婚婚婚婚擇擇擇擇擇擇擇擇擇擇擇擇擇擇擇擇擇擇日日日日日日日日日日日日日日日日日日讓讓讓讓讓讓讓讓讓讓讓讓讓讓讓讓讓讓太太太太太太太太太太太太太太太太太太歲歲歲歲歲歲歲歲歲歲歲歲歲歲歲歲歲歲居居居居居居居居居居居居居居居居居居家家家家家家家家家家家家家家家家家家風風風風風風風風風風風風風風風風風風水水水水水水水水水水水水水水水水水水商商商商商商商商商商商商商商商商商商業業業業業業業業業業業業業業業業業業風風風風風風風風風風風風風風風風風風水水水水水水水水水水水水水水水水水水陰陰陰陰陰陰陰陰陰陰陰陰陰陰陰陰陰陰宅宅宅宅宅宅宅宅宅宅宅宅宅宅宅宅宅宅童童童童童童童童童童童童童童童童童童定定定定定定定定定定定定定定定定定定時時時時時時時時時時時時時時時時時時合合合合合合合合合合合合合合合合合合婚婚婚婚婚婚婚婚婚婚婚婚婚婚婚婚婚婚擇擇擇擇擇擇擇擇擇擇擇擇擇擇擇擇擇擇日日日日日日日日日日日日日日日日日日讓讓讓讓讓讓讓讓讓讓讓讓讓讓讓讓讓讓太太太太太太太太太太太太太太太太太太歲歲歲歲歲歲歲歲歲歲歲歲歲歲歲歲歲歲居居居居居居居居居居居居居居居居居居家家家家家家家家家家家家家家家家家家風風風風風風風風風風風風風風風風風風水水水水水水水水水水水水水水水水水水商商商商商商商商商商商商商商商商商商業業業業業業業業業業業業業業業業業業風風風風風風風風風風風風風風風風風風水水水水水水水水水水水水水水水水水水陰陰陰陰陰陰陰陰陰陰陰陰陰陰陰陰陰陰宅宅宅宅宅宅宅宅宅宅宅宅宅宅宅宅宅宅童童童童童童童童童童童童童童童童童童定定定定定定定定定定定定定定定定定定時時時時時時時時時時時時時時時時時時合合合合合合合合合合合合合合合合合合婚婚婚婚婚婚婚婚婚婚婚婚婚婚婚婚婚婚擇擇擇擇擇擇擇擇擇擇擇擇擇擇擇擇擇擇日日日日日日日日日日日日日日日日日日讓讓讓讓讓讓讓讓讓讓讓讓讓讓讓讓讓讓太太太太太太太太太太太太太太太太太太歲歲歲歲歲歲歲歲歲歲歲歲歲歲歲歲歲歲居居居居居居居居居居居居居居居居居居家家家家家家家家家家家家家家家家家家風風風風風風風風風風風風風風風風風風水水水水水水水水水水水水水水水水水水商商商商商商商商商商商商商商商商商商業業業業業業業業業業業業業業業業業業風風風風風風風風風風風風風風風風風風水水水水水水水水水水水水水水水水水水陰陰陰陰陰陰陰陰陰陰陰陰陰陰陰陰陰陰宅宅宅宅宅宅宅宅宅宅宅宅宅宅宅宅宅宅童童童童童童童童童童童童童童童童童童定定定定定定定定定定定定定定定定定定時時時時時時時時時時時時時時時時時時合合合合合合合合合合合合合合合合合合婚婚婚婚婚婚婚婚婚婚婚婚婚婚婚婚婚婚擇擇擇擇擇擇擇擇擇擇擇擇擇擇擇擇擇擇日日日日日日日日日日日日日日日日日日讓讓讓讓讓讓讓讓讓讓讓讓讓讓讓讓讓讓太太太太太太太太太太太太太太太太太太歲歲歲歲歲歲歲歲歲歲歲歲歲歲歲歲歲歲居居居居居居居居居居居居居居居居居居家家家家家家家家家家家家家家家家家家風風風風風風風風風風風風風風風風風風水水水水水水水水水水水水水水水水水水商商商商商商商商商商商商商商商商商商業業業業業業業業業業業業業業業業業業風風風風風風風風風風風風風風風風風風水水水水水水水水水水水水水水水水水水陰陰陰陰陰陰陰陰陰陰陰陰陰陰陰陰陰陰宅宅宅宅宅宅宅宅宅宅宅宅宅宅宅宅宅宅童童童童童童童童童童童童童童童童童童定定定定定定定定定定定定定定定定定定時時時時時時時時時時時時時時時時時時合合合合合合合合合合合合合合合合合合婚婚婚婚婚婚婚婚婚婚婚婚婚婚婚婚婚婚擇擇擇擇擇擇擇擇擇擇擇擇擇擇擇擇擇擇日日日日日日日日日日日日日日日日日日讓讓讓讓讓讓讓讓讓讓讓讓讓讓讓讓讓讓太太太太太太太太太太太太太太太太太太歲歲歲歲歲歲歲歲歲歲歲歲歲歲歲歲歲歲居居居居居居居居居居居居居居居居居居家家家家家家家家家家家家家家家家家家風風風風風風風風風風風風風風風風風風水水水水水水水水水水水水水水水水水水商商商商商商商商商商商商商商商商商商業業業業業業業業業業業業業業業業業業風風風風風風風風風風風風風風風風風風水水水水水水水水水水水水水水水水水水陰陰陰陰陰陰陰陰陰陰陰陰陰陰陰陰陰陰宅宅宅宅宅宅宅宅宅宅宅宅宅宅宅宅宅宅童童童童童童童童童童童童童童童童童童定定定定定定定定定定定定定定定定定定時時時時時時時時時時時時時時時時時時合合合合合合合合合合合合合合合合合合婚婚婚婚婚婚婚婚婚婚婚婚婚婚婚婚婚婚擇擇擇擇擇擇擇擇擇擇擇擇擇擇擇擇擇擇日日日日日日日日日日日日日日日日日日讓讓讓讓讓讓讓讓讓讓讓讓讓讓讓讓讓讓太太太太太太太太太太太太太太太太太太歲歲歲歲歲歲歲歲歲歲歲歲歲歲歲歲歲歲居居居居居居居居居居居居居居居居居居家家家家家家家家家家家家家家家家家家風風風風風風風風風風風風風風風風風風水水水水水水水水水水水水水水水水水水商商商商商商商商商商商商商商商商商商業業業業業業業業業業業業業業業業業業風風風風風風風風風風風風風風風風風風水水水水水水水水水水水水水水水水水水陰陰陰陰陰陰陰陰陰陰陰陰陰陰陰陰陰陰宅宅宅宅宅宅宅宅宅宅宅宅宅宅宅宅宅宅童童童童童童童童童童童童童童童童童童定定定定定定定定定定定定定定定定定定時時時時時時時時時時時時時時時時時時合合合合合合合合合合合合合合合合合合婚婚婚婚婚婚婚婚婚婚婚婚婚婚婚婚婚婚擇擇擇擇擇擇擇擇擇擇擇擇擇擇擇擇擇擇日日日日日日日日日日日日日日日日日日讓讓讓讓讓讓讓讓讓讓讓讓讓讓讓讓讓讓太太太太太太太太太太太太太太太太太太歲歲歲歲歲歲歲歲歲歲歲歲歲歲歲歲歲歲居居居居居居居居居居居居居居居居居居家家家家家家家家家家家家家家家家家家風風風風風風風風風風風風風風風風風風水水水水水水水水水水水水水水水水水水商商商商商商商商商商商商商商商商商商業業業業業業業業業業業業業業業業業業風風風風風風風風風風風風風風風風風風水水水水水水水水水水水水水水水水水水陰陰陰陰陰陰陰陰陰陰陰陰陰陰陰陰陰陰宅宅宅宅宅宅宅宅宅宅宅宅宅宅宅宅宅宅童童童童童童童童童童童童童童童童童童定定定定定定定定定定定定定定定定定定時時時時時時時時時時時時時時時時時時合合合合合合合合合合合合合合合合合合婚婚婚婚婚婚婚婚婚婚婚婚婚婚婚婚婚婚擇擇擇擇擇擇擇擇擇擇擇擇擇擇擇擇擇擇日日日日日日日日日日日日日日日日日日讓讓讓讓讓讓讓讓讓讓讓讓讓讓讓讓讓讓太太太太太太太太太太太太太太太太太太歲歲歲歲歲歲歲歲歲歲歲歲歲歲歲歲歲歲居居居居居居居居居居居居居居居居居居家家家家家家家家家家家家家家家家家家風風風風風風風風風風風風風風風風風風水水水水水水水水水水水水水水水水水水商商商商商商商商商商商商商商商商商商業業業業業業業業業業業業業業業業業業風風風風風風風風風風風風風風風風風風水水水水水水水水水水水水水水水水水水陰陰陰陰陰陰陰陰陰陰陰陰陰陰陰陰陰陰宅宅宅宅宅宅宅宅宅宅宅宅宅宅宅宅宅宅童童童童童童童童童童童童童童童童童童定定定定定定定定定定定定定定定定定定時時時時時時時時時時時時時時時時時時合合合合合合合合合合合合合合合合合合婚婚婚婚婚婚婚婚婚婚婚婚婚婚婚婚婚婚擇擇擇擇擇擇擇擇擇擇擇擇擇擇擇擇擇擇日日日日日日日日日日日日日日日日日日讓讓讓讓讓讓讓讓讓讓讓讓讓讓讓讓讓讓太太太太太太太太太太太太太太太太太太歲歲歲歲歲歲歲歲歲歲歲歲歲歲歲歲歲歲居居居居居居居居居居居居居居居居居居家家家家家家家家家家家家家家家家家家風風風風風風風風風風風風風風風風風風水水水水水水水水水水水水水水水水水水商商商商商商商商商商商商商商商商商商業業業業業業業業業業業業業業業業業業風風風風風風風風風風風風風風風風風風水水水水水水水水水水水水水水水水水水陰陰陰陰陰陰陰陰陰陰陰陰陰陰陰陰陰陰宅宅宅宅宅宅宅宅宅宅宅宅宅宅宅宅宅宅風風風風風風風風風風風風風風風風風風水水水水水水水水水水水水水水水水水水各各各各各各各各各各各各各各各各各各種種種種種種種種種種種種種種種種種種靈靈靈靈靈靈靈靈靈靈靈靈靈靈靈靈靈靈符符符符符符符符符符符符符符符符符符承承承承承承承承承承承承承承承承承承接接接接接接接接接接接接接接接接接接道道道道道道道道道道道道道道道道道道場場場場場場場場場場場場場場場場場場劉劉劉劉劉劉劉劉劉劉劉劉劉劉劉劉劉劉先先先先先先先先先先先先先先先先先先生生生生生生生生生生生生生生生生生生：：：：：：：：：：：：：：：：：：646646646646646646646646646646646646646646646646646646-23-23-23-23-23-23-23-23-23-23-23-23-23-23-23-23-23-236-36-36-36-36-36-36-36-36-36-36-36-36-36-36-36-36-36-3897897897897897897897897897897897897897897897897897897以以以以以以以以以以以以以以以以以以上上上上上上上上上上上上上上上上上上風風風風風風風風風風風風風風風風風風水水水水水水水水水水水水水水水水水水各各各各各各各各各各各各各各各各各各種種種種種種種種種種種種種種種種種種靈靈靈靈靈靈靈靈靈靈靈靈靈靈靈靈靈靈符符符符符符符符符符符符符符符符符符承承承承承承承承承承承承承承承承承承接接接接接接接接接接接接接接接接接接道道道道道道道道道道道道道道道道道道場場場場場場場場場場場場場場場場場場劉劉劉劉劉劉劉劉劉劉劉劉劉劉劉劉劉劉先先先先先先先先先先先先先先先先先先生生生生生生生生生生生生生生生生生生：：：：：：：：：：：：：：：：：：646646646646646646646646646646646646646646646646646646-23-23-23-23-23-23-23-23-23-23-23-23-23-23-23-23-23-236-36-36-36-36-36-36-36-36-36-36-36-36-36-36-36-36-36-3897897897897897897897897897897897897897897897897897897以以以以以以以以以以以以以以以以以以上上上上上上上上上上上上上上上上上上風風風風風風風風風風風風風風風風風風水水水水水水水水水水水水水水水水水水各各各各各各各各各各各各各各各各各各種種種種種種種種種種種種種種種種種種靈靈靈靈靈靈靈靈靈靈靈靈靈靈靈靈靈靈符符符符符符符符符符符符符符符符符符承承承承承承承承承承承承承承承承承承接接接接接接接接接接接接接接接接接接道道道道道道道道道道道道道道道道道道場場場場場場場場場場場場場場場場場場劉劉劉劉劉劉劉劉劉劉劉劉劉劉劉劉劉劉先先先先先先先先先先先先先先先先先先生生生生生生生生生生生生生生生生生生：：：：：：：：：：：：：：：：：：646646646646646646646646646646646646646646646646646646-23-23-23-23-23-23-23-23-23-23-23-23-23-23-23-23-23-236-36-36-36-36-36-36-36-36-36-36-36-36-36-36-36-36-36-3897897897897897897897897897897897897897897897897897897以以以以以以以以以以以以以以以以以以上上上上上上上上上上上上上上上上上上風風風風風風風風風風風風風風風風風風水水水水水水水水水水水水水水水水水水各各各各各各各各各各各各各各各各各各種種種種種種種種種種種種種種種種種種靈靈靈靈靈靈靈靈靈靈靈靈靈靈靈靈靈靈符符符符符符符符符符符符符符符符符符承承承承承承承承承承承承承承承承承承接接接接接接接接接接接接接接接接接接道道道道道道道道道道道道道道道道道道場場場場場場場場場場場場場場場場場場劉劉劉劉劉劉劉劉劉劉劉劉劉劉劉劉劉劉先先先先先先先先先先先先先先先先先先生生生生生生生生生生生生生生生生生生：：：：：：：：：：：：：：：：：：646646646646646646646646646646646646646646646646646646-23-23-23-23-23-23-23-23-23-23-23-23-23-23-23-23-23-236-36-36-36-36-36-36-36-36-36-36-36-36-36-36-36-36-36-3897897897897897897897897897897897897897897897897897897以以以以以以以以以以以以以以以以以以上上上上上上上上上上上上上上上上上上風風風風風風風風風風風風風風風風風風水水水水水水水水水水水水水水水水水水各各各各各各各各各各各各各各各各各各種種種種種種種種種種種種種種種種種種靈靈靈靈靈靈靈靈靈靈靈靈靈靈靈靈靈靈符符符符符符符符符符符符符符符符符符承承承承承承承承承承承承承承承承承承接接接接接接接接接接接接接接接接接接道道道道道道道道道道道道道道道道道道場場場場場場場場場場場場場場場場場場劉劉劉劉劉劉劉劉劉劉劉劉劉劉劉劉劉劉先先先先先先先先先先先先先先先先先先生生生生生生生生生生生生生生生生生生：：：：：：：：：：：：：：：：：：646646646646646646646646646646646646646646646646646646-23-23-23-23-23-23-23-23-23-23-23-23-23-23-23-23-23-236-36-36-36-36-36-36-36-36-36-36-36-36-36-36-36-36-36-3897897897897897897897897897897897897897897897897897897以以以以以以以以以以以以以以以以以以上上上上上上上上上上上上上上上上上上風風風風風風風風風風風風風風風風風風水水水水水水水水水水水水水水水水水水各各各各各各各各各各各各各各各各各各種種種種種種種種種種種種種種種種種種靈靈靈靈靈靈靈靈靈靈靈靈靈靈靈靈靈靈符符符符符符符符符符符符符符符符符符承承承承承承承承承承承承承承承承承承接接接接接接接接接接接接接接接接接接道道道道道道道道道道道道道道道道道道場場場場場場場場場場場場場場場場場場劉劉劉劉劉劉劉劉劉劉劉劉劉劉劉劉劉劉先先先先先先先先先先先先先先先先先先生生生生生生生生生生生生生生生生生生：：：：：：：：：：：：：：：：：：646646646646646646646646646646646646646646646646646646-23-23-23-23-23-23-23-23-23-23-23-23-23-23-23-23-23-236-36-36-36-36-36-36-36-36-36-36-36-36-36-36-36-36-36-3897897897897897897897897897897897897897897897897897897以以以以以以以以以以以以以以以以以以上上上上上上上上上上上上上上上上上上風風風風風風風風風風風風風風風風風風水水水水水水水水水水水水水水水水水水各各各各各各各各各各各各各各各各各各種種種種種種種種種種種種種種種種種種靈靈靈靈靈靈靈靈靈靈靈靈靈靈靈靈靈靈符符符符符符符符符符符符符符符符符符承承承承承承承承承承承承承承承承承承接接接接接接接接接接接接接接接接接接道道道道道道道道道道道道道道道道道道場場場場場場場場場場場場場場場場場場劉劉劉劉劉劉劉劉劉劉劉劉劉劉劉劉劉劉先先先先先先先先先先先先先先先先先先生生生生生生生生生生生生生生生生生生：：：：：：：：：：：：：：：：：：646646646646646646646646646646646646646646646646646646-23-23-23-23-23-23-23-23-23-23-23-23-23-23-23-23-23-236-36-36-36-36-36-36-36-36-36-36-36-36-36-36-36-36-36-3897897897897897897897897897897897897897897897897897897以以以以以以以以以以以以以以以以以以上上上上上上上上上上上上上上上上上上風風風風風風風風風風風風風風風風風風水水水水水水水水水水水水水水水水水水各各各各各各各各各各各各各各各各各各種種種種種種種種種種種種種種種種種種靈靈靈靈靈靈靈靈靈靈靈靈靈靈靈靈靈靈符符符符符符符符符符符符符符符符符符承承承承承承承承承承承承承承承承承承接接接接接接接接接接接接接接接接接接道道道道道道道道道道道道道道道道道道場場場場場場場場場場場場場場場場場場劉劉劉劉劉劉劉劉劉劉劉劉劉劉劉劉劉劉先先先先先先先先先先先先先先先先先先生生生生生生生生生生生生生生生生生生：：：：：：：：：：：：：：：：：：646646646646646646646646646646646646646646646646646646-23-23-23-23-23-23-23-23-23-23-23-23-23-23-23-23-23-236-36-36-36-36-36-36-36-36-36-36-36-36-36-36-36-36-36-3897897897897897897897897897897897897897897897897897897以以以以以以以以以以以以以以以以以以上上上上上上上上上上上上上上上上上上風風風風風風風風風風風風風風風風風風水水水水水水水水水水水水水水水水水水各各各各各各各各各各各各各各各各各各種種種種種種種種種種種種種種種種種種靈靈靈靈靈靈靈靈靈靈靈靈靈靈靈靈靈靈符符符符符符符符符符符符符符符符符符承承承承承承承承承承承承承承承承承承接接接接接接接接接接接接接接接接接接道道道道道道道道道道道道道道道道道道場場場場場場場場場場場場場場場場場場劉劉劉劉劉劉劉劉劉劉劉劉劉劉劉劉劉劉先先先先先先先先先先先先先先先先先先生生生生生生生生生生生生生生生生生生：：：：：：：：：：：：：：：：：：646646646646646646646646646646646646646646646646646646-23-23-23-23-23-23-23-23-23-23-23-23-23-23-23-23-23-236-36-36-36-36-36-36-36-36-36-36-36-36-36-36-36-36-36-3897897897897897897897897897897897897897897897897897897以以以以以以以以以以以以以以以以以以上上上上上上上上上上上上上上上上上上風風風風風風風風風風風風風風風風風風水水水水水水水水水水水水水水水水水水各各各各各各各各各各各各各各各各各各種種種種種種種種種種種種種種種種種種靈靈靈靈靈靈靈靈靈靈靈靈靈靈靈靈靈靈符符符符符符符符符符符符符符符符符符承承承承承承承承承承承承承承承承承承接接接接接接接接接接接接接接接接接接道道道道道道道道道道道道道道道道道道場場場場場場場場場場場場場場場場場場劉劉劉劉劉劉劉劉劉劉劉劉劉劉劉劉劉劉先先先先先先先先先先先先先先先先先先生生生生生生生生生生生生生生生生生生：：：：：：：：：：：：：：：：：：646646646646646646646646646646646646646646646646646646-23-23-23-23-23-23-23-23-23-23-23-23-23-23-23-23-23-236-36-36-36-36-36-36-36-36-36-36-36-36-36-36-36-36-36-3897897897897897897897897897897897897897897897897897897以以以以以以以以以以以以以以以以以以上上上上上上上上上上上上上上上上上上風風風風風風風風風風風風風風風風風風水水水水水水水水水水水水水水水水水水各各各各各各各各各各各各各各各各各各種種種種種種種種種種種種種種種種種種靈靈靈靈靈靈靈靈靈靈靈靈靈靈靈靈靈靈符符符符符符符符符符符符符符符符符符承承承承承承承承承承承承承承承承承承接接接接接接接接接接接接接接接接接接道道道道道道道道道道道道道道道道道道場場場場場場場場場場場場場場場場場場劉劉劉劉劉劉劉劉劉劉劉劉劉劉劉劉劉劉先先先先先先先先先先先先先先先先先先生生生生生生生生生生生生生生生生生生：：：：：：：：：：：：：：：：：：646646646646646646646646646646646646646646646646646646-23-23-23-23-23-23-23-23-23-23-23-23-23-23-23-23-23-236-36-36-36-36-36-36-36-36-36-36-36-36-36-36-36-36-36-3897897897897897897897897897897897897897897897897897897以以以以以以以以以以以以以以以以以以上上上上上上上上上上上上上上上上上上風風風風風風風風風風風風風風風風風風水水水水水水水水水水水水水水水水水水各各各各各各各各各各各各各各各各各各種種種種種種種種種種種種種種種種種種靈靈靈靈靈靈靈靈靈靈靈靈靈靈靈靈靈靈符符符符符符符符符符符符符符符符符符承承承承承承承承承承承承承承承承承承接接接接接接接接接接接接接接接接接接道道道道道道道道道道道道道道道道道道場場場場場場場場場場場場場場場場場場劉劉劉劉劉劉劉劉劉劉劉劉劉劉劉劉劉劉先先先先先先先先先先先先先先先先先先生生生生生生生生生生生生生生生生生生：：：：：：：：：：：：：：：：：：646646646646646646646646646646646646646646646646646646-23-23-23-23-23-23-23-23-23-23-23-23-23-23-23-23-23-236-36-36-36-36-36-36-36-36-36-36-36-36-36-36-36-36-36-3897897897897897897897897897897897897897897897897897897以以以以以以以以以以以以以以以以以以上上上上上上上上上上上上上上上上上上風風風風風風風風風風風風風風風風風風水水水水水水水水水水水水水水水水水水各各各各各各各各各各各各各各各各各各種種種種種種種種種種種種種種種種種種靈靈靈靈靈靈靈靈靈靈靈靈靈靈靈靈靈靈符符符符符符符符符符符符符符符符符符承承承承承承承承承承承承承承承承承承接接接接接接接接接接接接接接接接接接道道道道道道道道道道道道道道道道道道場場場場場場場場場場場場場場場場場場劉劉劉劉劉劉劉劉劉劉劉劉劉劉劉劉劉劉先先先先先先先先先先先先先先先先先先生生生生生生生生生生生生生生生生生生：：：：：：：：：：：：：：：：：：646646646646646646646646646646646646646646646646646646-23-23-23-23-23-23-23-23-23-23-23-23-23-23-23-23-23-236-36-36-36-36-36-36-36-36-36-36-36-36-36-36-36-36-36-3897897897897897897897897897897897897897897897897897897以以以以以以以以以以以以以以以以以以上上上上上上上上上上上上上上上上上上風風風風風風風風風風風風風風風風風風水水水水水水水水水水水水水水水水水水各各各各各各各各各各各各各各各各各各種種種種種種種種種種種種種種種種種種靈靈靈靈靈靈靈靈靈靈靈靈靈靈靈靈靈靈符符符符符符符符符符符符符符符符符符承承承承承承承承承承承承承承承承承承接接接接接接接接接接接接接接接接接接道道道道道道道道道道道道道道道道道道場場場場場場場場場場場場場場場場場場劉劉劉劉劉劉劉劉劉劉劉劉劉劉劉劉劉劉先先先先先先先先先先先先先先先先先先生生生生生生生生生生生生生生生生生生：：：：：：：：：：：：：：：：：：646646646646646646646646646646646646646646646646646646-23-23-23-23-23-23-23-23-23-23-23-23-23-23-23-23-23-236-36-36-36-36-36-36-36-36-36-36-36-36-36-36-36-36-36-3897897897897897897897897897897897897897897897897897897以以以以以以以以以以以以以以以以以以上上上上上上上上上上上上上上上上上上風風風風風風風風風風風風風風風風風風水水水水水水水水水水水水水水水水水水各各各各各各各各各各各各各各各各各各種種種種種種種種種種種種種種種種種種靈靈靈靈靈靈靈靈靈靈靈靈靈靈靈靈靈靈符符符符符符符符符符符符符符符符符符承承承承承承承承承承承承承承承承承承接接接接接接接接接接接接接接接接接接道道道道道道道道道道道道道道道道道道場場場場場場場場場場場場場場場場場場劉劉劉劉劉劉劉劉劉劉劉劉劉劉劉劉劉劉先先先先先先先先先先先先先先先先先先生生生生生生生生生生生生生生生生生生：：：：：：：：：：：：：：：：：：646646646646646646646646646646646646646646646646646646-23-23-23-23-23-23-23-23-23-23-23-23-23-23-23-23-23-236-36-36-36-36-36-36-36-36-36-36-36-36-36-36-36-36-36-3897897897897897897897897897897897897897897897897897897以以以以以以以以以以以以以以以以以以上上上上上上上上上上上上上上上上上上風風風風風風風風風風風風風風風風風風水水水水水水水水水水水水水水水水水水各各各各各各各各各各各各各各各各各各種種種種種種種種種種種種種種種種種種靈靈靈靈靈靈靈靈靈靈靈靈靈靈靈靈靈靈符符符符符符符符符符符符符符符符符符承承承承承承承承承承承承承承承承承承接接接接接接接接接接接接接接接接接接道道道道道道道道道道道道道道道道道道場場場場場場場場場場場場場場場場場場劉劉劉劉劉劉劉劉劉劉劉劉劉劉劉劉劉劉先先先先先先先先先先先先先先先先先先生生生生生生生生生生生生生生生生生生：：：：：：：：：：：：：：：：：：646646646646646646646646646646646646646646646646646646-23-23-23-23-23-23-23-23-23-23-23-23-23-23-23-23-23-236-36-36-36-36-36-36-36-36-36-36-36-36-36-36-36-36-36-3897897897897897897897897897897897897897897897897897897以以以以以以以以以以以以以以以以以以上上上上上上上上上上上上上上上上上上風風風風風風風風風風風風風風風風風風水水水水水水水水水水水水水水水水水水各各各各各各各各各各各各各各各各各各種種種種種種種種種種種種種種種種種種靈靈靈靈靈靈靈靈靈靈靈靈靈靈靈靈靈靈符符符符符符符符符符符符符符符符符符承承承承承承承承承承承承承承承承承承接接接接接接接接接接接接接接接接接接道道道道道道道道道道道道道道道道道道場場場場場場場場場場場場場場場場場場劉劉劉劉劉劉劉劉劉劉劉劉劉劉劉劉劉劉先先先先先先先先先先先先先先先先先先生生生生生生生生生生生生生生生生生生：：：：：：：：：：：：：：：：：：646646646646646646646646646646646646646646646646646646-23-23-23-23-23-23-23-23-23-23-23-23-23-23-23-23-23-236-36-36-36-36-36-36-36-36-36-36-36-36-36-36-36-36-36-3897897897897897897897897897897897897897897897897897897以以以以以以以以以以以以以以以以以以上上上上上上上上上上上上上上上上上上風風風風風風風風風風風風風風風風風風水水水水水水水水水水水水水水水水水水各各各各各各各各各各各各各各各各各各種種種種種種種種種種種種種種種種種種靈靈靈靈靈靈靈靈靈靈靈靈靈靈靈靈靈靈符符符符符符符符符符符符符符符符符符承承承承承承承承承承承承承承承承承承接接接接接接接接接接接接接接接接接接道道道道道道道道道道道道道道道道道道場場場場場場場場場場場場場場場場場場劉劉劉劉劉劉劉劉劉劉劉劉劉劉劉劉劉劉先先先先先先先先先先先先先先先先先先生生生生生生生生生生生生生生生生生生：：：：：：：：：：：：：：：：：：646646646646646646646646646646646646646646646646646646-23-23-23-23-23-23-23-23-23-23-23-23-23-23-23-23-23-236-36-36-36-36-36-36-36-36-36-36-36-36-36-36-36-36-36-3897897897897897897897897897897897897897897897897897897以以以以以以以以以以以以以以以以以以上上上上上上上上上上上上上上上上上上学学学学学学学学学学学学学学学学学学术术术术术术术术术术术术术术术术术术免免免免免免免免免免免免免免免免免免费费费费费费费费费费费费费费费费费费交交交交交交交交交交交交交交交交交交流流流流流流流流流流流流流流流流流流\n",
      "\n",
      "J\n",
      "\n",
      "J\n",
      "\n",
      "J\n",
      "\n",
      "J\n",
      "\n",
      "J\n",
      "\n",
      "J\n",
      "\n",
      "J\n",
      "\n",
      "J\n",
      "\n",
      "J\n",
      "\n",
      "J\n",
      "\n",
      "J\n",
      "\n",
      "J\n",
      "\n",
      "J\n",
      "\n",
      "J\n",
      "\n",
      "J\n",
      "\n",
      "J\n",
      "\n",
      "J\n",
      "\n",
      "Jiutiutiutiutiutiutiutiutiutiutiutiutiutiutiutiutiutiutianianianianianianianianianianianianianianianianianian Fo Fo Fo Fo Fo Fo Fo Fo Fo Fo Fo Fo Fo Fo Fo Fo Fo Forturturturturturturturturturturturturturturturturturtune ne ne ne ne ne ne ne ne ne ne ne ne ne ne ne ne ne TelTelTelTelTelTelTelTelTelTelTelTelTelTelTelTelTelTellinlinlinlinlinlinlinlinlinlinlinlinlinlinlinlinlinling Hg Hg Hg Hg Hg Hg Hg Hg Hg Hg Hg Hg Hg Hg Hg Hg Hg Housousousousousousousousousousousousousousousousousouse Pe Pe Pe Pe Pe Pe Pe Pe Pe Pe Pe Pe Pe Pe Pe Pe Pe Phonhonhonhonhonhonhonhonhonhonhonhonhonhonhonhonhonhone Ne Ne Ne Ne Ne Ne Ne Ne Ne Ne Ne Ne Ne Ne Ne Ne Ne Numbumbumbumbumbumbumbumbumbumbumbumbumbumbumbumbumbumb学学学学学学学学学学学学学学学学学学术术术术术术术术术术术术术术术术术术免免免免免免免免免免免免免免免免免免费费费费费费费费费费费费费费费费费费交交交交交交交交交交交交交交交交交交流流流流流流流流流流流流流流流流流流\n",
      "\n",
      "J\n",
      "\n",
      "J\n",
      "\n",
      "J\n",
      "\n",
      "J\n",
      "\n",
      "J\n",
      "\n",
      "J\n",
      "\n",
      "J\n",
      "\n",
      "J\n",
      "\n",
      "J\n",
      "\n",
      "J\n",
      "\n",
      "J\n",
      "\n",
      "J\n",
      "\n",
      "J\n",
      "\n",
      "J\n",
      "\n",
      "J\n",
      "\n",
      "J\n",
      "\n",
      "J\n",
      "\n",
      "Jiutiutiutiutiutiutiutiutiutiutiutiutiutiutiutiutiutiutianianianianianianianianianianianianianianianianianian Fo Fo Fo Fo Fo Fo Fo Fo Fo Fo Fo Fo Fo Fo Fo Fo Fo Forturturturturturturturturturturturturturturturturturtune ne ne ne ne ne ne ne ne ne ne ne ne ne ne ne ne ne TelTelTelTelTelTelTelTelTelTelTelTelTelTelTelTelTelTellinlinlinlinlinlinlinlinlinlinlinlinlinlinlinlinlinling Hg Hg Hg Hg Hg Hg Hg Hg Hg Hg Hg Hg Hg Hg Hg Hg Hg Housousousousousousousousousousousousousousousousousouse Pe Pe Pe Pe Pe Pe Pe Pe Pe Pe Pe Pe Pe Pe Pe Pe Pe Phonhonhonhonhonhonhonhonhonhonhonhonhonhonhonhonhonhone Ne Ne Ne Ne Ne Ne Ne Ne Ne Ne Ne Ne Ne Ne Ne Ne Ne Numbumbumbumbumbumbumbumbumbumbumbumbumbumbumbumbumbumb学学学学学学学学学学学学学学学学学学术术术术术术术术术术术术术术术术术术免免免免免免免免免免免免免免免免免免费费费费费费费费费费费费费费费费费费交交交交交交交交交交交交交交交交交交流流流流流流流流流流流流流流流流流流\n",
      "\n",
      "J\n",
      "\n",
      "J\n",
      "\n",
      "J\n",
      "\n",
      "J\n",
      "\n",
      "J\n",
      "\n",
      "J\n",
      "\n",
      "J\n",
      "\n",
      "J\n",
      "\n",
      "J\n",
      "\n",
      "J\n",
      "\n",
      "J\n",
      "\n",
      "J\n",
      "\n",
      "J\n",
      "\n",
      "J\n",
      "\n",
      "J\n",
      "\n",
      "J\n",
      "\n",
      "J\n",
      "\n",
      "Jiutiutiutiutiutiutiutiutiutiutiutiutiutiutiutiutiutiutianianianianianianianianianianianianianianianianianian Fo Fo Fo Fo Fo Fo Fo Fo Fo Fo Fo Fo Fo Fo Fo Fo Fo Forturturturturturturturturturturturturturturturturturtune ne ne ne ne ne ne ne ne ne ne ne ne ne ne ne ne ne TelTelTelTelTelTelTelTelTelTelTelTelTelTelTelTelTelTellinlinlinlinlinlinlinlinlinlinlinlinlinlinlinlinlinling Hg Hg Hg Hg Hg Hg Hg Hg Hg Hg Hg Hg Hg Hg Hg Hg Hg Housousousousousousousousousousousousousousousousousouse Pe Pe Pe Pe Pe Pe Pe Pe Pe Pe Pe Pe Pe Pe Pe Pe Pe Phonhonhonhonhonhonhonhonhonhonhonhonhonhonhonhonhonhone Ne Ne Ne Ne Ne Ne Ne Ne Ne Ne Ne Ne Ne Ne Ne Ne Ne Numbumbumbumbumbumbumbumbumbumbumbumbumbumbumbumbumbumb学学学学学学学学学学学学学学学学学学术术术术术术术术术术术术术术术术术术免免免免免免免免免免免免免免免免免免费费费费费费费费费费费费费费费费费费交交交交交交交交交交交交交交交交交交流流流流流流流流流流流流流流流流流流\n",
      "\n",
      "J\n",
      "\n",
      "J\n",
      "\n",
      "J\n",
      "\n",
      "J\n",
      "\n",
      "J\n",
      "\n",
      "J\n",
      "\n",
      "J\n",
      "\n",
      "J\n",
      "\n",
      "J\n",
      "\n",
      "J\n",
      "\n",
      "J\n",
      "\n",
      "J\n",
      "\n",
      "J\n",
      "\n",
      "J\n",
      "\n",
      "J\n",
      "\n",
      "J\n",
      "\n",
      "J\n",
      "\n",
      "Jiutiutiutiutiutiutiutiutiutiutiutiutiutiutiutiutiutiutianianianianianianianianianianianianianianianianianian Fo Fo Fo Fo Fo Fo Fo Fo Fo Fo Fo Fo Fo Fo Fo Fo Fo Forturturturturturturturturturturturturturturturturturtune ne ne ne ne ne ne ne ne ne ne ne ne ne ne ne ne ne TelTelTelTelTelTelTelTelTelTelTelTelTelTelTelTelTelTellinlinlinlinlinlinlinlinlinlinlinlinlinlinlinlinlinling Hg Hg Hg Hg Hg Hg Hg Hg Hg Hg Hg Hg Hg Hg Hg Hg Hg Housousousousousousousousousousousousousousousousousouse Pe Pe Pe Pe Pe Pe Pe Pe Pe Pe Pe Pe Pe Pe Pe Pe Pe Phonhonhonhonhonhonhonhonhonhonhonhonhonhonhonhonhonhone Ne Ne Ne Ne Ne Ne Ne Ne Ne Ne Ne Ne Ne Ne Ne Ne Ne Numbumbumbumbumbumbumbumbumbumbumbumbumbumbumbumbumbumb学学学学学学学学学学学学学学学学学学术术术术术术术术术术术术术术术术术术免免免免免免免免免免免免免免免免免免费费费费费费费费费费费费费费费费费费交交交交交交交交交交交交交交交交交交流流流流流流流流流流流流流流流流流流\n",
      "\n",
      "J\n",
      "\n",
      "J\n",
      "\n",
      "J\n",
      "\n",
      "J\n",
      "\n",
      "J\n",
      "\n",
      "J\n",
      "\n",
      "J\n",
      "\n",
      "J\n",
      "\n",
      "J\n",
      "\n",
      "J\n",
      "\n",
      "J\n",
      "\n",
      "J\n",
      "\n",
      "J\n",
      "\n",
      "J\n",
      "\n",
      "J\n",
      "\n",
      "J\n",
      "\n",
      "J\n",
      "\n",
      "Jiutiutiutiutiutiutiutiutiutiutiutiutiutiutiutiutiutiutianianianianianianianianianianianianianianianianianian Fo Fo Fo Fo Fo Fo Fo Fo Fo Fo Fo Fo Fo Fo Fo Fo Fo Forturturturturturturturturturturturturturturturturturtune ne ne ne ne ne ne ne ne ne ne ne ne ne ne ne ne ne TelTelTelTelTelTelTelTelTelTelTelTelTelTelTelTelTelTellinlinlinlinlinlinlinlinlinlinlinlinlinlinlinlinlinling Hg Hg Hg Hg Hg Hg Hg Hg Hg Hg Hg Hg Hg Hg Hg Hg Hg Housousousousousousousousousousousousousousousousousouse Pe Pe Pe Pe Pe Pe Pe Pe Pe Pe Pe Pe Pe Pe Pe Pe Pe Phonhonhonhonhonhonhonhonhonhonhonhonhonhonhonhonhonhone Ne Ne Ne Ne Ne Ne Ne Ne Ne Ne Ne Ne Ne Ne Ne Ne Ne Numbumbumbumbumbumbumbumbumbumbumbumbumbumbumbumbumbumb学学学学学学学学学学学学学学学学学学术术术术术术术术术术术术术术术术术术免免免免免免免免免免免免免免免免免免费费费费费费费费费费费费费费费费费费交交交交交交交交交交交交交交交交交交流流流流流流流流流流流流流流流流流流\n",
      "\n",
      "J\n",
      "\n",
      "J\n",
      "\n",
      "J\n",
      "\n",
      "J\n",
      "\n",
      "J\n",
      "\n",
      "J\n",
      "\n",
      "J\n",
      "\n",
      "J\n",
      "\n",
      "J\n",
      "\n",
      "J\n",
      "\n",
      "J\n",
      "\n",
      "J\n",
      "\n",
      "J\n",
      "\n",
      "J\n",
      "\n",
      "J\n",
      "\n",
      "J\n",
      "\n",
      "J\n",
      "\n",
      "Jiutiutiutiutiutiutiutiutiutiutiutiutiutiutiutiutiutiutianianianianianianianianianianianianianianianianianian Fo Fo Fo Fo Fo Fo Fo Fo Fo Fo Fo Fo Fo Fo Fo Fo Fo Forturturturturturturturturturturturturturturturturturtune ne ne ne ne ne ne ne ne ne ne ne ne ne ne ne ne ne TelTelTelTelTelTelTelTelTelTelTelTelTelTelTelTelTelTellinlinlinlinlinlinlinlinlinlinlinlinlinlinlinlinlinling Hg Hg Hg Hg Hg Hg Hg Hg Hg Hg Hg Hg Hg Hg Hg Hg Hg Housousousousousousousousousousousousousousousousousouse Pe Pe Pe Pe Pe Pe Pe Pe Pe Pe Pe Pe Pe Pe Pe Pe Pe Phonhonhonhonhonhonhonhonhonhonhonhonhonhonhonhonhonhone Ne Ne Ne Ne Ne Ne Ne Ne Ne Ne Ne Ne Ne Ne Ne Ne Ne Numbumbumbumbumbumbumbumbumbumbumbumbumbumbumbumbumbumb学学学学学学学学学学学学学学学学学学术术术术术术术术术术术术术术术术术术免免免免免免免免免免免免免免免免免免费费费费费费费费费费费费费费费费费费交交交交交交交交交交交交交交交交交交流流流流流流流流流流流流流流流流流流\n",
      "\n",
      "J\n",
      "\n",
      "J\n",
      "\n",
      "J\n",
      "\n",
      "J\n",
      "\n",
      "J\n",
      "\n",
      "J\n",
      "\n",
      "J\n",
      "\n",
      "J\n",
      "\n",
      "J\n",
      "\n",
      "J\n",
      "\n",
      "J\n",
      "\n",
      "J\n",
      "\n",
      "J\n",
      "\n",
      "J\n",
      "\n",
      "J\n",
      "\n",
      "J\n",
      "\n",
      "J\n",
      "\n",
      "Jiutiutiutiutiutiutiutiutiutiutiutiutiutiutiutiutiutiutianianianianianianianianianianianianianianianianianian Fo Fo Fo Fo Fo Fo Fo Fo Fo Fo Fo Fo Fo Fo Fo Fo Fo Forturturturturturturturturturturturturturturturturturtune ne ne ne ne ne ne ne ne ne ne ne ne ne ne ne ne ne TelTelTelTelTelTelTelTelTelTelTelTelTelTelTelTelTelTellinlinlinlinlinlinlinlinlinlinlinlinlinlinlinlinlinling Hg Hg Hg Hg Hg Hg Hg Hg Hg Hg Hg Hg Hg Hg Hg Hg Hg Housousousousousousousousousousousousousousousousousouse Pe Pe Pe Pe Pe Pe Pe Pe Pe Pe Pe Pe Pe Pe Pe Pe Pe Phonhonhonhonhonhonhonhonhonhonhonhonhonhonhonhonhonhone Ne Ne Ne Ne Ne Ne Ne Ne Ne Ne Ne Ne Ne Ne Ne Ne Ne Numbumbumbumbumbumbumbumbumbumbumbumbumbumbumbumbumbumb学学学学学学学学学学学学学学学学学学术术术术术术术术术术术术术术术术术术免免免免免免免免免免免免免免免免免免费费费费费费费费费费费费费费费费费费交交交交交交交交交交交交交交交交交交流流流流流流流流流流流流流流流流流流\n",
      "\n",
      "J\n",
      "\n",
      "J\n",
      "\n",
      "J\n",
      "\n",
      "J\n",
      "\n",
      "J\n",
      "\n",
      "J\n",
      "\n",
      "J\n",
      "\n",
      "J\n",
      "\n",
      "J\n",
      "\n",
      "J\n",
      "\n",
      "J\n",
      "\n",
      "J\n",
      "\n",
      "J\n",
      "\n",
      "J\n",
      "\n",
      "J\n",
      "\n",
      "J\n",
      "\n",
      "J\n",
      "\n",
      "Jiutiutiutiutiutiutiutiutiutiutiutiutiutiutiutiutiutiutianianianianianianianianianianianianianianianianianian Fo Fo Fo Fo Fo Fo Fo Fo Fo Fo Fo Fo Fo Fo Fo Fo Fo Forturturturturturturturturturturturturturturturturturtune ne ne ne ne ne ne ne ne ne ne ne ne ne ne ne ne ne TelTelTelTelTelTelTelTelTelTelTelTelTelTelTelTelTelTellinlinlinlinlinlinlinlinlinlinlinlinlinlinlinlinlinling Hg Hg Hg Hg Hg Hg Hg Hg Hg Hg Hg Hg Hg Hg Hg Hg Hg Housousousousousousousousousousousousousousousousousouse Pe Pe Pe Pe Pe Pe Pe Pe Pe Pe Pe Pe Pe Pe Pe Pe Pe Phonhonhonhonhonhonhonhonhonhonhonhonhonhonhonhonhonhone Ne Ne Ne Ne Ne Ne Ne Ne Ne Ne Ne Ne Ne Ne Ne Ne Ne Numbumbumbumbumbumbumbumbumbumbumbumbumbumbumbumbumbumb学学学学学学学学学学学学学学学学学学术术术术术术术术术术术术术术术术术术免免免免免免免免免免免免免免免免免免费费费费费费费费费费费费费费费费费费交交交交交交交交交交交交交交交交交交流流流流流流流流流流流流流流流流流流\n",
      "\n",
      "J\n",
      "\n",
      "J\n",
      "\n",
      "J\n",
      "\n",
      "J\n",
      "\n",
      "J\n",
      "\n",
      "J\n",
      "\n",
      "J\n",
      "\n",
      "J\n",
      "\n",
      "J\n",
      "\n",
      "J\n",
      "\n",
      "J\n",
      "\n",
      "J\n",
      "\n",
      "J\n",
      "\n",
      "J\n",
      "\n",
      "J\n",
      "\n",
      "J\n",
      "\n",
      "J\n",
      "\n",
      "Jiutiutiutiutiutiutiutiutiutiutiutiutiutiutiutiutiutiutianianianianianianianianianianianianianianianianianian Fo Fo Fo Fo Fo Fo Fo Fo Fo Fo Fo Fo Fo Fo Fo Fo Fo Forturturturturturturturturturturturturturturturturturtune ne ne ne ne ne ne ne ne ne ne ne ne ne ne ne ne ne TelTelTelTelTelTelTelTelTelTelTelTelTelTelTelTelTelTellinlinlinlinlinlinlinlinlinlinlinlinlinlinlinlinlinling Hg Hg Hg Hg Hg Hg Hg Hg Hg Hg Hg Hg Hg Hg Hg Hg Hg Housousousousousousousousousousousousousousousousousouse Pe Pe Pe Pe Pe Pe Pe Pe Pe Pe Pe Pe Pe Pe Pe Pe Pe Phonhonhonhonhonhonhonhonhonhonhonhonhonhonhonhonhonhone Ne Ne Ne Ne Ne Ne Ne Ne Ne Ne Ne Ne Ne Ne Ne Ne Ne Numbumbumbumbumbumbumbumbumbumbumbumbumbumbumbumbumbumb学学学学学学学学学学学学学学学学学学术术术术术术术术术术术术术术术术术术免免免免免免免免免免免免免免免免免免费费费费费费费费费费费费费费费费费费交交交交交交交交交交交交交交交交交交流流流流流流流流流流流流流流流流流流\n",
      "\n",
      "J\n",
      "\n",
      "J\n",
      "\n",
      "J\n",
      "\n",
      "J\n",
      "\n",
      "J\n",
      "\n",
      "J\n",
      "\n",
      "J\n",
      "\n",
      "J\n",
      "\n",
      "J\n",
      "\n",
      "J\n",
      "\n",
      "J\n",
      "\n",
      "J\n",
      "\n",
      "J\n",
      "\n",
      "J\n",
      "\n",
      "J\n",
      "\n",
      "J\n",
      "\n",
      "J\n",
      "\n",
      "Jiutiutiutiutiutiutiutiutiutiutiutiutiutiutiutiutiutiutianianianianianianianianianianianianianianianianianian Fo Fo Fo Fo Fo Fo Fo Fo Fo Fo Fo Fo Fo Fo Fo Fo Fo Forturturturturturturturturturturturturturturturturturtune ne ne ne ne ne ne ne ne ne ne ne ne ne ne ne ne ne TelTelTelTelTelTelTelTelTelTelTelTelTelTelTelTelTelTellinlinlinlinlinlinlinlinlinlinlinlinlinlinlinlinlinling Hg Hg Hg Hg Hg Hg Hg Hg Hg Hg Hg Hg Hg Hg Hg Hg Hg Housousousousousousousousousousousousousousousousousouse Pe Pe Pe Pe Pe Pe Pe Pe Pe Pe Pe Pe Pe Pe Pe Pe Pe Phonhonhonhonhonhonhonhonhonhonhonhonhonhonhonhonhonhone Ne Ne Ne Ne Ne Ne Ne Ne Ne Ne Ne Ne Ne Ne Ne Ne Ne Numbumbumbumbumbumbumbumbumbumbumbumbumbumbumbumbumbumb学学学学学学学学学学学学学学学学学学术术术术术术术术术术术术术术术术术术免免免免免免免免免免免免免免免免免免费费费费费费费费费费费费费费费费费费交交交交交交交交交交交交交交交交交交流流流流流流流流流流流流流流流流流流\n",
      "\n",
      "J\n",
      "\n",
      "J\n",
      "\n",
      "J\n",
      "\n",
      "J\n",
      "\n",
      "J\n",
      "\n",
      "J\n",
      "\n",
      "J\n",
      "\n",
      "J\n",
      "\n",
      "J\n",
      "\n",
      "J\n",
      "\n",
      "J\n",
      "\n",
      "J\n",
      "\n",
      "J\n",
      "\n",
      "J\n",
      "\n",
      "J\n",
      "\n",
      "J\n",
      "\n",
      "J\n",
      "\n",
      "Jiutiutiutiutiutiutiutiutiutiutiutiutiutiutiutiutiutiutianianianianianianianianianianianianianianianianianian Fo Fo Fo Fo Fo Fo Fo Fo Fo Fo Fo Fo Fo Fo Fo Fo Fo Forturturturturturturturturturturturturturturturturturtune ne ne ne ne ne ne ne ne ne ne ne ne ne ne ne ne ne TelTelTelTelTelTelTelTelTelTelTelTelTelTelTelTelTelTellinlinlinlinlinlinlinlinlinlinlinlinlinlinlinlinlinling Hg Hg Hg Hg Hg Hg Hg Hg Hg Hg Hg Hg Hg Hg Hg Hg Hg Housousousousousousousousousousousousousousousousousouse Pe Pe Pe Pe Pe Pe Pe Pe Pe Pe Pe Pe Pe Pe Pe Pe Pe Phonhonhonhonhonhonhonhonhonhonhonhonhonhonhonhonhonhone Ne Ne Ne Ne Ne Ne Ne Ne Ne Ne Ne Ne Ne Ne Ne Ne Ne Numbumbumbumbumbumbumbumbumbumbumbumbumbumbumbumbumbumb学学学学学学学学学学学学学学学学学学术术术术术术术术术术术术术术术术术术免免免免免免免免免免免免免免免免免免费费费费费费费费费费费费费费费费费费交交交交交交交交交交交交交交交交交交流流流流流流流流流流流流流流流流流流\n",
      "\n",
      "J\n",
      "\n",
      "J\n",
      "\n",
      "J\n",
      "\n",
      "J\n",
      "\n",
      "J\n",
      "\n",
      "J\n",
      "\n",
      "J\n",
      "\n",
      "J\n",
      "\n",
      "J\n",
      "\n",
      "J\n",
      "\n",
      "J\n",
      "\n",
      "J\n",
      "\n",
      "J\n",
      "\n",
      "J\n",
      "\n",
      "J\n",
      "\n",
      "J\n",
      "\n",
      "J\n",
      "\n",
      "Jiutiutiutiutiutiutiutiutiutiutiutiutiutiutiutiutiutiutianianianianianianianianianianianianianianianianianian Fo Fo Fo Fo Fo Fo Fo Fo Fo Fo Fo Fo Fo Fo Fo Fo Fo Forturturturturturturturturturturturturturturturturturtune ne ne ne ne ne ne ne ne ne ne ne ne ne ne ne ne ne TelTelTelTelTelTelTelTelTelTelTelTelTelTelTelTelTelTellinlinlinlinlinlinlinlinlinlinlinlinlinlinlinlinlinling Hg Hg Hg Hg Hg Hg Hg Hg Hg Hg Hg Hg Hg Hg Hg Hg Hg Housousousousousousousousousousousousousousousousousouse Pe Pe Pe Pe Pe Pe Pe Pe Pe Pe Pe Pe Pe Pe Pe Pe Pe Phonhonhonhonhonhonhonhonhonhonhonhonhonhonhonhonhonhone Ne Ne Ne Ne Ne Ne Ne Ne Ne Ne Ne Ne Ne Ne Ne Ne Ne Numbumbumbumbumbumbumbumbumbumbumbumbumbumbumbumbumbumb学学学学学学学学学学学学学学学学学学术术术术术术术术术术术术术术术术术术免免免免免免免免免免免免免免免免免免费费费费费费费费费费费费费费费费费费交交交交交交交交交交交交交交交交交交流流流流流流流流流流流流流流流流流流\n",
      "\n",
      "J\n",
      "\n",
      "J\n",
      "\n",
      "J\n",
      "\n",
      "J\n",
      "\n",
      "J\n",
      "\n",
      "J\n",
      "\n",
      "J\n",
      "\n",
      "J\n",
      "\n",
      "J\n",
      "\n",
      "J\n",
      "\n",
      "J\n",
      "\n",
      "J\n",
      "\n",
      "J\n",
      "\n",
      "J\n",
      "\n",
      "J\n",
      "\n",
      "J\n",
      "\n",
      "J\n",
      "\n",
      "Jiutiutiutiutiutiutiutiutiutiutiutiutiutiutiutiutiutiutianianianianianianianianianianianianianianianianianian Fo Fo Fo Fo Fo Fo Fo Fo Fo Fo Fo Fo Fo Fo Fo Fo Fo Forturturturturturturturturturturturturturturturturturtune ne ne ne ne ne ne ne ne ne ne ne ne ne ne ne ne ne TelTelTelTelTelTelTelTelTelTelTelTelTelTelTelTelTelTellinlinlinlinlinlinlinlinlinlinlinlinlinlinlinlinlinling Hg Hg Hg Hg Hg Hg Hg Hg Hg Hg Hg Hg Hg Hg Hg Hg Hg Housousousousousousousousousousousousousousousousousouse Pe Pe Pe Pe Pe Pe Pe Pe Pe Pe Pe Pe Pe Pe Pe Pe Pe Phonhonhonhonhonhonhonhonhonhonhonhonhonhonhonhonhonhone Ne Ne Ne Ne Ne Ne Ne Ne Ne Ne Ne Ne Ne Ne Ne Ne Ne Numbumbumbumbumbumbumbumbumbumbumbumbumbumbumbumbumbumb学学学学学学学学学学学学学学学学学学术术术术术术术术术术术术术术术术术术免免免免免免免免免免免免免免免免免免费费费费费费费费费费费费费费费费费费交交交交交交交交交交交交交交交交交交流流流流流流流流流流流流流流流流流流\n",
      "\n",
      "J\n",
      "\n",
      "J\n",
      "\n",
      "J\n",
      "\n",
      "J\n",
      "\n",
      "J\n",
      "\n",
      "J\n",
      "\n",
      "J\n",
      "\n",
      "J\n",
      "\n",
      "J\n",
      "\n",
      "J\n",
      "\n",
      "J\n",
      "\n",
      "J\n",
      "\n",
      "J\n",
      "\n",
      "J\n",
      "\n",
      "J\n",
      "\n",
      "J\n",
      "\n",
      "J\n",
      "\n",
      "Jiutiutiutiutiutiutiutiutiutiutiutiutiutiutiutiutiutiutianianianianianianianianianianianianianianianianianian Fo Fo Fo Fo Fo Fo Fo Fo Fo Fo Fo Fo Fo Fo Fo Fo Fo Forturturturturturturturturturturturturturturturturturtune ne ne ne ne ne ne ne ne ne ne ne ne ne ne ne ne ne TelTelTelTelTelTelTelTelTelTelTelTelTelTelTelTelTelTellinlinlinlinlinlinlinlinlinlinlinlinlinlinlinlinlinling Hg Hg Hg Hg Hg Hg Hg Hg Hg Hg Hg Hg Hg Hg Hg Hg Hg Housousousousousousousousousousousousousousousousousouse Pe Pe Pe Pe Pe Pe Pe Pe Pe Pe Pe Pe Pe Pe Pe Pe Pe Phonhonhonhonhonhonhonhonhonhonhonhonhonhonhonhonhonhone Ne Ne Ne Ne Ne Ne Ne Ne Ne Ne Ne Ne Ne Ne Ne Ne Ne Numbumbumbumbumbumbumbumbumbumbumbumbumbumbumbumbumbumb学学学学学学学学学学学学学学学学学学术术术术术术术术术术术术术术术术术术免免免免免免免免免免免免免免免免免免费费费费费费费费费费费费费费费费费费交交交交交交交交交交交交交交交交交交流流流流流流流流流流流流流流流流流流\n",
      "\n",
      "J\n",
      "\n",
      "J\n",
      "\n",
      "J\n",
      "\n",
      "J\n",
      "\n",
      "J\n",
      "\n",
      "J\n",
      "\n",
      "J\n",
      "\n",
      "J\n",
      "\n",
      "J\n",
      "\n",
      "J\n",
      "\n",
      "J\n",
      "\n",
      "J\n",
      "\n",
      "J\n",
      "\n",
      "J\n",
      "\n",
      "J\n",
      "\n",
      "J\n",
      "\n",
      "J\n",
      "\n",
      "Jiutiutiutiutiutiutiutiutiutiutiutiutiutiutiutiutiutiutianianianianianianianianianianianianianianianianianian Fo Fo Fo Fo Fo Fo Fo Fo Fo Fo Fo Fo Fo Fo Fo Fo Fo Forturturturturturturturturturturturturturturturturturtune ne ne ne ne ne ne ne ne ne ne ne ne ne ne ne ne ne TelTelTelTelTelTelTelTelTelTelTelTelTelTelTelTelTelTellinlinlinlinlinlinlinlinlinlinlinlinlinlinlinlinlinling Hg Hg Hg Hg Hg Hg Hg Hg Hg Hg Hg Hg Hg Hg Hg Hg Hg Housousousousousousousousousousousousousousousousousouse Pe Pe Pe Pe Pe Pe Pe Pe Pe Pe Pe Pe Pe Pe Pe Pe Pe Phonhonhonhonhonhonhonhonhonhonhonhonhonhonhonhonhonhone Ne Ne Ne Ne Ne Ne Ne Ne Ne Ne Ne Ne Ne Ne Ne Ne Ne Numbumbumbumbumbumbumbumbumbumbumbumbumbumbumbumbumbumb学学学学学学学学学学学学学学学学学学术术术术术术术术术术术术术术术术术术免免免免免免免免免免免免免免免免免免费费费费费费费费费费费费费费费费费费交交交交交交交交交交交交交交交交交交流流流流流流流流流流流流流流流流流流\n",
      "\n",
      "J\n",
      "\n",
      "J\n",
      "\n",
      "J\n",
      "\n",
      "J\n",
      "\n",
      "J\n",
      "\n",
      "J\n",
      "\n",
      "J\n",
      "\n",
      "J\n",
      "\n",
      "J\n",
      "\n",
      "J\n",
      "\n",
      "J\n",
      "\n",
      "J\n",
      "\n",
      "J\n",
      "\n",
      "J\n",
      "\n",
      "J\n",
      "\n",
      "J\n",
      "\n",
      "J\n",
      "\n",
      "Jiutiutiutiutiutiutiutiutiutiutiutiutiutiutiutiutiutiutianianianianianianianianianianianianianianianianianian Fo Fo Fo Fo Fo Fo Fo Fo Fo Fo Fo Fo Fo Fo Fo Fo Fo Forturturturturturturturturturturturturturturturturturtune ne ne ne ne ne ne ne ne ne ne ne ne ne ne ne ne ne TelTelTelTelTelTelTelTelTelTelTelTelTelTelTelTelTelTellinlinlinlinlinlinlinlinlinlinlinlinlinlinlinlinlinling Hg Hg Hg Hg Hg Hg Hg Hg Hg Hg Hg Hg Hg Hg Hg Hg Hg Housousousousousousousousousousousousousousousousousouse Pe Pe Pe Pe Pe Pe Pe Pe Pe Pe Pe Pe Pe Pe Pe Pe Pe Phonhonhonhonhonhonhonhonhonhonhonhonhonhonhonhonhonhone Ne Ne Ne Ne Ne Ne Ne Ne Ne Ne Ne Ne Ne Ne Ne Ne Ne Numbumbumbumbumbumbumbumbumbumbumbumbumbumbumbumbumbumb学学学学学学学学学学学学学学学学学学术术术术术术术术术术术术术术术术术术免免免免免免免免免免免免免免免免免免费费费费费费费费费费费费费费费费费费交交交交交交交交交交交交交交交交交交流流流流流流流流流流流流流流流流流流\n",
      "\n",
      "J\n",
      "\n",
      "J\n",
      "\n",
      "J\n",
      "\n",
      "J\n",
      "\n",
      "J\n",
      "\n",
      "J\n",
      "\n",
      "J\n",
      "\n",
      "J\n",
      "\n",
      "J\n",
      "\n",
      "J\n",
      "\n",
      "J\n",
      "\n",
      "J\n",
      "\n",
      "J\n",
      "\n",
      "J\n",
      "\n",
      "J\n",
      "\n",
      "J\n",
      "\n",
      "J\n",
      "\n",
      "Jiutiutiutiutiutiutiutiutiutiutiutiutiutiutiutiutiutiutianianianianianianianianianianianianianianianianianian Fo Fo Fo Fo Fo Fo Fo Fo Fo Fo Fo Fo Fo Fo Fo Fo Fo Forturturturturturturturturturturturturturturturturturtune ne ne ne ne ne ne ne ne ne ne ne ne ne ne ne ne ne TelTelTelTelTelTelTelTelTelTelTelTelTelTelTelTelTelTellinlinlinlinlinlinlinlinlinlinlinlinlinlinlinlinlinling Hg Hg Hg Hg Hg Hg Hg Hg Hg Hg Hg Hg Hg Hg Hg Hg Hg Housousousousousousousousousousousousousousousousousouse Pe Pe Pe Pe Pe Pe Pe Pe Pe Pe Pe Pe Pe Pe Pe Pe Pe Phonhonhonhonhonhonhonhonhonhonhonhonhonhonhonhonhonhone Ne Ne Ne Ne Ne Ne Ne Ne Ne Ne Ne Ne Ne Ne Ne Ne Ne Numbumbumbumbumbumbumbumbumbumbumbumbumbumbumbumbumbumb学学学学学学学学学学学学学学学学学学术术术术术术术术术术术术术术术术术术免免免免免免免免免免免免免免免免免免费费费费费费费费费费费费费费费费费费交交交交交交交交交交交交交交交交交交流流流流流流流流流流流流流流流流流流\n",
      "\n",
      "J\n",
      "\n",
      "J\n",
      "\n",
      "J\n",
      "\n",
      "J\n",
      "\n",
      "J\n",
      "\n",
      "J\n",
      "\n",
      "J\n",
      "\n",
      "J\n",
      "\n",
      "J\n",
      "\n",
      "J\n",
      "\n",
      "J\n",
      "\n",
      "J\n",
      "\n",
      "J\n",
      "\n",
      "J\n",
      "\n",
      "J\n",
      "\n",
      "J\n",
      "\n",
      "J\n",
      "\n",
      "Jiutiutiutiutiutiutiutiutiutiutiutiutiutiutiutiutiutiutianianianianianianianianianianianianianianianianianian Fo Fo Fo Fo Fo Fo Fo Fo Fo Fo Fo Fo Fo Fo Fo Fo Fo Forturturturturturturturturturturturturturturturturturtune ne ne ne ne ne ne ne ne ne ne ne ne ne ne ne ne ne TelTelTelTelTelTelTelTelTelTelTelTelTelTelTelTelTelTellinlinlinlinlinlinlinlinlinlinlinlinlinlinlinlinlinling Hg Hg Hg Hg Hg Hg Hg Hg Hg Hg Hg Hg Hg Hg Hg Hg Hg Housousousousousousousousousousousousousousousousousouse Pe Pe Pe Pe Pe Pe Pe Pe Pe Pe Pe Pe Pe Pe Pe Pe Pe Phonhonhonhonhonhonhonhonhonhonhonhonhonhonhonhonhonhone Ne Ne Ne Ne Ne Ne Ne Ne Ne Ne Ne Ne Ne Ne Ne Ne Ne Numbumbumbumbumbumbumbumbumbumbumbumbumbumbumbumbumbumber:er:er:er:er:er:er:er:er:er:er:er:er:er:er:er:er:er: 64 64 64 64 64 64 64 64 64 64 64 64 64 64 64 64 64 646-26-26-26-26-26-26-26-26-26-26-26-26-26-26-26-26-26-236-36-36-36-36-36-36-36-36-36-36-36-36-36-36-36-36-36-3893893893893893893893893893893893893893893893893893897 F7 F7 F7 F7 F7 F7 F7 F7 F7 F7 F7 F7 F7 F7 F7 F7 F7 FORTORTORTORTORTORTORTORTORTORTORTORTORTORTORTORTORTORTUNEUNEUNEUNEUNEUNEUNEUNEUNEUNEUNEUNEUNEUNEUNEUNEUNEUNE TE TE TE TE TE TE TE TE TE TE TE TE TE TE TE TE TE TELLILLILLILLILLILLILLILLILLILLILLILLILLILLILLILLILLILLING NG NG NG NG NG NG NG NG NG NG NG NG NG NG NG NG NG DIVDIVDIVDIVDIVDIVDIVDIVDIVDIVDIVDIVDIVDIVDIVDIVDIVDIVINAINAINAINAINAINAINAINAINAINAINAINAINAINAINAINAINAINATIOTIOTIOTIOTIOTIOTIOTIOTIOTIOTIOTIOTIOTIOTIOTIOTIOTION MN MN MN MN MN MN MN MN MN MN MN MN MN MN MN MN MN MIN IN IN IN IN IN IN IN IN IN IN IN IN IN IN IN IN IN DONDONDONDONDONDONDONDONDONDONDONDONDONDONDONDONDONDONG BG BG BG BG BG BG BG BG BG BG BG BG BG BG BG BG BG BIRTIRTIRTIRTIRTIRTIRTIRTIRTIRTIRTIRTIRTIRTIRTIRTIRTIRTH TH TH TH TH TH TH TH TH TH TH TH TH TH TH TH TH TH Ter:er:er:er:er:er:er:er:er:er:er:er:er:er:er:er:er:er: 64 64 64 64 64 64 64 64 64 64 64 64 64 64 64 64 64 646-26-26-26-26-26-26-26-26-26-26-26-26-26-26-26-26-26-236-36-36-36-36-36-36-36-36-36-36-36-36-36-36-36-36-36-3893893893893893893893893893893893893893893893893893897 F7 F7 F7 F7 F7 F7 F7 F7 F7 F7 F7 F7 F7 F7 F7 F7 F7 FORTORTORTORTORTORTORTORTORTORTORTORTORTORTORTORTORTORTUNEUNEUNEUNEUNEUNEUNEUNEUNEUNEUNEUNEUNEUNEUNEUNEUNEUNE TE TE TE TE TE TE TE TE TE TE TE TE TE TE TE TE TE TELLILLILLILLILLILLILLILLILLILLILLILLILLILLILLILLILLILLING NG NG NG NG NG NG NG NG NG NG NG NG NG NG NG NG NG DIVDIVDIVDIVDIVDIVDIVDIVDIVDIVDIVDIVDIVDIVDIVDIVDIVDIVINAINAINAINAINAINAINAINAINAINAINAINAINAINAINAINAINAINATIOTIOTIOTIOTIOTIOTIOTIOTIOTIOTIOTIOTIOTIOTIOTIOTIOTION MN MN MN MN MN MN MN MN MN MN MN MN MN MN MN MN MN MIN IN IN IN IN IN IN IN IN IN IN IN IN IN IN IN IN IN DONDONDONDONDONDONDONDONDONDONDONDONDONDONDONDONDONDONG BG BG BG BG BG BG BG BG BG BG BG BG BG BG BG BG BG BIRTIRTIRTIRTIRTIRTIRTIRTIRTIRTIRTIRTIRTIRTIRTIRTIRTIRTH TH TH TH TH TH TH TH TH TH TH TH TH TH TH TH TH TH Ter:er:er:er:er:er:er:er:er:er:er:er:er:er:er:er:er:er: 64 64 64 64 64 64 64 64 64 64 64 64 64 64 64 64 64 646-26-26-26-26-26-26-26-26-26-26-26-26-26-26-26-26-26-236-36-36-36-36-36-36-36-36-36-36-36-36-36-36-36-36-36-3893893893893893893893893893893893893893893893893893897 F7 F7 F7 F7 F7 F7 F7 F7 F7 F7 F7 F7 F7 F7 F7 F7 F7 FORTORTORTORTORTORTORTORTORTORTORTORTORTORTORTORTORTORTUNEUNEUNEUNEUNEUNEUNEUNEUNEUNEUNEUNEUNEUNEUNEUNEUNEUNE TE TE TE TE TE TE TE TE TE TE TE TE TE TE TE TE TE TELLILLILLILLILLILLILLILLILLILLILLILLILLILLILLILLILLILLING NG NG NG NG NG NG NG NG NG NG NG NG NG NG NG NG NG DIVDIVDIVDIVDIVDIVDIVDIVDIVDIVDIVDIVDIVDIVDIVDIVDIVDIVINAINAINAINAINAINAINAINAINAINAINAINAINAINAINAINAINAINATIOTIOTIOTIOTIOTIOTIOTIOTIOTIOTIOTIOTIOTIOTIOTIOTIOTION MN MN MN MN MN MN MN MN MN MN MN MN MN MN MN MN MN MIN IN IN IN IN IN IN IN IN IN IN IN IN IN IN IN IN IN DONDONDONDONDONDONDONDONDONDONDONDONDONDONDONDONDONDONG BG BG BG BG BG BG BG BG BG BG BG BG BG BG BG BG BG BIRTIRTIRTIRTIRTIRTIRTIRTIRTIRTIRTIRTIRTIRTIRTIRTIRTIRTH TH TH TH TH TH TH TH TH TH TH TH TH TH TH TH TH TH Ter:er:er:er:er:er:er:er:er:er:er:er:er:er:er:er:er:er: 64 64 64 64 64 64 64 64 64 64 64 64 64 64 64 64 64 646-26-26-26-26-26-26-26-26-26-26-26-26-26-26-26-26-26-236-36-36-36-36-36-36-36-36-36-36-36-36-36-36-36-36-36-3893893893893893893893893893893893893893893893893893897 F7 F7 F7 F7 F7 F7 F7 F7 F7 F7 F7 F7 F7 F7 F7 F7 F7 FORTORTORTORTORTORTORTORTORTORTORTORTORTORTORTORTORTORTUNEUNEUNEUNEUNEUNEUNEUNEUNEUNEUNEUNEUNEUNEUNEUNEUNEUNE TE TE TE TE TE TE TE TE TE TE TE TE TE TE TE TE TE TELLILLILLILLILLILLILLILLILLILLILLILLILLILLILLILLILLILLING NG NG NG NG NG NG NG NG NG NG NG NG NG NG NG NG NG DIVDIVDIVDIVDIVDIVDIVDIVDIVDIVDIVDIVDIVDIVDIVDIVDIVDIVINAINAINAINAINAINAINAINAINAINAINAINAINAINAINAINAINAINATIOTIOTIOTIOTIOTIOTIOTIOTIOTIOTIOTIOTIOTIOTIOTIOTIOTION MN MN MN MN MN MN MN MN MN MN MN MN MN MN MN MN MN MIN IN IN IN IN IN IN IN IN IN IN IN IN IN IN IN IN IN DONDONDONDONDONDONDONDONDONDONDONDONDONDONDONDONDONDONG BG BG BG BG BG BG BG BG BG BG BG BG BG BG BG BG BG BIRTIRTIRTIRTIRTIRTIRTIRTIRTIRTIRTIRTIRTIRTIRTIRTIRTIRTH TH TH TH TH TH TH TH TH TH TH TH TH TH TH TH TH TH Ter:er:er:er:er:er:er:er:er:er:er:er:er:er:er:er:er:er: 64 64 64 64 64 64 64 64 64 64 64 64 64 64 64 64 64 646-26-26-26-26-26-26-26-26-26-26-26-26-26-26-26-26-26-236-36-36-36-36-36-36-36-36-36-36-36-36-36-36-36-36-36-3893893893893893893893893893893893893893893893893893897 F7 F7 F7 F7 F7 F7 F7 F7 F7 F7 F7 F7 F7 F7 F7 F7 F7 FORTORTORTORTORTORTORTORTORTORTORTORTORTORTORTORTORTORTUNEUNEUNEUNEUNEUNEUNEUNEUNEUNEUNEUNEUNEUNEUNEUNEUNEUNE TE TE TE TE TE TE TE TE TE TE TE TE TE TE TE TE TE TELLILLILLILLILLILLILLILLILLILLILLILLILLILLILLILLILLILLING NG NG NG NG NG NG NG NG NG NG NG NG NG NG NG NG NG DIVDIVDIVDIVDIVDIVDIVDIVDIVDIVDIVDIVDIVDIVDIVDIVDIVDIVINAINAINAINAINAINAINAINAINAINAINAINAINAINAINAINAINAINATIOTIOTIOTIOTIOTIOTIOTIOTIOTIOTIOTIOTIOTIOTIOTIOTIOTION MN MN MN MN MN MN MN MN MN MN MN MN MN MN MN MN MN MIN IN IN IN IN IN IN IN IN IN IN IN IN IN IN IN IN IN DONDONDONDONDONDONDONDONDONDONDONDONDONDONDONDONDONDONG BG BG BG BG BG BG BG BG BG BG BG BG BG BG BG BG BG BIRTIRTIRTIRTIRTIRTIRTIRTIRTIRTIRTIRTIRTIRTIRTIRTIRTIRTH TH TH TH TH TH TH TH TH TH TH TH TH TH TH TH TH TH Ter:er:er:er:er:er:er:er:er:er:er:er:er:er:er:er:er:er: 64 64 64 64 64 64 64 64 64 64 64 64 64 64 64 64 64 646-26-26-26-26-26-26-26-26-26-26-26-26-26-26-26-26-26-236-36-36-36-36-36-36-36-36-36-36-36-36-36-36-36-36-36-3893893893893893893893893893893893893893893893893893897 F7 F7 F7 F7 F7 F7 F7 F7 F7 F7 F7 F7 F7 F7 F7 F7 F7 FORTORTORTORTORTORTORTORTORTORTORTORTORTORTORTORTORTORTUNEUNEUNEUNEUNEUNEUNEUNEUNEUNEUNEUNEUNEUNEUNEUNEUNEUNE TE TE TE TE TE TE TE TE TE TE TE TE TE TE TE TE TE TELLILLILLILLILLILLILLILLILLILLILLILLILLILLILLILLILLILLING NG NG NG NG NG NG NG NG NG NG NG NG NG NG NG NG NG DIVDIVDIVDIVDIVDIVDIVDIVDIVDIVDIVDIVDIVDIVDIVDIVDIVDIVINAINAINAINAINAINAINAINAINAINAINAINAINAINAINAINAINAINATIOTIOTIOTIOTIOTIOTIOTIOTIOTIOTIOTIOTIOTIOTIOTIOTIOTION MN MN MN MN MN MN MN MN MN MN MN MN MN MN MN MN MN MIN IN IN IN IN IN IN IN IN IN IN IN IN IN IN IN IN IN DONDONDONDONDONDONDONDONDONDONDONDONDONDONDONDONDONDONG BG BG BG BG BG BG BG BG BG BG BG BG BG BG BG BG BG BIRTIRTIRTIRTIRTIRTIRTIRTIRTIRTIRTIRTIRTIRTIRTIRTIRTIRTH TH TH TH TH TH TH TH TH TH TH TH TH TH TH TH TH TH Ter:er:er:er:er:er:er:er:er:er:er:er:er:er:er:er:er:er: 64 64 64 64 64 64 64 64 64 64 64 64 64 64 64 64 64 646-26-26-26-26-26-26-26-26-26-26-26-26-26-26-26-26-26-236-36-36-36-36-36-36-36-36-36-36-36-36-36-36-36-36-36-3893893893893893893893893893893893893893893893893893897 F7 F7 F7 F7 F7 F7 F7 F7 F7 F7 F7 F7 F7 F7 F7 F7 F7 FORTORTORTORTORTORTORTORTORTORTORTORTORTORTORTORTORTORTUNEUNEUNEUNEUNEUNEUNEUNEUNEUNEUNEUNEUNEUNEUNEUNEUNEUNE TE TE TE TE TE TE TE TE TE TE TE TE TE TE TE TE TE TELLILLILLILLILLILLILLILLILLILLILLILLILLILLILLILLILLILLING NG NG NG NG NG NG NG NG NG NG NG NG NG NG NG NG NG DIVDIVDIVDIVDIVDIVDIVDIVDIVDIVDIVDIVDIVDIVDIVDIVDIVDIVINAINAINAINAINAINAINAINAINAINAINAINAINAINAINAINAINAINATIOTIOTIOTIOTIOTIOTIOTIOTIOTIOTIOTIOTIOTIOTIOTIOTIOTION MN MN MN MN MN MN MN MN MN MN MN MN MN MN MN MN MN MIN IN IN IN IN IN IN IN IN IN IN IN IN IN IN IN IN IN DONDONDONDONDONDONDONDONDONDONDONDONDONDONDONDONDONDONG BG BG BG BG BG BG BG BG BG BG BG BG BG BG BG BG BG BIRTIRTIRTIRTIRTIRTIRTIRTIRTIRTIRTIRTIRTIRTIRTIRTIRTIRTH TH TH TH TH TH TH TH TH TH TH TH TH TH TH TH TH TH Ter:er:er:er:er:er:er:er:er:er:er:er:er:er:er:er:er:er: 64 64 64 64 64 64 64 64 64 64 64 64 64 64 64 64 64 646-26-26-26-26-26-26-26-26-26-26-26-26-26-26-26-26-26-236-36-36-36-36-36-36-36-36-36-36-36-36-36-36-36-36-36-3893893893893893893893893893893893893893893893893893897 F7 F7 F7 F7 F7 F7 F7 F7 F7 F7 F7 F7 F7 F7 F7 F7 F7 FORTORTORTORTORTORTORTORTORTORTORTORTORTORTORTORTORTORTUNEUNEUNEUNEUNEUNEUNEUNEUNEUNEUNEUNEUNEUNEUNEUNEUNEUNE TE TE TE TE TE TE TE TE TE TE TE TE TE TE TE TE TE TELLILLILLILLILLILLILLILLILLILLILLILLILLILLILLILLILLILLING NG NG NG NG NG NG NG NG NG NG NG NG NG NG NG NG NG DIVDIVDIVDIVDIVDIVDIVDIVDIVDIVDIVDIVDIVDIVDIVDIVDIVDIVINAINAINAINAINAINAINAINAINAINAINAINAINAINAINAINAINAINATIOTIOTIOTIOTIOTIOTIOTIOTIOTIOTIOTIOTIOTIOTIOTIOTIOTION MN MN MN MN MN MN MN MN MN MN MN MN MN MN MN MN MN MIN IN IN IN IN IN IN IN IN IN IN IN IN IN IN IN IN IN DONDONDONDONDONDONDONDONDONDONDONDONDONDONDONDONDONDONG BG BG BG BG BG BG BG BG BG BG BG BG BG BG BG BG BG BIRTIRTIRTIRTIRTIRTIRTIRTIRTIRTIRTIRTIRTIRTIRTIRTIRTIRTH TH TH TH TH TH TH TH TH TH TH TH TH TH TH TH TH TH Ter:er:er:er:er:er:er:er:er:er:er:er:er:er:er:er:er:er: 64 64 64 64 64 64 64 64 64 64 64 64 64 64 64 64 64 646-26-26-26-26-26-26-26-26-26-26-26-26-26-26-26-26-26-236-36-36-36-36-36-36-36-36-36-36-36-36-36-36-36-36-36-3893893893893893893893893893893893893893893893893893897 F7 F7 F7 F7 F7 F7 F7 F7 F7 F7 F7 F7 F7 F7 F7 F7 F7 FORTORTORTORTORTORTORTORTORTORTORTORTORTORTORTORTORTORTUNEUNEUNEUNEUNEUNEUNEUNEUNEUNEUNEUNEUNEUNEUNEUNEUNEUNE TE TE TE TE TE TE TE TE TE TE TE TE TE TE TE TE TE TELLILLILLILLILLILLILLILLILLILLILLILLILLILLILLILLILLILLING NG NG NG NG NG NG NG NG NG NG NG NG NG NG NG NG NG DIVDIVDIVDIVDIVDIVDIVDIVDIVDIVDIVDIVDIVDIVDIVDIVDIVDIVINAINAINAINAINAINAINAINAINAINAINAINAINAINAINAINAINAINATIOTIOTIOTIOTIOTIOTIOTIOTIOTIOTIOTIOTIOTIOTIOTIOTIOTION MN MN MN MN MN MN MN MN MN MN MN MN MN MN MN MN MN MIN IN IN IN IN IN IN IN IN IN IN IN IN IN IN IN IN IN DONDONDONDONDONDONDONDONDONDONDONDONDONDONDONDONDONDONG BG BG BG BG BG BG BG BG BG BG BG BG BG BG BG BG BG BIRTIRTIRTIRTIRTIRTIRTIRTIRTIRTIRTIRTIRTIRTIRTIRTIRTIRTH TH TH TH TH TH TH TH TH TH TH TH TH TH TH TH TH TH Ter:er:er:er:er:er:er:er:er:er:er:er:er:er:er:er:er:er: 64 64 64 64 64 64 64 64 64 64 64 64 64 64 64 64 64 646-26-26-26-26-26-26-26-26-26-26-26-26-26-26-26-26-26-236-36-36-36-36-36-36-36-36-36-36-36-36-36-36-36-36-36-3893893893893893893893893893893893893893893893893893897 F7 F7 F7 F7 F7 F7 F7 F7 F7 F7 F7 F7 F7 F7 F7 F7 F7 FORTORTORTORTORTORTORTORTORTORTORTORTORTORTORTORTORTORTUNEUNEUNEUNEUNEUNEUNEUNEUNEUNEUNEUNEUNEUNEUNEUNEUNEUNE TE TE TE TE TE TE TE TE TE TE TE TE TE TE TE TE TE TELLILLILLILLILLILLILLILLILLILLILLILLILLILLILLILLILLILLING NG NG NG NG NG NG NG NG NG NG NG NG NG NG NG NG NG DIVDIVDIVDIVDIVDIVDIVDIVDIVDIVDIVDIVDIVDIVDIVDIVDIVDIVINAINAINAINAINAINAINAINAINAINAINAINAINAINAINAINAINAINATIOTIOTIOTIOTIOTIOTIOTIOTIOTIOTIOTIOTIOTIOTIOTIOTIOTION MN MN MN MN MN MN MN MN MN MN MN MN MN MN MN MN MN MIN IN IN IN IN IN IN IN IN IN IN IN IN IN IN IN IN IN DONDONDONDONDONDONDONDONDONDONDONDONDONDONDONDONDONDONG BG BG BG BG BG BG BG BG BG BG BG BG BG BG BG BG BG BIRTIRTIRTIRTIRTIRTIRTIRTIRTIRTIRTIRTIRTIRTIRTIRTIRTIRTH TH TH TH TH TH TH TH TH TH TH TH TH TH TH TH TH TH Ter:er:er:er:er:er:er:er:er:er:er:er:er:er:er:er:er:er: 64 64 64 64 64 64 64 64 64 64 64 64 64 64 64 64 64 646-26-26-26-26-26-26-26-26-26-26-26-26-26-26-26-26-26-236-36-36-36-36-36-36-36-36-36-36-36-36-36-36-36-36-36-3893893893893893893893893893893893893893893893893893897 F7 F7 F7 F7 F7 F7 F7 F7 F7 F7 F7 F7 F7 F7 F7 F7 F7 FORTORTORTORTORTORTORTORTORTORTORTORTORTORTORTORTORTORTUNEUNEUNEUNEUNEUNEUNEUNEUNEUNEUNEUNEUNEUNEUNEUNEUNEUNE TE TE TE TE TE TE TE TE TE TE TE TE TE TE TE TE TE TELLILLILLILLILLILLILLILLILLILLILLILLILLILLILLILLILLILLING NG NG NG NG NG NG NG NG NG NG NG NG NG NG NG NG NG DIVDIVDIVDIVDIVDIVDIVDIVDIVDIVDIVDIVDIVDIVDIVDIVDIVDIVINAINAINAINAINAINAINAINAINAINAINAINAINAINAINAINAINAINATIOTIOTIOTIOTIOTIOTIOTIOTIOTIOTIOTIOTIOTIOTIOTIOTIOTION MN MN MN MN MN MN MN MN MN MN MN MN MN MN MN MN MN MIN IN IN IN IN IN IN IN IN IN IN IN IN IN IN IN IN IN DONDONDONDONDONDONDONDONDONDONDONDONDONDONDONDONDONDONG BG BG BG BG BG BG BG BG BG BG BG BG BG BG BG BG BG BIRTIRTIRTIRTIRTIRTIRTIRTIRTIRTIRTIRTIRTIRTIRTIRTIRTIRTH TH TH TH TH TH TH TH TH TH TH TH TH TH TH TH TH TH Ter:er:er:er:er:er:er:er:er:er:er:er:er:er:er:er:er:er: 64 64 64 64 64 64 64 64 64 64 64 64 64 64 64 64 64 646-26-26-26-26-26-26-26-26-26-26-26-26-26-26-26-26-26-236-36-36-36-36-36-36-36-36-36-36-36-36-36-36-36-36-36-3893893893893893893893893893893893893893893893893893897 F7 F7 F7 F7 F7 F7 F7 F7 F7 F7 F7 F7 F7 F7 F7 F7 F7 FORTORTORTORTORTORTORTORTORTORTORTORTORTORTORTORTORTORTUNEUNEUNEUNEUNEUNEUNEUNEUNEUNEUNEUNEUNEUNEUNEUNEUNEUNE TE TE TE TE TE TE TE TE TE TE TE TE TE TE TE TE TE TELLILLILLILLILLILLILLILLILLILLILLILLILLILLILLILLILLILLING NG NG NG NG NG NG NG NG NG NG NG NG NG NG NG NG NG DIVDIVDIVDIVDIVDIVDIVDIVDIVDIVDIVDIVDIVDIVDIVDIVDIVDIVINAINAINAINAINAINAINAINAINAINAINAINAINAINAINAINAINAINATIOTIOTIOTIOTIOTIOTIOTIOTIOTIOTIOTIOTIOTIOTIOTIOTIOTION MN MN MN MN MN MN MN MN MN MN MN MN MN MN MN MN MN MIN IN IN IN IN IN IN IN IN IN IN IN IN IN IN IN IN IN DONDONDONDONDONDONDONDONDONDONDONDONDONDONDONDONDONDONG BG BG BG BG BG BG BG BG BG BG BG BG BG BG BG BG BG BIRTIRTIRTIRTIRTIRTIRTIRTIRTIRTIRTIRTIRTIRTIRTIRTIRTIRTH TH TH TH TH TH TH TH TH TH TH TH TH TH TH TH TH TH Ter:er:er:er:er:er:er:er:er:er:er:er:er:er:er:er:er:er: 64 64 64 64 64 64 64 64 64 64 64 64 64 64 64 64 64 646-26-26-26-26-26-26-26-26-26-26-26-26-26-26-26-26-26-236-36-36-36-36-36-36-36-36-36-36-36-36-36-36-36-36-36-3893893893893893893893893893893893893893893893893893897 F7 F7 F7 F7 F7 F7 F7 F7 F7 F7 F7 F7 F7 F7 F7 F7 F7 FORTORTORTORTORTORTORTORTORTORTORTORTORTORTORTORTORTORTUNEUNEUNEUNEUNEUNEUNEUNEUNEUNEUNEUNEUNEUNEUNEUNEUNEUNE TE TE TE TE TE TE TE TE TE TE TE TE TE TE TE TE TE TELLILLILLILLILLILLILLILLILLILLILLILLILLILLILLILLILLILLING NG NG NG NG NG NG NG NG NG NG NG NG NG NG NG NG NG DIVDIVDIVDIVDIVDIVDIVDIVDIVDIVDIVDIVDIVDIVDIVDIVDIVDIVINAINAINAINAINAINAINAINAINAINAINAINAINAINAINAINAINAINATIOTIOTIOTIOTIOTIOTIOTIOTIOTIOTIOTIOTIOTIOTIOTIOTIOTION MN MN MN MN MN MN MN MN MN MN MN MN MN MN MN MN MN MIN IN IN IN IN IN IN IN IN IN IN IN IN IN IN IN IN IN DONDONDONDONDONDONDONDONDONDONDONDONDONDONDONDONDONDONG BG BG BG BG BG BG BG BG BG BG BG BG BG BG BG BG BG BIRTIRTIRTIRTIRTIRTIRTIRTIRTIRTIRTIRTIRTIRTIRTIRTIRTIRTH TH TH TH TH TH TH TH TH TH TH TH TH TH TH TH TH TH Ter:er:er:er:er:er:er:er:er:er:er:er:er:er:er:er:er:er: 64 64 64 64 64 64 64 64 64 64 64 64 64 64 64 64 64 646-26-26-26-26-26-26-26-26-26-26-26-26-26-26-26-26-26-236-36-36-36-36-36-36-36-36-36-36-36-36-36-36-36-36-36-3893893893893893893893893893893893893893893893893893897 F7 F7 F7 F7 F7 F7 F7 F7 F7 F7 F7 F7 F7 F7 F7 F7 F7 FORTORTORTORTORTORTORTORTORTORTORTORTORTORTORTORTORTORTUNEUNEUNEUNEUNEUNEUNEUNEUNEUNEUNEUNEUNEUNEUNEUNEUNEUNE TE TE TE TE TE TE TE TE TE TE TE TE TE TE TE TE TE TELLILLILLILLILLILLILLILLILLILLILLILLILLILLILLILLILLILLING NG NG NG NG NG NG NG NG NG NG NG NG NG NG NG NG NG DIVDIVDIVDIVDIVDIVDIVDIVDIVDIVDIVDIVDIVDIVDIVDIVDIVDIVINAINAINAINAINAINAINAINAINAINAINAINAINAINAINAINAINAINATIOTIOTIOTIOTIOTIOTIOTIOTIOTIOTIOTIOTIOTIOTIOTIOTIOTION MN MN MN MN MN MN MN MN MN MN MN MN MN MN MN MN MN MIN IN IN IN IN IN IN IN IN IN IN IN IN IN IN IN IN IN DONDONDONDONDONDONDONDONDONDONDONDONDONDONDONDONDONDONG BG BG BG BG BG BG BG BG BG BG BG BG BG BG BG BG BG BIRTIRTIRTIRTIRTIRTIRTIRTIRTIRTIRTIRTIRTIRTIRTIRTIRTIRTH TH TH TH TH TH TH TH TH TH TH TH TH TH TH TH TH TH Ter:er:er:er:er:er:er:er:er:er:er:er:er:er:er:er:er:er: 64 64 64 64 64 64 64 64 64 64 64 64 64 64 64 64 64 646-26-26-26-26-26-26-26-26-26-26-26-26-26-26-26-26-26-236-36-36-36-36-36-36-36-36-36-36-36-36-36-36-36-36-36-3893893893893893893893893893893893893893893893893893897 F7 F7 F7 F7 F7 F7 F7 F7 F7 F7 F7 F7 F7 F7 F7 F7 F7 FORTORTORTORTORTORTORTORTORTORTORTORTORTORTORTORTORTORTUNEUNEUNEUNEUNEUNEUNEUNEUNEUNEUNEUNEUNEUNEUNEUNEUNEUNE TE TE TE TE TE TE TE TE TE TE TE TE TE TE TE TE TE TELLILLILLILLILLILLILLILLILLILLILLILLILLILLILLILLILLILLING NG NG NG NG NG NG NG NG NG NG NG NG NG NG NG NG NG DIVDIVDIVDIVDIVDIVDIVDIVDIVDIVDIVDIVDIVDIVDIVDIVDIVDIVINAINAINAINAINAINAINAINAINAINAINAINAINAINAINAINAINAINATIOTIOTIOTIOTIOTIOTIOTIOTIOTIOTIOTIOTIOTIOTIOTIOTIOTION MN MN MN MN MN MN MN MN MN MN MN MN MN MN MN MN MN MIN IN IN IN IN IN IN IN IN IN IN IN IN IN IN IN IN IN DONDONDONDONDONDONDONDONDONDONDONDONDONDONDONDONDONDONG BG BG BG BG BG BG BG BG BG BG BG BG BG BG BG BG BG BIRTIRTIRTIRTIRTIRTIRTIRTIRTIRTIRTIRTIRTIRTIRTIRTIRTIRTH TH TH TH TH TH TH TH TH TH TH TH TH TH TH TH TH TH Ter:er:er:er:er:er:er:er:er:er:er:er:er:er:er:er:er:er: 64 64 64 64 64 64 64 64 64 64 64 64 64 64 64 64 64 646-26-26-26-26-26-26-26-26-26-26-26-26-26-26-26-26-26-236-36-36-36-36-36-36-36-36-36-36-36-36-36-36-36-36-36-3893893893893893893893893893893893893893893893893893897 F7 F7 F7 F7 F7 F7 F7 F7 F7 F7 F7 F7 F7 F7 F7 F7 F7 FORTORTORTORTORTORTORTORTORTORTORTORTORTORTORTORTORTORTUNEUNEUNEUNEUNEUNEUNEUNEUNEUNEUNEUNEUNEUNEUNEUNEUNEUNE TE TE TE TE TE TE TE TE TE TE TE TE TE TE TE TE TE TELLILLILLILLILLILLILLILLILLILLILLILLILLILLILLILLILLILLING NG NG NG NG NG NG NG NG NG NG NG NG NG NG NG NG NG DIVDIVDIVDIVDIVDIVDIVDIVDIVDIVDIVDIVDIVDIVDIVDIVDIVDIVINAINAINAINAINAINAINAINAINAINAINAINAINAINAINAINAINAINATIOTIOTIOTIOTIOTIOTIOTIOTIOTIOTIOTIOTIOTIOTIOTIOTIOTION MN MN MN MN MN MN MN MN MN MN MN MN MN MN MN MN MN MIN IN IN IN IN IN IN IN IN IN IN IN IN IN IN IN IN IN DONDONDONDONDONDONDONDONDONDONDONDONDONDONDONDONDONDONG BG BG BG BG BG BG BG BG BG BG BG BG BG BG BG BG BG BIRTIRTIRTIRTIRTIRTIRTIRTIRTIRTIRTIRTIRTIRTIRTIRTIRTIRTH TH TH TH TH TH TH TH TH TH TH TH TH TH TH TH TH TH Ter:er:er:er:er:er:er:er:er:er:er:er:er:er:er:er:er:er: 64 64 64 64 64 64 64 64 64 64 64 64 64 64 64 64 64 646-26-26-26-26-26-26-26-26-26-26-26-26-26-26-26-26-26-236-36-36-36-36-36-36-36-36-36-36-36-36-36-36-36-36-36-3893893893893893893893893893893893893893893893893893897 F7 F7 F7 F7 F7 F7 F7 F7 F7 F7 F7 F7 F7 F7 F7 F7 F7 FORTORTORTORTORTORTORTORTORTORTORTORTORTORTORTORTORTORTUNEUNEUNEUNEUNEUNEUNEUNEUNEUNEUNEUNEUNEUNEUNEUNEUNEUNE TE TE TE TE TE TE TE TE TE TE TE TE TE TE TE TE TE TELLILLILLILLILLILLILLILLILLILLILLILLILLILLILLILLILLILLING NG NG NG NG NG NG NG NG NG NG NG NG NG NG NG NG NG DIVDIVDIVDIVDIVDIVDIVDIVDIVDIVDIVDIVDIVDIVDIVDIVDIVDIVINAINAINAINAINAINAINAINAINAINAINAINAINAINAINAINAINAINATIOTIOTIOTIOTIOTIOTIOTIOTIOTIOTIOTIOTIOTIOTIOTIOTIOTION MN MN MN MN MN MN MN MN MN MN MN MN MN MN MN MN MN MIN IN IN IN IN IN IN IN IN IN IN IN IN IN IN IN IN IN DONDONDONDONDONDONDONDONDONDONDONDONDONDONDONDONDONDONG BG BG BG BG BG BG BG BG BG BG BG BG BG BG BG BG BG BIRTIRTIRTIRTIRTIRTIRTIRTIRTIRTIRTIRTIRTIRTIRTIRTIRTIRTH TH TH TH TH TH TH TH TH TH TH TH TH TH TH TH TH TH Ter:er:er:er:er:er:er:er:er:er:er:er:er:er:er:er:er:er: 64 64 64 64 64 64 64 64 64 64 64 64 64 64 64 64 64 646-26-26-26-26-26-26-26-26-26-26-26-26-26-26-26-26-26-236-36-36-36-36-36-36-36-36-36-36-36-36-36-36-36-36-36-3893893893893893893893893893893893893893893893893893897 F7 F7 F7 F7 F7 F7 F7 F7 F7 F7 F7 F7 F7 F7 F7 F7 F7 FORTORTORTORTORTORTORTORTORTORTORTORTORTORTORTORTORTORTUNEUNEUNEUNEUNEUNEUNEUNEUNEUNEUNEUNEUNEUNEUNEUNEUNEUNE TE TE TE TE TE TE TE TE TE TE TE TE TE TE TE TE TE TELLILLILLILLILLILLILLILLILLILLILLILLILLILLILLILLILLILLING NG NG NG NG NG NG NG NG NG NG NG NG NG NG NG NG NG DIVDIVDIVDIVDIVDIVDIVDIVDIVDIVDIVDIVDIVDIVDIVDIVDIVDIVINAINAINAINAINAINAINAINAINAINAINAINAINAINAINAINAINAINATIOTIOTIOTIOTIOTIOTIOTIOTIOTIOTIOTIOTIOTIOTIOTIOTIOTION MN MN MN MN MN MN MN MN MN MN MN MN MN MN MN MN MN MIN IN IN IN IN IN IN IN IN IN IN IN IN IN IN IN IN IN DONDONDONDONDONDONDONDONDONDONDONDONDONDONDONDONDONDONG BG BG BG BG BG BG BG BG BG BG BG BG BG BG BG BG BG BIRTIRTIRTIRTIRTIRTIRTIRTIRTIRTIRTIRTIRTIRTIRTIRTIRTIRTH TH TH TH TH TH TH TH TH TH TH TH TH TH TH TH TH TH TIMEIMEIMEIMEIMEIMEIMEIMEIMEIMEIMEIMEIMEIMEIMEIMEIMEIME MA MA MA MA MA MA MA MA MA MA MA MA MA MA MA MA MA MARRIRRIRRIRRIRRIRRIRRIRRIRRIRRIRRIRRIRRIRRIRRIRRIRRIRRIAGEAGEAGEAGEAGEAGEAGEAGEAGEAGEAGEAGEAGEAGEAGEAGEAGEAGE EL EL EL EL EL EL EL EL EL EL EL EL EL EL EL EL EL ELECTECTECTECTECTECTECTECTECTECTECTECTECTECTECTECTECTECTIONIONIONIONIONIONIONIONIONIONIONIONIONIONIONIONIONION OF OF OF OF OF OF OF OF OF OF OF OF OF OF OF OF OF OFFENFENFENFENFENFENFENFENFENFENFENFENFENFENFENFENFENFEND TD TD TD TD TD TD TD TD TD TD TD TD TD TD TD TD TD THE HE HE HE HE HE HE HE HE HE HE HE HE HE HE HE HE HE GODGODGODGODGODGODGODGODGODGODGODGODGODGODGODGODGODGOD OF OF OF OF OF OF OF OF OF OF OF OF OF OF OF OF OF OF AG AG AG AG AG AG AG AG AG AG AG AG AG AG AG AG AG AGE HE HE HE HE HE HE HE HE HE HE HE HE HE HE HE HE HE HOUSOUSOUSOUSOUSOUSOUSOUSOUSOUSOUSOUSOUSOUSOUSOUSOUSOUSE FE FE FE FE FE FE FE FE FE FE FE FE FE FE FE FE FE FENGENGENGENGENGENGENGENGENGENGENGENGENGENGENGENGENGENG SH SH SH SH SH SH SH SH SH SH SH SH SH SH SH SH SH SHUI UI UI UI UI UI UI UI UI UI UI UI UI UI UI UI UI UI IMEIMEIMEIMEIMEIMEIMEIMEIMEIMEIMEIMEIMEIMEIMEIMEIMEIME MA MA MA MA MA MA MA MA MA MA MA MA MA MA MA MA MA MARRIRRIRRIRRIRRIRRIRRIRRIRRIRRIRRIRRIRRIRRIRRIRRIRRIRRIAGEAGEAGEAGEAGEAGEAGEAGEAGEAGEAGEAGEAGEAGEAGEAGEAGEAGE EL EL EL EL EL EL EL EL EL EL EL EL EL EL EL EL EL ELECTECTECTECTECTECTECTECTECTECTECTECTECTECTECTECTECTECTIONIONIONIONIONIONIONIONIONIONIONIONIONIONIONIONIONION OF OF OF OF OF OF OF OF OF OF OF OF OF OF OF OF OF OFFENFENFENFENFENFENFENFENFENFENFENFENFENFENFENFENFENFEND TD TD TD TD TD TD TD TD TD TD TD TD TD TD TD TD TD THE HE HE HE HE HE HE HE HE HE HE HE HE HE HE HE HE HE GODGODGODGODGODGODGODGODGODGODGODGODGODGODGODGODGODGOD OF OF OF OF OF OF OF OF OF OF OF OF OF OF OF OF OF OF AG AG AG AG AG AG AG AG AG AG AG AG AG AG AG AG AG AGE HE HE HE HE HE HE HE HE HE HE HE HE HE HE HE HE HE HOUSOUSOUSOUSOUSOUSOUSOUSOUSOUSOUSOUSOUSOUSOUSOUSOUSOUSE FE FE FE FE FE FE FE FE FE FE FE FE FE FE FE FE FE FENGENGENGENGENGENGENGENGENGENGENGENGENGENGENGENGENGENG SH SH SH SH SH SH SH SH SH SH SH SH SH SH SH SH SH SHUI UI UI UI UI UI UI UI UI UI UI UI UI UI UI UI UI UI IMEIMEIMEIMEIMEIMEIMEIMEIMEIMEIMEIMEIMEIMEIMEIMEIMEIME MA MA MA MA MA MA MA MA MA MA MA MA MA MA MA MA MA MARRIRRIRRIRRIRRIRRIRRIRRIRRIRRIRRIRRIRRIRRIRRIRRIRRIRRIAGEAGEAGEAGEAGEAGEAGEAGEAGEAGEAGEAGEAGEAGEAGEAGEAGEAGE EL EL EL EL EL EL EL EL EL EL EL EL EL EL EL EL EL ELECTECTECTECTECTECTECTECTECTECTECTECTECTECTECTECTECTECTIONIONIONIONIONIONIONIONIONIONIONIONIONIONIONIONIONION OF OF OF OF OF OF OF OF OF OF OF OF OF OF OF OF OF OFFENFENFENFENFENFENFENFENFENFENFENFENFENFENFENFENFENFEND TD TD TD TD TD TD TD TD TD TD TD TD TD TD TD TD TD THE HE HE HE HE HE HE HE HE HE HE HE HE HE HE HE HE HE GODGODGODGODGODGODGODGODGODGODGODGODGODGODGODGODGODGOD OF OF OF OF OF OF OF OF OF OF OF OF OF OF OF OF OF OF AG AG AG AG AG AG AG AG AG AG AG AG AG AG AG AG AG AGE HE HE HE HE HE HE HE HE HE HE HE HE HE HE HE HE HE HOUSOUSOUSOUSOUSOUSOUSOUSOUSOUSOUSOUSOUSOUSOUSOUSOUSOUSE FE FE FE FE FE FE FE FE FE FE FE FE FE FE FE FE FE FENGENGENGENGENGENGENGENGENGENGENGENGENGENGENGENGENGENG SH SH SH SH SH SH SH SH SH SH SH SH SH SH SH SH SH SHUI UI UI UI UI UI UI UI UI UI UI UI UI UI UI UI UI UI IMEIMEIMEIMEIMEIMEIMEIMEIMEIMEIMEIMEIMEIMEIMEIMEIMEIME MA MA MA MA MA MA MA MA MA MA MA MA MA MA MA MA MA MARRIRRIRRIRRIRRIRRIRRIRRIRRIRRIRRIRRIRRIRRIRRIRRIRRIRRIAGEAGEAGEAGEAGEAGEAGEAGEAGEAGEAGEAGEAGEAGEAGEAGEAGEAGE EL EL EL EL EL EL EL EL EL EL EL EL EL EL EL EL EL ELECTECTECTECTECTECTECTECTECTECTECTECTECTECTECTECTECTECTIONIONIONIONIONIONIONIONIONIONIONIONIONIONIONIONIONION OF OF OF OF OF OF OF OF OF OF OF OF OF OF OF OF OF OFFENFENFENFENFENFENFENFENFENFENFENFENFENFENFENFENFENFEND TD TD TD TD TD TD TD TD TD TD TD TD TD TD TD TD TD THE HE HE HE HE HE HE HE HE HE HE HE HE HE HE HE HE HE GODGODGODGODGODGODGODGODGODGODGODGODGODGODGODGODGODGOD OF OF OF OF OF OF OF OF OF OF OF OF OF OF OF OF OF OF AG AG AG AG AG AG AG AG AG AG AG AG AG AG AG AG AG AGE HE HE HE HE HE HE HE HE HE HE HE HE HE HE HE HE HE HOUSOUSOUSOUSOUSOUSOUSOUSOUSOUSOUSOUSOUSOUSOUSOUSOUSOUSE FE FE FE FE FE FE FE FE FE FE FE FE FE FE FE FE FE FENGENGENGENGENGENGENGENGENGENGENGENGENGENGENGENGENGENG SH SH SH SH SH SH SH SH SH SH SH SH SH SH SH SH SH SHUI UI UI UI UI UI UI UI UI UI UI UI UI UI UI UI UI UI IMEIMEIMEIMEIMEIMEIMEIMEIMEIMEIMEIMEIMEIMEIMEIMEIMEIME MA MA MA MA MA MA MA MA MA MA MA MA MA MA MA MA MA MARRIRRIRRIRRIRRIRRIRRIRRIRRIRRIRRIRRIRRIRRIRRIRRIRRIRRIAGEAGEAGEAGEAGEAGEAGEAGEAGEAGEAGEAGEAGEAGEAGEAGEAGEAGE EL EL EL EL EL EL EL EL EL EL EL EL EL EL EL EL EL ELECTECTECTECTECTECTECTECTECTECTECTECTECTECTECTECTECTECTIONIONIONIONIONIONIONIONIONIONIONIONIONIONIONIONIONION OF OF OF OF OF OF OF OF OF OF OF OF OF OF OF OF OF OFFENFENFENFENFENFENFENFENFENFENFENFENFENFENFENFENFENFEND TD TD TD TD TD TD TD TD TD TD TD TD TD TD TD TD TD THE HE HE HE HE HE HE HE HE HE HE HE HE HE HE HE HE HE GODGODGODGODGODGODGODGODGODGODGODGODGODGODGODGODGODGOD OF OF OF OF OF OF OF OF OF OF OF OF OF OF OF OF OF OF AG AG AG AG AG AG AG AG AG AG AG AG AG AG AG AG AG AGE HE HE HE HE HE HE HE HE HE HE HE HE HE HE HE HE HE HOUSOUSOUSOUSOUSOUSOUSOUSOUSOUSOUSOUSOUSOUSOUSOUSOUSOUSE FE FE FE FE FE FE FE FE FE FE FE FE FE FE FE FE FE FENGENGENGENGENGENGENGENGENGENGENGENGENGENGENGENGENGENG SH SH SH SH SH SH SH SH SH SH SH SH SH SH SH SH SH SHUI UI UI UI UI UI UI UI UI UI UI UI UI UI UI UI UI UI IMEIMEIMEIMEIMEIMEIMEIMEIMEIMEIMEIMEIMEIMEIMEIMEIMEIME MA MA MA MA MA MA MA MA MA MA MA MA MA MA MA MA MA MARRIRRIRRIRRIRRIRRIRRIRRIRRIRRIRRIRRIRRIRRIRRIRRIRRIRRIAGEAGEAGEAGEAGEAGEAGEAGEAGEAGEAGEAGEAGEAGEAGEAGEAGEAGE EL EL EL EL EL EL EL EL EL EL EL EL EL EL EL EL EL ELECTECTECTECTECTECTECTECTECTECTECTECTECTECTECTECTECTECTIONIONIONIONIONIONIONIONIONIONIONIONIONIONIONIONIONION OF OF OF OF OF OF OF OF OF OF OF OF OF OF OF OF OF OFFENFENFENFENFENFENFENFENFENFENFENFENFENFENFENFENFENFEND TD TD TD TD TD TD TD TD TD TD TD TD TD TD TD TD TD THE HE HE HE HE HE HE HE HE HE HE HE HE HE HE HE HE HE GODGODGODGODGODGODGODGODGODGODGODGODGODGODGODGODGODGOD OF OF OF OF OF OF OF OF OF OF OF OF OF OF OF OF OF OF AG AG AG AG AG AG AG AG AG AG AG AG AG AG AG AG AG AGE HE HE HE HE HE HE HE HE HE HE HE HE HE HE HE HE HE HOUSOUSOUSOUSOUSOUSOUSOUSOUSOUSOUSOUSOUSOUSOUSOUSOUSOUSE FE FE FE FE FE FE FE FE FE FE FE FE FE FE FE FE FE FENGENGENGENGENGENGENGENGENGENGENGENGENGENGENGENGENGENG SH SH SH SH SH SH SH SH SH SH SH SH SH SH SH SH SH SHUI UI UI UI UI UI UI UI UI UI UI UI UI UI UI UI UI UI IMEIMEIMEIMEIMEIMEIMEIMEIMEIMEIMEIMEIMEIMEIMEIMEIMEIME MA MA MA MA MA MA MA MA MA MA MA MA MA MA MA MA MA MARRIRRIRRIRRIRRIRRIRRIRRIRRIRRIRRIRRIRRIRRIRRIRRIRRIRRIAGEAGEAGEAGEAGEAGEAGEAGEAGEAGEAGEAGEAGEAGEAGEAGEAGEAGE EL EL EL EL EL EL EL EL EL EL EL EL EL EL EL EL EL ELECTECTECTECTECTECTECTECTECTECTECTECTECTECTECTECTECTECTIONIONIONIONIONIONIONIONIONIONIONIONIONIONIONIONIONION OF OF OF OF OF OF OF OF OF OF OF OF OF OF OF OF OF OFFENFENFENFENFENFENFENFENFENFENFENFENFENFENFENFENFENFEND TD TD TD TD TD TD TD TD TD TD TD TD TD TD TD TD TD THE HE HE HE HE HE HE HE HE HE HE HE HE HE HE HE HE HE GODGODGODGODGODGODGODGODGODGODGODGODGODGODGODGODGODGOD OF OF OF OF OF OF OF OF OF OF OF OF OF OF OF OF OF OF AG AG AG AG AG AG AG AG AG AG AG AG AG AG AG AG AG AGE HE HE HE HE HE HE HE HE HE HE HE HE HE HE HE HE HE HOUSOUSOUSOUSOUSOUSOUSOUSOUSOUSOUSOUSOUSOUSOUSOUSOUSOUSE FE FE FE FE FE FE FE FE FE FE FE FE FE FE FE FE FE FENGENGENGENGENGENGENGENGENGENGENGENGENGENGENGENGENGENG SH SH SH SH SH SH SH SH SH SH SH SH SH SH SH SH SH SHUI UI UI UI UI UI UI UI UI UI UI UI UI UI UI UI UI UI IMEIMEIMEIMEIMEIMEIMEIMEIMEIMEIMEIMEIMEIMEIMEIMEIMEIME MA MA MA MA MA MA MA MA MA MA MA MA MA MA MA MA MA MARRIRRIRRIRRIRRIRRIRRIRRIRRIRRIRRIRRIRRIRRIRRIRRIRRIRRIAGEAGEAGEAGEAGEAGEAGEAGEAGEAGEAGEAGEAGEAGEAGEAGEAGEAGE EL EL EL EL EL EL EL EL EL EL EL EL EL EL EL EL EL ELECTECTECTECTECTECTECTECTECTECTECTECTECTECTECTECTECTECTIONIONIONIONIONIONIONIONIONIONIONIONIONIONIONIONIONION OF OF OF OF OF OF OF OF OF OF OF OF OF OF OF OF OF OFFENFENFENFENFENFENFENFENFENFENFENFENFENFENFENFENFENFEND TD TD TD TD TD TD TD TD TD TD TD TD TD TD TD TD TD THE HE HE HE HE HE HE HE HE HE HE HE HE HE HE HE HE HE GODGODGODGODGODGODGODGODGODGODGODGODGODGODGODGODGODGOD OF OF OF OF OF OF OF OF OF OF OF OF OF OF OF OF OF OF AG AG AG AG AG AG AG AG AG AG AG AG AG AG AG AG AG AGE HE HE HE HE HE HE HE HE HE HE HE HE HE HE HE HE HE HOUSOUSOUSOUSOUSOUSOUSOUSOUSOUSOUSOUSOUSOUSOUSOUSOUSOUSE FE FE FE FE FE FE FE FE FE FE FE FE FE FE FE FE FE FENGENGENGENGENGENGENGENGENGENGENGENGENGENGENGENGENGENG SH SH SH SH SH SH SH SH SH SH SH SH SH SH SH SH SH SHUI UI UI UI UI UI UI UI UI UI UI UI UI UI UI UI UI UI IMEIMEIMEIMEIMEIMEIMEIMEIMEIMEIMEIMEIMEIMEIMEIMEIMEIME MA MA MA MA MA MA MA MA MA MA MA MA MA MA MA MA MA MARRIRRIRRIRRIRRIRRIRRIRRIRRIRRIRRIRRIRRIRRIRRIRRIRRIRRIAGEAGEAGEAGEAGEAGEAGEAGEAGEAGEAGEAGEAGEAGEAGEAGEAGEAGE EL EL EL EL EL EL EL EL EL EL EL EL EL EL EL EL EL ELECTECTECTECTECTECTECTECTECTECTECTECTECTECTECTECTECTECTIONIONIONIONIONIONIONIONIONIONIONIONIONIONIONIONIONION OF OF OF OF OF OF OF OF OF OF OF OF OF OF OF OF OF OFFENFENFENFENFENFENFENFENFENFENFENFENFENFENFENFENFENFEND TD TD TD TD TD TD TD TD TD TD TD TD TD TD TD TD TD THE HE HE HE HE HE HE HE HE HE HE HE HE HE HE HE HE HE GODGODGODGODGODGODGODGODGODGODGODGODGODGODGODGODGODGOD OF OF OF OF OF OF OF OF OF OF OF OF OF OF OF OF OF OF AG AG AG AG AG AG AG AG AG AG AG AG AG AG AG AG AG AGE HE HE HE HE HE HE HE HE HE HE HE HE HE HE HE HE HE HOUSOUSOUSOUSOUSOUSOUSOUSOUSOUSOUSOUSOUSOUSOUSOUSOUSOUSE FE FE FE FE FE FE FE FE FE FE FE FE FE FE FE FE FE FENGENGENGENGENGENGENGENGENGENGENGENGENGENGENGENGENGENG SH SH SH SH SH SH SH SH SH SH SH SH SH SH SH SH SH SHUI UI UI UI UI UI UI UI UI UI UI UI UI UI UI UI UI UI IMEIMEIMEIMEIMEIMEIMEIMEIMEIMEIMEIMEIMEIMEIMEIMEIMEIME MA MA MA MA MA MA MA MA MA MA MA MA MA MA MA MA MA MARRIRRIRRIRRIRRIRRIRRIRRIRRIRRIRRIRRIRRIRRIRRIRRIRRIRRIAGEAGEAGEAGEAGEAGEAGEAGEAGEAGEAGEAGEAGEAGEAGEAGEAGEAGE EL EL EL EL EL EL EL EL EL EL EL EL EL EL EL EL EL ELECTECTECTECTECTECTECTECTECTECTECTECTECTECTECTECTECTECTIONIONIONIONIONIONIONIONIONIONIONIONIONIONIONIONIONION OF OF OF OF OF OF OF OF OF OF OF OF OF OF OF OF OF OFFENFENFENFENFENFENFENFENFENFENFENFENFENFENFENFENFENFEND TD TD TD TD TD TD TD TD TD TD TD TD TD TD TD TD TD THE HE HE HE HE HE HE HE HE HE HE HE HE HE HE HE HE HE GODGODGODGODGODGODGODGODGODGODGODGODGODGODGODGODGODGOD OF OF OF OF OF OF OF OF OF OF OF OF OF OF OF OF OF OF AG AG AG AG AG AG AG AG AG AG AG AG AG AG AG AG AG AGE HE HE HE HE HE HE HE HE HE HE HE HE HE HE HE HE HE HOUSOUSOUSOUSOUSOUSOUSOUSOUSOUSOUSOUSOUSOUSOUSOUSOUSOUSE FE FE FE FE FE FE FE FE FE FE FE FE FE FE FE FE FE FENGENGENGENGENGENGENGENGENGENGENGENGENGENGENGENGENGENG SH SH SH SH SH SH SH SH SH SH SH SH SH SH SH SH SH SHUI UI UI UI UI UI UI UI UI UI UI UI UI UI UI UI UI UI IMEIMEIMEIMEIMEIMEIMEIMEIMEIMEIMEIMEIMEIMEIMEIMEIMEIME MA MA MA MA MA MA MA MA MA MA MA MA MA MA MA MA MA MARRIRRIRRIRRIRRIRRIRRIRRIRRIRRIRRIRRIRRIRRIRRIRRIRRIRRIAGEAGEAGEAGEAGEAGEAGEAGEAGEAGEAGEAGEAGEAGEAGEAGEAGEAGE EL EL EL EL EL EL EL EL EL EL EL EL EL EL EL EL EL ELECTECTECTECTECTECTECTECTECTECTECTECTECTECTECTECTECTECTIONIONIONIONIONIONIONIONIONIONIONIONIONIONIONIONIONION OF OF OF OF OF OF OF OF OF OF OF OF OF OF OF OF OF OFFENFENFENFENFENFENFENFENFENFENFENFENFENFENFENFENFENFEND TD TD TD TD TD TD TD TD TD TD TD TD TD TD TD TD TD THE HE HE HE HE HE HE HE HE HE HE HE HE HE HE HE HE HE GODGODGODGODGODGODGODGODGODGODGODGODGODGODGODGODGODGOD OF OF OF OF OF OF OF OF OF OF OF OF OF OF OF OF OF OF AG AG AG AG AG AG AG AG AG AG AG AG AG AG AG AG AG AGE HE HE HE HE HE HE HE HE HE HE HE HE HE HE HE HE HE HOUSOUSOUSOUSOUSOUSOUSOUSOUSOUSOUSOUSOUSOUSOUSOUSOUSOUSE FE FE FE FE FE FE FE FE FE FE FE FE FE FE FE FE FE FENGENGENGENGENGENGENGENGENGENGENGENGENGENGENGENGENGENG SH SH SH SH SH SH SH SH SH SH SH SH SH SH SH SH SH SHUI UI UI UI UI UI UI UI UI UI UI UI UI UI UI UI UI UI IMEIMEIMEIMEIMEIMEIMEIMEIMEIMEIMEIMEIMEIMEIMEIMEIMEIME MA MA MA MA MA MA MA MA MA MA MA MA MA MA MA MA MA MARRIRRIRRIRRIRRIRRIRRIRRIRRIRRIRRIRRIRRIRRIRRIRRIRRIRRIAGEAGEAGEAGEAGEAGEAGEAGEAGEAGEAGEAGEAGEAGEAGEAGEAGEAGE EL EL EL EL EL EL EL EL EL EL EL EL EL EL EL EL EL ELECTECTECTECTECTECTECTECTECTECTECTECTECTECTECTECTECTECTIONIONIONIONIONIONIONIONIONIONIONIONIONIONIONIONIONION OF OF OF OF OF OF OF OF OF OF OF OF OF OF OF OF OF OFFENFENFENFENFENFENFENFENFENFENFENFENFENFENFENFENFENFEND TD TD TD TD TD TD TD TD TD TD TD TD TD TD TD TD TD THE HE HE HE HE HE HE HE HE HE HE HE HE HE HE HE HE HE GODGODGODGODGODGODGODGODGODGODGODGODGODGODGODGODGODGOD OF OF OF OF OF OF OF OF OF OF OF OF OF OF OF OF OF OF AG AG AG AG AG AG AG AG AG AG AG AG AG AG AG AG AG AGE HE HE HE HE HE HE HE HE HE HE HE HE HE HE HE HE HE HOUSOUSOUSOUSOUSOUSOUSOUSOUSOUSOUSOUSOUSOUSOUSOUSOUSOUSE FE FE FE FE FE FE FE FE FE FE FE FE FE FE FE FE FE FENGENGENGENGENGENGENGENGENGENGENGENGENGENGENGENGENGENG SH SH SH SH SH SH SH SH SH SH SH SH SH SH SH SH SH SHUI UI UI UI UI UI UI UI UI UI UI UI UI UI UI UI UI UI IMEIMEIMEIMEIMEIMEIMEIMEIMEIMEIMEIMEIMEIMEIMEIMEIMEIME MA MA MA MA MA MA MA MA MA MA MA MA MA MA MA MA MA MARRIRRIRRIRRIRRIRRIRRIRRIRRIRRIRRIRRIRRIRRIRRIRRIRRIRRIAGEAGEAGEAGEAGEAGEAGEAGEAGEAGEAGEAGEAGEAGEAGEAGEAGEAGE EL EL EL EL EL EL EL EL EL EL EL EL EL EL EL EL EL ELECTECTECTECTECTECTECTECTECTECTECTECTECTECTECTECTECTECTIONIONIONIONIONIONIONIONIONIONIONIONIONIONIONIONIONION OF OF OF OF OF OF OF OF OF OF OF OF OF OF OF OF OF OFFENFENFENFENFENFENFENFENFENFENFENFENFENFENFENFENFENFEND TD TD TD TD TD TD TD TD TD TD TD TD TD TD TD TD TD THE HE HE HE HE HE HE HE HE HE HE HE HE HE HE HE HE HE GODGODGODGODGODGODGODGODGODGODGODGODGODGODGODGODGODGOD OF OF OF OF OF OF OF OF OF OF OF OF OF OF OF OF OF OF AG AG AG AG AG AG AG AG AG AG AG AG AG AG AG AG AG AGE HE HE HE HE HE HE HE HE HE HE HE HE HE HE HE HE HE HOUSOUSOUSOUSOUSOUSOUSOUSOUSOUSOUSOUSOUSOUSOUSOUSOUSOUSE FE FE FE FE FE FE FE FE FE FE FE FE FE FE FE FE FE FENGENGENGENGENGENGENGENGENGENGENGENGENGENGENGENGENGENG SH SH SH SH SH SH SH SH SH SH SH SH SH SH SH SH SH SHUI UI UI UI UI UI UI UI UI UI UI UI UI UI UI UI UI UI IMEIMEIMEIMEIMEIMEIMEIMEIMEIMEIMEIMEIMEIMEIMEIMEIMEIME MA MA MA MA MA MA MA MA MA MA MA MA MA MA MA MA MA MARRIRRIRRIRRIRRIRRIRRIRRIRRIRRIRRIRRIRRIRRIRRIRRIRRIRRIAGEAGEAGEAGEAGEAGEAGEAGEAGEAGEAGEAGEAGEAGEAGEAGEAGEAGE EL EL EL EL EL EL EL EL EL EL EL EL EL EL EL EL EL ELECTECTECTECTECTECTECTECTECTECTECTECTECTECTECTECTECTECTIONIONIONIONIONIONIONIONIONIONIONIONIONIONIONIONIONION OF OF OF OF OF OF OF OF OF OF OF OF OF OF OF OF OF OFFENFENFENFENFENFENFENFENFENFENFENFENFENFENFENFENFENFEND TD TD TD TD TD TD TD TD TD TD TD TD TD TD TD TD TD THE HE HE HE HE HE HE HE HE HE HE HE HE HE HE HE HE HE GODGODGODGODGODGODGODGODGODGODGODGODGODGODGODGODGODGOD OF OF OF OF OF OF OF OF OF OF OF OF OF OF OF OF OF OF AG AG AG AG AG AG AG AG AG AG AG AG AG AG AG AG AG AGE HE HE HE HE HE HE HE HE HE HE HE HE HE HE HE HE HE HOUSOUSOUSOUSOUSOUSOUSOUSOUSOUSOUSOUSOUSOUSOUSOUSOUSOUSE FE FE FE FE FE FE FE FE FE FE FE FE FE FE FE FE FE FENGENGENGENGENGENGENGENGENGENGENGENGENGENGENGENGENGENG SH SH SH SH SH SH SH SH SH SH SH SH SH SH SH SH SH SHUI UI UI UI UI UI UI UI UI UI UI UI UI UI UI UI UI UI IMEIMEIMEIMEIMEIMEIMEIMEIMEIMEIMEIMEIMEIMEIMEIMEIMEIME MA MA MA MA MA MA MA MA MA MA MA MA MA MA MA MA MA MARRIRRIRRIRRIRRIRRIRRIRRIRRIRRIRRIRRIRRIRRIRRIRRIRRIRRIAGEAGEAGEAGEAGEAGEAGEAGEAGEAGEAGEAGEAGEAGEAGEAGEAGEAGE EL EL EL EL EL EL EL EL EL EL EL EL EL EL EL EL EL ELECTECTECTECTECTECTECTECTECTECTECTECTECTECTECTECTECTECTIONIONIONIONIONIONIONIONIONIONIONIONIONIONIONIONIONION OF OF OF OF OF OF OF OF OF OF OF OF OF OF OF OF OF OFFENFENFENFENFENFENFENFENFENFENFENFENFENFENFENFENFENFEND TD TD TD TD TD TD TD TD TD TD TD TD TD TD TD TD TD THE HE HE HE HE HE HE HE HE HE HE HE HE HE HE HE HE HE GODGODGODGODGODGODGODGODGODGODGODGODGODGODGODGODGODGOD OF OF OF OF OF OF OF OF OF OF OF OF OF OF OF OF OF OF AG AG AG AG AG AG AG AG AG AG AG AG AG AG AG AG AG AGE HE HE HE HE HE HE HE HE HE HE HE HE HE HE HE HE HE HOUSOUSOUSOUSOUSOUSOUSOUSOUSOUSOUSOUSOUSOUSOUSOUSOUSOUSE FE FE FE FE FE FE FE FE FE FE FE FE FE FE FE FE FE FENGENGENGENGENGENGENGENGENGENGENGENGENGENGENGENGENGENG SH SH SH SH SH SH SH SH SH SH SH SH SH SH SH SH SH SHUI UI UI UI UI UI UI UI UI UI UI UI UI UI UI UI UI UI IMEIMEIMEIMEIMEIMEIMEIMEIMEIMEIMEIMEIMEIMEIMEIMEIMEIME MA MA MA MA MA MA MA MA MA MA MA MA MA MA MA MA MA MARRIRRIRRIRRIRRIRRIRRIRRIRRIRRIRRIRRIRRIRRIRRIRRIRRIRRIAGEAGEAGEAGEAGEAGEAGEAGEAGEAGEAGEAGEAGEAGEAGEAGEAGEAGE EL EL EL EL EL EL EL EL EL EL EL EL EL EL EL EL EL ELECTECTECTECTECTECTECTECTECTECTECTECTECTECTECTECTECTECTIONIONIONIONIONIONIONIONIONIONIONIONIONIONIONIONIONION OF OF OF OF OF OF OF OF OF OF OF OF OF OF OF OF OF OFFENFENFENFENFENFENFENFENFENFENFENFENFENFENFENFENFENFEND TD TD TD TD TD TD TD TD TD TD TD TD TD TD TD TD TD THE HE HE HE HE HE HE HE HE HE HE HE HE HE HE HE HE HE GODGODGODGODGODGODGODGODGODGODGODGODGODGODGODGODGODGOD OF OF OF OF OF OF OF OF OF OF OF OF OF OF OF OF OF OF AG AG AG AG AG AG AG AG AG AG AG AG AG AG AG AG AG AGE HE HE HE HE HE HE HE HE HE HE HE HE HE HE HE HE HE HOUSOUSOUSOUSOUSOUSOUSOUSOUSOUSOUSOUSOUSOUSOUSOUSOUSOUSE FE FE FE FE FE FE FE FE FE FE FE FE FE FE FE FE FE FENGENGENGENGENGENGENGENGENGENGENGENGENGENGENGENGENGENG SH SH SH SH SH SH SH SH SH SH SH SH SH SH SH SH SH SHUI UI UI UI UI UI UI UI UI UI UI UI UI UI UI UI UI UI IMEIMEIMEIMEIMEIMEIMEIMEIMEIMEIMEIMEIMEIMEIMEIMEIMEIME MA MA MA MA MA MA MA MA MA MA MA MA MA MA MA MA MA MARRIRRIRRIRRIRRIRRIRRIRRIRRIRRIRRIRRIRRIRRIRRIRRIRRIRRIAGEAGEAGEAGEAGEAGEAGEAGEAGEAGEAGEAGEAGEAGEAGEAGEAGEAGE EL EL EL EL EL EL EL EL EL EL EL EL EL EL EL EL EL ELECTECTECTECTECTECTECTECTECTECTECTECTECTECTECTECTECTECTIONIONIONIONIONIONIONIONIONIONIONIONIONIONIONIONIONION OF OF OF OF OF OF OF OF OF OF OF OF OF OF OF OF OF OFFENFENFENFENFENFENFENFENFENFENFENFENFENFENFENFENFENFEND TD TD TD TD TD TD TD TD TD TD TD TD TD TD TD TD TD THE HE HE HE HE HE HE HE HE HE HE HE HE HE HE HE HE HE GODGODGODGODGODGODGODGODGODGODGODGODGODGODGODGODGODGOD OF OF OF OF OF OF OF OF OF OF OF OF OF OF OF OF OF OF AG AG AG AG AG AG AG AG AG AG AG AG AG AG AG AG AG AGE HE HE HE HE HE HE HE HE HE HE HE HE HE HE HE HE HE HOUSOUSOUSOUSOUSOUSOUSOUSOUSOUSOUSOUSOUSOUSOUSOUSOUSOUSE FE FE FE FE FE FE FE FE FE FE FE FE FE FE FE FE FE FENGENGENGENGENGENGENGENGENGENGENGENGENGENGENGENGENGENG SH SH SH SH SH SH SH SH SH SH SH SH SH SH SH SH SH SHUI UI UI UI UI UI UI UI UI UI UI UI UI UI UI UI UI UI IMEIMEIMEIMEIMEIMEIMEIMEIMEIMEIMEIMEIMEIMEIMEIMEIMEIME MA MA MA MA MA MA MA MA MA MA MA MA MA MA MA MA MA MARRIRRIRRIRRIRRIRRIRRIRRIRRIRRIRRIRRIRRIRRIRRIRRIRRIRRIAGEAGEAGEAGEAGEAGEAGEAGEAGEAGEAGEAGEAGEAGEAGEAGEAGEAGE EL EL EL EL EL EL EL EL EL EL EL EL EL EL EL EL EL ELECTECTECTECTECTECTECTECTECTECTECTECTECTECTECTECTECTECTIONIONIONIONIONIONIONIONIONIONIONIONIONIONIONIONIONION OF OF OF OF OF OF OF OF OF OF OF OF OF OF OF OF OF OFFENFENFENFENFENFENFENFENFENFENFENFENFENFENFENFENFENFEND TD TD TD TD TD TD TD TD TD TD TD TD TD TD TD TD TD THE HE HE HE HE HE HE HE HE HE HE HE HE HE HE HE HE HE GODGODGODGODGODGODGODGODGODGODGODGODGODGODGODGODGODGOD OF OF OF OF OF OF OF OF OF OF OF OF OF OF OF OF OF OF AG AG AG AG AG AG AG AG AG AG AG AG AG AG AG AG AG AGE HE HE HE HE HE HE HE HE HE HE HE HE HE HE HE HE HE HOUSOUSOUSOUSOUSOUSOUSOUSOUSOUSOUSOUSOUSOUSOUSOUSOUSOUSE FE FE FE FE FE FE FE FE FE FE FE FE FE FE FE FE FE FENGENGENGENGENGENGENGENGENGENGENGENGENGENGENGENGENGENG SH SH SH SH SH SH SH SH SH SH SH SH SH SH SH SH SH SHUI UI UI UI UI UI UI UI UI UI UI UI UI UI UI UI UI UI COMCOMCOMCOMCOMCOMCOMCOMCOMCOMCOMCOMCOMCOMCOMCOMCOMCOMMERMERMERMERMERMERMERMERMERMERMERMERMERMERMERMERMERMERCE CE CE CE CE CE CE CE CE CE CE CE CE CE CE CE CE CE FENFENFENFENFENFENFENFENFENFENFENFENFENFENFENFENFENFENG SG SG SG SG SG SG SG SG SG SG SG SG SG SG SG SG SG SHUIHUIHUIHUIHUIHUIHUIHUIHUIHUIHUIHUIHUIHUIHUIHUIHUIHUI RE RE RE RE RE RE RE RE RE RE RE RE RE RE RE RE RE RESTISTISTISTISTISTISTISTISTISTISTISTISTISTISTISTISTISTING NG NG NG NG NG NG NG NG NG NG NG NG NG NG NG NG NG PLAPLAPLAPLAPLAPLAPLAPLAPLAPLAPLAPLAPLAPLAPLAPLAPLAPLACE CE CE CE CE CE CE CE CE CE CE CE CE CE CE CE CE CE FENFENFENFENFENFENFENFENFENFENFENFENFENFENFENFENFENFENG SG SG SG SG SG SG SG SG SG SG SG SG SG SG SG SG SG SHUIHUIHUIHUIHUIHUIHUIHUIHUIHUIHUIHUIHUIHUIHUIHUIHUIHUI HI HI HI HI HI HI HI HI HI HI HI HI HI HI HI HI HI HIEROEROEROEROEROEROEROEROEROEROEROEROEROEROEROEROEROEROGRAGRAGRAGRAGRAGRAGRAGRAGRAGRAGRAGRAGRAGRAGRAGRAGRAGRAM UM UM UM UM UM UM UM UM UM UM UM UM UM UM UM UM UM UNDENDENDENDENDENDENDENDENDENDENDENDENDENDENDENDENDENDERTARTARTARTARTARTARTARTARTARTARTARTARTARTARTARTARTARTACOMCOMCOMCOMCOMCOMCOMCOMCOMCOMCOMCOMCOMCOMCOMCOMCOMCOMMERMERMERMERMERMERMERMERMERMERMERMERMERMERMERMERMERMERCE CE CE CE CE CE CE CE CE CE CE CE CE CE CE CE CE CE FENFENFENFENFENFENFENFENFENFENFENFENFENFENFENFENFENFENG SG SG SG SG SG SG SG SG SG SG SG SG SG SG SG SG SG SHUIHUIHUIHUIHUIHUIHUIHUIHUIHUIHUIHUIHUIHUIHUIHUIHUIHUI RE RE RE RE RE RE RE RE RE RE RE RE RE RE RE RE RE RESTISTISTISTISTISTISTISTISTISTISTISTISTISTISTISTISTISTING NG NG NG NG NG NG NG NG NG NG NG NG NG NG NG NG NG PLAPLAPLAPLAPLAPLAPLAPLAPLAPLAPLAPLAPLAPLAPLAPLAPLAPLACE CE CE CE CE CE CE CE CE CE CE CE CE CE CE CE CE CE FENFENFENFENFENFENFENFENFENFENFENFENFENFENFENFENFENFENG SG SG SG SG SG SG SG SG SG SG SG SG SG SG SG SG SG SHUIHUIHUIHUIHUIHUIHUIHUIHUIHUIHUIHUIHUIHUIHUIHUIHUIHUI HI HI HI HI HI HI HI HI HI HI HI HI HI HI HI HI HI HIEROEROEROEROEROEROEROEROEROEROEROEROEROEROEROEROEROEROGRAGRAGRAGRAGRAGRAGRAGRAGRAGRAGRAGRAGRAGRAGRAGRAGRAGRAM UM UM UM UM UM UM UM UM UM UM UM UM UM UM UM UM UM UNDENDENDENDENDENDENDENDENDENDENDENDENDENDENDENDENDENDERTARTARTARTARTARTARTARTARTARTARTARTARTARTARTARTARTARTACOMCOMCOMCOMCOMCOMCOMCOMCOMCOMCOMCOMCOMCOMCOMCOMCOMCOMMERMERMERMERMERMERMERMERMERMERMERMERMERMERMERMERMERMERCE CE CE CE CE CE CE CE CE CE CE CE CE CE CE CE CE CE FENFENFENFENFENFENFENFENFENFENFENFENFENFENFENFENFENFENG SG SG SG SG SG SG SG SG SG SG SG SG SG SG SG SG SG SHUIHUIHUIHUIHUIHUIHUIHUIHUIHUIHUIHUIHUIHUIHUIHUIHUIHUI RE RE RE RE RE RE RE RE RE RE RE RE RE RE RE RE RE RESTISTISTISTISTISTISTISTISTISTISTISTISTISTISTISTISTISTING NG NG NG NG NG NG NG NG NG NG NG NG NG NG NG NG NG PLAPLAPLAPLAPLAPLAPLAPLAPLAPLAPLAPLAPLAPLAPLAPLAPLAPLACE CE CE CE CE CE CE CE CE CE CE CE CE CE CE CE CE CE FENFENFENFENFENFENFENFENFENFENFENFENFENFENFENFENFENFENG SG SG SG SG SG SG SG SG SG SG SG SG SG SG SG SG SG SHUIHUIHUIHUIHUIHUIHUIHUIHUIHUIHUIHUIHUIHUIHUIHUIHUIHUI HI HI HI HI HI HI HI HI HI HI HI HI HI HI HI HI HI HIEROEROEROEROEROEROEROEROEROEROEROEROEROEROEROEROEROEROGRAGRAGRAGRAGRAGRAGRAGRAGRAGRAGRAGRAGRAGRAGRAGRAGRAGRAM UM UM UM UM UM UM UM UM UM UM UM UM UM UM UM UM UM UNDENDENDENDENDENDENDENDENDENDENDENDENDENDENDENDENDENDERTARTARTARTARTARTARTARTARTARTARTARTARTARTARTARTARTARTACOMCOMCOMCOMCOMCOMCOMCOMCOMCOMCOMCOMCOMCOMCOMCOMCOMCOMMERMERMERMERMERMERMERMERMERMERMERMERMERMERMERMERMERMERCE CE CE CE CE CE CE CE CE CE CE CE CE CE CE CE CE CE FENFENFENFENFENFENFENFENFENFENFENFENFENFENFENFENFENFENG SG SG SG SG SG SG SG SG SG SG SG SG SG SG SG SG SG SHUIHUIHUIHUIHUIHUIHUIHUIHUIHUIHUIHUIHUIHUIHUIHUIHUIHUI RE RE RE RE RE RE RE RE RE RE RE RE RE RE RE RE RE RESTISTISTISTISTISTISTISTISTISTISTISTISTISTISTISTISTISTING NG NG NG NG NG NG NG NG NG NG NG NG NG NG NG NG NG PLAPLAPLAPLAPLAPLAPLAPLAPLAPLAPLAPLAPLAPLAPLAPLAPLAPLACE CE CE CE CE CE CE CE CE CE CE CE CE CE CE CE CE CE FENFENFENFENFENFENFENFENFENFENFENFENFENFENFENFENFENFENG SG SG SG SG SG SG SG SG SG SG SG SG SG SG SG SG SG SHUIHUIHUIHUIHUIHUIHUIHUIHUIHUIHUIHUIHUIHUIHUIHUIHUIHUI HI HI HI HI HI HI HI HI HI HI HI HI HI HI HI HI HI HIEROEROEROEROEROEROEROEROEROEROEROEROEROEROEROEROEROEROGRAGRAGRAGRAGRAGRAGRAGRAGRAGRAGRAGRAGRAGRAGRAGRAGRAGRAM UM UM UM UM UM UM UM UM UM UM UM UM UM UM UM UM UM UNDENDENDENDENDENDENDENDENDENDENDENDENDENDENDENDENDENDERTARTARTARTARTARTARTARTARTARTARTARTARTARTARTARTARTARTACOMCOMCOMCOMCOMCOMCOMCOMCOMCOMCOMCOMCOMCOMCOMCOMCOMCOMMERMERMERMERMERMERMERMERMERMERMERMERMERMERMERMERMERMERCE CE CE CE CE CE CE CE CE CE CE CE CE CE CE CE CE CE FENFENFENFENFENFENFENFENFENFENFENFENFENFENFENFENFENFENG SG SG SG SG SG SG SG SG SG SG SG SG SG SG SG SG SG SHUIHUIHUIHUIHUIHUIHUIHUIHUIHUIHUIHUIHUIHUIHUIHUIHUIHUI RE RE RE RE RE RE RE RE RE RE RE RE RE RE RE RE RE RESTISTISTISTISTISTISTISTISTISTISTISTISTISTISTISTISTISTING NG NG NG NG NG NG NG NG NG NG NG NG NG NG NG NG NG PLAPLAPLAPLAPLAPLAPLAPLAPLAPLAPLAPLAPLAPLAPLAPLAPLAPLACE CE CE CE CE CE CE CE CE CE CE CE CE CE CE CE CE CE FENFENFENFENFENFENFENFENFENFENFENFENFENFENFENFENFENFENG SG SG SG SG SG SG SG SG SG SG SG SG SG SG SG SG SG SHUIHUIHUIHUIHUIHUIHUIHUIHUIHUIHUIHUIHUIHUIHUIHUIHUIHUI HI HI HI HI HI HI HI HI HI HI HI HI HI HI HI HI HI HIEROEROEROEROEROEROEROEROEROEROEROEROEROEROEROEROEROEROGRAGRAGRAGRAGRAGRAGRAGRAGRAGRAGRAGRAGRAGRAGRAGRAGRAGRAM UM UM UM UM UM UM UM UM UM UM UM UM UM UM UM UM UM UNDENDENDENDENDENDENDENDENDENDENDENDENDENDENDENDENDENDERTARTARTARTARTARTARTARTARTARTARTARTARTARTARTARTARTARTACOMCOMCOMCOMCOMCOMCOMCOMCOMCOMCOMCOMCOMCOMCOMCOMCOMCOMMERMERMERMERMERMERMERMERMERMERMERMERMERMERMERMERMERMERCE CE CE CE CE CE CE CE CE CE CE CE CE CE CE CE CE CE FENFENFENFENFENFENFENFENFENFENFENFENFENFENFENFENFENFENG SG SG SG SG SG SG SG SG SG SG SG SG SG SG SG SG SG SHUIHUIHUIHUIHUIHUIHUIHUIHUIHUIHUIHUIHUIHUIHUIHUIHUIHUI RE RE RE RE RE RE RE RE RE RE RE RE RE RE RE RE RE RESTISTISTISTISTISTISTISTISTISTISTISTISTISTISTISTISTISTING NG NG NG NG NG NG NG NG NG NG NG NG NG NG NG NG NG PLAPLAPLAPLAPLAPLAPLAPLAPLAPLAPLAPLAPLAPLAPLAPLAPLAPLACE CE CE CE CE CE CE CE CE CE CE CE CE CE CE CE CE CE FENFENFENFENFENFENFENFENFENFENFENFENFENFENFENFENFENFENG SG SG SG SG SG SG SG SG SG SG SG SG SG SG SG SG SG SHUIHUIHUIHUIHUIHUIHUIHUIHUIHUIHUIHUIHUIHUIHUIHUIHUIHUI HI HI HI HI HI HI HI HI HI HI HI HI HI HI HI HI HI HIEROEROEROEROEROEROEROEROEROEROEROEROEROEROEROEROEROEROGRAGRAGRAGRAGRAGRAGRAGRAGRAGRAGRAGRAGRAGRAGRAGRAGRAGRAM UM UM UM UM UM UM UM UM UM UM UM UM UM UM UM UM UM UNDENDENDENDENDENDENDENDENDENDENDENDENDENDENDENDENDENDERTARTARTARTARTARTARTARTARTARTARTARTARTARTARTARTARTARTACOMCOMCOMCOMCOMCOMCOMCOMCOMCOMCOMCOMCOMCOMCOMCOMCOMCOMMERMERMERMERMERMERMERMERMERMERMERMERMERMERMERMERMERMERCE CE CE CE CE CE CE CE CE CE CE CE CE CE CE CE CE CE FENFENFENFENFENFENFENFENFENFENFENFENFENFENFENFENFENFENG SG SG SG SG SG SG SG SG SG SG SG SG SG SG SG SG SG SHUIHUIHUIHUIHUIHUIHUIHUIHUIHUIHUIHUIHUIHUIHUIHUIHUIHUI RE RE RE RE RE RE RE RE RE RE RE RE RE RE RE RE RE RESTISTISTISTISTISTISTISTISTISTISTISTISTISTISTISTISTISTING NG NG NG NG NG NG NG NG NG NG NG NG NG NG NG NG NG PLAPLAPLAPLAPLAPLAPLAPLAPLAPLAPLAPLAPLAPLAPLAPLAPLAPLACE CE CE CE CE CE CE CE CE CE CE CE CE CE CE CE CE CE FENFENFENFENFENFENFENFENFENFENFENFENFENFENFENFENFENFENG SG SG SG SG SG SG SG SG SG SG SG SG SG SG SG SG SG SHUIHUIHUIHUIHUIHUIHUIHUIHUIHUIHUIHUIHUIHUIHUIHUIHUIHUI HI HI HI HI HI HI HI HI HI HI HI HI HI HI HI HI HI HIEROEROEROEROEROEROEROEROEROEROEROEROEROEROEROEROEROEROGRAGRAGRAGRAGRAGRAGRAGRAGRAGRAGRAGRAGRAGRAGRAGRAGRAGRAM UM UM UM UM UM UM UM UM UM UM UM UM UM UM UM UM UM UNDENDENDENDENDENDENDENDENDENDENDENDENDENDENDENDENDENDERTARTARTARTARTARTARTARTARTARTARTARTARTARTARTARTARTARTACOMCOMCOMCOMCOMCOMCOMCOMCOMCOMCOMCOMCOMCOMCOMCOMCOMCOMMERMERMERMERMERMERMERMERMERMERMERMERMERMERMERMERMERMERCE CE CE CE CE CE CE CE CE CE CE CE CE CE CE CE CE CE FENFENFENFENFENFENFENFENFENFENFENFENFENFENFENFENFENFENG SG SG SG SG SG SG SG SG SG SG SG SG SG SG SG SG SG SHUIHUIHUIHUIHUIHUIHUIHUIHUIHUIHUIHUIHUIHUIHUIHUIHUIHUI RE RE RE RE RE RE RE RE RE RE RE RE RE RE RE RE RE RESTISTISTISTISTISTISTISTISTISTISTISTISTISTISTISTISTISTING NG NG NG NG NG NG NG NG NG NG NG NG NG NG NG NG NG PLAPLAPLAPLAPLAPLAPLAPLAPLAPLAPLAPLAPLAPLAPLAPLAPLAPLACE CE CE CE CE CE CE CE CE CE CE CE CE CE CE CE CE CE FENFENFENFENFENFENFENFENFENFENFENFENFENFENFENFENFENFENG SG SG SG SG SG SG SG SG SG SG SG SG SG SG SG SG SG SHUIHUIHUIHUIHUIHUIHUIHUIHUIHUIHUIHUIHUIHUIHUIHUIHUIHUI HI HI HI HI HI HI HI HI HI HI HI HI HI HI HI HI HI HIEROEROEROEROEROEROEROEROEROEROEROEROEROEROEROEROEROEROGRAGRAGRAGRAGRAGRAGRAGRAGRAGRAGRAGRAGRAGRAGRAGRAGRAGRAM UM UM UM UM UM UM UM UM UM UM UM UM UM UM UM UM UM UNDENDENDENDENDENDENDENDENDENDENDENDENDENDENDENDENDENDERTARTARTARTARTARTARTARTARTARTARTARTARTARTARTARTARTARTACOMCOMCOMCOMCOMCOMCOMCOMCOMCOMCOMCOMCOMCOMCOMCOMCOMCOMMERMERMERMERMERMERMERMERMERMERMERMERMERMERMERMERMERMERCE CE CE CE CE CE CE CE CE CE CE CE CE CE CE CE CE CE FENFENFENFENFENFENFENFENFENFENFENFENFENFENFENFENFENFENG SG SG SG SG SG SG SG SG SG SG SG SG SG SG SG SG SG SHUIHUIHUIHUIHUIHUIHUIHUIHUIHUIHUIHUIHUIHUIHUIHUIHUIHUI RE RE RE RE RE RE RE RE RE RE RE RE RE RE RE RE RE RESTISTISTISTISTISTISTISTISTISTISTISTISTISTISTISTISTISTING NG NG NG NG NG NG NG NG NG NG NG NG NG NG NG NG NG PLAPLAPLAPLAPLAPLAPLAPLAPLAPLAPLAPLAPLAPLAPLAPLAPLAPLACE CE CE CE CE CE CE CE CE CE CE CE CE CE CE CE CE CE FENFENFENFENFENFENFENFENFENFENFENFENFENFENFENFENFENFENG SG SG SG SG SG SG SG SG SG SG SG SG SG SG SG SG SG SHUIHUIHUIHUIHUIHUIHUIHUIHUIHUIHUIHUIHUIHUIHUIHUIHUIHUI HI HI HI HI HI HI HI HI HI HI HI HI HI HI HI HI HI HIEROEROEROEROEROEROEROEROEROEROEROEROEROEROEROEROEROEROGRAGRAGRAGRAGRAGRAGRAGRAGRAGRAGRAGRAGRAGRAGRAGRAGRAGRAM UM UM UM UM UM UM UM UM UM UM UM UM UM UM UM UM UM UNDENDENDENDENDENDENDENDENDENDENDENDENDENDENDENDENDENDERTARTARTARTARTARTARTARTARTARTARTARTARTARTARTARTARTARTACOMCOMCOMCOMCOMCOMCOMCOMCOMCOMCOMCOMCOMCOMCOMCOMCOMCOMMERMERMERMERMERMERMERMERMERMERMERMERMERMERMERMERMERMERCE CE CE CE CE CE CE CE CE CE CE CE CE CE CE CE CE CE FENFENFENFENFENFENFENFENFENFENFENFENFENFENFENFENFENFENG SG SG SG SG SG SG SG SG SG SG SG SG SG SG SG SG SG SHUIHUIHUIHUIHUIHUIHUIHUIHUIHUIHUIHUIHUIHUIHUIHUIHUIHUI RE RE RE RE RE RE RE RE RE RE RE RE RE RE RE RE RE RESTISTISTISTISTISTISTISTISTISTISTISTISTISTISTISTISTISTING NG NG NG NG NG NG NG NG NG NG NG NG NG NG NG NG NG PLAPLAPLAPLAPLAPLAPLAPLAPLAPLAPLAPLAPLAPLAPLAPLAPLAPLACE CE CE CE CE CE CE CE CE CE CE CE CE CE CE CE CE CE FENFENFENFENFENFENFENFENFENFENFENFENFENFENFENFENFENFENG SG SG SG SG SG SG SG SG SG SG SG SG SG SG SG SG SG SHUIHUIHUIHUIHUIHUIHUIHUIHUIHUIHUIHUIHUIHUIHUIHUIHUIHUI HI HI HI HI HI HI HI HI HI HI HI HI HI HI HI HI HI HIEROEROEROEROEROEROEROEROEROEROEROEROEROEROEROEROEROEROGRAGRAGRAGRAGRAGRAGRAGRAGRAGRAGRAGRAGRAGRAGRAGRAGRAGRAM UM UM UM UM UM UM UM UM UM UM UM UM UM UM UM UM UM UNDENDENDENDENDENDENDENDENDENDENDENDENDENDENDENDENDENDERTARTARTARTARTARTARTARTARTARTARTARTARTARTARTARTARTARTACOMCOMCOMCOMCOMCOMCOMCOMCOMCOMCOMCOMCOMCOMCOMCOMCOMCOMMERMERMERMERMERMERMERMERMERMERMERMERMERMERMERMERMERMERCE CE CE CE CE CE CE CE CE CE CE CE CE CE CE CE CE CE FENFENFENFENFENFENFENFENFENFENFENFENFENFENFENFENFENFENG SG SG SG SG SG SG SG SG SG SG SG SG SG SG SG SG SG SHUIHUIHUIHUIHUIHUIHUIHUIHUIHUIHUIHUIHUIHUIHUIHUIHUIHUI RE RE RE RE RE RE RE RE RE RE RE RE RE RE RE RE RE RESTISTISTISTISTISTISTISTISTISTISTISTISTISTISTISTISTISTING NG NG NG NG NG NG NG NG NG NG NG NG NG NG NG NG NG PLAPLAPLAPLAPLAPLAPLAPLAPLAPLAPLAPLAPLAPLAPLAPLAPLAPLACE CE CE CE CE CE CE CE CE CE CE CE CE CE CE CE CE CE FENFENFENFENFENFENFENFENFENFENFENFENFENFENFENFENFENFENG SG SG SG SG SG SG SG SG SG SG SG SG SG SG SG SG SG SHUIHUIHUIHUIHUIHUIHUIHUIHUIHUIHUIHUIHUIHUIHUIHUIHUIHUI HI HI HI HI HI HI HI HI HI HI HI HI HI HI HI HI HI HIEROEROEROEROEROEROEROEROEROEROEROEROEROEROEROEROEROEROGRAGRAGRAGRAGRAGRAGRAGRAGRAGRAGRAGRAGRAGRAGRAGRAGRAGRAM UM UM UM UM UM UM UM UM UM UM UM UM UM UM UM UM UM UNDENDENDENDENDENDENDENDENDENDENDENDENDENDENDENDENDENDERTARTARTARTARTARTARTARTARTARTARTARTARTARTARTARTARTARTACOMCOMCOMCOMCOMCOMCOMCOMCOMCOMCOMCOMCOMCOMCOMCOMCOMCOMMERMERMERMERMERMERMERMERMERMERMERMERMERMERMERMERMERMERCE CE CE CE CE CE CE CE CE CE CE CE CE CE CE CE CE CE FENFENFENFENFENFENFENFENFENFENFENFENFENFENFENFENFENFENG SG SG SG SG SG SG SG SG SG SG SG SG SG SG SG SG SG SHUIHUIHUIHUIHUIHUIHUIHUIHUIHUIHUIHUIHUIHUIHUIHUIHUIHUI RE RE RE RE RE RE RE RE RE RE RE RE RE RE RE RE RE RESTISTISTISTISTISTISTISTISTISTISTISTISTISTISTISTISTISTING NG NG NG NG NG NG NG NG NG NG NG NG NG NG NG NG NG PLAPLAPLAPLAPLAPLAPLAPLAPLAPLAPLAPLAPLAPLAPLAPLAPLAPLACE CE CE CE CE CE CE CE CE CE CE CE CE CE CE CE CE CE FENFENFENFENFENFENFENFENFENFENFENFENFENFENFENFENFENFENG SG SG SG SG SG SG SG SG SG SG SG SG SG SG SG SG SG SHUIHUIHUIHUIHUIHUIHUIHUIHUIHUIHUIHUIHUIHUIHUIHUIHUIHUI HI HI HI HI HI HI HI HI HI HI HI HI HI HI HI HI HI HIEROEROEROEROEROEROEROEROEROEROEROEROEROEROEROEROEROEROGRAGRAGRAGRAGRAGRAGRAGRAGRAGRAGRAGRAGRAGRAGRAGRAGRAGRAM UM UM UM UM UM UM UM UM UM UM UM UM UM UM UM UM UM UNDENDENDENDENDENDENDENDENDENDENDENDENDENDENDENDENDENDERTARTARTARTARTARTARTARTARTARTARTARTARTARTARTARTARTARTACOMCOMCOMCOMCOMCOMCOMCOMCOMCOMCOMCOMCOMCOMCOMCOMCOMCOMMERMERMERMERMERMERMERMERMERMERMERMERMERMERMERMERMERMERCE CE CE CE CE CE CE CE CE CE CE CE CE CE CE CE CE CE FENFENFENFENFENFENFENFENFENFENFENFENFENFENFENFENFENFENG SG SG SG SG SG SG SG SG SG SG SG SG SG SG SG SG SG SHUIHUIHUIHUIHUIHUIHUIHUIHUIHUIHUIHUIHUIHUIHUIHUIHUIHUI RE RE RE RE RE RE RE RE RE RE RE RE RE RE RE RE RE RESTISTISTISTISTISTISTISTISTISTISTISTISTISTISTISTISTISTING NG NG NG NG NG NG NG NG NG NG NG NG NG NG NG NG NG PLAPLAPLAPLAPLAPLAPLAPLAPLAPLAPLAPLAPLAPLAPLAPLAPLAPLACE CE CE CE CE CE CE CE CE CE CE CE CE CE CE CE CE CE FENFENFENFENFENFENFENFENFENFENFENFENFENFENFENFENFENFENG SG SG SG SG SG SG SG SG SG SG SG SG SG SG SG SG SG SHUIHUIHUIHUIHUIHUIHUIHUIHUIHUIHUIHUIHUIHUIHUIHUIHUIHUI HI HI HI HI HI HI HI HI HI HI HI HI HI HI HI HI HI HIEROEROEROEROEROEROEROEROEROEROEROEROEROEROEROEROEROEROGRAGRAGRAGRAGRAGRAGRAGRAGRAGRAGRAGRAGRAGRAGRAGRAGRAGRAM UM UM UM UM UM UM UM UM UM UM UM UM UM UM UM UM UM UNDENDENDENDENDENDENDENDENDENDENDENDENDENDENDENDENDENDERTARTARTARTARTARTARTARTARTARTARTARTARTARTARTARTARTARTACOMCOMCOMCOMCOMCOMCOMCOMCOMCOMCOMCOMCOMCOMCOMCOMCOMCOMMERMERMERMERMERMERMERMERMERMERMERMERMERMERMERMERMERMERCE CE CE CE CE CE CE CE CE CE CE CE CE CE CE CE CE CE FENFENFENFENFENFENFENFENFENFENFENFENFENFENFENFENFENFENG SG SG SG SG SG SG SG SG SG SG SG SG SG SG SG SG SG SHUIHUIHUIHUIHUIHUIHUIHUIHUIHUIHUIHUIHUIHUIHUIHUIHUIHUI RE RE RE RE RE RE RE RE RE RE RE RE RE RE RE RE RE RESTISTISTISTISTISTISTISTISTISTISTISTISTISTISTISTISTISTING NG NG NG NG NG NG NG NG NG NG NG NG NG NG NG NG NG PLAPLAPLAPLAPLAPLAPLAPLAPLAPLAPLAPLAPLAPLAPLAPLAPLAPLACE CE CE CE CE CE CE CE CE CE CE CE CE CE CE CE CE CE FENFENFENFENFENFENFENFENFENFENFENFENFENFENFENFENFENFENG SG SG SG SG SG SG SG SG SG SG SG SG SG SG SG SG SG SHUIHUIHUIHUIHUIHUIHUIHUIHUIHUIHUIHUIHUIHUIHUIHUIHUIHUI HI HI HI HI HI HI HI HI HI HI HI HI HI HI HI HI HI HIEROEROEROEROEROEROEROEROEROEROEROEROEROEROEROEROEROEROGRAGRAGRAGRAGRAGRAGRAGRAGRAGRAGRAGRAGRAGRAGRAGRAGRAGRAM UM UM UM UM UM UM UM UM UM UM UM UM UM UM UM UM UM UNDENDENDENDENDENDENDENDENDENDENDENDENDENDENDENDENDENDERTARTARTARTARTARTARTARTARTARTARTARTARTARTARTARTARTARTACOMCOMCOMCOMCOMCOMCOMCOMCOMCOMCOMCOMCOMCOMCOMCOMCOMCOMMERMERMERMERMERMERMERMERMERMERMERMERMERMERMERMERMERMERCE CE CE CE CE CE CE CE CE CE CE CE CE CE CE CE CE CE FENFENFENFENFENFENFENFENFENFENFENFENFENFENFENFENFENFENG SG SG SG SG SG SG SG SG SG SG SG SG SG SG SG SG SG SHUIHUIHUIHUIHUIHUIHUIHUIHUIHUIHUIHUIHUIHUIHUIHUIHUIHUI RE RE RE RE RE RE RE RE RE RE RE RE RE RE RE RE RE RESTISTISTISTISTISTISTISTISTISTISTISTISTISTISTISTISTISTING NG NG NG NG NG NG NG NG NG NG NG NG NG NG NG NG NG PLAPLAPLAPLAPLAPLAPLAPLAPLAPLAPLAPLAPLAPLAPLAPLAPLAPLACE CE CE CE CE CE CE CE CE CE CE CE CE CE CE CE CE CE FENFENFENFENFENFENFENFENFENFENFENFENFENFENFENFENFENFENG SG SG SG SG SG SG SG SG SG SG SG SG SG SG SG SG SG SHUIHUIHUIHUIHUIHUIHUIHUIHUIHUIHUIHUIHUIHUIHUIHUIHUIHUI HI HI HI HI HI HI HI HI HI HI HI HI HI HI HI HI HI HIEROEROEROEROEROEROEROEROEROEROEROEROEROEROEROEROEROEROGRAGRAGRAGRAGRAGRAGRAGRAGRAGRAGRAGRAGRAGRAGRAGRAGRAGRAM UM UM UM UM UM UM UM UM UM UM UM UM UM UM UM UM UM UNDENDENDENDENDENDENDENDENDENDENDENDENDENDENDENDENDENDERTARTARTARTARTARTARTARTARTARTARTARTARTARTARTARTARTARTACOMCOMCOMCOMCOMCOMCOMCOMCOMCOMCOMCOMCOMCOMCOMCOMCOMCOMMERMERMERMERMERMERMERMERMERMERMERMERMERMERMERMERMERMERCE CE CE CE CE CE CE CE CE CE CE CE CE CE CE CE CE CE FENFENFENFENFENFENFENFENFENFENFENFENFENFENFENFENFENFENG SG SG SG SG SG SG SG SG SG SG SG SG SG SG SG SG SG SHUIHUIHUIHUIHUIHUIHUIHUIHUIHUIHUIHUIHUIHUIHUIHUIHUIHUI RE RE RE RE RE RE RE RE RE RE RE RE RE RE RE RE RE RESTISTISTISTISTISTISTISTISTISTISTISTISTISTISTISTISTISTING NG NG NG NG NG NG NG NG NG NG NG NG NG NG NG NG NG PLAPLAPLAPLAPLAPLAPLAPLAPLAPLAPLAPLAPLAPLAPLAPLAPLAPLACE CE CE CE CE CE CE CE CE CE CE CE CE CE CE CE CE CE FENFENFENFENFENFENFENFENFENFENFENFENFENFENFENFENFENFENG SG SG SG SG SG SG SG SG SG SG SG SG SG SG SG SG SG SHUIHUIHUIHUIHUIHUIHUIHUIHUIHUIHUIHUIHUIHUIHUIHUIHUIHUI HI HI HI HI HI HI HI HI HI HI HI HI HI HI HI HI HI HIEROEROEROEROEROEROEROEROEROEROEROEROEROEROEROEROEROEROGRAGRAGRAGRAGRAGRAGRAGRAGRAGRAGRAGRAGRAGRAGRAGRAGRAGRAM UM UM UM UM UM UM UM UM UM UM UM UM UM UM UM UM UM UNDENDENDENDENDENDENDENDENDENDENDENDENDENDENDENDENDENDERTARTARTARTARTARTARTARTARTARTARTARTARTARTARTARTARTARTACOMCOMCOMCOMCOMCOMCOMCOMCOMCOMCOMCOMCOMCOMCOMCOMCOMCOMMERMERMERMERMERMERMERMERMERMERMERMERMERMERMERMERMERMERCE CE CE CE CE CE CE CE CE CE CE CE CE CE CE CE CE CE FENFENFENFENFENFENFENFENFENFENFENFENFENFENFENFENFENFENG SG SG SG SG SG SG SG SG SG SG SG SG SG SG SG SG SG SHUIHUIHUIHUIHUIHUIHUIHUIHUIHUIHUIHUIHUIHUIHUIHUIHUIHUI RE RE RE RE RE RE RE RE RE RE RE RE RE RE RE RE RE RESTISTISTISTISTISTISTISTISTISTISTISTISTISTISTISTISTISTING NG NG NG NG NG NG NG NG NG NG NG NG NG NG NG NG NG PLAPLAPLAPLAPLAPLAPLAPLAPLAPLAPLAPLAPLAPLAPLAPLAPLAPLACE CE CE CE CE CE CE CE CE CE CE CE CE CE CE CE CE CE FENFENFENFENFENFENFENFENFENFENFENFENFENFENFENFENFENFENG SG SG SG SG SG SG SG SG SG SG SG SG SG SG SG SG SG SHUIHUIHUIHUIHUIHUIHUIHUIHUIHUIHUIHUIHUIHUIHUIHUIHUIHUI HI HI HI HI HI HI HI HI HI HI HI HI HI HI HI HI HI HIEROEROEROEROEROEROEROEROEROEROEROEROEROEROEROEROEROEROGRAGRAGRAGRAGRAGRAGRAGRAGRAGRAGRAGRAGRAGRAGRAGRAGRAGRAM UM UM UM UM UM UM UM UM UM UM UM UM UM UM UM UM UM UNDENDENDENDENDENDENDENDENDENDENDENDENDENDENDENDENDENDERTARTARTARTARTARTARTARTARTARTARTARTARTARTARTARTARTARTACOMCOMCOMCOMCOMCOMCOMCOMCOMCOMCOMCOMCOMCOMCOMCOMCOMCOMMERMERMERMERMERMERMERMERMERMERMERMERMERMERMERMERMERMERCE CE CE CE CE CE CE CE CE CE CE CE CE CE CE CE CE CE FENFENFENFENFENFENFENFENFENFENFENFENFENFENFENFENFENFENG SG SG SG SG SG SG SG SG SG SG SG SG SG SG SG SG SG SHUIHUIHUIHUIHUIHUIHUIHUIHUIHUIHUIHUIHUIHUIHUIHUIHUIHUI RE RE RE RE RE RE RE RE RE RE RE RE RE RE RE RE RE RESTISTISTISTISTISTISTISTISTISTISTISTISTISTISTISTISTISTING NG NG NG NG NG NG NG NG NG NG NG NG NG NG NG NG NG PLAPLAPLAPLAPLAPLAPLAPLAPLAPLAPLAPLAPLAPLAPLAPLAPLAPLACE CE CE CE CE CE CE CE CE CE CE CE CE CE CE CE CE CE FENFENFENFENFENFENFENFENFENFENFENFENFENFENFENFENFENFENG SG SG SG SG SG SG SG SG SG SG SG SG SG SG SG SG SG SHUIHUIHUIHUIHUIHUIHUIHUIHUIHUIHUIHUIHUIHUIHUIHUIHUIHUI HI HI HI HI HI HI HI HI HI HI HI HI HI HI HI HI HI HIEROEROEROEROEROEROEROEROEROEROEROEROEROEROEROEROEROEROGRAGRAGRAGRAGRAGRAGRAGRAGRAGRAGRAGRAGRAGRAGRAGRAGRAGRAM UM UM UM UM UM UM UM UM UM UM UM UM UM UM UM UM UM UNDENDENDENDENDENDENDENDENDENDENDENDENDENDENDENDENDENDERTARTARTARTARTARTARTARTARTARTARTARTARTARTARTARTARTARTAKE KE KE KE KE KE KE KE KE KE KE KE KE KE KE KE KE KE BODBODBODBODBODBODBODBODBODBODBODBODBODBODBODBODBODBODHIMHIMHIMHIMHIMHIMHIMHIMHIMHIMHIMHIMHIMHIMHIMHIMHIMHIMANDANDANDANDANDANDANDANDANDANDANDANDANDANDANDANDANDANDA MA MA MA MA MA MA MA MA MA MA MA MA MA MA MA MA MA MR LR LR LR LR LR LR LR LR LR LR LR LR LR LR LR LR LR Liu:iu:iu:iu:iu:iu:iu:iu:iu:iu:iu:iu:iu:iu:iu:iu:iu:iu: 64 64 64 64 64 64 64 64 64 64 64 64 64 64 64 64 64 646-26-26-26-26-26-26-26-26-26-26-26-26-26-26-26-26-26-236-36-36-36-36-36-36-36-36-36-36-36-36-36-36-36-36-36-3893893893893893893893893893893893893893893893893893897 A7 A7 A7 A7 A7 A7 A7 A7 A7 A7 A7 A7 A7 A7 A7 A7 A7 ACADCADCADCADCADCADCADCADCADCADCADCADCADCADCADCADCADCADEMIEMIEMIEMIEMIEMIEMIEMIEMIEMIEMIEMIEMIEMIEMIEMIEMIEMIC EC EC EC EC EC EC EC EC EC EC EC EC EC EC EC EC EC EXCHXCHXCHXCHXCHXCHXCHXCHXCHXCHXCHXCHXCHXCHXCHXCHXCHXCHANGANGANGANGANGANGANGANGANGANGANGANGANGANGANGANGANGANGES ES ES ES ES ES ES ES ES ES ES ES ES ES ES ES ES ES ABOABOABOABOABOABOABOABOABOABOABOABOABOABOABOABOABOABOVE VE VE VE VE VE VE VE VE VE VE VE VE VE VE VE VE VE KE KE KE KE KE KE KE KE KE KE KE KE KE KE KE KE KE KE BODBODBODBODBODBODBODBODBODBODBODBODBODBODBODBODBODBODHIMHIMHIMHIMHIMHIMHIMHIMHIMHIMHIMHIMHIMHIMHIMHIMHIMHIMANDANDANDANDANDANDANDANDANDANDANDANDANDANDANDANDANDANDA MA MA MA MA MA MA MA MA MA MA MA MA MA MA MA MA MA MR LR LR LR LR LR LR LR LR LR LR LR LR LR LR LR LR LR Liu:iu:iu:iu:iu:iu:iu:iu:iu:iu:iu:iu:iu:iu:iu:iu:iu:iu: 64 64 64 64 64 64 64 64 64 64 64 64 64 64 64 64 64 646-26-26-26-26-26-26-26-26-26-26-26-26-26-26-26-26-26-236-36-36-36-36-36-36-36-36-36-36-36-36-36-36-36-36-36-3893893893893893893893893893893893893893893893893893897 A7 A7 A7 A7 A7 A7 A7 A7 A7 A7 A7 A7 A7 A7 A7 A7 A7 ACADCADCADCADCADCADCADCADCADCADCADCADCADCADCADCADCADCADEMIEMIEMIEMIEMIEMIEMIEMIEMIEMIEMIEMIEMIEMIEMIEMIEMIEMIC EC EC EC EC EC EC EC EC EC EC EC EC EC EC EC EC EC EXCHXCHXCHXCHXCHXCHXCHXCHXCHXCHXCHXCHXCHXCHXCHXCHXCHXCHANGANGANGANGANGANGANGANGANGANGANGANGANGANGANGANGANGANGES ES ES ES ES ES ES ES ES ES ES ES ES ES ES ES ES ES ABOABOABOABOABOABOABOABOABOABOABOABOABOABOABOABOABOABOVE VE VE VE VE VE VE VE VE VE VE VE VE VE VE VE VE VE KE KE KE KE KE KE KE KE KE KE KE KE KE KE KE KE KE KE BODBODBODBODBODBODBODBODBODBODBODBODBODBODBODBODBODBODHIMHIMHIMHIMHIMHIMHIMHIMHIMHIMHIMHIMHIMHIMHIMHIMHIMHIMANDANDANDANDANDANDANDANDANDANDANDANDANDANDANDANDANDANDA MA MA MA MA MA MA MA MA MA MA MA MA MA MA MA MA MA MR LR LR LR LR LR LR LR LR LR LR LR LR LR LR LR LR LR Liu:iu:iu:iu:iu:iu:iu:iu:iu:iu:iu:iu:iu:iu:iu:iu:iu:iu: 64 64 64 64 64 64 64 64 64 64 64 64 64 64 64 64 64 646-26-26-26-26-26-26-26-26-26-26-26-26-26-26-26-26-26-236-36-36-36-36-36-36-36-36-36-36-36-36-36-36-36-36-36-3893893893893893893893893893893893893893893893893893897 A7 A7 A7 A7 A7 A7 A7 A7 A7 A7 A7 A7 A7 A7 A7 A7 A7 ACADCADCADCADCADCADCADCADCADCADCADCADCADCADCADCADCADCADEMIEMIEMIEMIEMIEMIEMIEMIEMIEMIEMIEMIEMIEMIEMIEMIEMIEMIC EC EC EC EC EC EC EC EC EC EC EC EC EC EC EC EC EC EXCHXCHXCHXCHXCHXCHXCHXCHXCHXCHXCHXCHXCHXCHXCHXCHXCHXCHANGANGANGANGANGANGANGANGANGANGANGANGANGANGANGANGANGANGES ES ES ES ES ES ES ES ES ES ES ES ES ES ES ES ES ES ABOABOABOABOABOABOABOABOABOABOABOABOABOABOABOABOABOABOVE VE VE VE VE VE VE VE VE VE VE VE VE VE VE VE VE VE KE KE KE KE KE KE KE KE KE KE KE KE KE KE KE KE KE KE BODBODBODBODBODBODBODBODBODBODBODBODBODBODBODBODBODBODHIMHIMHIMHIMHIMHIMHIMHIMHIMHIMHIMHIMHIMHIMHIMHIMHIMHIMANDANDANDANDANDANDANDANDANDANDANDANDANDANDANDANDANDANDA MA MA MA MA MA MA MA MA MA MA MA MA MA MA MA MA MA MR LR LR LR LR LR LR LR LR LR LR LR LR LR LR LR LR LR Liu:iu:iu:iu:iu:iu:iu:iu:iu:iu:iu:iu:iu:iu:iu:iu:iu:iu: 64 64 64 64 64 64 64 64 64 64 64 64 64 64 64 64 64 646-26-26-26-26-26-26-26-26-26-26-26-26-26-26-26-26-26-236-36-36-36-36-36-36-36-36-36-36-36-36-36-36-36-36-36-3893893893893893893893893893893893893893893893893893897 A7 A7 A7 A7 A7 A7 A7 A7 A7 A7 A7 A7 A7 A7 A7 A7 A7 ACADCADCADCADCADCADCADCADCADCADCADCADCADCADCADCADCADCADEMIEMIEMIEMIEMIEMIEMIEMIEMIEMIEMIEMIEMIEMIEMIEMIEMIEMIC EC EC EC EC EC EC EC EC EC EC EC EC EC EC EC EC EC EXCHXCHXCHXCHXCHXCHXCHXCHXCHXCHXCHXCHXCHXCHXCHXCHXCHXCHANGANGANGANGANGANGANGANGANGANGANGANGANGANGANGANGANGANGES ES ES ES ES ES ES ES ES ES ES ES ES ES ES ES ES ES ABOABOABOABOABOABOABOABOABOABOABOABOABOABOABOABOABOABOVE VE VE VE VE VE VE VE VE VE VE VE VE VE VE VE VE VE KE KE KE KE KE KE KE KE KE KE KE KE KE KE KE KE KE KE BODBODBODBODBODBODBODBODBODBODBODBODBODBODBODBODBODBODHIMHIMHIMHIMHIMHIMHIMHIMHIMHIMHIMHIMHIMHIMHIMHIMHIMHIMANDANDANDANDANDANDANDANDANDANDANDANDANDANDANDANDANDANDA MA MA MA MA MA MA MA MA MA MA MA MA MA MA MA MA MA MR LR LR LR LR LR LR LR LR LR LR LR LR LR LR LR LR LR Liu:iu:iu:iu:iu:iu:iu:iu:iu:iu:iu:iu:iu:iu:iu:iu:iu:iu: 64 64 64 64 64 64 64 64 64 64 64 64 64 64 64 64 64 646-26-26-26-26-26-26-26-26-26-26-26-26-26-26-26-26-26-236-36-36-36-36-36-36-36-36-36-36-36-36-36-36-36-36-36-3893893893893893893893893893893893893893893893893893897 A7 A7 A7 A7 A7 A7 A7 A7 A7 A7 A7 A7 A7 A7 A7 A7 A7 ACADCADCADCADCADCADCADCADCADCADCADCADCADCADCADCADCADCADEMIEMIEMIEMIEMIEMIEMIEMIEMIEMIEMIEMIEMIEMIEMIEMIEMIEMIC EC EC EC EC EC EC EC EC EC EC EC EC EC EC EC EC EC EXCHXCHXCHXCHXCHXCHXCHXCHXCHXCHXCHXCHXCHXCHXCHXCHXCHXCHANGANGANGANGANGANGANGANGANGANGANGANGANGANGANGANGANGANGES ES ES ES ES ES ES ES ES ES ES ES ES ES ES ES ES ES ABOABOABOABOABOABOABOABOABOABOABOABOABOABOABOABOABOABOVE VE VE VE VE VE VE VE VE VE VE VE VE VE VE VE VE VE KE KE KE KE KE KE KE KE KE KE KE KE KE KE KE KE KE KE BODBODBODBODBODBODBODBODBODBODBODBODBODBODBODBODBODBODHIMHIMHIMHIMHIMHIMHIMHIMHIMHIMHIMHIMHIMHIMHIMHIMHIMHIMANDANDANDANDANDANDANDANDANDANDANDANDANDANDANDANDANDANDA MA MA MA MA MA MA MA MA MA MA MA MA MA MA MA MA MA MR LR LR LR LR LR LR LR LR LR LR LR LR LR LR LR LR LR Liu:iu:iu:iu:iu:iu:iu:iu:iu:iu:iu:iu:iu:iu:iu:iu:iu:iu: 64 64 64 64 64 64 64 64 64 64 64 64 64 64 64 64 64 646-26-26-26-26-26-26-26-26-26-26-26-26-26-26-26-26-26-236-36-36-36-36-36-36-36-36-36-36-36-36-36-36-36-36-36-3893893893893893893893893893893893893893893893893893897 A7 A7 A7 A7 A7 A7 A7 A7 A7 A7 A7 A7 A7 A7 A7 A7 A7 ACADCADCADCADCADCADCADCADCADCADCADCADCADCADCADCADCADCADEMIEMIEMIEMIEMIEMIEMIEMIEMIEMIEMIEMIEMIEMIEMIEMIEMIEMIC EC EC EC EC EC EC EC EC EC EC EC EC EC EC EC EC EC EXCHXCHXCHXCHXCHXCHXCHXCHXCHXCHXCHXCHXCHXCHXCHXCHXCHXCHANGANGANGANGANGANGANGANGANGANGANGANGANGANGANGANGANGANGES ES ES ES ES ES ES ES ES ES ES ES ES ES ES ES ES ES ABOABOABOABOABOABOABOABOABOABOABOABOABOABOABOABOABOABOVE VE VE VE VE VE VE VE VE VE VE VE VE VE VE VE VE VE KE KE KE KE KE KE KE KE KE KE KE KE KE KE KE KE KE KE BODBODBODBODBODBODBODBODBODBODBODBODBODBODBODBODBODBODHIMHIMHIMHIMHIMHIMHIMHIMHIMHIMHIMHIMHIMHIMHIMHIMHIMHIMANDANDANDANDANDANDANDANDANDANDANDANDANDANDANDANDANDANDA MA MA MA MA MA MA MA MA MA MA MA MA MA MA MA MA MA MR LR LR LR LR LR LR LR LR LR LR LR LR LR LR LR LR LR Liu:iu:iu:iu:iu:iu:iu:iu:iu:iu:iu:iu:iu:iu:iu:iu:iu:iu: 64 64 64 64 64 64 64 64 64 64 64 64 64 64 64 64 64 646-26-26-26-26-26-26-26-26-26-26-26-26-26-26-26-26-26-236-36-36-36-36-36-36-36-36-36-36-36-36-36-36-36-36-36-3893893893893893893893893893893893893893893893893893897 A7 A7 A7 A7 A7 A7 A7 A7 A7 A7 A7 A7 A7 A7 A7 A7 A7 ACADCADCADCADCADCADCADCADCADCADCADCADCADCADCADCADCADCADEMIEMIEMIEMIEMIEMIEMIEMIEMIEMIEMIEMIEMIEMIEMIEMIEMIEMIC EC EC EC EC EC EC EC EC EC EC EC EC EC EC EC EC EC EXCHXCHXCHXCHXCHXCHXCHXCHXCHXCHXCHXCHXCHXCHXCHXCHXCHXCHANGANGANGANGANGANGANGANGANGANGANGANGANGANGANGANGANGANGES ES ES ES ES ES ES ES ES ES ES ES ES ES ES ES ES ES ABOABOABOABOABOABOABOABOABOABOABOABOABOABOABOABOABOABOVE VE VE VE VE VE VE VE VE VE VE VE VE VE VE VE VE VE KE KE KE KE KE KE KE KE KE KE KE KE KE KE KE KE KE KE BODBODBODBODBODBODBODBODBODBODBODBODBODBODBODBODBODBODHIMHIMHIMHIMHIMHIMHIMHIMHIMHIMHIMHIMHIMHIMHIMHIMHIMHIMANDANDANDANDANDANDANDANDANDANDANDANDANDANDANDANDANDANDA MA MA MA MA MA MA MA MA MA MA MA MA MA MA MA MA MA MR LR LR LR LR LR LR LR LR LR LR LR LR LR LR LR LR LR Liu:iu:iu:iu:iu:iu:iu:iu:iu:iu:iu:iu:iu:iu:iu:iu:iu:iu: 64 64 64 64 64 64 64 64 64 64 64 64 64 64 64 64 64 646-26-26-26-26-26-26-26-26-26-26-26-26-26-26-26-26-26-236-36-36-36-36-36-36-36-36-36-36-36-36-36-36-36-36-36-3893893893893893893893893893893893893893893893893893897 A7 A7 A7 A7 A7 A7 A7 A7 A7 A7 A7 A7 A7 A7 A7 A7 A7 ACADCADCADCADCADCADCADCADCADCADCADCADCADCADCADCADCADCADEMIEMIEMIEMIEMIEMIEMIEMIEMIEMIEMIEMIEMIEMIEMIEMIEMIEMIC EC EC EC EC EC EC EC EC EC EC EC EC EC EC EC EC EC EXCHXCHXCHXCHXCHXCHXCHXCHXCHXCHXCHXCHXCHXCHXCHXCHXCHXCHANGANGANGANGANGANGANGANGANGANGANGANGANGANGANGANGANGANGES ES ES ES ES ES ES ES ES ES ES ES ES ES ES ES ES ES ABOABOABOABOABOABOABOABOABOABOABOABOABOABOABOABOABOABOVE VE VE VE VE VE VE VE VE VE VE VE VE VE VE VE VE VE KE KE KE KE KE KE KE KE KE KE KE KE KE KE KE KE KE KE BODBODBODBODBODBODBODBODBODBODBODBODBODBODBODBODBODBODHIMHIMHIMHIMHIMHIMHIMHIMHIMHIMHIMHIMHIMHIMHIMHIMHIMHIMANDANDANDANDANDANDANDANDANDANDANDANDANDANDANDANDANDANDA MA MA MA MA MA MA MA MA MA MA MA MA MA MA MA MA MA MR LR LR LR LR LR LR LR LR LR LR LR LR LR LR LR LR LR Liu:iu:iu:iu:iu:iu:iu:iu:iu:iu:iu:iu:iu:iu:iu:iu:iu:iu: 64 64 64 64 64 64 64 64 64 64 64 64 64 64 64 64 64 646-26-26-26-26-26-26-26-26-26-26-26-26-26-26-26-26-26-236-36-36-36-36-36-36-36-36-36-36-36-36-36-36-36-36-36-3893893893893893893893893893893893893893893893893893897 A7 A7 A7 A7 A7 A7 A7 A7 A7 A7 A7 A7 A7 A7 A7 A7 A7 ACADCADCADCADCADCADCADCADCADCADCADCADCADCADCADCADCADCADEMIEMIEMIEMIEMIEMIEMIEMIEMIEMIEMIEMIEMIEMIEMIEMIEMIEMIC EC EC EC EC EC EC EC EC EC EC EC EC EC EC EC EC EC EXCHXCHXCHXCHXCHXCHXCHXCHXCHXCHXCHXCHXCHXCHXCHXCHXCHXCHANGANGANGANGANGANGANGANGANGANGANGANGANGANGANGANGANGANGES ES ES ES ES ES ES ES ES ES ES ES ES ES ES ES ES ES ABOABOABOABOABOABOABOABOABOABOABOABOABOABOABOABOABOABOVE VE VE VE VE VE VE VE VE VE VE VE VE VE VE VE VE VE KE KE KE KE KE KE KE KE KE KE KE KE KE KE KE KE KE KE BODBODBODBODBODBODBODBODBODBODBODBODBODBODBODBODBODBODHIMHIMHIMHIMHIMHIMHIMHIMHIMHIMHIMHIMHIMHIMHIMHIMHIMHIMANDANDANDANDANDANDANDANDANDANDANDANDANDANDANDANDANDANDA MA MA MA MA MA MA MA MA MA MA MA MA MA MA MA MA MA MR LR LR LR LR LR LR LR LR LR LR LR LR LR LR LR LR LR Liu:iu:iu:iu:iu:iu:iu:iu:iu:iu:iu:iu:iu:iu:iu:iu:iu:iu: 64 64 64 64 64 64 64 64 64 64 64 64 64 64 64 64 64 646-26-26-26-26-26-26-26-26-26-26-26-26-26-26-26-26-26-236-36-36-36-36-36-36-36-36-36-36-36-36-36-36-36-36-36-3893893893893893893893893893893893893893893893893893897 A7 A7 A7 A7 A7 A7 A7 A7 A7 A7 A7 A7 A7 A7 A7 A7 A7 ACADCADCADCADCADCADCADCADCADCADCADCADCADCADCADCADCADCADEMIEMIEMIEMIEMIEMIEMIEMIEMIEMIEMIEMIEMIEMIEMIEMIEMIEMIC EC EC EC EC EC EC EC EC EC EC EC EC EC EC EC EC EC EXCHXCHXCHXCHXCHXCHXCHXCHXCHXCHXCHXCHXCHXCHXCHXCHXCHXCHANGANGANGANGANGANGANGANGANGANGANGANGANGANGANGANGANGANGES ES ES ES ES ES ES ES ES ES ES ES ES ES ES ES ES ES ABOABOABOABOABOABOABOABOABOABOABOABOABOABOABOABOABOABOVE VE VE VE VE VE VE VE VE VE VE VE VE VE VE VE VE VE KE KE KE KE KE KE KE KE KE KE KE KE KE KE KE KE KE KE BODBODBODBODBODBODBODBODBODBODBODBODBODBODBODBODBODBODHIMHIMHIMHIMHIMHIMHIMHIMHIMHIMHIMHIMHIMHIMHIMHIMHIMHIMANDANDANDANDANDANDANDANDANDANDANDANDANDANDANDANDANDANDA MA MA MA MA MA MA MA MA MA MA MA MA MA MA MA MA MA MR LR LR LR LR LR LR LR LR LR LR LR LR LR LR LR LR LR Liu:iu:iu:iu:iu:iu:iu:iu:iu:iu:iu:iu:iu:iu:iu:iu:iu:iu: 64 64 64 64 64 64 64 64 64 64 64 64 64 64 64 64 64 646-26-26-26-26-26-26-26-26-26-26-26-26-26-26-26-26-26-236-36-36-36-36-36-36-36-36-36-36-36-36-36-36-36-36-36-3893893893893893893893893893893893893893893893893893897 A7 A7 A7 A7 A7 A7 A7 A7 A7 A7 A7 A7 A7 A7 A7 A7 A7 ACADCADCADCADCADCADCADCADCADCADCADCADCADCADCADCADCADCADEMIEMIEMIEMIEMIEMIEMIEMIEMIEMIEMIEMIEMIEMIEMIEMIEMIEMIC EC EC EC EC EC EC EC EC EC EC EC EC EC EC EC EC EC EXCHXCHXCHXCHXCHXCHXCHXCHXCHXCHXCHXCHXCHXCHXCHXCHXCHXCHANGANGANGANGANGANGANGANGANGANGANGANGANGANGANGANGANGANGES ES ES ES ES ES ES ES ES ES ES ES ES ES ES ES ES ES ABOABOABOABOABOABOABOABOABOABOABOABOABOABOABOABOABOABOVE VE VE VE VE VE VE VE VE VE VE VE VE VE VE VE VE VE KE KE KE KE KE KE KE KE KE KE KE KE KE KE KE KE KE KE BODBODBODBODBODBODBODBODBODBODBODBODBODBODBODBODBODBODHIMHIMHIMHIMHIMHIMHIMHIMHIMHIMHIMHIMHIMHIMHIMHIMHIMHIMANDANDANDANDANDANDANDANDANDANDANDANDANDANDANDANDANDANDA MA MA MA MA MA MA MA MA MA MA MA MA MA MA MA MA MA MR LR LR LR LR LR LR LR LR LR LR LR LR LR LR LR LR LR Liu:iu:iu:iu:iu:iu:iu:iu:iu:iu:iu:iu:iu:iu:iu:iu:iu:iu: 64 64 64 64 64 64 64 64 64 64 64 64 64 64 64 64 64 646-26-26-26-26-26-26-26-26-26-26-26-26-26-26-26-26-26-236-36-36-36-36-36-36-36-36-36-36-36-36-36-36-36-36-36-3893893893893893893893893893893893893893893893893893897 A7 A7 A7 A7 A7 A7 A7 A7 A7 A7 A7 A7 A7 A7 A7 A7 A7 ACADCADCADCADCADCADCADCADCADCADCADCADCADCADCADCADCADCADEMIEMIEMIEMIEMIEMIEMIEMIEMIEMIEMIEMIEMIEMIEMIEMIEMIEMIC EC EC EC EC EC EC EC EC EC EC EC EC EC EC EC EC EC EXCHXCHXCHXCHXCHXCHXCHXCHXCHXCHXCHXCHXCHXCHXCHXCHXCHXCHANGANGANGANGANGANGANGANGANGANGANGANGANGANGANGANGANGANGES ES ES ES ES ES ES ES ES ES ES ES ES ES ES ES ES ES ABOABOABOABOABOABOABOABOABOABOABOABOABOABOABOABOABOABOVE VE VE VE VE VE VE VE VE VE VE VE VE VE VE VE VE VE KE KE KE KE KE KE KE KE KE KE KE KE KE KE KE KE KE KE BODBODBODBODBODBODBODBODBODBODBODBODBODBODBODBODBODBODHIMHIMHIMHIMHIMHIMHIMHIMHIMHIMHIMHIMHIMHIMHIMHIMHIMHIMANDANDANDANDANDANDANDANDANDANDANDANDANDANDANDANDANDANDA MA MA MA MA MA MA MA MA MA MA MA MA MA MA MA MA MA MR LR LR LR LR LR LR LR LR LR LR LR LR LR LR LR LR LR Liu:iu:iu:iu:iu:iu:iu:iu:iu:iu:iu:iu:iu:iu:iu:iu:iu:iu: 64 64 64 64 64 64 64 64 64 64 64 64 64 64 64 64 64 646-26-26-26-26-26-26-26-26-26-26-26-26-26-26-26-26-26-236-36-36-36-36-36-36-36-36-36-36-36-36-36-36-36-36-36-3893893893893893893893893893893893893893893893893893897 A7 A7 A7 A7 A7 A7 A7 A7 A7 A7 A7 A7 A7 A7 A7 A7 A7 ACADCADCADCADCADCADCADCADCADCADCADCADCADCADCADCADCADCADEMIEMIEMIEMIEMIEMIEMIEMIEMIEMIEMIEMIEMIEMIEMIEMIEMIEMIC EC EC EC EC EC EC EC EC EC EC EC EC EC EC EC EC EC EXCHXCHXCHXCHXCHXCHXCHXCHXCHXCHXCHXCHXCHXCHXCHXCHXCHXCHANGANGANGANGANGANGANGANGANGANGANGANGANGANGANGANGANGANGES ES ES ES ES ES ES ES ES ES ES ES ES ES ES ES ES ES ABOABOABOABOABOABOABOABOABOABOABOABOABOABOABOABOABOABOVE VE VE VE VE VE VE VE VE VE VE VE VE VE VE VE VE VE KE KE KE KE KE KE KE KE KE KE KE KE KE KE KE KE KE KE BODBODBODBODBODBODBODBODBODBODBODBODBODBODBODBODBODBODHIMHIMHIMHIMHIMHIMHIMHIMHIMHIMHIMHIMHIMHIMHIMHIMHIMHIMANDANDANDANDANDANDANDANDANDANDANDANDANDANDANDANDANDANDA MA MA MA MA MA MA MA MA MA MA MA MA MA MA MA MA MA MR LR LR LR LR LR LR LR LR LR LR LR LR LR LR LR LR LR Liu:iu:iu:iu:iu:iu:iu:iu:iu:iu:iu:iu:iu:iu:iu:iu:iu:iu: 64 64 64 64 64 64 64 64 64 64 64 64 64 64 64 64 64 646-26-26-26-26-26-26-26-26-26-26-26-26-26-26-26-26-26-236-36-36-36-36-36-36-36-36-36-36-36-36-36-36-36-36-36-3893893893893893893893893893893893893893893893893893897 A7 A7 A7 A7 A7 A7 A7 A7 A7 A7 A7 A7 A7 A7 A7 A7 A7 ACADCADCADCADCADCADCADCADCADCADCADCADCADCADCADCADCADCADEMIEMIEMIEMIEMIEMIEMIEMIEMIEMIEMIEMIEMIEMIEMIEMIEMIEMIC EC EC EC EC EC EC EC EC EC EC EC EC EC EC EC EC EC EXCHXCHXCHXCHXCHXCHXCHXCHXCHXCHXCHXCHXCHXCHXCHXCHXCHXCHANGANGANGANGANGANGANGANGANGANGANGANGANGANGANGANGANGANGES ES ES ES ES ES ES ES ES ES ES ES ES ES ES ES ES ES ABOABOABOABOABOABOABOABOABOABOABOABOABOABOABOABOABOABOVE VE VE VE VE VE VE VE VE VE VE VE VE VE VE VE VE VE KE KE KE KE KE KE KE KE KE KE KE KE KE KE KE KE KE KE BODBODBODBODBODBODBODBODBODBODBODBODBODBODBODBODBODBODHIMHIMHIMHIMHIMHIMHIMHIMHIMHIMHIMHIMHIMHIMHIMHIMHIMHIMANDANDANDANDANDANDANDANDANDANDANDANDANDANDANDANDANDANDA MA MA MA MA MA MA MA MA MA MA MA MA MA MA MA MA MA MR LR LR LR LR LR LR LR LR LR LR LR LR LR LR LR LR LR Liu:iu:iu:iu:iu:iu:iu:iu:iu:iu:iu:iu:iu:iu:iu:iu:iu:iu: 64 64 64 64 64 64 64 64 64 64 64 64 64 64 64 64 64 646-26-26-26-26-26-26-26-26-26-26-26-26-26-26-26-26-26-236-36-36-36-36-36-36-36-36-36-36-36-36-36-36-36-36-36-3893893893893893893893893893893893893893893893893893897 A7 A7 A7 A7 A7 A7 A7 A7 A7 A7 A7 A7 A7 A7 A7 A7 A7 ACADCADCADCADCADCADCADCADCADCADCADCADCADCADCADCADCADCADEMIEMIEMIEMIEMIEMIEMIEMIEMIEMIEMIEMIEMIEMIEMIEMIEMIEMIC EC EC EC EC EC EC EC EC EC EC EC EC EC EC EC EC EC EXCHXCHXCHXCHXCHXCHXCHXCHXCHXCHXCHXCHXCHXCHXCHXCHXCHXCHANGANGANGANGANGANGANGANGANGANGANGANGANGANGANGANGANGANGES ES ES ES ES ES ES ES ES ES ES ES ES ES ES ES ES ES ABOABOABOABOABOABOABOABOABOABOABOABOABOABOABOABOABOABOVE VE VE VE VE VE VE VE VE VE VE VE VE VE VE VE VE VE KE KE KE KE KE KE KE KE KE KE KE KE KE KE KE KE KE KE BODBODBODBODBODBODBODBODBODBODBODBODBODBODBODBODBODBODHIMHIMHIMHIMHIMHIMHIMHIMHIMHIMHIMHIMHIMHIMHIMHIMHIMHIMANDANDANDANDANDANDANDANDANDANDANDANDANDANDANDANDANDANDA MA MA MA MA MA MA MA MA MA MA MA MA MA MA MA MA MA MR LR LR LR LR LR LR LR LR LR LR LR LR LR LR LR LR LR Liu:iu:iu:iu:iu:iu:iu:iu:iu:iu:iu:iu:iu:iu:iu:iu:iu:iu: 64 64 64 64 64 64 64 64 64 64 64 64 64 64 64 64 64 646-26-26-26-26-26-26-26-26-26-26-26-26-26-26-26-26-26-236-36-36-36-36-36-36-36-36-36-36-36-36-36-36-36-36-36-3893893893893893893893893893893893893893893893893893897 A7 A7 A7 A7 A7 A7 A7 A7 A7 A7 A7 A7 A7 A7 A7 A7 A7 ACADCADCADCADCADCADCADCADCADCADCADCADCADCADCADCADCADCADEMIEMIEMIEMIEMIEMIEMIEMIEMIEMIEMIEMIEMIEMIEMIEMIEMIEMIC EC EC EC EC EC EC EC EC EC EC EC EC EC EC EC EC EC EXCHXCHXCHXCHXCHXCHXCHXCHXCHXCHXCHXCHXCHXCHXCHXCHXCHXCHANGANGANGANGANGANGANGANGANGANGANGANGANGANGANGANGANGANGES ES ES ES ES ES ES ES ES ES ES ES ES ES ES ES ES ES ABOABOABOABOABOABOABOABOABOABOABOABOABOABOABOABOABOABOVE VE VE VE VE VE VE VE VE VE VE VE VE VE VE VE VE VE KE KE KE KE KE KE KE KE KE KE KE KE KE KE KE KE KE KE BODBODBODBODBODBODBODBODBODBODBODBODBODBODBODBODBODBODHIMHIMHIMHIMHIMHIMHIMHIMHIMHIMHIMHIMHIMHIMHIMHIMHIMHIMANDANDANDANDANDANDANDANDANDANDANDANDANDANDANDANDANDANDA MA MA MA MA MA MA MA MA MA MA MA MA MA MA MA MA MA MR LR LR LR LR LR LR LR LR LR LR LR LR LR LR LR LR LR Liu:iu:iu:iu:iu:iu:iu:iu:iu:iu:iu:iu:iu:iu:iu:iu:iu:iu: 64 64 64 64 64 64 64 64 64 64 64 64 64 64 64 64 64 646-26-26-26-26-26-26-26-26-26-26-26-26-26-26-26-26-26-236-36-36-36-36-36-36-36-36-36-36-36-36-36-36-36-36-36-3893893893893893893893893893893893893893893893893893897 A7 A7 A7 A7 A7 A7 A7 A7 A7 A7 A7 A7 A7 A7 A7 A7 A7 ACADCADCADCADCADCADCADCADCADCADCADCADCADCADCADCADCADCADEMIEMIEMIEMIEMIEMIEMIEMIEMIEMIEMIEMIEMIEMIEMIEMIEMIEMIC EC EC EC EC EC EC EC EC EC EC EC EC EC EC EC EC EC EXCHXCHXCHXCHXCHXCHXCHXCHXCHXCHXCHXCHXCHXCHXCHXCHXCHXCHANGANGANGANGANGANGANGANGANGANGANGANGANGANGANGANGANGANGES ES ES ES ES ES ES ES ES ES ES ES ES ES ES ES ES ES ABOABOABOABOABOABOABOABOABOABOABOABOABOABOABOABOABOABOVE VE VE VE VE VE VE VE VE VE VE VE VE VE VE VE VE VE KE KE KE KE KE KE KE KE KE KE KE KE KE KE KE KE KE KE BODBODBODBODBODBODBODBODBODBODBODBODBODBODBODBODBODBODHIMHIMHIMHIMHIMHIMHIMHIMHIMHIMHIMHIMHIMHIMHIMHIMHIMHIMANDANDANDANDANDANDANDANDANDANDANDANDANDANDANDANDANDANDA MA MA MA MA MA MA MA MA MA MA MA MA MA MA MA MA MA MR LR LR LR LR LR LR LR LR LR LR LR LR LR LR LR LR LR Liu:iu:iu:iu:iu:iu:iu:iu:iu:iu:iu:iu:iu:iu:iu:iu:iu:iu: 64 64 64 64 64 64 64 64 64 64 64 64 64 64 64 64 64 646-26-26-26-26-26-26-26-26-26-26-26-26-26-26-26-26-26-236-36-36-36-36-36-36-36-36-36-36-36-36-36-36-36-36-36-3893893893893893893893893893893893893893893893893893897 A7 A7 A7 A7 A7 A7 A7 A7 A7 A7 A7 A7 A7 A7 A7 A7 A7 ACADCADCADCADCADCADCADCADCADCADCADCADCADCADCADCADCADCADEMIEMIEMIEMIEMIEMIEMIEMIEMIEMIEMIEMIEMIEMIEMIEMIEMIEMIC EC EC EC EC EC EC EC EC EC EC EC EC EC EC EC EC EC EXCHXCHXCHXCHXCHXCHXCHXCHXCHXCHXCHXCHXCHXCHXCHXCHXCHXCHANGANGANGANGANGANGANGANGANGANGANGANGANGANGANGANGANGANGES ES ES ES ES ES ES ES ES ES ES ES ES ES ES ES ES ES ABOABOABOABOABOABOABOABOABOABOABOABOABOABOABOABOABOABOVE VE VE VE VE VE VE VE VE VE VE VE VE VE VE VE VE VE FORFORFORFORFORFORFORFORFORFORFORFORFORFORFORFORFORFOR FR FR FR FR FR FR FR FR FR FR FR FR FR FR FR FR FR FREE EE EE EE EE EE EE EE EE EE EE EE EE EE EE EE EE EE                                                                                                                                                                                                                                                                                                                                                                                                                                                                                                                                                                                                                                                                                                                                                                                                                                                                                                                                                       FORFORFORFORFORFORFORFORFORFORFORFORFORFORFORFORFORFOR FR FR FR FR FR FR FR FR FR FR FR FR FR FR FR FR FR FREE EE EE EE EE EE EE EE EE EE EE EE EE EE EE EE EE EE                                                                                                                                                                                                                                                                                                                                                                                                                                                                                                                                                                                                                                                                                                                                                                                                                                                                                                                                                       FORFORFORFORFORFORFORFORFORFORFORFORFORFORFORFORFORFOR FR FR FR FR FR FR FR FR FR FR FR FR FR FR FR FR FR FREE EE EE EE EE EE EE EE EE EE EE EE EE EE EE EE EE EE                                                                                                                                                                                                                                                                                                                                                                                                                                                                                                                                                                                                                                                                                                                                                                                                                                                                                                                                                       FORFORFORFORFORFORFORFORFORFORFORFORFORFORFORFORFORFOR FR FR FR FR FR FR FR FR FR FR FR FR FR FR FR FR FR FREE EE EE EE EE EE EE EE EE EE EE EE EE EE EE EE EE EE                                                                                                                                                                                                                                                                                                                                                                                                                                                                                                                                                                                                                                                                                                                                                                                                                                                                                                                                                       FORFORFORFORFORFORFORFORFORFORFORFORFORFORFORFORFORFOR FR FR FR FR FR FR FR FR FR FR FR FR FR FR FR FR FR FREE EE EE EE EE EE EE EE EE EE EE EE EE EE EE EE EE EE                                                                                                                                                                                                                                                                                                                                                                                                                                                                                                                                                                                                                                                                                                                                                                                                                                                                                                                                                       FORFORFORFORFORFORFORFORFORFORFORFORFORFORFORFORFORFOR FR FR FR FR FR FR FR FR FR FR FR FR FR FR FR FR FR FREE EE EE EE EE EE EE EE EE EE EE EE EE EE EE EE EE EE                                                                                                                                                                                                                                                                                                                                                                                                                                                                                                                                                                                                                                                                                                                                                                                                                                                                                                                                                       FORFORFORFORFORFORFORFORFORFORFORFORFORFORFORFORFORFOR FR FR FR FR FR FR FR FR FR FR FR FR FR FR FR FR FR FREE EE EE EE EE EE EE EE EE EE EE EE EE EE EE EE EE EE                                                                                                                                                                                                                                                                                                                                                                                                                                                                                                                                                                                                                                                                                                                                                                                                                                                                                                                                                       FORFORFORFORFORFORFORFORFORFORFORFORFORFORFORFORFORFOR FR FR FR FR FR FR FR FR FR FR FR FR FR FR FR FR FR FREE EE EE EE EE EE EE EE EE EE EE EE EE EE EE EE EE EE                                                                                                                                                                                                                                                                                                                                                                                                                                                                                                                                                                                                                                                                                                                                                                                                                                                                                                                                                       FORFORFORFORFORFORFORFORFORFORFORFORFORFORFORFORFORFOR FR FR FR FR FR FR FR FR FR FR FR FR FR FR FR FR FR FREE EE EE EE EE EE EE EE EE EE EE EE EE EE EE EE EE EE                                                                                                                                                                                                                                                                                                                                                                                                                                                                                                                                                                                                                                                                                                                                                                                                                                                                                                                                                       FORFORFORFORFORFORFORFORFORFORFORFORFORFORFORFORFORFOR FR FR FR FR FR FR FR FR FR FR FR FR FR FR FR FR FR FREE EE EE EE EE EE EE EE EE EE EE EE EE EE EE EE EE EE                                                                                                                                                                                                                                                                                                                                                                                                                                                                                                                                                                                                                                                                                                                                                                                                                                                                                                                                                       FORFORFORFORFORFORFORFORFORFORFORFORFORFORFORFORFORFOR FR FR FR FR FR FR FR FR FR FR FR FR FR FR FR FR FR FREE EE EE EE EE EE EE EE EE EE EE EE EE EE EE EE EE EE                                                                                                                                                                                                                                                                                                                                                                                                                                                                                                                                                                                                                                                                                                                                                                                                                                                                                                                                                       FORFORFORFORFORFORFORFORFORFORFORFORFORFORFORFORFORFOR FR FR FR FR FR FR FR FR FR FR FR FR FR FR FR FR FR FREE EE EE EE EE EE EE EE EE EE EE EE EE EE EE EE EE EE                                                                                                                                                                                                                                                                                                                                                                                                                                                                                                                                                                                                                                                                                                                                                                                                                                                                                                                                                       FORFORFORFORFORFORFORFORFORFORFORFORFORFORFORFORFORFOR FR FR FR FR FR FR FR FR FR FR FR FR FR FR FR FR FR FREE EE EE EE EE EE EE EE EE EE EE EE EE EE EE EE EE EE                                                                                                                                                                                                                                                                                                                                                                                                                                                                                                                                                                                                                                                                                                                                                                                                                                                                                                                                                       FORFORFORFORFORFORFORFORFORFORFORFORFORFORFORFORFORFOR FR FR FR FR FR FR FR FR FR FR FR FR FR FR FR FR FR FREE EE EE EE EE EE EE EE EE EE EE EE EE EE EE EE EE EE                                                                                                                                                                                                                                                                                                                                                                                                                                                                                                                                                                                                                                                                                                                                                                                                                                                                                                                                                       FORFORFORFORFORFORFORFORFORFORFORFORFORFORFORFORFORFOR FR FR FR FR FR FR FR FR FR FR FR FR FR FR FR FR FR FREE EE EE EE EE EE EE EE EE EE EE EE EE EE EE EE EE EE                                                                                                                                                                                                                                                                                                                                                                                                                                                                                                                                                                                                                                                                                                                                                                                                                                                                                                                                                       FORFORFORFORFORFORFORFORFORFORFORFORFORFORFORFORFORFOR FR FR FR FR FR FR FR FR FR FR FR FR FR FR FR FR FR FREE EE EE EE EE EE EE EE EE EE EE EE EE EE EE EE EE EE                                                                                                                                                                                                                                                                                                                                                                                                                                                                                                                                                                                                                                                                                                                                                                                                                                                                                                                                                       FORFORFORFORFORFORFORFORFORFORFORFORFORFORFORFORFORFOR FR FR FR FR FR FR FR FR FR FR FR FR FR FR FR FR FR FREE EE EE EE EE EE EE EE EE EE EE EE EE EE EE EE EE EE                                                                                                                                                                                                                                                                                                                                                                                                                                                                                                                                                                                                                                                                                                                                                                                                                                                                                                                                                       FORFORFORFORFORFORFORFORFORFORFORFORFORFORFORFORFORFOR FR FR FR FR FR FR FR FR FR FR FR FR FR FR FR FR FR FREE EE EE EE EE EE EE EE EE EE EE EE EE EE EE EE EE EE                                                                                                                                                                                                                                                                                                                                                                                                                                                                                                                                                                                                                                                                                                                                                                                                                                                                                                                                                       \n"
     ]
    }
   ],
   "source": [
    "print(resized.tobytes().decode('utf8', 'ignore'))"
   ]
  },
  {
   "cell_type": "code",
   "execution_count": null,
   "metadata": {},
   "outputs": [],
   "source": []
  },
  {
   "cell_type": "markdown",
   "metadata": {},
   "source": [
    "## Text as audio\n",
    "\n",
    "Because text is just bytes, we can also convert it to be audible. The following cell uses Jupyter Notebook's built-in *Audio* widget to let you \"listen\" to the bytes. It does this by first converting the bytes to an array floating-point values:"
   ]
  },
  {
   "cell_type": "code",
   "execution_count": 282,
   "metadata": {},
   "outputs": [],
   "source": [
    "from IPython.display import Audio"
   ]
  },
  {
   "cell_type": "code",
   "execution_count": 283,
   "metadata": {},
   "outputs": [
    {
     "data": {
      "text/html": [
       "\n",
       "                <audio  controls=\"controls\" >\n",
       "                    <source src=\"data:audio/wav;base64,UklGRvQDAABXQVZFZm10IBAAAAABAAEA6AMAANAHAAACABAAZGF0YdADAAB+bnM/0SCWb3oo8i2Wb4tAuR+Wb7ET00OWb1APuR/2c3oo2iz2c6Eeo0HecvItsjaGertCiR0ksPStJLBMpsSr3KwksEym3KxUsmyzPLHGcWozQRqWb7ET00OWb1APuR+Wb1APqip+bls+CAyWb2AEajOWb3M/u0LGcSIwkimWb2oziR2ucHEcSAOWb5kS2AmWb/ItiR2ucOEVwAiucEEakinecmoz4RWWb3ooCi+ucFIyyzeWb7I2kAaWb2ozKzz2c0om2iyucJo1+zmWbxEYqAeucJIpUjL2c0om2iyucJo1+zn2c3EcmjWWb2ozkAb2c0om2iyucJo1+zmWb5kSeAXGcdosajP2c9Eg2AnGcToxqiqucPAKA0aucGgQkin2czAC4RWWbxkk+zmWbwgM8AqWb5AG2AnGcfkWASOGertCiR0ksPStJLBMpsSr3KwksEym3KxUsmyzPLF+bqNBkil+bls+CAyWb1IyqiqucLkfgjSWb5AGUA/ecvs5cz9+botAeiiucBM7MAIBgAGABcbv5xD1+PPv5y/fZ+0TmKXBgO7I8fjzEPVn7Y/jE5j20I/jN+s36+/nZ+2/5ROY1cOA7hD14PKP4xOYlszX5oDuZ+2P4xOYZsoQ9U/sR+CP48jxhLQTmCSw9K0ksEymxKvcrCSwTKbcrFSybLM8sROYpcF+y8bO9tAO0mbKjcATmPbQjcA1yDXI7cRmyr3CE5h1v+3EJtPtxGbKLbz20O3EfstmyhOYTsntxGbKE5h1v37LZsq9whOYRb3txMbO9tDVwxOY9tDtxE7JjcATmE7JLbzGzsbO7cQtvL3CjcATmI3ANciNwF2+9tDtxH7LZsoTmH7LpcGlwY3AZsp1vxOY9tDVw43AE5i9wn7Ldb8TmH7LpcETmC28vcKNwBOY1cN+yw7S3s+NwBOYpcGNwGbKvcITmN7P1cMO0u3EE5hdvn7LTslOyY3Axs5dvo3AE5ilwY3AZsq9whOY3s/Vww7S7cQTmMbOjcDez/bQ7cRmyr3CE5iWzDXILbxdvo3AE5ilwY3AZsq9whOY3s/Vww7S7cQTmNXD7cSNwMbOfsu9wsbOLbxOyROYDtJmynW/jcDGzvbQLbwdx43AE5hFvX7Ldb/Vw+3ETsktvGbKdb8tvBOYTsnGzhOYNcjv5xD1hLQTmCSw9K0ksEymxKvcrCSwTKbcrFSybLM8sROYLbxdvi28db+NwE7J7cRdvhOYjcBW1V2+1cMtvGbKvcKNwN7PE5gtvEW9fssm043AE5ilwX7Lxs4TmKXBxs6NwI3A\" type=\"audio/wav\" />\n",
       "                    Your browser does not support the audio element.\n",
       "                </audio>\n",
       "              "
      ],
      "text/plain": [
       "<IPython.lib.display.Audio object>"
      ]
     },
     "execution_count": 283,
     "metadata": {},
     "output_type": "execute_result"
    }
   ],
   "source": [
    "Audio([(val-127)/128 for val in text_bytes], rate=1000)"
   ]
  },
  {
   "cell_type": "code",
   "execution_count": null,
   "metadata": {},
   "outputs": [],
   "source": []
  }
 ],
 "metadata": {
  "kernelspec": {
   "display_name": "Python 3 (ipykernel)",
   "language": "python",
   "name": "python3"
  },
  "language_info": {
   "codemirror_mode": {
    "name": "ipython",
    "version": 3
   },
   "file_extension": ".py",
   "mimetype": "text/x-python",
   "name": "python",
   "nbconvert_exporter": "python",
   "pygments_lexer": "ipython3",
   "version": "3.9.13"
  }
 },
 "nbformat": 4,
 "nbformat_minor": 2
}
